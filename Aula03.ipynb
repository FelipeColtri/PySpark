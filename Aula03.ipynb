{
 "cells": [
  {
   "cell_type": "code",
   "execution_count": 1,
   "id": "ea9cc569-7b04-4c1e-8c9b-e5fecfd9f71e",
   "metadata": {},
   "outputs": [],
   "source": [
    "# Importando as bibliotecas utilizadas\n",
    "from pyspark.sql import SparkSession\n",
    "import pyspark.sql.functions as F"
   ]
  },
  {
   "cell_type": "code",
   "execution_count": 5,
   "id": "79215545-6ea7-47b0-91e0-7d5f61faab48",
   "metadata": {},
   "outputs": [],
   "source": [
    "# Criando a sessão, nomeando e configurando para mostrar tabela do tipo pandas \n",
    "spark = (\n",
    "    SparkSession.builder\n",
    "    .appName('PySpark - Filter')\n",
    "    .config('spark.sql.repl.eagerEval.enabled', True)\n",
    "    .getOrCreate()\n",
    ")"
   ]
  },
  {
   "cell_type": "code",
   "execution_count": 7,
   "id": "765bff07-c621-451b-8ddf-9ad47fc850cb",
   "metadata": {},
   "outputs": [],
   "source": [
    "# Carregando um arquivo PARQUET para dataframe\n",
    "df = spark.read.parquet('./DATASETS/LOGINS.parquet')"
   ]
  },
  {
   "cell_type": "code",
   "execution_count": 8,
   "id": "51d4982b-9a04-4fb8-bac8-e379bd70da51",
   "metadata": {},
   "outputs": [
    {
     "data": {
      "text/html": [
       "<table border='1'>\n",
       "<tr><th>cpf</th><th>email</th><th>senha</th><th>data_de_nascimento</th><th>estado</th><th>data_cadastro</th><th>ipv4</th><th>cor_favorita</th><th>profissao</th><th>telefone</th></tr>\n",
       "<tr><td>981.507.362-12</td><td>pedro-lucas53@gma...</td><td>+7^7E%xFBc</td><td>2006-12-18</td><td>RR</td><td>2023-02-26</td><td>99.107.250.210</td><td>Roxo</td><td>Jogador De Golfe</td><td>31 7785-4046</td></tr>\n",
       "<tr><td>493.705.168-75</td><td>rezendeisaac@hotm...</td><td>_O_2GRnGOe</td><td>1992-06-17</td><td>GO</td><td>2023-02-16</td><td>197.11.26.213</td><td>Ciano</td><td>Atleta De Arremes...</td><td>(031) 0803-6753</td></tr>\n",
       "<tr><td>398.471.625-73</td><td>felipepires@uol.c...</td><td>*Aw5EOAvy9</td><td>1921-11-11</td><td>MG</td><td>2023-01-02</td><td>181.90.63.58</td><td>Azul</td><td>Papiloscopista</td><td>11 9674-0553</td></tr>\n",
       "<tr><td>092.618.354-06</td><td>stellamoraes@bol....</td><td>mw0AWYAs#s</td><td>2021-06-01</td><td>AC</td><td>2023-01-08</td><td>26.121.127.94</td><td>Marrom</td><td>Aeromo&ccedil;a</td><td>+55 (071) 3033 9177</td></tr>\n",
       "<tr><td>509.427.136-99</td><td>wcarvalho@ig.com.br</td><td>pGD%!2Pq5X</td><td>1969-10-28</td><td>AP</td><td>2023-02-14</td><td>76.184.52.163</td><td>Laranja</td><td>Fonoaudi&oacute;logo</td><td>+55 (071) 6272 2468</td></tr>\n",
       "<tr><td>218.795.460-94</td><td>da-conceicaodavi-...</td><td>uhBbFxPA&amp;9</td><td>1986-05-19</td><td>MG</td><td>2023-03-07</td><td>192.93.0.24</td><td>Rosa</td><td>Taxista</td><td>+55 84 0652 9691</td></tr>\n",
       "<tr><td>715.836.940-48</td><td>efreitas@bol.com.br</td><td>s#q9VZt&amp;xl</td><td>2018-04-20</td><td>MG</td><td>2023-01-13</td><td>76.251.188.148</td><td>Branco</td><td>Produtor De Audio...</td><td>+55 (084) 1363 0052</td></tr>\n",
       "<tr><td>475.698.032-56</td><td>wnunes@bol.com.br</td><td>_8az1W%n7g</td><td>1996-05-12</td><td>SE</td><td>2023-02-04</td><td>139.196.176.154</td><td>Azul</td><td>Cadeirinha</td><td>(071) 1640-3388</td></tr>\n",
       "<tr><td>217.639.540-99</td><td>jribeiro@bol.com.br</td><td>MEf1X7fj_0</td><td>2021-10-05</td><td>PA</td><td>2023-03-02</td><td>71.22.224.5</td><td>Marrom</td><td>Ge&oacute;logo</td><td>21 1432 4092</td></tr>\n",
       "<tr><td>261.938.750-77</td><td>murilo05@gmail.com</td><td>Te&amp;gO7GkKs</td><td>1917-01-05</td><td>MT</td><td>2023-02-21</td><td>136.54.123.165</td><td>Marrom</td><td>T&eacute;cnico De Som</td><td>+55 (084) 5878-3346</td></tr>\n",
       "<tr><td>520.831.796-68</td><td>joaquim57@ig.com.br</td><td>&amp;2E1NY+ARc</td><td>1912-05-25</td><td>BA</td><td>2023-01-25</td><td>78.196.255.126</td><td>Rosa</td><td>Esteticista</td><td>41 7914-3753</td></tr>\n",
       "<tr><td>413.087.526-44</td><td>alexiada-rocha@ig...</td><td>@f@!Z!2c*2</td><td>1920-05-26</td><td>MS</td><td>2023-02-18</td><td>182.61.65.201</td><td>Laranja</td><td>Microfonista</td><td>(021) 3739-2944</td></tr>\n",
       "<tr><td>509.287.143-14</td><td>pmendes@gmail.com</td><td>M+^XDBfe(2</td><td>1938-03-11</td><td>RR</td><td>2023-01-19</td><td>61.234.208.17</td><td>Verde Claro</td><td>Fiscal</td><td>+55 (084) 5940-1932</td></tr>\n",
       "<tr><td>563.170.492-70</td><td>renan46@bol.com.br</td><td>Rp%2pVqfe$</td><td>1922-09-01</td><td>PA</td><td>2023-02-01</td><td>122.203.83.177</td><td>Verde Escuro</td><td>Contabilista</td><td>+55 41 6248 5773</td></tr>\n",
       "<tr><td>098.712.346-78</td><td>manuelada-rosa@ho...</td><td>#hEIEOztQ3</td><td>2013-01-10</td><td>SE</td><td>2023-01-07</td><td>175.18.73.211</td><td>Violeta</td><td>Seguidor De Compras</td><td>51 0278 0564</td></tr>\n",
       "<tr><td>345.709.261-34</td><td>usales@ig.com.br</td><td>b_8xaY$ozJ</td><td>1992-10-16</td><td>AM</td><td>2023-01-05</td><td>97.93.29.75</td><td>Rosa</td><td>Almirante</td><td>(084) 8993-4521</td></tr>\n",
       "<tr><td>318.254.906-51</td><td>pereiranicolas@ho...</td><td>YA9I85Wb+2</td><td>1945-11-18</td><td>MA</td><td>2023-01-24</td><td>182.195.33.137</td><td>Amarelo</td><td>Consultor De Moda</td><td>(084) 4591 3795</td></tr>\n",
       "<tr><td>610.287.453-62</td><td>cardosolivia@ig.c...</td><td>yXkDW7Ebh*</td><td>1915-11-15</td><td>GO</td><td>2023-01-22</td><td>195.194.63.184</td><td>Laranja</td><td>Barbeiro</td><td>+55 61 8967-9563</td></tr>\n",
       "<tr><td>615.790.842-49</td><td>brenda39@ig.com.br</td><td>XS$84Hpsnw</td><td>1964-02-01</td><td>RJ</td><td>2023-02-16</td><td>21.252.226.29</td><td>Branco</td><td>Promotor De Vendas</td><td>+55 (021) 4751 2004</td></tr>\n",
       "<tr><td>624.095.138-24</td><td>luizapeixoto@gmai...</td><td>TbKy82Kda$</td><td>1959-02-01</td><td>DF</td><td>2023-02-25</td><td>105.107.23.13</td><td>Ciano</td><td>Implantodontista</td><td>84 1293 1906</td></tr>\n",
       "</table>\n",
       "only showing top 20 rows\n"
      ],
      "text/plain": [
       "+--------------+--------------------+----------+------------------+------+-------------+---------------+------------+--------------------+-------------------+\n",
       "|           cpf|               email|     senha|data_de_nascimento|estado|data_cadastro|           ipv4|cor_favorita|           profissao|           telefone|\n",
       "+--------------+--------------------+----------+------------------+------+-------------+---------------+------------+--------------------+-------------------+\n",
       "|981.507.362-12|pedro-lucas53@gma...|+7^7E%xFBc|        2006-12-18|    RR|   2023-02-26| 99.107.250.210|        Roxo|    Jogador De Golfe|       31 7785-4046|\n",
       "|493.705.168-75|rezendeisaac@hotm...|_O_2GRnGOe|        1992-06-17|    GO|   2023-02-16|  197.11.26.213|       Ciano|Atleta De Arremes...|    (031) 0803-6753|\n",
       "|398.471.625-73|felipepires@uol.c...|*Aw5EOAvy9|        1921-11-11|    MG|   2023-01-02|   181.90.63.58|        Azul|      Papiloscopista|       11 9674-0553|\n",
       "|092.618.354-06|stellamoraes@bol....|mw0AWYAs#s|        2021-06-01|    AC|   2023-01-08|  26.121.127.94|      Marrom|            Aeromoça|+55 (071) 3033 9177|\n",
       "|509.427.136-99| wcarvalho@ig.com.br|pGD%!2Pq5X|        1969-10-28|    AP|   2023-02-14|  76.184.52.163|     Laranja|       Fonoaudiólogo|+55 (071) 6272 2468|\n",
       "|218.795.460-94|da-conceicaodavi-...|uhBbFxPA&9|        1986-05-19|    MG|   2023-03-07|    192.93.0.24|        Rosa|             Taxista|   +55 84 0652 9691|\n",
       "|715.836.940-48| efreitas@bol.com.br|s#q9VZt&xl|        2018-04-20|    MG|   2023-01-13| 76.251.188.148|      Branco|Produtor De Audio...|+55 (084) 1363 0052|\n",
       "|475.698.032-56|   wnunes@bol.com.br|_8az1W%n7g|        1996-05-12|    SE|   2023-02-04|139.196.176.154|        Azul|          Cadeirinha|    (071) 1640-3388|\n",
       "|217.639.540-99| jribeiro@bol.com.br|MEf1X7fj_0|        2021-10-05|    PA|   2023-03-02|    71.22.224.5|      Marrom|             Geólogo|       21 1432 4092|\n",
       "|261.938.750-77|  murilo05@gmail.com|Te&gO7GkKs|        1917-01-05|    MT|   2023-02-21| 136.54.123.165|      Marrom|      Técnico De Som|+55 (084) 5878-3346|\n",
       "|520.831.796-68| joaquim57@ig.com.br|&2E1NY+ARc|        1912-05-25|    BA|   2023-01-25| 78.196.255.126|        Rosa|         Esteticista|       41 7914-3753|\n",
       "|413.087.526-44|alexiada-rocha@ig...|@f@!Z!2c*2|        1920-05-26|    MS|   2023-02-18|  182.61.65.201|     Laranja|        Microfonista|    (021) 3739-2944|\n",
       "|509.287.143-14|   pmendes@gmail.com|M+^XDBfe(2|        1938-03-11|    RR|   2023-01-19|  61.234.208.17| Verde Claro|              Fiscal|+55 (084) 5940-1932|\n",
       "|563.170.492-70|  renan46@bol.com.br|Rp%2pVqfe$|        1922-09-01|    PA|   2023-02-01| 122.203.83.177|Verde Escuro|        Contabilista|   +55 41 6248 5773|\n",
       "|098.712.346-78|manuelada-rosa@ho...|#hEIEOztQ3|        2013-01-10|    SE|   2023-01-07|  175.18.73.211|     Violeta| Seguidor De Compras|       51 0278 0564|\n",
       "|345.709.261-34|    usales@ig.com.br|b_8xaY$ozJ|        1992-10-16|    AM|   2023-01-05|    97.93.29.75|        Rosa|           Almirante|    (084) 8993-4521|\n",
       "|318.254.906-51|pereiranicolas@ho...|YA9I85Wb+2|        1945-11-18|    MA|   2023-01-24| 182.195.33.137|     Amarelo|   Consultor De Moda|    (084) 4591 3795|\n",
       "|610.287.453-62|cardosolivia@ig.c...|yXkDW7Ebh*|        1915-11-15|    GO|   2023-01-22| 195.194.63.184|     Laranja|            Barbeiro|   +55 61 8967-9563|\n",
       "|615.790.842-49|  brenda39@ig.com.br|XS$84Hpsnw|        1964-02-01|    RJ|   2023-02-16|  21.252.226.29|      Branco|  Promotor De Vendas|+55 (021) 4751 2004|\n",
       "|624.095.138-24|luizapeixoto@gmai...|TbKy82Kda$|        1959-02-01|    DF|   2023-02-25|  105.107.23.13|       Ciano|    Implantodontista|       84 1293 1906|\n",
       "+--------------+--------------------+----------+------------------+------+-------------+---------------+------------+--------------------+-------------------+\n",
       "only showing top 20 rows"
      ]
     },
     "execution_count": 8,
     "metadata": {},
     "output_type": "execute_result"
    }
   ],
   "source": [
    "df"
   ]
  },
  {
   "cell_type": "code",
   "execution_count": 19,
   "id": "5933de38-981f-4fea-be1f-3099e2d29419",
   "metadata": {},
   "outputs": [
    {
     "data": {
      "text/html": [
       "<table border='1'>\n",
       "<tr><th>cpf</th><th>email</th><th>senha</th><th>data_de_nascimento</th><th>estado</th><th>data_cadastro</th><th>ipv4</th><th>cor_favorita</th><th>profissao</th><th>telefone</th></tr>\n",
       "<tr><td>573.619.804-57</td><td>hnogueira@ig.com.br</td><td>&amp;9Ejtll$PF</td><td>1949-03-06</td><td>SP</td><td>2023-01-27</td><td>168.162.247.252</td><td>Cinza</td><td>Instalador De Lin...</td><td>(031) 9148 3933</td></tr>\n",
       "<tr><td>734.801.926-96</td><td>pedro-miguel43@bo...</td><td>*72CCJdxX0</td><td>1965-09-14</td><td>SP</td><td>2023-02-22</td><td>222.145.189.67</td><td>Roxo</td><td>Coach</td><td>51 9026 3441</td></tr>\n",
       "<tr><td>869.072.315-30</td><td>luiz-gustavorocha...</td><td>$62UN05c(9</td><td>1980-10-19</td><td>SP</td><td>2023-01-04</td><td>53.167.75.100</td><td>Verde Claro</td><td>Lactarista Hospit...</td><td>+55 31 1296 8466</td></tr>\n",
       "<tr><td>291.358.407-14</td><td>lavinia54@ig.com.br</td><td>NyI@+8Kd!1</td><td>1982-01-28</td><td>SP</td><td>2023-02-26</td><td>79.132.46.55</td><td>Preto</td><td>Profissional De R...</td><td>+55 51 5526 8284</td></tr>\n",
       "<tr><td>460.125.983-51</td><td>lazevedo@gmail.com</td><td>uC0O7QdE&amp;B</td><td>1972-07-14</td><td>SP</td><td>2023-01-24</td><td>221.155.104.128</td><td>Preto</td><td>Atleta De Arremes...</td><td>+55 71 9251-1645</td></tr>\n",
       "<tr><td>837.410.256-07</td><td>martinsmaysa@bol....</td><td>(Z8RNs%un6</td><td>1972-08-21</td><td>SP</td><td>2023-02-24</td><td>157.119.230.252</td><td>Cinza</td><td>Laboratorista</td><td>+55 (084) 4945-6200</td></tr>\n",
       "<tr><td>730.184.526-07</td><td>fviana@ig.com.br</td><td>1(3oLDln$8</td><td>1938-10-23</td><td>SP</td><td>2023-03-02</td><td>99.31.171.138</td><td>Verde Escuro</td><td>Profissional De I...</td><td>0900-429-5628</td></tr>\n",
       "<tr><td>874.092.613-31</td><td>bruno71@yahoo.com.br</td><td>HF1FfNe5&amp;H</td><td>1946-11-25</td><td>SP</td><td>2023-03-03</td><td>14.80.253.67</td><td>Violeta</td><td>Confeiteiro</td><td>(084) 0687-3775</td></tr>\n",
       "<tr><td>490.372.518-97</td><td>castrocatarina@gm...</td><td>8hQ)9EiVZP</td><td>1983-06-10</td><td>SP</td><td>2023-01-21</td><td>5.188.180.112</td><td>Azul Escuro</td><td>Epidemi&oacute;logo</td><td>61 5994-2692</td></tr>\n",
       "<tr><td>914.528.630-24</td><td>da-cruzjoaquim@gm...</td><td>v#o7OgfF&amp;4</td><td>1951-01-03</td><td>SP</td><td>2023-01-01</td><td>82.252.94.185</td><td>Cinza</td><td>Ombudsman</td><td>(031) 4940-4068</td></tr>\n",
       "<tr><td>305.768.142-53</td><td>ocorreia@ig.com.br</td><td>&amp;w4EZmC4I&amp;</td><td>1987-11-01</td><td>SP</td><td>2023-01-21</td><td>5.228.186.166</td><td>Verde</td><td>Administrador P&uacute;b...</td><td>(051) 9858-2959</td></tr>\n",
       "<tr><td>518.236.097-59</td><td>moraesgustavo-hen...</td><td>_%Xi0ZASk5</td><td>1917-02-17</td><td>SP</td><td>2023-03-07</td><td>130.120.64.80</td><td>Verde Claro</td><td>Balconista</td><td>(031) 6968 3473</td></tr>\n",
       "<tr><td>172.860.945-30</td><td>maria-vitoriasilv...</td><td>(92(Y+VmM!</td><td>2007-09-01</td><td>SP</td><td>2023-01-05</td><td>154.240.64.53</td><td>Roxo</td><td>Ca&ccedil;a-Talentos/Olh...</td><td>51 2257 7179</td></tr>\n",
       "<tr><td>596.014.728-94</td><td>anogueira@gmail.com</td><td>3vKnjQq(^c</td><td>1965-03-06</td><td>SP</td><td>2023-01-22</td><td>208.2.27.239</td><td>Amarelo</td><td>Cadista</td><td>(061) 3133 8356</td></tr>\n",
       "<tr><td>420.168.957-30</td><td>leonardo09@bol.co...</td><td>m)9GQD#GGa</td><td>1979-03-01</td><td>SP</td><td>2023-03-10</td><td>152.0.169.107</td><td>Ciano</td><td>Tosador</td><td>71 8459 4427</td></tr>\n",
       "<tr><td>076.541.328-08</td><td>ycorreia@yahoo.co...</td><td>N6S1Xk0YD)</td><td>2003-07-25</td><td>SP</td><td>2023-02-22</td><td>108.16.1.197</td><td>Magenta</td><td>Jogador De Handebol</td><td>+55 71 9877-2831</td></tr>\n",
       "<tr><td>534.261.807-07</td><td>epinto@yahoo.com.br</td><td>1)Xx6G96ah</td><td>2001-08-17</td><td>SP</td><td>2023-01-14</td><td>27.25.142.17</td><td>Amarelo</td><td>Engenheiro Agr&ocirc;nomo</td><td>0900-777-1741</td></tr>\n",
       "<tr><td>072.658.934-92</td><td>maria-luiza28@bol...</td><td>XQO^*9Emhi</td><td>1964-06-04</td><td>SP</td><td>2023-02-24</td><td>61.60.243.221</td><td>Amarelo</td><td>Babysitter</td><td>+55 84 8481-6437</td></tr>\n",
       "<tr><td>973.425.018-32</td><td>gpereira@ig.com.br</td><td>fiCb^5Kk@7</td><td>1923-01-01</td><td>SP</td><td>2023-01-23</td><td>163.128.209.1</td><td>Cinza</td><td>Aeromo&ccedil;a</td><td>+55 81 2459 0657</td></tr>\n",
       "<tr><td>890.712.456-67</td><td>nmendes@bol.com.br</td><td>_$@JH@Mt$2</td><td>1987-04-27</td><td>SP</td><td>2023-01-17</td><td>27.20.197.16</td><td>Preto</td><td>Comiss&aacute;rio De Bordo</td><td>+55 21 0100 7037</td></tr>\n",
       "</table>\n",
       "only showing top 20 rows\n"
      ],
      "text/plain": [
       "+--------------+--------------------+----------+------------------+------+-------------+---------------+------------+--------------------+-------------------+\n",
       "|           cpf|               email|     senha|data_de_nascimento|estado|data_cadastro|           ipv4|cor_favorita|           profissao|           telefone|\n",
       "+--------------+--------------------+----------+------------------+------+-------------+---------------+------------+--------------------+-------------------+\n",
       "|573.619.804-57| hnogueira@ig.com.br|&9Ejtll$PF|        1949-03-06|    SP|   2023-01-27|168.162.247.252|       Cinza|Instalador De Lin...|    (031) 9148 3933|\n",
       "|734.801.926-96|pedro-miguel43@bo...|*72CCJdxX0|        1965-09-14|    SP|   2023-02-22| 222.145.189.67|        Roxo|               Coach|       51 9026 3441|\n",
       "|869.072.315-30|luiz-gustavorocha...|$62UN05c(9|        1980-10-19|    SP|   2023-01-04|  53.167.75.100| Verde Claro|Lactarista Hospit...|   +55 31 1296 8466|\n",
       "|291.358.407-14| lavinia54@ig.com.br|NyI@+8Kd!1|        1982-01-28|    SP|   2023-02-26|   79.132.46.55|       Preto|Profissional De R...|   +55 51 5526 8284|\n",
       "|460.125.983-51|  lazevedo@gmail.com|uC0O7QdE&B|        1972-07-14|    SP|   2023-01-24|221.155.104.128|       Preto|Atleta De Arremes...|   +55 71 9251-1645|\n",
       "|837.410.256-07|martinsmaysa@bol....|(Z8RNs%un6|        1972-08-21|    SP|   2023-02-24|157.119.230.252|       Cinza|       Laboratorista|+55 (084) 4945-6200|\n",
       "|730.184.526-07|    fviana@ig.com.br|1(3oLDln$8|        1938-10-23|    SP|   2023-03-02|  99.31.171.138|Verde Escuro|Profissional De I...|      0900-429-5628|\n",
       "|874.092.613-31|bruno71@yahoo.com.br|HF1FfNe5&H|        1946-11-25|    SP|   2023-03-03|   14.80.253.67|     Violeta|         Confeiteiro|    (084) 0687-3775|\n",
       "|490.372.518-97|castrocatarina@gm...|8hQ)9EiVZP|        1983-06-10|    SP|   2023-01-21|  5.188.180.112| Azul Escuro|        Epidemiólogo|       61 5994-2692|\n",
       "|914.528.630-24|da-cruzjoaquim@gm...|v#o7OgfF&4|        1951-01-03|    SP|   2023-01-01|  82.252.94.185|       Cinza|           Ombudsman|    (031) 4940-4068|\n",
       "|305.768.142-53|  ocorreia@ig.com.br|&w4EZmC4I&|        1987-11-01|    SP|   2023-01-21|  5.228.186.166|       Verde|Administrador Púb...|    (051) 9858-2959|\n",
       "|518.236.097-59|moraesgustavo-hen...|_%Xi0ZASk5|        1917-02-17|    SP|   2023-03-07|  130.120.64.80| Verde Claro|          Balconista|    (031) 6968 3473|\n",
       "|172.860.945-30|maria-vitoriasilv...|(92(Y+VmM!|        2007-09-01|    SP|   2023-01-05|  154.240.64.53|        Roxo|Caça-Talentos/Olh...|       51 2257 7179|\n",
       "|596.014.728-94| anogueira@gmail.com|3vKnjQq(^c|        1965-03-06|    SP|   2023-01-22|   208.2.27.239|     Amarelo|             Cadista|    (061) 3133 8356|\n",
       "|420.168.957-30|leonardo09@bol.co...|m)9GQD#GGa|        1979-03-01|    SP|   2023-03-10|  152.0.169.107|       Ciano|             Tosador|       71 8459 4427|\n",
       "|076.541.328-08|ycorreia@yahoo.co...|N6S1Xk0YD)|        2003-07-25|    SP|   2023-02-22|   108.16.1.197|     Magenta| Jogador De Handebol|   +55 71 9877-2831|\n",
       "|534.261.807-07| epinto@yahoo.com.br|1)Xx6G96ah|        2001-08-17|    SP|   2023-01-14|   27.25.142.17|     Amarelo| Engenheiro Agrônomo|      0900-777-1741|\n",
       "|072.658.934-92|maria-luiza28@bol...|XQO^*9Emhi|        1964-06-04|    SP|   2023-02-24|  61.60.243.221|     Amarelo|          Babysitter|   +55 84 8481-6437|\n",
       "|973.425.018-32|  gpereira@ig.com.br|fiCb^5Kk@7|        1923-01-01|    SP|   2023-01-23|  163.128.209.1|       Cinza|            Aeromoça|   +55 81 2459 0657|\n",
       "|890.712.456-67|  nmendes@bol.com.br|_$@JH@Mt$2|        1987-04-27|    SP|   2023-01-17|   27.20.197.16|       Preto| Comissário De Bordo|   +55 21 0100 7037|\n",
       "+--------------+--------------------+----------+------------------+------+-------------+---------------+------------+--------------------+-------------------+\n",
       "only showing top 20 rows"
      ]
     },
     "execution_count": 19,
     "metadata": {},
     "output_type": "execute_result"
    }
   ],
   "source": [
    "# Utilizando filtro nos dados, condição E \n",
    "df.filter(df.estado == 'SP')\n",
    "#df.filter('estado = \"SP\"') # SQL"
   ]
  },
  {
   "cell_type": "code",
   "execution_count": 20,
   "id": "9a060a00-dc1e-49a3-a6a4-4ff0016efad6",
   "metadata": {},
   "outputs": [
    {
     "data": {
      "text/html": [
       "<table border='1'>\n",
       "<tr><th>cpf</th><th>email</th><th>senha</th><th>data_de_nascimento</th><th>estado</th><th>data_cadastro</th><th>ipv4</th><th>cor_favorita</th><th>profissao</th><th>telefone</th></tr>\n",
       "<tr><td>920.857.341-97</td><td>da-rochafelipe@ya...</td><td>*45CS^cbqI</td><td>1987-08-02</td><td>SP</td><td>2023-02-05</td><td>197.96.209.80</td><td>Azul</td><td>Tecn&oacute;logo Em Ci&ecirc;n...</td><td>11 8894-3025</td></tr>\n",
       "</table>\n"
      ],
      "text/plain": [
       "+--------------+--------------------+----------+------------------+------+-------------+-------------+------------+--------------------+------------+\n",
       "|           cpf|               email|     senha|data_de_nascimento|estado|data_cadastro|         ipv4|cor_favorita|           profissao|    telefone|\n",
       "+--------------+--------------------+----------+------------------+------+-------------+-------------+------------+--------------------+------------+\n",
       "|920.857.341-97|da-rochafelipe@ya...|*45CS^cbqI|        1987-08-02|    SP|   2023-02-05|197.96.209.80|        Azul|Tecnólogo Em Ciên...|11 8894-3025|\n",
       "+--------------+--------------------+----------+------------------+------+-------------+-------------+------------+--------------------+------------+"
      ]
     },
     "execution_count": 20,
     "metadata": {},
     "output_type": "execute_result"
    }
   ],
   "source": [
    "# Utilizando mais de um filtro, condição E\n",
    "df.filter((df.estado == 'SP') & (df.cor_favorita == 'Azul'))\n",
    "#df.filter(df.estado == 'SP').filter(df.cor_favorita == 'Azul') # Outra forma\n",
    "#df.filter('estado = \"SP\" and cor_favorita = \"Azul\"') # SQL"
   ]
  },
  {
   "cell_type": "code",
   "execution_count": 32,
   "id": "e1441b11-734d-4b6c-a7da-4efca6f22865",
   "metadata": {},
   "outputs": [
    {
     "data": {
      "text/html": [
       "<table border='1'>\n",
       "<tr><th>cpf</th><th>email</th><th>senha</th><th>data_de_nascimento</th><th>estado</th><th>data_cadastro</th><th>ipv4</th><th>cor_favorita</th><th>profissao</th><th>telefone</th></tr>\n",
       "<tr><td>493.705.168-75</td><td>rezendeisaac@hotm...</td><td>_O_2GRnGOe</td><td>1992-06-17</td><td>GO</td><td>2023-02-16</td><td>197.11.26.213</td><td>Ciano</td><td>Atleta De Arremes...</td><td>(031) 0803-6753</td></tr>\n",
       "<tr><td>563.170.492-70</td><td>renan46@bol.com.br</td><td>Rp%2pVqfe$</td><td>1922-09-01</td><td>PA</td><td>2023-02-01</td><td>122.203.83.177</td><td>Verde Escuro</td><td>Contabilista</td><td>+55 41 6248 5773</td></tr>\n",
       "<tr><td>624.095.138-24</td><td>luizapeixoto@gmai...</td><td>TbKy82Kda$</td><td>1959-02-01</td><td>DF</td><td>2023-02-25</td><td>105.107.23.13</td><td>Ciano</td><td>Implantodontista</td><td>84 1293 1906</td></tr>\n",
       "<tr><td>348.215.690-51</td><td>omoreira@bol.com.br</td><td>!8maDkdVnY</td><td>2008-10-24</td><td>MG</td><td>2023-02-20</td><td>177.2.242.176</td><td>Verde Escuro</td><td>Adestrador De Ani...</td><td>+55 61 3217-9930</td></tr>\n",
       "<tr><td>427.093.568-56</td><td>luiz-gustavoferna...</td><td>a+Z5#HgFkm</td><td>1987-08-26</td><td>MS</td><td>2023-02-06</td><td>107.189.80.120</td><td>Verde Escuro</td><td>T&eacute;cnico Em Docume...</td><td>71 1401-9745</td></tr>\n",
       "<tr><td>486.970.253-38</td><td>isabelly04@uol.co...</td><td>9n8Gsa#7&amp;*</td><td>1934-11-26</td><td>AM</td><td>2023-03-03</td><td>30.212.117.133</td><td>Ciano</td><td>Triatleta</td><td>+55 51 5926 5593</td></tr>\n",
       "<tr><td>417.902.385-79</td><td>vda-cruz@bol.com.br</td><td>g8NiwxWC_z</td><td>1994-05-11</td><td>AC</td><td>2023-02-07</td><td>146.83.148.200</td><td>Ciano</td><td>Profissional De I...</td><td>+55 (071) 9845-9087</td></tr>\n",
       "<tr><td>238.594.160-06</td><td>uduarte@bol.com.br</td><td>h$2W8we*ZU</td><td>1982-03-24</td><td>ES</td><td>2023-01-22</td><td>214.223.195.14</td><td>Ciano</td><td>Espeleologista</td><td>+55 41 5206-4691</td></tr>\n",
       "<tr><td>164.593.782-82</td><td>joao64@gmail.com</td><td>p8HSoDMn&amp;n</td><td>1950-03-20</td><td>AP</td><td>2023-02-13</td><td>209.64.45.64</td><td>Verde Escuro</td><td>Regente</td><td>+55 (081) 8127 1919</td></tr>\n",
       "<tr><td>308.942.751-60</td><td>hpires@gmail.com</td><td>#^yq9HIt0h</td><td>1996-03-08</td><td>PE</td><td>2023-02-14</td><td>139.209.144.207</td><td>Ciano</td><td>Estofador</td><td>+55 31 1784 8068</td></tr>\n",
       "<tr><td>567.918.340-48</td><td>gmoreira@gmail.com</td><td>0!017S0ZLy</td><td>1979-01-29</td><td>RO</td><td>2023-03-11</td><td>168.232.170.74</td><td>Verde Escuro</td><td>Moldador</td><td>(011) 1909 0174</td></tr>\n",
       "<tr><td>379.108.624-31</td><td>ana60@hotmail.com</td><td>_9(_qvZj9*</td><td>1916-12-24</td><td>MT</td><td>2023-02-19</td><td>35.183.200.59</td><td>Verde Escuro</td><td>Ciclista</td><td>(031) 1774-1308</td></tr>\n",
       "<tr><td>730.184.526-07</td><td>fviana@ig.com.br</td><td>1(3oLDln$8</td><td>1938-10-23</td><td>SP</td><td>2023-03-02</td><td>99.31.171.138</td><td>Verde Escuro</td><td>Profissional De I...</td><td>0900-429-5628</td></tr>\n",
       "<tr><td>819.506.732-86</td><td>marcela40@gmail.com</td><td>k+g(8Ki@sn</td><td>2014-12-31</td><td>TO</td><td>2023-02-28</td><td>91.159.82.213</td><td>Ciano</td><td>Espeleologista</td><td>41 8190-4348</td></tr>\n",
       "<tr><td>423.051.986-98</td><td>pietra51@yahoo.co...</td><td>Z@p!1ReS2Y</td><td>1979-02-12</td><td>DF</td><td>2023-03-08</td><td>3.255.165.251</td><td>Verde Escuro</td><td>Engenheiro De Tra...</td><td>0300-116-8911</td></tr>\n",
       "<tr><td>729.185.360-59</td><td>vsilveira@yahoo.c...</td><td>cq8@kILnf_</td><td>2019-10-28</td><td>RS</td><td>2023-03-03</td><td>58.220.108.182</td><td>Verde Escuro</td><td>Qu&iacute;mico Farmac&ecirc;utico</td><td>+55 (041) 9143 7231</td></tr>\n",
       "<tr><td>891.603.475-20</td><td>araujoelisa@ig.co...</td><td>7I&amp;8CYyU5Y</td><td>1958-01-03</td><td>MS</td><td>2023-02-17</td><td>39.216.170.1</td><td>Verde Escuro</td><td>Jogador De Futebol</td><td>71 8049-1602</td></tr>\n",
       "<tr><td>613.280.547-80</td><td>bsales@yahoo.com.br</td><td>4vK(7DWr+%</td><td>1937-09-08</td><td>ES</td><td>2023-01-15</td><td>94.179.212.163</td><td>Verde Escuro</td><td>Te&oacute;logo</td><td>(051) 8452-9589</td></tr>\n",
       "<tr><td>375.620.418-90</td><td>erickramos@yahoo....</td><td>98CHFvpz+n</td><td>2001-09-05</td><td>BA</td><td>2023-03-04</td><td>28.110.187.96</td><td>Ciano</td><td>Cinegrafista</td><td>+55 81 7285-5406</td></tr>\n",
       "<tr><td>765.430.982-10</td><td>gabrielcunha@bol....</td><td>*de30DhmcY</td><td>2002-05-23</td><td>RJ</td><td>2023-01-19</td><td>10.158.51.13</td><td>Verde Escuro</td><td>Camel&ocirc;</td><td>+55 (011) 6838 1339</td></tr>\n",
       "</table>\n",
       "only showing top 20 rows\n"
      ],
      "text/plain": [
       "+--------------+--------------------+----------+------------------+------+-------------+---------------+------------+--------------------+-------------------+\n",
       "|           cpf|               email|     senha|data_de_nascimento|estado|data_cadastro|           ipv4|cor_favorita|           profissao|           telefone|\n",
       "+--------------+--------------------+----------+------------------+------+-------------+---------------+------------+--------------------+-------------------+\n",
       "|493.705.168-75|rezendeisaac@hotm...|_O_2GRnGOe|        1992-06-17|    GO|   2023-02-16|  197.11.26.213|       Ciano|Atleta De Arremes...|    (031) 0803-6753|\n",
       "|563.170.492-70|  renan46@bol.com.br|Rp%2pVqfe$|        1922-09-01|    PA|   2023-02-01| 122.203.83.177|Verde Escuro|        Contabilista|   +55 41 6248 5773|\n",
       "|624.095.138-24|luizapeixoto@gmai...|TbKy82Kda$|        1959-02-01|    DF|   2023-02-25|  105.107.23.13|       Ciano|    Implantodontista|       84 1293 1906|\n",
       "|348.215.690-51| omoreira@bol.com.br|!8maDkdVnY|        2008-10-24|    MG|   2023-02-20|  177.2.242.176|Verde Escuro|Adestrador De Ani...|   +55 61 3217-9930|\n",
       "|427.093.568-56|luiz-gustavoferna...|a+Z5#HgFkm|        1987-08-26|    MS|   2023-02-06| 107.189.80.120|Verde Escuro|Técnico Em Docume...|       71 1401-9745|\n",
       "|486.970.253-38|isabelly04@uol.co...|9n8Gsa#7&*|        1934-11-26|    AM|   2023-03-03| 30.212.117.133|       Ciano|           Triatleta|   +55 51 5926 5593|\n",
       "|417.902.385-79| vda-cruz@bol.com.br|g8NiwxWC_z|        1994-05-11|    AC|   2023-02-07| 146.83.148.200|       Ciano|Profissional De I...|+55 (071) 9845-9087|\n",
       "|238.594.160-06|  uduarte@bol.com.br|h$2W8we*ZU|        1982-03-24|    ES|   2023-01-22| 214.223.195.14|       Ciano|      Espeleologista|   +55 41 5206-4691|\n",
       "|164.593.782-82|    joao64@gmail.com|p8HSoDMn&n|        1950-03-20|    AP|   2023-02-13|   209.64.45.64|Verde Escuro|             Regente|+55 (081) 8127 1919|\n",
       "|308.942.751-60|    hpires@gmail.com|#^yq9HIt0h|        1996-03-08|    PE|   2023-02-14|139.209.144.207|       Ciano|           Estofador|   +55 31 1784 8068|\n",
       "|567.918.340-48|  gmoreira@gmail.com|0!017S0ZLy|        1979-01-29|    RO|   2023-03-11| 168.232.170.74|Verde Escuro|            Moldador|    (011) 1909 0174|\n",
       "|379.108.624-31|   ana60@hotmail.com|_9(_qvZj9*|        1916-12-24|    MT|   2023-02-19|  35.183.200.59|Verde Escuro|            Ciclista|    (031) 1774-1308|\n",
       "|730.184.526-07|    fviana@ig.com.br|1(3oLDln$8|        1938-10-23|    SP|   2023-03-02|  99.31.171.138|Verde Escuro|Profissional De I...|      0900-429-5628|\n",
       "|819.506.732-86| marcela40@gmail.com|k+g(8Ki@sn|        2014-12-31|    TO|   2023-02-28|  91.159.82.213|       Ciano|      Espeleologista|       41 8190-4348|\n",
       "|423.051.986-98|pietra51@yahoo.co...|Z@p!1ReS2Y|        1979-02-12|    DF|   2023-03-08|  3.255.165.251|Verde Escuro|Engenheiro De Tra...|      0300-116-8911|\n",
       "|729.185.360-59|vsilveira@yahoo.c...|cq8@kILnf_|        2019-10-28|    RS|   2023-03-03| 58.220.108.182|Verde Escuro|Químico Farmacêutico|+55 (041) 9143 7231|\n",
       "|891.603.475-20|araujoelisa@ig.co...|7I&8CYyU5Y|        1958-01-03|    MS|   2023-02-17|   39.216.170.1|Verde Escuro|  Jogador De Futebol|       71 8049-1602|\n",
       "|613.280.547-80| bsales@yahoo.com.br|4vK(7DWr+%|        1937-09-08|    ES|   2023-01-15| 94.179.212.163|Verde Escuro|             Teólogo|    (051) 8452-9589|\n",
       "|375.620.418-90|erickramos@yahoo....|98CHFvpz+n|        2001-09-05|    BA|   2023-03-04|  28.110.187.96|       Ciano|        Cinegrafista|   +55 81 7285-5406|\n",
       "|765.430.982-10|gabrielcunha@bol....|*de30DhmcY|        2002-05-23|    RJ|   2023-01-19|   10.158.51.13|Verde Escuro|              Camelô|+55 (011) 6838 1339|\n",
       "+--------------+--------------------+----------+------------------+------+-------------+---------------+------------+--------------------+-------------------+\n",
       "only showing top 20 rows"
      ]
     },
     "execution_count": 32,
     "metadata": {},
     "output_type": "execute_result"
    }
   ],
   "source": [
    "# Utilizando mais de um filtro, condição OU\n",
    "df.filter((df.cor_favorita == 'Ciano') | (df.cor_favorita == 'Verde Escuro'))\n",
    "#df.filter(df.cor_favorita.isin('Ciano', 'Verde Escuro')) # Outra forma\n",
    "#df.filter('cor_favorita = \"Ciano\" or cor_favorita = \"Verde Escuro\"') # SQL\n",
    "#df.filter('cor_favorita in(\"Ciano\", \"Verde Escuro\")') # SQL com in"
   ]
  },
  {
   "cell_type": "code",
   "execution_count": 33,
   "id": "18dc80ab-bce2-4662-9280-71a1d02123e9",
   "metadata": {},
   "outputs": [
    {
     "data": {
      "text/html": [
       "<table border='1'>\n",
       "<tr><th>cpf</th><th>email</th><th>senha</th><th>data_de_nascimento</th><th>estado</th><th>data_cadastro</th><th>ipv4</th><th>cor_favorita</th><th>profissao</th><th>telefone</th></tr>\n",
       "<tr><td>493.705.168-75</td><td>rezendeisaac@hotm...</td><td>_O_2GRnGOe</td><td>1992-06-17</td><td>GO</td><td>2023-02-16</td><td>197.11.26.213</td><td>Ciano</td><td>Atleta De Arremes...</td><td>(031) 0803-6753</td></tr>\n",
       "<tr><td>563.170.492-70</td><td>renan46@bol.com.br</td><td>Rp%2pVqfe$</td><td>1922-09-01</td><td>PA</td><td>2023-02-01</td><td>122.203.83.177</td><td>Verde Escuro</td><td>Contabilista</td><td>+55 41 6248 5773</td></tr>\n",
       "<tr><td>624.095.138-24</td><td>luizapeixoto@gmai...</td><td>TbKy82Kda$</td><td>1959-02-01</td><td>DF</td><td>2023-02-25</td><td>105.107.23.13</td><td>Ciano</td><td>Implantodontista</td><td>84 1293 1906</td></tr>\n",
       "<tr><td>348.215.690-51</td><td>omoreira@bol.com.br</td><td>!8maDkdVnY</td><td>2008-10-24</td><td>MG</td><td>2023-02-20</td><td>177.2.242.176</td><td>Verde Escuro</td><td>Adestrador De Ani...</td><td>+55 61 3217-9930</td></tr>\n",
       "<tr><td>427.093.568-56</td><td>luiz-gustavoferna...</td><td>a+Z5#HgFkm</td><td>1987-08-26</td><td>MS</td><td>2023-02-06</td><td>107.189.80.120</td><td>Verde Escuro</td><td>T&eacute;cnico Em Docume...</td><td>71 1401-9745</td></tr>\n",
       "<tr><td>486.970.253-38</td><td>isabelly04@uol.co...</td><td>9n8Gsa#7&amp;*</td><td>1934-11-26</td><td>AM</td><td>2023-03-03</td><td>30.212.117.133</td><td>Ciano</td><td>Triatleta</td><td>+55 51 5926 5593</td></tr>\n",
       "<tr><td>417.902.385-79</td><td>vda-cruz@bol.com.br</td><td>g8NiwxWC_z</td><td>1994-05-11</td><td>AC</td><td>2023-02-07</td><td>146.83.148.200</td><td>Ciano</td><td>Profissional De I...</td><td>+55 (071) 9845-9087</td></tr>\n",
       "<tr><td>238.594.160-06</td><td>uduarte@bol.com.br</td><td>h$2W8we*ZU</td><td>1982-03-24</td><td>ES</td><td>2023-01-22</td><td>214.223.195.14</td><td>Ciano</td><td>Espeleologista</td><td>+55 41 5206-4691</td></tr>\n",
       "<tr><td>164.593.782-82</td><td>joao64@gmail.com</td><td>p8HSoDMn&amp;n</td><td>1950-03-20</td><td>AP</td><td>2023-02-13</td><td>209.64.45.64</td><td>Verde Escuro</td><td>Regente</td><td>+55 (081) 8127 1919</td></tr>\n",
       "<tr><td>308.942.751-60</td><td>hpires@gmail.com</td><td>#^yq9HIt0h</td><td>1996-03-08</td><td>PE</td><td>2023-02-14</td><td>139.209.144.207</td><td>Ciano</td><td>Estofador</td><td>+55 31 1784 8068</td></tr>\n",
       "<tr><td>567.918.340-48</td><td>gmoreira@gmail.com</td><td>0!017S0ZLy</td><td>1979-01-29</td><td>RO</td><td>2023-03-11</td><td>168.232.170.74</td><td>Verde Escuro</td><td>Moldador</td><td>(011) 1909 0174</td></tr>\n",
       "<tr><td>379.108.624-31</td><td>ana60@hotmail.com</td><td>_9(_qvZj9*</td><td>1916-12-24</td><td>MT</td><td>2023-02-19</td><td>35.183.200.59</td><td>Verde Escuro</td><td>Ciclista</td><td>(031) 1774-1308</td></tr>\n",
       "<tr><td>730.184.526-07</td><td>fviana@ig.com.br</td><td>1(3oLDln$8</td><td>1938-10-23</td><td>SP</td><td>2023-03-02</td><td>99.31.171.138</td><td>Verde Escuro</td><td>Profissional De I...</td><td>0900-429-5628</td></tr>\n",
       "<tr><td>819.506.732-86</td><td>marcela40@gmail.com</td><td>k+g(8Ki@sn</td><td>2014-12-31</td><td>TO</td><td>2023-02-28</td><td>91.159.82.213</td><td>Ciano</td><td>Espeleologista</td><td>41 8190-4348</td></tr>\n",
       "<tr><td>423.051.986-98</td><td>pietra51@yahoo.co...</td><td>Z@p!1ReS2Y</td><td>1979-02-12</td><td>DF</td><td>2023-03-08</td><td>3.255.165.251</td><td>Verde Escuro</td><td>Engenheiro De Tra...</td><td>0300-116-8911</td></tr>\n",
       "<tr><td>729.185.360-59</td><td>vsilveira@yahoo.c...</td><td>cq8@kILnf_</td><td>2019-10-28</td><td>RS</td><td>2023-03-03</td><td>58.220.108.182</td><td>Verde Escuro</td><td>Qu&iacute;mico Farmac&ecirc;utico</td><td>+55 (041) 9143 7231</td></tr>\n",
       "<tr><td>891.603.475-20</td><td>araujoelisa@ig.co...</td><td>7I&amp;8CYyU5Y</td><td>1958-01-03</td><td>MS</td><td>2023-02-17</td><td>39.216.170.1</td><td>Verde Escuro</td><td>Jogador De Futebol</td><td>71 8049-1602</td></tr>\n",
       "<tr><td>613.280.547-80</td><td>bsales@yahoo.com.br</td><td>4vK(7DWr+%</td><td>1937-09-08</td><td>ES</td><td>2023-01-15</td><td>94.179.212.163</td><td>Verde Escuro</td><td>Te&oacute;logo</td><td>(051) 8452-9589</td></tr>\n",
       "<tr><td>375.620.418-90</td><td>erickramos@yahoo....</td><td>98CHFvpz+n</td><td>2001-09-05</td><td>BA</td><td>2023-03-04</td><td>28.110.187.96</td><td>Ciano</td><td>Cinegrafista</td><td>+55 81 7285-5406</td></tr>\n",
       "<tr><td>765.430.982-10</td><td>gabrielcunha@bol....</td><td>*de30DhmcY</td><td>2002-05-23</td><td>RJ</td><td>2023-01-19</td><td>10.158.51.13</td><td>Verde Escuro</td><td>Camel&ocirc;</td><td>+55 (011) 6838 1339</td></tr>\n",
       "</table>\n",
       "only showing top 20 rows\n"
      ],
      "text/plain": [
       "+--------------+--------------------+----------+------------------+------+-------------+---------------+------------+--------------------+-------------------+\n",
       "|           cpf|               email|     senha|data_de_nascimento|estado|data_cadastro|           ipv4|cor_favorita|           profissao|           telefone|\n",
       "+--------------+--------------------+----------+------------------+------+-------------+---------------+------------+--------------------+-------------------+\n",
       "|493.705.168-75|rezendeisaac@hotm...|_O_2GRnGOe|        1992-06-17|    GO|   2023-02-16|  197.11.26.213|       Ciano|Atleta De Arremes...|    (031) 0803-6753|\n",
       "|563.170.492-70|  renan46@bol.com.br|Rp%2pVqfe$|        1922-09-01|    PA|   2023-02-01| 122.203.83.177|Verde Escuro|        Contabilista|   +55 41 6248 5773|\n",
       "|624.095.138-24|luizapeixoto@gmai...|TbKy82Kda$|        1959-02-01|    DF|   2023-02-25|  105.107.23.13|       Ciano|    Implantodontista|       84 1293 1906|\n",
       "|348.215.690-51| omoreira@bol.com.br|!8maDkdVnY|        2008-10-24|    MG|   2023-02-20|  177.2.242.176|Verde Escuro|Adestrador De Ani...|   +55 61 3217-9930|\n",
       "|427.093.568-56|luiz-gustavoferna...|a+Z5#HgFkm|        1987-08-26|    MS|   2023-02-06| 107.189.80.120|Verde Escuro|Técnico Em Docume...|       71 1401-9745|\n",
       "|486.970.253-38|isabelly04@uol.co...|9n8Gsa#7&*|        1934-11-26|    AM|   2023-03-03| 30.212.117.133|       Ciano|           Triatleta|   +55 51 5926 5593|\n",
       "|417.902.385-79| vda-cruz@bol.com.br|g8NiwxWC_z|        1994-05-11|    AC|   2023-02-07| 146.83.148.200|       Ciano|Profissional De I...|+55 (071) 9845-9087|\n",
       "|238.594.160-06|  uduarte@bol.com.br|h$2W8we*ZU|        1982-03-24|    ES|   2023-01-22| 214.223.195.14|       Ciano|      Espeleologista|   +55 41 5206-4691|\n",
       "|164.593.782-82|    joao64@gmail.com|p8HSoDMn&n|        1950-03-20|    AP|   2023-02-13|   209.64.45.64|Verde Escuro|             Regente|+55 (081) 8127 1919|\n",
       "|308.942.751-60|    hpires@gmail.com|#^yq9HIt0h|        1996-03-08|    PE|   2023-02-14|139.209.144.207|       Ciano|           Estofador|   +55 31 1784 8068|\n",
       "|567.918.340-48|  gmoreira@gmail.com|0!017S0ZLy|        1979-01-29|    RO|   2023-03-11| 168.232.170.74|Verde Escuro|            Moldador|    (011) 1909 0174|\n",
       "|379.108.624-31|   ana60@hotmail.com|_9(_qvZj9*|        1916-12-24|    MT|   2023-02-19|  35.183.200.59|Verde Escuro|            Ciclista|    (031) 1774-1308|\n",
       "|730.184.526-07|    fviana@ig.com.br|1(3oLDln$8|        1938-10-23|    SP|   2023-03-02|  99.31.171.138|Verde Escuro|Profissional De I...|      0900-429-5628|\n",
       "|819.506.732-86| marcela40@gmail.com|k+g(8Ki@sn|        2014-12-31|    TO|   2023-02-28|  91.159.82.213|       Ciano|      Espeleologista|       41 8190-4348|\n",
       "|423.051.986-98|pietra51@yahoo.co...|Z@p!1ReS2Y|        1979-02-12|    DF|   2023-03-08|  3.255.165.251|Verde Escuro|Engenheiro De Tra...|      0300-116-8911|\n",
       "|729.185.360-59|vsilveira@yahoo.c...|cq8@kILnf_|        2019-10-28|    RS|   2023-03-03| 58.220.108.182|Verde Escuro|Químico Farmacêutico|+55 (041) 9143 7231|\n",
       "|891.603.475-20|araujoelisa@ig.co...|7I&8CYyU5Y|        1958-01-03|    MS|   2023-02-17|   39.216.170.1|Verde Escuro|  Jogador De Futebol|       71 8049-1602|\n",
       "|613.280.547-80| bsales@yahoo.com.br|4vK(7DWr+%|        1937-09-08|    ES|   2023-01-15| 94.179.212.163|Verde Escuro|             Teólogo|    (051) 8452-9589|\n",
       "|375.620.418-90|erickramos@yahoo....|98CHFvpz+n|        2001-09-05|    BA|   2023-03-04|  28.110.187.96|       Ciano|        Cinegrafista|   +55 81 7285-5406|\n",
       "|765.430.982-10|gabrielcunha@bol....|*de30DhmcY|        2002-05-23|    RJ|   2023-01-19|   10.158.51.13|Verde Escuro|              Camelô|+55 (011) 6838 1339|\n",
       "+--------------+--------------------+----------+------------------+------+-------------+---------------+------------+--------------------+-------------------+\n",
       "only showing top 20 rows"
      ]
     },
     "execution_count": 33,
     "metadata": {},
     "output_type": "execute_result"
    }
   ],
   "source": [
    "# Filter e Where (do SQL) são o mesmos comandos no pyspark\n",
    "df.where((df.cor_favorita == 'Ciano') | (df.cor_favorita == 'Verde Escuro'))"
   ]
  },
  {
   "cell_type": "code",
   "execution_count": 40,
   "id": "c8b71221-7631-4d35-9f97-50b89c150e01",
   "metadata": {},
   "outputs": [
    {
     "data": {
      "text/html": [
       "<table border='1'>\n",
       "<tr><th>cpf</th><th>email</th><th>senha</th><th>data_de_nascimento</th><th>estado</th><th>data_cadastro</th><th>ipv4</th><th>cor_favorita</th><th>profissao</th><th>telefone</th></tr>\n",
       "<tr><td>946.235.178-37</td><td>thomas69@bol.com.br</td><td>_i+HmPpv5P</td><td>1947-01-13</td><td>RS</td><td>2023-02-07</td><td>49.226.173.248</td><td>Laranja</td><td>Acompanhante</td><td>(071) 1839 5934</td></tr>\n",
       "<tr><td>793.814.250-60</td><td>milenamartins@ig....</td><td>M0p0e5Re@%</td><td>1998-08-29</td><td>RS</td><td>2023-01-31</td><td>80.134.42.194</td><td>Laranja</td><td>Historiador</td><td>(031) 5276 7415</td></tr>\n",
       "<tr><td>247.165.893-82</td><td>da-pazvitoria@hot...</td><td>fk)Jh7Pu*W</td><td>2020-05-05</td><td>RS</td><td>2023-02-08</td><td>199.204.228.116</td><td>Laranja</td><td>M&eacute;dico Legista</td><td>+55 (084) 3875 0196</td></tr>\n",
       "</table>\n"
      ],
      "text/plain": [
       "+--------------+--------------------+----------+------------------+------+-------------+---------------+------------+--------------+-------------------+\n",
       "|           cpf|               email|     senha|data_de_nascimento|estado|data_cadastro|           ipv4|cor_favorita|     profissao|           telefone|\n",
       "+--------------+--------------------+----------+------------------+------+-------------+---------------+------------+--------------+-------------------+\n",
       "|946.235.178-37| thomas69@bol.com.br|_i+HmPpv5P|        1947-01-13|    RS|   2023-02-07| 49.226.173.248|     Laranja|  Acompanhante|    (071) 1839 5934|\n",
       "|793.814.250-60|milenamartins@ig....|M0p0e5Re@%|        1998-08-29|    RS|   2023-01-31|  80.134.42.194|     Laranja|   Historiador|    (031) 5276 7415|\n",
       "|247.165.893-82|da-pazvitoria@hot...|fk)Jh7Pu*W|        2020-05-05|    RS|   2023-02-08|199.204.228.116|     Laranja|Médico Legista|+55 (084) 3875 0196|\n",
       "+--------------+--------------------+----------+------------------+------+-------------+---------------+------------+--------------+-------------------+"
      ]
     },
     "execution_count": 40,
     "metadata": {},
     "output_type": "execute_result"
    }
   ],
   "source": [
    "# Fazendo buscas com linhas separadas\n",
    "(\n",
    "    df\n",
    "    .where(F.col('estado') == 'RS')\n",
    "    #.where(F.col('profissao') == 'Acompanhante')\n",
    "    .where(F.col('cor_favorita') == 'Laranja')\n",
    ")"
   ]
  }
 ],
 "metadata": {
  "kernelspec": {
   "display_name": "Python 3 (ipykernel)",
   "language": "python",
   "name": "python3"
  },
  "language_info": {
   "codemirror_mode": {
    "name": "ipython",
    "version": 3
   },
   "file_extension": ".py",
   "mimetype": "text/x-python",
   "name": "python",
   "nbconvert_exporter": "python",
   "pygments_lexer": "ipython3",
   "version": "3.11.5"
  }
 },
 "nbformat": 4,
 "nbformat_minor": 5
}
