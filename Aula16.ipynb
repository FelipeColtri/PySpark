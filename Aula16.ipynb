{
 "cells": [
  {
   "cell_type": "code",
   "execution_count": 1,
   "id": "9d35a332-e77d-452b-b498-96ceb6a55c30",
   "metadata": {},
   "outputs": [],
   "source": [
    "# Importando as bibliotecas utilizadas\n",
    "from pyspark.sql import SparkSession\n",
    "import pyspark.sql.functions as F"
   ]
  },
  {
   "cell_type": "code",
   "execution_count": 3,
   "id": "625fa924-96c4-4e56-93e6-f01b745c9375",
   "metadata": {},
   "outputs": [],
   "source": [
    "# Criando a sessão, nomeando e configurando para mostrar tabela do tipo pandas \n",
    "spark = (\n",
    "    SparkSession.builder\n",
    "    .appName('PySpark - Consultas SQL')\n",
    "    .config('spark.sql.repl.eagerEval.enabled', True)\n",
    "    .getOrCreate()\n",
    ")"
   ]
  },
  {
   "cell_type": "code",
   "execution_count": 5,
   "id": "df489d01-0f7b-4d27-9f7d-cb7e4919555d",
   "metadata": {},
   "outputs": [],
   "source": [
    "# Carregando um arquivo PARQUET para dataframe\n",
    "df = spark.read.parquet('./DATASETS/LOGINS.parquet')"
   ]
  },
  {
   "cell_type": "code",
   "execution_count": 11,
   "id": "e7dc4c33-ee93-4237-80dc-8b2bd1ff8d24",
   "metadata": {},
   "outputs": [
    {
     "data": {
      "text/html": [
       "<table border='1'>\n",
       "<tr><th>cpf</th><th>email</th><th>senha</th><th>data_de_nascimento</th><th>estado</th><th>data_cadastro</th><th>ipv4</th><th>cor_favorita</th><th>profissao</th><th>telefone</th></tr>\n",
       "<tr><td>573.619.804-57</td><td>hnogueira@ig.com.br</td><td>&amp;9Ejtll$PF</td><td>1949-03-06</td><td>SP</td><td>2023-01-27</td><td>168.162.247.252</td><td>Cinza</td><td>Instalador De Lin...</td><td>(031) 9148 3933</td></tr>\n",
       "<tr><td>734.801.926-96</td><td>pedro-miguel43@bo...</td><td>*72CCJdxX0</td><td>1965-09-14</td><td>SP</td><td>2023-02-22</td><td>222.145.189.67</td><td>Roxo</td><td>Coach</td><td>51 9026 3441</td></tr>\n",
       "<tr><td>524.789.301-88</td><td>diogosales@yahoo....</td><td>*yWPtYdi71</td><td>1931-01-17</td><td>PR</td><td>2023-01-14</td><td>149.106.171.164</td><td>Marrom</td><td>Turism&oacute;logo</td><td>+55 (041) 6393-0208</td></tr>\n",
       "<tr><td>869.072.315-30</td><td>luiz-gustavorocha...</td><td>$62UN05c(9</td><td>1980-10-19</td><td>SP</td><td>2023-01-04</td><td>53.167.75.100</td><td>Verde Claro</td><td>Lactarista Hospit...</td><td>+55 31 1296 8466</td></tr>\n",
       "<tr><td>291.358.407-14</td><td>lavinia54@ig.com.br</td><td>NyI@+8Kd!1</td><td>1982-01-28</td><td>SP</td><td>2023-02-26</td><td>79.132.46.55</td><td>Preto</td><td>Profissional De R...</td><td>+55 51 5526 8284</td></tr>\n",
       "<tr><td>460.125.983-51</td><td>lazevedo@gmail.com</td><td>uC0O7QdE&amp;B</td><td>1972-07-14</td><td>SP</td><td>2023-01-24</td><td>221.155.104.128</td><td>Preto</td><td>Atleta De Arremes...</td><td>+55 71 9251-1645</td></tr>\n",
       "<tr><td>837.410.256-07</td><td>martinsmaysa@bol....</td><td>(Z8RNs%un6</td><td>1972-08-21</td><td>SP</td><td>2023-02-24</td><td>157.119.230.252</td><td>Cinza</td><td>Laboratorista</td><td>+55 (084) 4945-6200</td></tr>\n",
       "<tr><td>730.184.526-07</td><td>fviana@ig.com.br</td><td>1(3oLDln$8</td><td>1938-10-23</td><td>SP</td><td>2023-03-02</td><td>99.31.171.138</td><td>Verde Escuro</td><td>Profissional De I...</td><td>0900-429-5628</td></tr>\n",
       "<tr><td>874.092.613-31</td><td>bruno71@yahoo.com.br</td><td>HF1FfNe5&amp;H</td><td>1946-11-25</td><td>SP</td><td>2023-03-03</td><td>14.80.253.67</td><td>Violeta</td><td>Confeiteiro</td><td>(084) 0687-3775</td></tr>\n",
       "<tr><td>465.092.837-00</td><td>stellacastro@uol....</td><td>t@3Fyqzr&amp;#</td><td>2005-12-03</td><td>PR</td><td>2023-01-04</td><td>105.93.60.18</td><td>Laranja</td><td>Piloto Automobil&iacute;...</td><td>0500 746 4091</td></tr>\n",
       "<tr><td>490.372.518-97</td><td>castrocatarina@gm...</td><td>8hQ)9EiVZP</td><td>1983-06-10</td><td>SP</td><td>2023-01-21</td><td>5.188.180.112</td><td>Azul Escuro</td><td>Epidemi&oacute;logo</td><td>61 5994-2692</td></tr>\n",
       "<tr><td>914.528.630-24</td><td>da-cruzjoaquim@gm...</td><td>v#o7OgfF&amp;4</td><td>1951-01-03</td><td>SP</td><td>2023-01-01</td><td>82.252.94.185</td><td>Cinza</td><td>Ombudsman</td><td>(031) 4940-4068</td></tr>\n",
       "<tr><td>305.768.142-53</td><td>ocorreia@ig.com.br</td><td>&amp;w4EZmC4I&amp;</td><td>1987-11-01</td><td>SP</td><td>2023-01-21</td><td>5.228.186.166</td><td>Verde</td><td>Administrador P&uacute;b...</td><td>(051) 9858-2959</td></tr>\n",
       "<tr><td>417.539.620-99</td><td>dcostela@ig.com.br</td><td>DI9@1Hlh+*</td><td>1954-03-31</td><td>PR</td><td>2023-01-16</td><td>34.153.152.221</td><td>Verde Escuro</td><td>Soldador</td><td>+55 (081) 7147 2986</td></tr>\n",
       "<tr><td>271.450.869-30</td><td>joao-miguelcostel...</td><td>s!c1x#csuK</td><td>1948-09-30</td><td>PR</td><td>2023-01-24</td><td>181.48.75.3</td><td>Branco</td><td>Corredor De Atlet...</td><td>+55 (021) 2951-1318</td></tr>\n",
       "<tr><td>518.236.097-59</td><td>moraesgustavo-hen...</td><td>_%Xi0ZASk5</td><td>1917-02-17</td><td>SP</td><td>2023-03-07</td><td>130.120.64.80</td><td>Verde Claro</td><td>Balconista</td><td>(031) 6968 3473</td></tr>\n",
       "<tr><td>172.860.945-30</td><td>maria-vitoriasilv...</td><td>(92(Y+VmM!</td><td>2007-09-01</td><td>SP</td><td>2023-01-05</td><td>154.240.64.53</td><td>Roxo</td><td>Ca&ccedil;a-Talentos/Olh...</td><td>51 2257 7179</td></tr>\n",
       "<tr><td>534.708.926-10</td><td>eporto@gmail.com</td><td>jv1_Ir)ff$</td><td>1936-11-28</td><td>PR</td><td>2023-01-01</td><td>145.135.186.66</td><td>Laranja</td><td>Serventu&aacute;rio</td><td>(084) 4502 4464</td></tr>\n",
       "<tr><td>596.014.728-94</td><td>anogueira@gmail.com</td><td>3vKnjQq(^c</td><td>1965-03-06</td><td>SP</td><td>2023-01-22</td><td>208.2.27.239</td><td>Amarelo</td><td>Cadista</td><td>(061) 3133 8356</td></tr>\n",
       "<tr><td>732.908.614-22</td><td>joao-guilhermemor...</td><td>3P&amp;3HnbuG(</td><td>1987-04-06</td><td>PR</td><td>2023-01-01</td><td>96.60.227.194</td><td>Cinza</td><td>Especialista Em A...</td><td>71 3193 3975</td></tr>\n",
       "</table>\n",
       "only showing top 20 rows\n"
      ],
      "text/plain": [
       "+--------------+--------------------+----------+------------------+------+-------------+---------------+------------+--------------------+-------------------+\n",
       "|           cpf|               email|     senha|data_de_nascimento|estado|data_cadastro|           ipv4|cor_favorita|           profissao|           telefone|\n",
       "+--------------+--------------------+----------+------------------+------+-------------+---------------+------------+--------------------+-------------------+\n",
       "|573.619.804-57| hnogueira@ig.com.br|&9Ejtll$PF|        1949-03-06|    SP|   2023-01-27|168.162.247.252|       Cinza|Instalador De Lin...|    (031) 9148 3933|\n",
       "|734.801.926-96|pedro-miguel43@bo...|*72CCJdxX0|        1965-09-14|    SP|   2023-02-22| 222.145.189.67|        Roxo|               Coach|       51 9026 3441|\n",
       "|524.789.301-88|diogosales@yahoo....|*yWPtYdi71|        1931-01-17|    PR|   2023-01-14|149.106.171.164|      Marrom|         Turismólogo|+55 (041) 6393-0208|\n",
       "|869.072.315-30|luiz-gustavorocha...|$62UN05c(9|        1980-10-19|    SP|   2023-01-04|  53.167.75.100| Verde Claro|Lactarista Hospit...|   +55 31 1296 8466|\n",
       "|291.358.407-14| lavinia54@ig.com.br|NyI@+8Kd!1|        1982-01-28|    SP|   2023-02-26|   79.132.46.55|       Preto|Profissional De R...|   +55 51 5526 8284|\n",
       "|460.125.983-51|  lazevedo@gmail.com|uC0O7QdE&B|        1972-07-14|    SP|   2023-01-24|221.155.104.128|       Preto|Atleta De Arremes...|   +55 71 9251-1645|\n",
       "|837.410.256-07|martinsmaysa@bol....|(Z8RNs%un6|        1972-08-21|    SP|   2023-02-24|157.119.230.252|       Cinza|       Laboratorista|+55 (084) 4945-6200|\n",
       "|730.184.526-07|    fviana@ig.com.br|1(3oLDln$8|        1938-10-23|    SP|   2023-03-02|  99.31.171.138|Verde Escuro|Profissional De I...|      0900-429-5628|\n",
       "|874.092.613-31|bruno71@yahoo.com.br|HF1FfNe5&H|        1946-11-25|    SP|   2023-03-03|   14.80.253.67|     Violeta|         Confeiteiro|    (084) 0687-3775|\n",
       "|465.092.837-00|stellacastro@uol....|t@3Fyqzr&#|        2005-12-03|    PR|   2023-01-04|   105.93.60.18|     Laranja|Piloto Automobilí...|      0500 746 4091|\n",
       "|490.372.518-97|castrocatarina@gm...|8hQ)9EiVZP|        1983-06-10|    SP|   2023-01-21|  5.188.180.112| Azul Escuro|        Epidemiólogo|       61 5994-2692|\n",
       "|914.528.630-24|da-cruzjoaquim@gm...|v#o7OgfF&4|        1951-01-03|    SP|   2023-01-01|  82.252.94.185|       Cinza|           Ombudsman|    (031) 4940-4068|\n",
       "|305.768.142-53|  ocorreia@ig.com.br|&w4EZmC4I&|        1987-11-01|    SP|   2023-01-21|  5.228.186.166|       Verde|Administrador Púb...|    (051) 9858-2959|\n",
       "|417.539.620-99|  dcostela@ig.com.br|DI9@1Hlh+*|        1954-03-31|    PR|   2023-01-16| 34.153.152.221|Verde Escuro|            Soldador|+55 (081) 7147 2986|\n",
       "|271.450.869-30|joao-miguelcostel...|s!c1x#csuK|        1948-09-30|    PR|   2023-01-24|    181.48.75.3|      Branco|Corredor De Atlet...|+55 (021) 2951-1318|\n",
       "|518.236.097-59|moraesgustavo-hen...|_%Xi0ZASk5|        1917-02-17|    SP|   2023-03-07|  130.120.64.80| Verde Claro|          Balconista|    (031) 6968 3473|\n",
       "|172.860.945-30|maria-vitoriasilv...|(92(Y+VmM!|        2007-09-01|    SP|   2023-01-05|  154.240.64.53|        Roxo|Caça-Talentos/Olh...|       51 2257 7179|\n",
       "|534.708.926-10|    eporto@gmail.com|jv1_Ir)ff$|        1936-11-28|    PR|   2023-01-01| 145.135.186.66|     Laranja|        Serventuário|    (084) 4502 4464|\n",
       "|596.014.728-94| anogueira@gmail.com|3vKnjQq(^c|        1965-03-06|    SP|   2023-01-22|   208.2.27.239|     Amarelo|             Cadista|    (061) 3133 8356|\n",
       "|732.908.614-22|joao-guilhermemor...|3P&3HnbuG(|        1987-04-06|    PR|   2023-01-01|  96.60.227.194|       Cinza|Especialista Em A...|       71 3193 3975|\n",
       "+--------------+--------------------+----------+------------------+------+-------------+---------------+------------+--------------------+-------------------+\n",
       "only showing top 20 rows"
      ]
     },
     "execution_count": 11,
     "metadata": {},
     "output_type": "execute_result"
    }
   ],
   "source": [
    "# Passando um comando SQL diretamente\n",
    "spark.sql(\"\"\"\n",
    "    SELECT * \n",
    "    FROM {logins}\n",
    "    WHERE estado IN {uf}\n",
    "\"\"\", logins = df, uf = ('SP', 'PR'))"
   ]
  },
  {
   "cell_type": "code",
   "execution_count": 14,
   "id": "fd5159bc-f982-42d2-b99a-7f36f1a6474a",
   "metadata": {},
   "outputs": [
    {
     "data": {
      "text/html": [
       "<table border='1'>\n",
       "<tr><th>cpf</th><th>email</th><th>senha</th><th>data_de_nascimento</th><th>estado</th><th>data_cadastro</th><th>ipv4</th><th>cor_favorita</th><th>profissao</th><th>telefone</th></tr>\n",
       "<tr><td>573.619.804-57</td><td>hnogueira@ig.com.br</td><td>&amp;9Ejtll$PF</td><td>1949-03-06</td><td>SP</td><td>2023-01-27</td><td>168.162.247.252</td><td>Cinza</td><td>Instalador De Lin...</td><td>(031) 9148 3933</td></tr>\n",
       "<tr><td>734.801.926-96</td><td>pedro-miguel43@bo...</td><td>*72CCJdxX0</td><td>1965-09-14</td><td>SP</td><td>2023-02-22</td><td>222.145.189.67</td><td>Roxo</td><td>Coach</td><td>51 9026 3441</td></tr>\n",
       "<tr><td>524.789.301-88</td><td>diogosales@yahoo....</td><td>*yWPtYdi71</td><td>1931-01-17</td><td>PR</td><td>2023-01-14</td><td>149.106.171.164</td><td>Marrom</td><td>Turism&oacute;logo</td><td>+55 (041) 6393-0208</td></tr>\n",
       "<tr><td>869.072.315-30</td><td>luiz-gustavorocha...</td><td>$62UN05c(9</td><td>1980-10-19</td><td>SP</td><td>2023-01-04</td><td>53.167.75.100</td><td>Verde Claro</td><td>Lactarista Hospit...</td><td>+55 31 1296 8466</td></tr>\n",
       "<tr><td>291.358.407-14</td><td>lavinia54@ig.com.br</td><td>NyI@+8Kd!1</td><td>1982-01-28</td><td>SP</td><td>2023-02-26</td><td>79.132.46.55</td><td>Preto</td><td>Profissional De R...</td><td>+55 51 5526 8284</td></tr>\n",
       "<tr><td>460.125.983-51</td><td>lazevedo@gmail.com</td><td>uC0O7QdE&amp;B</td><td>1972-07-14</td><td>SP</td><td>2023-01-24</td><td>221.155.104.128</td><td>Preto</td><td>Atleta De Arremes...</td><td>+55 71 9251-1645</td></tr>\n",
       "<tr><td>837.410.256-07</td><td>martinsmaysa@bol....</td><td>(Z8RNs%un6</td><td>1972-08-21</td><td>SP</td><td>2023-02-24</td><td>157.119.230.252</td><td>Cinza</td><td>Laboratorista</td><td>+55 (084) 4945-6200</td></tr>\n",
       "<tr><td>730.184.526-07</td><td>fviana@ig.com.br</td><td>1(3oLDln$8</td><td>1938-10-23</td><td>SP</td><td>2023-03-02</td><td>99.31.171.138</td><td>Verde Escuro</td><td>Profissional De I...</td><td>0900-429-5628</td></tr>\n",
       "<tr><td>874.092.613-31</td><td>bruno71@yahoo.com.br</td><td>HF1FfNe5&amp;H</td><td>1946-11-25</td><td>SP</td><td>2023-03-03</td><td>14.80.253.67</td><td>Violeta</td><td>Confeiteiro</td><td>(084) 0687-3775</td></tr>\n",
       "<tr><td>465.092.837-00</td><td>stellacastro@uol....</td><td>t@3Fyqzr&amp;#</td><td>2005-12-03</td><td>PR</td><td>2023-01-04</td><td>105.93.60.18</td><td>Laranja</td><td>Piloto Automobil&iacute;...</td><td>0500 746 4091</td></tr>\n",
       "<tr><td>490.372.518-97</td><td>castrocatarina@gm...</td><td>8hQ)9EiVZP</td><td>1983-06-10</td><td>SP</td><td>2023-01-21</td><td>5.188.180.112</td><td>Azul Escuro</td><td>Epidemi&oacute;logo</td><td>61 5994-2692</td></tr>\n",
       "<tr><td>914.528.630-24</td><td>da-cruzjoaquim@gm...</td><td>v#o7OgfF&amp;4</td><td>1951-01-03</td><td>SP</td><td>2023-01-01</td><td>82.252.94.185</td><td>Cinza</td><td>Ombudsman</td><td>(031) 4940-4068</td></tr>\n",
       "<tr><td>305.768.142-53</td><td>ocorreia@ig.com.br</td><td>&amp;w4EZmC4I&amp;</td><td>1987-11-01</td><td>SP</td><td>2023-01-21</td><td>5.228.186.166</td><td>Verde</td><td>Administrador P&uacute;b...</td><td>(051) 9858-2959</td></tr>\n",
       "<tr><td>417.539.620-99</td><td>dcostela@ig.com.br</td><td>DI9@1Hlh+*</td><td>1954-03-31</td><td>PR</td><td>2023-01-16</td><td>34.153.152.221</td><td>Verde Escuro</td><td>Soldador</td><td>+55 (081) 7147 2986</td></tr>\n",
       "<tr><td>271.450.869-30</td><td>joao-miguelcostel...</td><td>s!c1x#csuK</td><td>1948-09-30</td><td>PR</td><td>2023-01-24</td><td>181.48.75.3</td><td>Branco</td><td>Corredor De Atlet...</td><td>+55 (021) 2951-1318</td></tr>\n",
       "<tr><td>518.236.097-59</td><td>moraesgustavo-hen...</td><td>_%Xi0ZASk5</td><td>1917-02-17</td><td>SP</td><td>2023-03-07</td><td>130.120.64.80</td><td>Verde Claro</td><td>Balconista</td><td>(031) 6968 3473</td></tr>\n",
       "<tr><td>172.860.945-30</td><td>maria-vitoriasilv...</td><td>(92(Y+VmM!</td><td>2007-09-01</td><td>SP</td><td>2023-01-05</td><td>154.240.64.53</td><td>Roxo</td><td>Ca&ccedil;a-Talentos/Olh...</td><td>51 2257 7179</td></tr>\n",
       "<tr><td>534.708.926-10</td><td>eporto@gmail.com</td><td>jv1_Ir)ff$</td><td>1936-11-28</td><td>PR</td><td>2023-01-01</td><td>145.135.186.66</td><td>Laranja</td><td>Serventu&aacute;rio</td><td>(084) 4502 4464</td></tr>\n",
       "<tr><td>596.014.728-94</td><td>anogueira@gmail.com</td><td>3vKnjQq(^c</td><td>1965-03-06</td><td>SP</td><td>2023-01-22</td><td>208.2.27.239</td><td>Amarelo</td><td>Cadista</td><td>(061) 3133 8356</td></tr>\n",
       "<tr><td>732.908.614-22</td><td>joao-guilhermemor...</td><td>3P&amp;3HnbuG(</td><td>1987-04-06</td><td>PR</td><td>2023-01-01</td><td>96.60.227.194</td><td>Cinza</td><td>Especialista Em A...</td><td>71 3193 3975</td></tr>\n",
       "</table>\n",
       "only showing top 20 rows\n"
      ],
      "text/plain": [
       "+--------------+--------------------+----------+------------------+------+-------------+---------------+------------+--------------------+-------------------+\n",
       "|           cpf|               email|     senha|data_de_nascimento|estado|data_cadastro|           ipv4|cor_favorita|           profissao|           telefone|\n",
       "+--------------+--------------------+----------+------------------+------+-------------+---------------+------------+--------------------+-------------------+\n",
       "|573.619.804-57| hnogueira@ig.com.br|&9Ejtll$PF|        1949-03-06|    SP|   2023-01-27|168.162.247.252|       Cinza|Instalador De Lin...|    (031) 9148 3933|\n",
       "|734.801.926-96|pedro-miguel43@bo...|*72CCJdxX0|        1965-09-14|    SP|   2023-02-22| 222.145.189.67|        Roxo|               Coach|       51 9026 3441|\n",
       "|524.789.301-88|diogosales@yahoo....|*yWPtYdi71|        1931-01-17|    PR|   2023-01-14|149.106.171.164|      Marrom|         Turismólogo|+55 (041) 6393-0208|\n",
       "|869.072.315-30|luiz-gustavorocha...|$62UN05c(9|        1980-10-19|    SP|   2023-01-04|  53.167.75.100| Verde Claro|Lactarista Hospit...|   +55 31 1296 8466|\n",
       "|291.358.407-14| lavinia54@ig.com.br|NyI@+8Kd!1|        1982-01-28|    SP|   2023-02-26|   79.132.46.55|       Preto|Profissional De R...|   +55 51 5526 8284|\n",
       "|460.125.983-51|  lazevedo@gmail.com|uC0O7QdE&B|        1972-07-14|    SP|   2023-01-24|221.155.104.128|       Preto|Atleta De Arremes...|   +55 71 9251-1645|\n",
       "|837.410.256-07|martinsmaysa@bol....|(Z8RNs%un6|        1972-08-21|    SP|   2023-02-24|157.119.230.252|       Cinza|       Laboratorista|+55 (084) 4945-6200|\n",
       "|730.184.526-07|    fviana@ig.com.br|1(3oLDln$8|        1938-10-23|    SP|   2023-03-02|  99.31.171.138|Verde Escuro|Profissional De I...|      0900-429-5628|\n",
       "|874.092.613-31|bruno71@yahoo.com.br|HF1FfNe5&H|        1946-11-25|    SP|   2023-03-03|   14.80.253.67|     Violeta|         Confeiteiro|    (084) 0687-3775|\n",
       "|465.092.837-00|stellacastro@uol....|t@3Fyqzr&#|        2005-12-03|    PR|   2023-01-04|   105.93.60.18|     Laranja|Piloto Automobilí...|      0500 746 4091|\n",
       "|490.372.518-97|castrocatarina@gm...|8hQ)9EiVZP|        1983-06-10|    SP|   2023-01-21|  5.188.180.112| Azul Escuro|        Epidemiólogo|       61 5994-2692|\n",
       "|914.528.630-24|da-cruzjoaquim@gm...|v#o7OgfF&4|        1951-01-03|    SP|   2023-01-01|  82.252.94.185|       Cinza|           Ombudsman|    (031) 4940-4068|\n",
       "|305.768.142-53|  ocorreia@ig.com.br|&w4EZmC4I&|        1987-11-01|    SP|   2023-01-21|  5.228.186.166|       Verde|Administrador Púb...|    (051) 9858-2959|\n",
       "|417.539.620-99|  dcostela@ig.com.br|DI9@1Hlh+*|        1954-03-31|    PR|   2023-01-16| 34.153.152.221|Verde Escuro|            Soldador|+55 (081) 7147 2986|\n",
       "|271.450.869-30|joao-miguelcostel...|s!c1x#csuK|        1948-09-30|    PR|   2023-01-24|    181.48.75.3|      Branco|Corredor De Atlet...|+55 (021) 2951-1318|\n",
       "|518.236.097-59|moraesgustavo-hen...|_%Xi0ZASk5|        1917-02-17|    SP|   2023-03-07|  130.120.64.80| Verde Claro|          Balconista|    (031) 6968 3473|\n",
       "|172.860.945-30|maria-vitoriasilv...|(92(Y+VmM!|        2007-09-01|    SP|   2023-01-05|  154.240.64.53|        Roxo|Caça-Talentos/Olh...|       51 2257 7179|\n",
       "|534.708.926-10|    eporto@gmail.com|jv1_Ir)ff$|        1936-11-28|    PR|   2023-01-01| 145.135.186.66|     Laranja|        Serventuário|    (084) 4502 4464|\n",
       "|596.014.728-94| anogueira@gmail.com|3vKnjQq(^c|        1965-03-06|    SP|   2023-01-22|   208.2.27.239|     Amarelo|             Cadista|    (061) 3133 8356|\n",
       "|732.908.614-22|joao-guilhermemor...|3P&3HnbuG(|        1987-04-06|    PR|   2023-01-01|  96.60.227.194|       Cinza|Especialista Em A...|       71 3193 3975|\n",
       "+--------------+--------------------+----------+------------------+------+-------------+---------------+------------+--------------------+-------------------+\n",
       "only showing top 20 rows"
      ]
     },
     "execution_count": 14,
     "metadata": {},
     "output_type": "execute_result"
    }
   ],
   "source": [
    "# O mesmo resultado com as funções do PySpark \n",
    "df.where(F.col('estado').isin('SP', 'PR')) # .select('*') é implícito"
   ]
  },
  {
   "cell_type": "code",
   "execution_count": 20,
   "id": "81ab3dde-5ffc-4882-b6a7-22f330dd965e",
   "metadata": {},
   "outputs": [
    {
     "data": {
      "text/html": [
       "<table border='1'>\n",
       "<tr><th>cpf</th><th>email</th><th>senha</th><th>data_de_nascimento</th><th>estado</th><th>data_cadastro</th><th>ipv4</th><th>cor_favorita</th><th>profissao</th><th>telefone</th></tr>\n",
       "<tr><td>573.619.804-57</td><td>hnogueira@ig.com.br</td><td>&amp;9Ejtll$PF</td><td>1949-03-06</td><td>SP</td><td>2023-01-27</td><td>168.162.247.252</td><td>Cinza</td><td>Instalador De Lin...</td><td>(031) 9148 3933</td></tr>\n",
       "<tr><td>734.801.926-96</td><td>pedro-miguel43@bo...</td><td>*72CCJdxX0</td><td>1965-09-14</td><td>SP</td><td>2023-02-22</td><td>222.145.189.67</td><td>Roxo</td><td>Coach</td><td>51 9026 3441</td></tr>\n",
       "<tr><td>524.789.301-88</td><td>diogosales@yahoo....</td><td>*yWPtYdi71</td><td>1931-01-17</td><td>PR</td><td>2023-01-14</td><td>149.106.171.164</td><td>Marrom</td><td>Turism&oacute;logo</td><td>+55 (041) 6393-0208</td></tr>\n",
       "<tr><td>869.072.315-30</td><td>luiz-gustavorocha...</td><td>$62UN05c(9</td><td>1980-10-19</td><td>SP</td><td>2023-01-04</td><td>53.167.75.100</td><td>Verde Claro</td><td>Lactarista Hospit...</td><td>+55 31 1296 8466</td></tr>\n",
       "<tr><td>291.358.407-14</td><td>lavinia54@ig.com.br</td><td>NyI@+8Kd!1</td><td>1982-01-28</td><td>SP</td><td>2023-02-26</td><td>79.132.46.55</td><td>Preto</td><td>Profissional De R...</td><td>+55 51 5526 8284</td></tr>\n",
       "<tr><td>460.125.983-51</td><td>lazevedo@gmail.com</td><td>uC0O7QdE&amp;B</td><td>1972-07-14</td><td>SP</td><td>2023-01-24</td><td>221.155.104.128</td><td>Preto</td><td>Atleta De Arremes...</td><td>+55 71 9251-1645</td></tr>\n",
       "<tr><td>837.410.256-07</td><td>martinsmaysa@bol....</td><td>(Z8RNs%un6</td><td>1972-08-21</td><td>SP</td><td>2023-02-24</td><td>157.119.230.252</td><td>Cinza</td><td>Laboratorista</td><td>+55 (084) 4945-6200</td></tr>\n",
       "<tr><td>730.184.526-07</td><td>fviana@ig.com.br</td><td>1(3oLDln$8</td><td>1938-10-23</td><td>SP</td><td>2023-03-02</td><td>99.31.171.138</td><td>Verde Escuro</td><td>Profissional De I...</td><td>0900-429-5628</td></tr>\n",
       "<tr><td>874.092.613-31</td><td>bruno71@yahoo.com.br</td><td>HF1FfNe5&amp;H</td><td>1946-11-25</td><td>SP</td><td>2023-03-03</td><td>14.80.253.67</td><td>Violeta</td><td>Confeiteiro</td><td>(084) 0687-3775</td></tr>\n",
       "<tr><td>465.092.837-00</td><td>stellacastro@uol....</td><td>t@3Fyqzr&amp;#</td><td>2005-12-03</td><td>PR</td><td>2023-01-04</td><td>105.93.60.18</td><td>Laranja</td><td>Piloto Automobil&iacute;...</td><td>0500 746 4091</td></tr>\n",
       "<tr><td>490.372.518-97</td><td>castrocatarina@gm...</td><td>8hQ)9EiVZP</td><td>1983-06-10</td><td>SP</td><td>2023-01-21</td><td>5.188.180.112</td><td>Azul Escuro</td><td>Epidemi&oacute;logo</td><td>61 5994-2692</td></tr>\n",
       "<tr><td>914.528.630-24</td><td>da-cruzjoaquim@gm...</td><td>v#o7OgfF&amp;4</td><td>1951-01-03</td><td>SP</td><td>2023-01-01</td><td>82.252.94.185</td><td>Cinza</td><td>Ombudsman</td><td>(031) 4940-4068</td></tr>\n",
       "<tr><td>305.768.142-53</td><td>ocorreia@ig.com.br</td><td>&amp;w4EZmC4I&amp;</td><td>1987-11-01</td><td>SP</td><td>2023-01-21</td><td>5.228.186.166</td><td>Verde</td><td>Administrador P&uacute;b...</td><td>(051) 9858-2959</td></tr>\n",
       "<tr><td>417.539.620-99</td><td>dcostela@ig.com.br</td><td>DI9@1Hlh+*</td><td>1954-03-31</td><td>PR</td><td>2023-01-16</td><td>34.153.152.221</td><td>Verde Escuro</td><td>Soldador</td><td>+55 (081) 7147 2986</td></tr>\n",
       "<tr><td>271.450.869-30</td><td>joao-miguelcostel...</td><td>s!c1x#csuK</td><td>1948-09-30</td><td>PR</td><td>2023-01-24</td><td>181.48.75.3</td><td>Branco</td><td>Corredor De Atlet...</td><td>+55 (021) 2951-1318</td></tr>\n",
       "<tr><td>518.236.097-59</td><td>moraesgustavo-hen...</td><td>_%Xi0ZASk5</td><td>1917-02-17</td><td>SP</td><td>2023-03-07</td><td>130.120.64.80</td><td>Verde Claro</td><td>Balconista</td><td>(031) 6968 3473</td></tr>\n",
       "<tr><td>172.860.945-30</td><td>maria-vitoriasilv...</td><td>(92(Y+VmM!</td><td>2007-09-01</td><td>SP</td><td>2023-01-05</td><td>154.240.64.53</td><td>Roxo</td><td>Ca&ccedil;a-Talentos/Olh...</td><td>51 2257 7179</td></tr>\n",
       "<tr><td>534.708.926-10</td><td>eporto@gmail.com</td><td>jv1_Ir)ff$</td><td>1936-11-28</td><td>PR</td><td>2023-01-01</td><td>145.135.186.66</td><td>Laranja</td><td>Serventu&aacute;rio</td><td>(084) 4502 4464</td></tr>\n",
       "<tr><td>596.014.728-94</td><td>anogueira@gmail.com</td><td>3vKnjQq(^c</td><td>1965-03-06</td><td>SP</td><td>2023-01-22</td><td>208.2.27.239</td><td>Amarelo</td><td>Cadista</td><td>(061) 3133 8356</td></tr>\n",
       "<tr><td>732.908.614-22</td><td>joao-guilhermemor...</td><td>3P&amp;3HnbuG(</td><td>1987-04-06</td><td>PR</td><td>2023-01-01</td><td>96.60.227.194</td><td>Cinza</td><td>Especialista Em A...</td><td>71 3193 3975</td></tr>\n",
       "</table>\n",
       "only showing top 20 rows\n"
      ],
      "text/plain": [
       "+--------------+--------------------+----------+------------------+------+-------------+---------------+------------+--------------------+-------------------+\n",
       "|           cpf|               email|     senha|data_de_nascimento|estado|data_cadastro|           ipv4|cor_favorita|           profissao|           telefone|\n",
       "+--------------+--------------------+----------+------------------+------+-------------+---------------+------------+--------------------+-------------------+\n",
       "|573.619.804-57| hnogueira@ig.com.br|&9Ejtll$PF|        1949-03-06|    SP|   2023-01-27|168.162.247.252|       Cinza|Instalador De Lin...|    (031) 9148 3933|\n",
       "|734.801.926-96|pedro-miguel43@bo...|*72CCJdxX0|        1965-09-14|    SP|   2023-02-22| 222.145.189.67|        Roxo|               Coach|       51 9026 3441|\n",
       "|524.789.301-88|diogosales@yahoo....|*yWPtYdi71|        1931-01-17|    PR|   2023-01-14|149.106.171.164|      Marrom|         Turismólogo|+55 (041) 6393-0208|\n",
       "|869.072.315-30|luiz-gustavorocha...|$62UN05c(9|        1980-10-19|    SP|   2023-01-04|  53.167.75.100| Verde Claro|Lactarista Hospit...|   +55 31 1296 8466|\n",
       "|291.358.407-14| lavinia54@ig.com.br|NyI@+8Kd!1|        1982-01-28|    SP|   2023-02-26|   79.132.46.55|       Preto|Profissional De R...|   +55 51 5526 8284|\n",
       "|460.125.983-51|  lazevedo@gmail.com|uC0O7QdE&B|        1972-07-14|    SP|   2023-01-24|221.155.104.128|       Preto|Atleta De Arremes...|   +55 71 9251-1645|\n",
       "|837.410.256-07|martinsmaysa@bol....|(Z8RNs%un6|        1972-08-21|    SP|   2023-02-24|157.119.230.252|       Cinza|       Laboratorista|+55 (084) 4945-6200|\n",
       "|730.184.526-07|    fviana@ig.com.br|1(3oLDln$8|        1938-10-23|    SP|   2023-03-02|  99.31.171.138|Verde Escuro|Profissional De I...|      0900-429-5628|\n",
       "|874.092.613-31|bruno71@yahoo.com.br|HF1FfNe5&H|        1946-11-25|    SP|   2023-03-03|   14.80.253.67|     Violeta|         Confeiteiro|    (084) 0687-3775|\n",
       "|465.092.837-00|stellacastro@uol....|t@3Fyqzr&#|        2005-12-03|    PR|   2023-01-04|   105.93.60.18|     Laranja|Piloto Automobilí...|      0500 746 4091|\n",
       "|490.372.518-97|castrocatarina@gm...|8hQ)9EiVZP|        1983-06-10|    SP|   2023-01-21|  5.188.180.112| Azul Escuro|        Epidemiólogo|       61 5994-2692|\n",
       "|914.528.630-24|da-cruzjoaquim@gm...|v#o7OgfF&4|        1951-01-03|    SP|   2023-01-01|  82.252.94.185|       Cinza|           Ombudsman|    (031) 4940-4068|\n",
       "|305.768.142-53|  ocorreia@ig.com.br|&w4EZmC4I&|        1987-11-01|    SP|   2023-01-21|  5.228.186.166|       Verde|Administrador Púb...|    (051) 9858-2959|\n",
       "|417.539.620-99|  dcostela@ig.com.br|DI9@1Hlh+*|        1954-03-31|    PR|   2023-01-16| 34.153.152.221|Verde Escuro|            Soldador|+55 (081) 7147 2986|\n",
       "|271.450.869-30|joao-miguelcostel...|s!c1x#csuK|        1948-09-30|    PR|   2023-01-24|    181.48.75.3|      Branco|Corredor De Atlet...|+55 (021) 2951-1318|\n",
       "|518.236.097-59|moraesgustavo-hen...|_%Xi0ZASk5|        1917-02-17|    SP|   2023-03-07|  130.120.64.80| Verde Claro|          Balconista|    (031) 6968 3473|\n",
       "|172.860.945-30|maria-vitoriasilv...|(92(Y+VmM!|        2007-09-01|    SP|   2023-01-05|  154.240.64.53|        Roxo|Caça-Talentos/Olh...|       51 2257 7179|\n",
       "|534.708.926-10|    eporto@gmail.com|jv1_Ir)ff$|        1936-11-28|    PR|   2023-01-01| 145.135.186.66|     Laranja|        Serventuário|    (084) 4502 4464|\n",
       "|596.014.728-94| anogueira@gmail.com|3vKnjQq(^c|        1965-03-06|    SP|   2023-01-22|   208.2.27.239|     Amarelo|             Cadista|    (061) 3133 8356|\n",
       "|732.908.614-22|joao-guilhermemor...|3P&3HnbuG(|        1987-04-06|    PR|   2023-01-01|  96.60.227.194|       Cinza|Especialista Em A...|       71 3193 3975|\n",
       "+--------------+--------------------+----------+------------------+------+-------------+---------------+------------+--------------------+-------------------+\n",
       "only showing top 20 rows"
      ]
     },
     "execution_count": 20,
     "metadata": {},
     "output_type": "execute_result"
    }
   ],
   "source": [
    "# Pode ser criado tabelas temporárias com os dataframes \n",
    "df.createOrReplaceTempView('logins') # registerTempTable foi depreciado\n",
    "\n",
    "spark.sql(\"\"\"\n",
    "    SELECT * \n",
    "    FROM logins\n",
    "    WHERE estado IN ('SP', 'PR')\n",
    "\"\"\")"
   ]
  }
 ],
 "metadata": {
  "kernelspec": {
   "display_name": "Python 3 (ipykernel)",
   "language": "python",
   "name": "python3"
  },
  "language_info": {
   "codemirror_mode": {
    "name": "ipython",
    "version": 3
   },
   "file_extension": ".py",
   "mimetype": "text/x-python",
   "name": "python",
   "nbconvert_exporter": "python",
   "pygments_lexer": "ipython3",
   "version": "3.11.5"
  }
 },
 "nbformat": 4,
 "nbformat_minor": 5
}
