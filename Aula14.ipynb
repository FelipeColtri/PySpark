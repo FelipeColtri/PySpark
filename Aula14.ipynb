{
 "cells": [
  {
   "cell_type": "code",
   "execution_count": 1,
   "id": "9d35a332-e77d-452b-b498-96ceb6a55c30",
   "metadata": {},
   "outputs": [],
   "source": [
    "# Importando as bibliotecas utilizadas\n",
    "from pyspark.sql import SparkSession\n",
    "import pyspark.sql.functions as F"
   ]
  },
  {
   "cell_type": "code",
   "execution_count": 4,
   "id": "625fa924-96c4-4e56-93e6-f01b745c9375",
   "metadata": {},
   "outputs": [],
   "source": [
    "# Criando a sessão, nomeando e configurando para mostrar tabela do tipo pandas \n",
    "spark = (\n",
    "    SparkSession.builder\n",
    "    .appName('PySpark - Funções de Coluna')\n",
    "    .config('spark.sql.repl.eagerEval.enabled', True)\n",
    "    .getOrCreate()\n",
    ")"
   ]
  },
  {
   "cell_type": "code",
   "execution_count": 8,
   "id": "df489d01-0f7b-4d27-9f7d-cb7e4919555d",
   "metadata": {},
   "outputs": [
    {
     "data": {
      "text/html": [
       "<table border='1'>\n",
       "<tr><th>cpf</th><th>email</th><th>senha</th><th>data_de_nascimento</th><th>estado</th><th>data_cadastro</th><th>ipv4</th><th>cor_favorita</th><th>profissao</th><th>telefone</th></tr>\n",
       "<tr><td>981.507.362-12</td><td>pedro-lucas53@gma...</td><td>+7^7E%xFBc</td><td>2006-12-18</td><td>RR</td><td>2023-02-26</td><td>99.107.250.210</td><td>Roxo</td><td>Jogador De Golfe</td><td>31 7785-4046</td></tr>\n",
       "<tr><td>493.705.168-75</td><td>rezendeisaac@hotm...</td><td>_O_2GRnGOe</td><td>1992-06-17</td><td>GO</td><td>2023-02-16</td><td>197.11.26.213</td><td>Ciano</td><td>Atleta De Arremes...</td><td>(031) 0803-6753</td></tr>\n",
       "<tr><td>398.471.625-73</td><td>felipepires@uol.c...</td><td>*Aw5EOAvy9</td><td>1921-11-11</td><td>MG</td><td>2023-01-02</td><td>181.90.63.58</td><td>Azul</td><td>Papiloscopista</td><td>11 9674-0553</td></tr>\n",
       "<tr><td>092.618.354-06</td><td>stellamoraes@bol....</td><td>mw0AWYAs#s</td><td>2021-06-01</td><td>AC</td><td>2023-01-08</td><td>26.121.127.94</td><td>Marrom</td><td>Aeromo&ccedil;a</td><td>+55 (071) 3033 9177</td></tr>\n",
       "<tr><td>509.427.136-99</td><td>wcarvalho@ig.com.br</td><td>pGD%!2Pq5X</td><td>1969-10-28</td><td>AP</td><td>2023-02-14</td><td>76.184.52.163</td><td>Laranja</td><td>Fonoaudi&oacute;logo</td><td>+55 (071) 6272 2468</td></tr>\n",
       "<tr><td>218.795.460-94</td><td>da-conceicaodavi-...</td><td>uhBbFxPA&amp;9</td><td>1986-05-19</td><td>MG</td><td>2023-03-07</td><td>192.93.0.24</td><td>Rosa</td><td>Taxista</td><td>+55 84 0652 9691</td></tr>\n",
       "<tr><td>715.836.940-48</td><td>efreitas@bol.com.br</td><td>s#q9VZt&amp;xl</td><td>2018-04-20</td><td>MG</td><td>2023-01-13</td><td>76.251.188.148</td><td>Branco</td><td>Produtor De Audio...</td><td>+55 (084) 1363 0052</td></tr>\n",
       "<tr><td>475.698.032-56</td><td>wnunes@bol.com.br</td><td>_8az1W%n7g</td><td>1996-05-12</td><td>SE</td><td>2023-02-04</td><td>139.196.176.154</td><td>Azul</td><td>Cadeirinha</td><td>(071) 1640-3388</td></tr>\n",
       "<tr><td>217.639.540-99</td><td>jribeiro@bol.com.br</td><td>MEf1X7fj_0</td><td>2021-10-05</td><td>PA</td><td>2023-03-02</td><td>71.22.224.5</td><td>Marrom</td><td>Ge&oacute;logo</td><td>21 1432 4092</td></tr>\n",
       "<tr><td>261.938.750-77</td><td>murilo05@gmail.com</td><td>Te&amp;gO7GkKs</td><td>1917-01-05</td><td>MT</td><td>2023-02-21</td><td>136.54.123.165</td><td>Marrom</td><td>T&eacute;cnico De Som</td><td>+55 (084) 5878-3346</td></tr>\n",
       "<tr><td>520.831.796-68</td><td>joaquim57@ig.com.br</td><td>&amp;2E1NY+ARc</td><td>1912-05-25</td><td>BA</td><td>2023-01-25</td><td>78.196.255.126</td><td>Rosa</td><td>Esteticista</td><td>41 7914-3753</td></tr>\n",
       "<tr><td>413.087.526-44</td><td>alexiada-rocha@ig...</td><td>@f@!Z!2c*2</td><td>1920-05-26</td><td>MS</td><td>2023-02-18</td><td>182.61.65.201</td><td>Laranja</td><td>Microfonista</td><td>(021) 3739-2944</td></tr>\n",
       "<tr><td>509.287.143-14</td><td>pmendes@gmail.com</td><td>M+^XDBfe(2</td><td>1938-03-11</td><td>RR</td><td>2023-01-19</td><td>61.234.208.17</td><td>Verde Claro</td><td>Fiscal</td><td>+55 (084) 5940-1932</td></tr>\n",
       "<tr><td>563.170.492-70</td><td>renan46@bol.com.br</td><td>Rp%2pVqfe$</td><td>1922-09-01</td><td>PA</td><td>2023-02-01</td><td>122.203.83.177</td><td>Verde Escuro</td><td>Contabilista</td><td>+55 41 6248 5773</td></tr>\n",
       "<tr><td>098.712.346-78</td><td>manuelada-rosa@ho...</td><td>#hEIEOztQ3</td><td>2013-01-10</td><td>SE</td><td>2023-01-07</td><td>175.18.73.211</td><td>Violeta</td><td>Seguidor De Compras</td><td>51 0278 0564</td></tr>\n",
       "<tr><td>345.709.261-34</td><td>usales@ig.com.br</td><td>b_8xaY$ozJ</td><td>1992-10-16</td><td>AM</td><td>2023-01-05</td><td>97.93.29.75</td><td>Rosa</td><td>Almirante</td><td>(084) 8993-4521</td></tr>\n",
       "<tr><td>318.254.906-51</td><td>pereiranicolas@ho...</td><td>YA9I85Wb+2</td><td>1945-11-18</td><td>MA</td><td>2023-01-24</td><td>182.195.33.137</td><td>Amarelo</td><td>Consultor De Moda</td><td>(084) 4591 3795</td></tr>\n",
       "<tr><td>610.287.453-62</td><td>cardosolivia@ig.c...</td><td>yXkDW7Ebh*</td><td>1915-11-15</td><td>GO</td><td>2023-01-22</td><td>195.194.63.184</td><td>Laranja</td><td>Barbeiro</td><td>+55 61 8967-9563</td></tr>\n",
       "<tr><td>615.790.842-49</td><td>brenda39@ig.com.br</td><td>XS$84Hpsnw</td><td>1964-02-01</td><td>RJ</td><td>2023-02-16</td><td>21.252.226.29</td><td>Branco</td><td>Promotor De Vendas</td><td>+55 (021) 4751 2004</td></tr>\n",
       "<tr><td>624.095.138-24</td><td>luizapeixoto@gmai...</td><td>TbKy82Kda$</td><td>1959-02-01</td><td>DF</td><td>2023-02-25</td><td>105.107.23.13</td><td>Ciano</td><td>Implantodontista</td><td>84 1293 1906</td></tr>\n",
       "</table>\n",
       "only showing top 20 rows\n"
      ],
      "text/plain": [
       "+--------------+--------------------+----------+------------------+------+-------------+---------------+------------+--------------------+-------------------+\n",
       "|           cpf|               email|     senha|data_de_nascimento|estado|data_cadastro|           ipv4|cor_favorita|           profissao|           telefone|\n",
       "+--------------+--------------------+----------+------------------+------+-------------+---------------+------------+--------------------+-------------------+\n",
       "|981.507.362-12|pedro-lucas53@gma...|+7^7E%xFBc|        2006-12-18|    RR|   2023-02-26| 99.107.250.210|        Roxo|    Jogador De Golfe|       31 7785-4046|\n",
       "|493.705.168-75|rezendeisaac@hotm...|_O_2GRnGOe|        1992-06-17|    GO|   2023-02-16|  197.11.26.213|       Ciano|Atleta De Arremes...|    (031) 0803-6753|\n",
       "|398.471.625-73|felipepires@uol.c...|*Aw5EOAvy9|        1921-11-11|    MG|   2023-01-02|   181.90.63.58|        Azul|      Papiloscopista|       11 9674-0553|\n",
       "|092.618.354-06|stellamoraes@bol....|mw0AWYAs#s|        2021-06-01|    AC|   2023-01-08|  26.121.127.94|      Marrom|            Aeromoça|+55 (071) 3033 9177|\n",
       "|509.427.136-99| wcarvalho@ig.com.br|pGD%!2Pq5X|        1969-10-28|    AP|   2023-02-14|  76.184.52.163|     Laranja|       Fonoaudiólogo|+55 (071) 6272 2468|\n",
       "|218.795.460-94|da-conceicaodavi-...|uhBbFxPA&9|        1986-05-19|    MG|   2023-03-07|    192.93.0.24|        Rosa|             Taxista|   +55 84 0652 9691|\n",
       "|715.836.940-48| efreitas@bol.com.br|s#q9VZt&xl|        2018-04-20|    MG|   2023-01-13| 76.251.188.148|      Branco|Produtor De Audio...|+55 (084) 1363 0052|\n",
       "|475.698.032-56|   wnunes@bol.com.br|_8az1W%n7g|        1996-05-12|    SE|   2023-02-04|139.196.176.154|        Azul|          Cadeirinha|    (071) 1640-3388|\n",
       "|217.639.540-99| jribeiro@bol.com.br|MEf1X7fj_0|        2021-10-05|    PA|   2023-03-02|    71.22.224.5|      Marrom|             Geólogo|       21 1432 4092|\n",
       "|261.938.750-77|  murilo05@gmail.com|Te&gO7GkKs|        1917-01-05|    MT|   2023-02-21| 136.54.123.165|      Marrom|      Técnico De Som|+55 (084) 5878-3346|\n",
       "|520.831.796-68| joaquim57@ig.com.br|&2E1NY+ARc|        1912-05-25|    BA|   2023-01-25| 78.196.255.126|        Rosa|         Esteticista|       41 7914-3753|\n",
       "|413.087.526-44|alexiada-rocha@ig...|@f@!Z!2c*2|        1920-05-26|    MS|   2023-02-18|  182.61.65.201|     Laranja|        Microfonista|    (021) 3739-2944|\n",
       "|509.287.143-14|   pmendes@gmail.com|M+^XDBfe(2|        1938-03-11|    RR|   2023-01-19|  61.234.208.17| Verde Claro|              Fiscal|+55 (084) 5940-1932|\n",
       "|563.170.492-70|  renan46@bol.com.br|Rp%2pVqfe$|        1922-09-01|    PA|   2023-02-01| 122.203.83.177|Verde Escuro|        Contabilista|   +55 41 6248 5773|\n",
       "|098.712.346-78|manuelada-rosa@ho...|#hEIEOztQ3|        2013-01-10|    SE|   2023-01-07|  175.18.73.211|     Violeta| Seguidor De Compras|       51 0278 0564|\n",
       "|345.709.261-34|    usales@ig.com.br|b_8xaY$ozJ|        1992-10-16|    AM|   2023-01-05|    97.93.29.75|        Rosa|           Almirante|    (084) 8993-4521|\n",
       "|318.254.906-51|pereiranicolas@ho...|YA9I85Wb+2|        1945-11-18|    MA|   2023-01-24| 182.195.33.137|     Amarelo|   Consultor De Moda|    (084) 4591 3795|\n",
       "|610.287.453-62|cardosolivia@ig.c...|yXkDW7Ebh*|        1915-11-15|    GO|   2023-01-22| 195.194.63.184|     Laranja|            Barbeiro|   +55 61 8967-9563|\n",
       "|615.790.842-49|  brenda39@ig.com.br|XS$84Hpsnw|        1964-02-01|    RJ|   2023-02-16|  21.252.226.29|      Branco|  Promotor De Vendas|+55 (021) 4751 2004|\n",
       "|624.095.138-24|luizapeixoto@gmai...|TbKy82Kda$|        1959-02-01|    DF|   2023-02-25|  105.107.23.13|       Ciano|    Implantodontista|       84 1293 1906|\n",
       "+--------------+--------------------+----------+------------------+------+-------------+---------------+------------+--------------------+-------------------+\n",
       "only showing top 20 rows"
      ]
     },
     "execution_count": 8,
     "metadata": {},
     "output_type": "execute_result"
    }
   ],
   "source": [
    "# Carregando um arquivo PARQUET para dataframe\n",
    "df = spark.read.parquet('./DATASETS/LOGINS.parquet')\n",
    "df"
   ]
  },
  {
   "cell_type": "code",
   "execution_count": 18,
   "id": "e7dc4c33-ee93-4237-80dc-8b2bd1ff8d24",
   "metadata": {},
   "outputs": [
    {
     "data": {
      "text/html": [
       "<table border='1'>\n",
       "<tr><th>cpf</th><th>email</th><th>senha</th><th>data_de_nascimento</th><th>estado</th><th>data_cadastro</th><th>ipv4</th><th>cor_favorita</th><th>profissao</th><th>telefone</th><th>tel</th></tr>\n",
       "<tr><td>753.164.098-84</td><td>gda-paz@bol.com.br</td><td>$tNppDSO*6</td><td>1976-11-01</td><td>RS</td><td>2023-01-21</td><td>100.59.214.104</td><td>Verde Claro</td><td>Engenheiro De Aqu...</td><td>(011) 0026-5893</td><td>01100265893</td></tr>\n",
       "<tr><td>451.270.683-62</td><td>aragaoraul@hotmai...</td><td>%)_3HHJ1Fr</td><td>2012-09-13</td><td>CE</td><td>2023-01-23</td><td>19.124.37.127</td><td>Roxo</td><td>Office-Boy</td><td>(011) 0628-8361</td><td>01106288361</td></tr>\n",
       "<tr><td>950.681.743-00</td><td>eloahcastro@yahoo...</td><td>C$Wi%d2c@8</td><td>1928-11-12</td><td>SC</td><td>2023-02-03</td><td>155.64.186.104</td><td>Azul</td><td>Supervisor</td><td>(011) 0817-1787</td><td>01108171787</td></tr>\n",
       "<tr><td>452.961.783-19</td><td>jcastro@uol.com.br</td><td>6X8BDmq0E#</td><td>1917-05-27</td><td>CE</td><td>2023-02-28</td><td>148.243.207.215</td><td>Rosa</td><td>T&eacute;cnico Em &Oacute;ptica</td><td>(011) 1677 4555</td><td>01116774555</td></tr>\n",
       "<tr><td>671.520.943-06</td><td>vbarbosa@uol.com.br</td><td>@3TkbXehmo</td><td>1971-07-18</td><td>ES</td><td>2023-02-01</td><td>12.9.86.255</td><td>Preto</td><td>Barbeiro</td><td>(011) 1730-6724</td><td>01117306724</td></tr>\n",
       "<tr><td>567.918.340-48</td><td>gmoreira@gmail.com</td><td>0!017S0ZLy</td><td>1979-01-29</td><td>RO</td><td>2023-03-11</td><td>168.232.170.74</td><td>Verde Escuro</td><td>Moldador</td><td>(011) 1909 0174</td><td>01119090174</td></tr>\n",
       "<tr><td>724.308.165-71</td><td>da-conceicaoisis@...</td><td>zCw%U8Cjvi</td><td>1923-09-23</td><td>PA</td><td>2023-02-28</td><td>191.99.251.3</td><td>Laranja</td><td>Aeronauta</td><td>(011) 2033 8920</td><td>01120338920</td></tr>\n",
       "<tr><td>210.549.367-06</td><td>ana23@uol.com.br</td><td>&amp;#6ZAkAKWh</td><td>1958-04-06</td><td>AC</td><td>2023-03-09</td><td>38.117.200.190</td><td>Verde</td><td>Kite-Surfer</td><td>(011) 2149 3857</td><td>01121493857</td></tr>\n",
       "<tr><td>416.805.379-20</td><td>giovanna74@hotmai...</td><td>%4P39oUloo</td><td>1978-08-17</td><td>AL</td><td>2023-01-31</td><td>208.222.188.39</td><td>Verde Escuro</td><td>Contat&oacute;logo</td><td>(011) 2667 4246</td><td>01126674246</td></tr>\n",
       "<tr><td>354.671.029-07</td><td>pedro-henriqueda-...</td><td>K4J)83$e$f</td><td>1954-12-25</td><td>ES</td><td>2023-02-05</td><td>52.198.227.61</td><td>Violeta</td><td>Cl&iacute;nico Geral</td><td>(011) 2770 6148</td><td>01127706148</td></tr>\n",
       "<tr><td>123.694.078-40</td><td>fogacaisabelly@gm...</td><td>_1T+BCPqa*</td><td>2019-10-18</td><td>SE</td><td>2023-02-14</td><td>67.82.138.27</td><td>Azul Escuro</td><td>Inspetor</td><td>(011) 3204-2082</td><td>01132042082</td></tr>\n",
       "<tr><td>384.970.521-88</td><td>laurada-rocha@ig....</td><td>yn!@9P8u4v</td><td>1994-03-25</td><td>GO</td><td>2023-01-11</td><td>27.198.78.198</td><td>Branco</td><td>Diplomata</td><td>(011) 3464 4721</td><td>01134644721</td></tr>\n",
       "<tr><td>476.019.832-69</td><td>biancabarros@hotm...</td><td>7e09AzIa@_</td><td>1958-11-23</td><td>GO</td><td>2023-02-27</td><td>168.6.218.3</td><td>Rosa</td><td>Maquiador</td><td>(011) 3737-5266</td><td>01137375266</td></tr>\n",
       "<tr><td>612.934.750-25</td><td>ana-julia22@ig.co...</td><td>a!h84WDwhH</td><td>2013-11-11</td><td>PA</td><td>2023-01-27</td><td>140.167.91.113</td><td>Marrom</td><td>Ceramista</td><td>(011) 3883-0447</td><td>01138830447</td></tr>\n",
       "<tr><td>637.908.241-78</td><td>bryan63@hotmail.com</td><td>$p1S(oOcWT</td><td>1918-04-15</td><td>GO</td><td>2023-01-01</td><td>7.237.214.222</td><td>Ciano</td><td>Toxicologista</td><td>(011) 3987-4490</td><td>01139874490</td></tr>\n",
       "<tr><td>651.278.304-26</td><td>erick64@uol.com.br</td><td>VM9B65Ebc+</td><td>1973-01-17</td><td>BA</td><td>2023-02-09</td><td>62.164.220.163</td><td>Azul Escuro</td><td>Implantodontista</td><td>(011) 4344 1564</td><td>01143441564</td></tr>\n",
       "<tr><td>247.538.610-07</td><td>brunacastro@gmail...</td><td>&amp;%llJSSz6l</td><td>2005-05-10</td><td>RO</td><td>2023-01-21</td><td>196.68.36.53</td><td>Marrom</td><td>Consultor De Moda</td><td>(011) 4483 4953</td><td>01144834953</td></tr>\n",
       "<tr><td>738.460.251-35</td><td>da-cruzthiago@gma...</td><td>K@T68DqDPG</td><td>2010-07-27</td><td>AP</td><td>2023-02-19</td><td>180.107.33.11</td><td>Laranja</td><td>Lamboteiro</td><td>(011) 4622-2756</td><td>01146222756</td></tr>\n",
       "<tr><td>759.463.281-82</td><td>moraesisabelly@ya...</td><td>V&amp;RC!6Nql0</td><td>1927-02-04</td><td>GO</td><td>2023-01-07</td><td>109.229.251.209</td><td>Amarelo</td><td>Inspetor</td><td>(011) 5048 1645</td><td>01150481645</td></tr>\n",
       "<tr><td>479.032.851-14</td><td>xda-rocha@bol.com.br</td><td>rjP#90Za0T</td><td>2016-06-28</td><td>RO</td><td>2023-01-04</td><td>29.91.225.168</td><td>Marrom</td><td>Artista Pl&aacute;stico</td><td>(011) 5729-3625</td><td>01157293625</td></tr>\n",
       "</table>\n",
       "only showing top 20 rows\n"
      ],
      "text/plain": [
       "+--------------+--------------------+----------+------------------+------+-------------+---------------+------------+--------------------+---------------+-----------+\n",
       "|           cpf|               email|     senha|data_de_nascimento|estado|data_cadastro|           ipv4|cor_favorita|           profissao|       telefone|        tel|\n",
       "+--------------+--------------------+----------+------------------+------+-------------+---------------+------------+--------------------+---------------+-----------+\n",
       "|753.164.098-84|  gda-paz@bol.com.br|$tNppDSO*6|        1976-11-01|    RS|   2023-01-21| 100.59.214.104| Verde Claro|Engenheiro De Aqu...|(011) 0026-5893|01100265893|\n",
       "|451.270.683-62|aragaoraul@hotmai...|%)_3HHJ1Fr|        2012-09-13|    CE|   2023-01-23|  19.124.37.127|        Roxo|          Office-Boy|(011) 0628-8361|01106288361|\n",
       "|950.681.743-00|eloahcastro@yahoo...|C$Wi%d2c@8|        1928-11-12|    SC|   2023-02-03| 155.64.186.104|        Azul|          Supervisor|(011) 0817-1787|01108171787|\n",
       "|452.961.783-19|  jcastro@uol.com.br|6X8BDmq0E#|        1917-05-27|    CE|   2023-02-28|148.243.207.215|        Rosa|   Técnico Em Óptica|(011) 1677 4555|01116774555|\n",
       "|671.520.943-06| vbarbosa@uol.com.br|@3TkbXehmo|        1971-07-18|    ES|   2023-02-01|    12.9.86.255|       Preto|            Barbeiro|(011) 1730-6724|01117306724|\n",
       "|567.918.340-48|  gmoreira@gmail.com|0!017S0ZLy|        1979-01-29|    RO|   2023-03-11| 168.232.170.74|Verde Escuro|            Moldador|(011) 1909 0174|01119090174|\n",
       "|724.308.165-71|da-conceicaoisis@...|zCw%U8Cjvi|        1923-09-23|    PA|   2023-02-28|   191.99.251.3|     Laranja|           Aeronauta|(011) 2033 8920|01120338920|\n",
       "|210.549.367-06|    ana23@uol.com.br|&#6ZAkAKWh|        1958-04-06|    AC|   2023-03-09| 38.117.200.190|       Verde|         Kite-Surfer|(011) 2149 3857|01121493857|\n",
       "|416.805.379-20|giovanna74@hotmai...|%4P39oUloo|        1978-08-17|    AL|   2023-01-31| 208.222.188.39|Verde Escuro|         Contatólogo|(011) 2667 4246|01126674246|\n",
       "|354.671.029-07|pedro-henriqueda-...|K4J)83$e$f|        1954-12-25|    ES|   2023-02-05|  52.198.227.61|     Violeta|       Clínico Geral|(011) 2770 6148|01127706148|\n",
       "|123.694.078-40|fogacaisabelly@gm...|_1T+BCPqa*|        2019-10-18|    SE|   2023-02-14|   67.82.138.27| Azul Escuro|            Inspetor|(011) 3204-2082|01132042082|\n",
       "|384.970.521-88|laurada-rocha@ig....|yn!@9P8u4v|        1994-03-25|    GO|   2023-01-11|  27.198.78.198|      Branco|           Diplomata|(011) 3464 4721|01134644721|\n",
       "|476.019.832-69|biancabarros@hotm...|7e09AzIa@_|        1958-11-23|    GO|   2023-02-27|    168.6.218.3|        Rosa|           Maquiador|(011) 3737-5266|01137375266|\n",
       "|612.934.750-25|ana-julia22@ig.co...|a!h84WDwhH|        2013-11-11|    PA|   2023-01-27| 140.167.91.113|      Marrom|           Ceramista|(011) 3883-0447|01138830447|\n",
       "|637.908.241-78| bryan63@hotmail.com|$p1S(oOcWT|        1918-04-15|    GO|   2023-01-01|  7.237.214.222|       Ciano|       Toxicologista|(011) 3987-4490|01139874490|\n",
       "|651.278.304-26|  erick64@uol.com.br|VM9B65Ebc+|        1973-01-17|    BA|   2023-02-09| 62.164.220.163| Azul Escuro|    Implantodontista|(011) 4344 1564|01143441564|\n",
       "|247.538.610-07|brunacastro@gmail...|&%llJSSz6l|        2005-05-10|    RO|   2023-01-21|   196.68.36.53|      Marrom|   Consultor De Moda|(011) 4483 4953|01144834953|\n",
       "|738.460.251-35|da-cruzthiago@gma...|K@T68DqDPG|        2010-07-27|    AP|   2023-02-19|  180.107.33.11|     Laranja|          Lamboteiro|(011) 4622-2756|01146222756|\n",
       "|759.463.281-82|moraesisabelly@ya...|V&RC!6Nql0|        1927-02-04|    GO|   2023-01-07|109.229.251.209|     Amarelo|            Inspetor|(011) 5048 1645|01150481645|\n",
       "|479.032.851-14|xda-rocha@bol.com.br|rjP#90Za0T|        2016-06-28|    RO|   2023-01-04|  29.91.225.168|      Marrom|    Artista Plástico|(011) 5729-3625|01157293625|\n",
       "+--------------+--------------------+----------+------------------+------+-------------+---------------+------------+--------------------+---------------+-----------+\n",
       "only showing top 20 rows"
      ]
     },
     "execution_count": 18,
     "metadata": {},
     "output_type": "execute_result"
    }
   ],
   "source": [
    "# Tirando os espaços e caracteres não numéricos campo de telefone\n",
    "# Deixando somente números e convertendo para inteiro\n",
    "(\n",
    "    df\n",
    "    .withColumn('tel', F.regexp_replace('telefone', '\\D', ''))\n",
    "    .orderBy(F.asc_nulls_first('tel')) # Se houver nulos pode ordená-los primeiro, último, asc, desc ...\n",
    ")"
   ]
  },
  {
   "cell_type": "code",
   "execution_count": 21,
   "id": "fd5159bc-f982-42d2-b99a-7f36f1a6474a",
   "metadata": {},
   "outputs": [
    {
     "data": {
      "text/html": [
       "<table border='1'>\n",
       "<tr><th>cpf</th><th>email</th><th>senha</th><th>data_de_nascimento</th><th>estado</th><th>data_cadastro</th><th>ipv4</th><th>cor_favorita</th><th>profissao</th><th>telefone</th></tr>\n",
       "<tr><td>807.695.421-58</td><td>joao-guilhermeda-...</td><td>Z^9Og04O*(</td><td>2008-11-04</td><td>GO</td><td>2023-01-06</td><td>45.56.63.111</td><td>Roxo</td><td>Promotor De Eventos</td><td>+55 81 9388-4795</td></tr>\n",
       "<tr><td>452.670.938-74</td><td>aragaobryan@ig.co...</td><td>Rn$^4GVaLh</td><td>2006-09-09</td><td>SP</td><td>2023-01-20</td><td>62.198.106.50</td><td>Verde Escuro</td><td>Pescador</td><td>+55 (084) 0602 1499</td></tr>\n",
       "<tr><td>952.370.614-43</td><td>joao-vitornogueir...</td><td>tk^Cj4AxRm</td><td>2000-09-01</td><td>BA</td><td>2023-02-04</td><td>166.60.103.231</td><td>Azul Escuro</td><td>T&eacute;cnico Em Radiol...</td><td>41 0562 1124</td></tr>\n",
       "<tr><td>049.325.786-10</td><td>joao-felipe95@uol...</td><td>J5YOLCHc_9</td><td>2010-02-04</td><td>CE</td><td>2023-01-11</td><td>131.4.14.104</td><td>Azul</td><td>Velejador</td><td>+55 (041) 5036 9652</td></tr>\n",
       "<tr><td>605.132.974-99</td><td>silvajoao-guilher...</td><td>%jW90IfhBN</td><td>2009-05-16</td><td>SE</td><td>2023-03-06</td><td>162.179.69.184</td><td>Rosa</td><td>Arranjador Musical</td><td>31 6174 5429</td></tr>\n",
       "</table>\n"
      ],
      "text/plain": [
       "+--------------+--------------------+----------+------------------+------+-------------+--------------+------------+--------------------+-------------------+\n",
       "|           cpf|               email|     senha|data_de_nascimento|estado|data_cadastro|          ipv4|cor_favorita|           profissao|           telefone|\n",
       "+--------------+--------------------+----------+------------------+------+-------------+--------------+------------+--------------------+-------------------+\n",
       "|807.695.421-58|joao-guilhermeda-...|Z^9Og04O*(|        2008-11-04|    GO|   2023-01-06|  45.56.63.111|        Roxo| Promotor De Eventos|   +55 81 9388-4795|\n",
       "|452.670.938-74|aragaobryan@ig.co...|Rn$^4GVaLh|        2006-09-09|    SP|   2023-01-20| 62.198.106.50|Verde Escuro|            Pescador|+55 (084) 0602 1499|\n",
       "|952.370.614-43|joao-vitornogueir...|tk^Cj4AxRm|        2000-09-01|    BA|   2023-02-04|166.60.103.231| Azul Escuro|Técnico Em Radiol...|       41 0562 1124|\n",
       "|049.325.786-10|joao-felipe95@uol...|J5YOLCHc_9|        2010-02-04|    CE|   2023-01-11|  131.4.14.104|        Azul|           Velejador|+55 (041) 5036 9652|\n",
       "|605.132.974-99|silvajoao-guilher...|%jW90IfhBN|        2009-05-16|    SE|   2023-03-06|162.179.69.184|        Rosa|  Arranjador Musical|       31 6174 5429|\n",
       "+--------------+--------------------+----------+------------------+------+-------------+--------------+------------+--------------------+-------------------+"
      ]
     },
     "execution_count": 21,
     "metadata": {},
     "output_type": "execute_result"
    }
   ],
   "source": [
    "# Usando a função betweeen para pessoas que nasceram entre 2000 e 2010 inclusivo\n",
    "(\n",
    "    df\n",
    "    .where(F.year('data_de_nascimento').between(2000, 2010)) \n",
    ")"
   ]
  },
  {
   "cell_type": "code",
   "execution_count": 25,
   "id": "81ab3dde-5ffc-4882-b6a7-22f330dd965e",
   "metadata": {},
   "outputs": [
    {
     "data": {
      "text/html": [
       "<table border='1'>\n",
       "<tr><th>cpf</th><th>email</th><th>senha</th><th>data_de_nascimento</th><th>estado</th><th>data_cadastro</th><th>ipv4</th><th>cor_favorita</th><th>profissao</th><th>telefone</th></tr>\n",
       "<tr><td>807.695.421-58</td><td>joao-guilhermeda-...</td><td>Z^9Og04O*(</td><td>2008-11-04</td><td>GO</td><td>2023-01-06</td><td>45.56.63.111</td><td>Roxo</td><td>Promotor De Eventos</td><td>+55 81 9388-4795</td></tr>\n",
       "<tr><td>164.593.782-82</td><td>joao64@gmail.com</td><td>p8HSoDMn&amp;n</td><td>1950-03-20</td><td>AP</td><td>2023-02-13</td><td>209.64.45.64</td><td>Verde Escuro</td><td>Regente</td><td>+55 (081) 8127 1919</td></tr>\n",
       "<tr><td>859.730.624-65</td><td>jesusjoao-pedro@b...</td><td>e6GTOgSu&amp;x</td><td>1934-12-10</td><td>RS</td><td>2023-03-14</td><td>166.167.217.88</td><td>Azul</td><td>Especialista Em A...</td><td>(061) 5783-0665</td></tr>\n",
       "<tr><td>912.684.357-91</td><td>diasjoao-pedro@ya...</td><td>ul4MAuou_k</td><td>1940-02-02</td><td>AM</td><td>2023-02-06</td><td>22.105.98.7</td><td>Verde</td><td>Ge&oacute;grafo</td><td>71 1972 8856</td></tr>\n",
       "<tr><td>298.516.304-89</td><td>joao-pedro43@yaho...</td><td>Rh*pNaY+*2</td><td>1975-01-22</td><td>CE</td><td>2023-02-20</td><td>126.89.241.166</td><td>Branco</td><td>Levantador De Peso</td><td>+55 11 4343-6740</td></tr>\n",
       "<tr><td>765.198.320-30</td><td>joao-lucas03@uol....</td><td>%7Dj0mZt7k</td><td>2016-05-04</td><td>TO</td><td>2023-03-08</td><td>63.22.72.20</td><td>Amarelo</td><td>Dan&ccedil;arino</td><td>+55 (021) 5525-0037</td></tr>\n",
       "<tr><td>271.450.869-30</td><td>joao-miguelcostel...</td><td>s!c1x#csuK</td><td>1948-09-30</td><td>PR</td><td>2023-01-24</td><td>181.48.75.3</td><td>Branco</td><td>Corredor De Atlet...</td><td>+55 (021) 2951-1318</td></tr>\n",
       "<tr><td>732.908.614-22</td><td>joao-guilhermemor...</td><td>3P&amp;3HnbuG(</td><td>1987-04-06</td><td>PR</td><td>2023-01-01</td><td>96.60.227.194</td><td>Cinza</td><td>Especialista Em A...</td><td>71 3193 3975</td></tr>\n",
       "<tr><td>057.892.463-38</td><td>joao-lucas57@hotm...</td><td>poR)1Gvsl(</td><td>1963-11-12</td><td>MA</td><td>2023-03-04</td><td>205.187.113.174</td><td>Azul Escuro</td><td>Engenheiro De Erg...</td><td>+55 (021) 5211-8547</td></tr>\n",
       "<tr><td>726.893.105-03</td><td>da-motajoao-guilh...</td><td>#!5$OabuX7</td><td>1949-02-14</td><td>TO</td><td>2023-01-23</td><td>191.161.170.167</td><td>Ciano</td><td>B&oacute;ia-Fria</td><td>21 8070-9545</td></tr>\n",
       "<tr><td>987.620.341-03</td><td>joao-lucasmonteir...</td><td>qvVs5Mes_6</td><td>1994-08-11</td><td>TO</td><td>2023-02-12</td><td>159.110.11.162</td><td>Cinza</td><td>Florista</td><td>+55 (031) 9819 6269</td></tr>\n",
       "<tr><td>976.458.013-01</td><td>joao-lucasmelo@ya...</td><td>q*LeIlSQ_4</td><td>1974-12-17</td><td>PE</td><td>2023-01-24</td><td>185.122.134.183</td><td>Verde Escuro</td><td>Representante Com...</td><td>+55 (041) 2875 9509</td></tr>\n",
       "<tr><td>360.179.485-39</td><td>joao-gabriel42@ig...</td><td>K9W5Mcerk(</td><td>2012-12-30</td><td>CE</td><td>2023-02-11</td><td>64.227.160.247</td><td>Amarelo</td><td>Nefrologista</td><td>21 2369 3996</td></tr>\n",
       "<tr><td>086.953.214-60</td><td>joao-lucas22@uol....</td><td>Y&amp;78NJxo@0</td><td>1976-05-08</td><td>MG</td><td>2023-03-15</td><td>171.146.130.206</td><td>Verde</td><td>Agr&ocirc;nomo</td><td>+55 (031) 0516-8712</td></tr>\n",
       "<tr><td>436.897.520-00</td><td>melojoao-miguel@h...</td><td>uS#g7HHb#_</td><td>1954-11-07</td><td>AP</td><td>2023-01-11</td><td>113.133.224.127</td><td>Verde Escuro</td><td>Assistente De C&acirc;mera</td><td>+55 (011) 0749 6855</td></tr>\n",
       "<tr><td>923.671.450-16</td><td>joao-felipe08@bol...</td><td>$CO(8ScnTc</td><td>1951-09-23</td><td>MS</td><td>2023-03-11</td><td>116.89.21.87</td><td>Ciano</td><td>Chaveiro</td><td>51 1961 4207</td></tr>\n",
       "<tr><td>902.674.815-94</td><td>joao-pedro29@ig.c...</td><td>O4X#3GBm#5</td><td>2014-04-05</td><td>SP</td><td>2023-03-01</td><td>187.145.237.38</td><td>Preto</td><td>Cancerologista Ou...</td><td>0300-060-1608</td></tr>\n",
       "<tr><td>952.370.614-43</td><td>joao-vitornogueir...</td><td>tk^Cj4AxRm</td><td>2000-09-01</td><td>BA</td><td>2023-02-04</td><td>166.60.103.231</td><td>Azul Escuro</td><td>T&eacute;cnico Em Radiol...</td><td>41 0562 1124</td></tr>\n",
       "<tr><td>529.710.364-99</td><td>joao-felipe50@hot...</td><td>!Fy8Vzkz+^</td><td>1921-05-05</td><td>RN</td><td>2023-02-05</td><td>19.91.156.175</td><td>Branco</td><td>Jogador De T&ecirc;nis ...</td><td>+55 (021) 1518 8696</td></tr>\n",
       "<tr><td>089.526.413-70</td><td>joao-miguelmoraes...</td><td>^vM*sNOQ9S</td><td>1942-08-12</td><td>ES</td><td>2023-01-29</td><td>154.22.214.79</td><td>Preto</td><td>Chaveiro</td><td>0500-797-2939</td></tr>\n",
       "</table>\n",
       "only showing top 20 rows\n"
      ],
      "text/plain": [
       "+--------------+--------------------+----------+------------------+------+-------------+---------------+------------+--------------------+-------------------+\n",
       "|           cpf|               email|     senha|data_de_nascimento|estado|data_cadastro|           ipv4|cor_favorita|           profissao|           telefone|\n",
       "+--------------+--------------------+----------+------------------+------+-------------+---------------+------------+--------------------+-------------------+\n",
       "|807.695.421-58|joao-guilhermeda-...|Z^9Og04O*(|        2008-11-04|    GO|   2023-01-06|   45.56.63.111|        Roxo| Promotor De Eventos|   +55 81 9388-4795|\n",
       "|164.593.782-82|    joao64@gmail.com|p8HSoDMn&n|        1950-03-20|    AP|   2023-02-13|   209.64.45.64|Verde Escuro|             Regente|+55 (081) 8127 1919|\n",
       "|859.730.624-65|jesusjoao-pedro@b...|e6GTOgSu&x|        1934-12-10|    RS|   2023-03-14| 166.167.217.88|        Azul|Especialista Em A...|    (061) 5783-0665|\n",
       "|912.684.357-91|diasjoao-pedro@ya...|ul4MAuou_k|        1940-02-02|    AM|   2023-02-06|    22.105.98.7|       Verde|            Geógrafo|       71 1972 8856|\n",
       "|298.516.304-89|joao-pedro43@yaho...|Rh*pNaY+*2|        1975-01-22|    CE|   2023-02-20| 126.89.241.166|      Branco|  Levantador De Peso|   +55 11 4343-6740|\n",
       "|765.198.320-30|joao-lucas03@uol....|%7Dj0mZt7k|        2016-05-04|    TO|   2023-03-08|    63.22.72.20|     Amarelo|           Dançarino|+55 (021) 5525-0037|\n",
       "|271.450.869-30|joao-miguelcostel...|s!c1x#csuK|        1948-09-30|    PR|   2023-01-24|    181.48.75.3|      Branco|Corredor De Atlet...|+55 (021) 2951-1318|\n",
       "|732.908.614-22|joao-guilhermemor...|3P&3HnbuG(|        1987-04-06|    PR|   2023-01-01|  96.60.227.194|       Cinza|Especialista Em A...|       71 3193 3975|\n",
       "|057.892.463-38|joao-lucas57@hotm...|poR)1Gvsl(|        1963-11-12|    MA|   2023-03-04|205.187.113.174| Azul Escuro|Engenheiro De Erg...|+55 (021) 5211-8547|\n",
       "|726.893.105-03|da-motajoao-guilh...|#!5$OabuX7|        1949-02-14|    TO|   2023-01-23|191.161.170.167|       Ciano|           Bóia-Fria|       21 8070-9545|\n",
       "|987.620.341-03|joao-lucasmonteir...|qvVs5Mes_6|        1994-08-11|    TO|   2023-02-12| 159.110.11.162|       Cinza|            Florista|+55 (031) 9819 6269|\n",
       "|976.458.013-01|joao-lucasmelo@ya...|q*LeIlSQ_4|        1974-12-17|    PE|   2023-01-24|185.122.134.183|Verde Escuro|Representante Com...|+55 (041) 2875 9509|\n",
       "|360.179.485-39|joao-gabriel42@ig...|K9W5Mcerk(|        2012-12-30|    CE|   2023-02-11| 64.227.160.247|     Amarelo|        Nefrologista|       21 2369 3996|\n",
       "|086.953.214-60|joao-lucas22@uol....|Y&78NJxo@0|        1976-05-08|    MG|   2023-03-15|171.146.130.206|       Verde|            Agrônomo|+55 (031) 0516-8712|\n",
       "|436.897.520-00|melojoao-miguel@h...|uS#g7HHb#_|        1954-11-07|    AP|   2023-01-11|113.133.224.127|Verde Escuro|Assistente De Câmera|+55 (011) 0749 6855|\n",
       "|923.671.450-16|joao-felipe08@bol...|$CO(8ScnTc|        1951-09-23|    MS|   2023-03-11|   116.89.21.87|       Ciano|            Chaveiro|       51 1961 4207|\n",
       "|902.674.815-94|joao-pedro29@ig.c...|O4X#3GBm#5|        2014-04-05|    SP|   2023-03-01| 187.145.237.38|       Preto|Cancerologista Ou...|      0300-060-1608|\n",
       "|952.370.614-43|joao-vitornogueir...|tk^Cj4AxRm|        2000-09-01|    BA|   2023-02-04| 166.60.103.231| Azul Escuro|Técnico Em Radiol...|       41 0562 1124|\n",
       "|529.710.364-99|joao-felipe50@hot...|!Fy8Vzkz+^|        1921-05-05|    RN|   2023-02-05|  19.91.156.175|      Branco|Jogador De Tênis ...|+55 (021) 1518 8696|\n",
       "|089.526.413-70|joao-miguelmoraes...|^vM*sNOQ9S|        1942-08-12|    ES|   2023-01-29|  154.22.214.79|       Preto|            Chaveiro|      0500-797-2939|\n",
       "+--------------+--------------------+----------+------------------+------+-------------+---------------+------------+--------------------+-------------------+\n",
       "only showing top 20 rows"
      ]
     },
     "execution_count": 25,
     "metadata": {},
     "output_type": "execute_result"
    }
   ],
   "source": [
    "# Filtrando todos quem tem 'joao' em algum lugar do email\n",
    "(\n",
    "    df\n",
    "    .where(F.col('email').contains('joao'))\n",
    ")"
   ]
  },
  {
   "cell_type": "code",
   "execution_count": 30,
   "id": "193df4ab-1c82-4018-8e71-bb35b1533428",
   "metadata": {},
   "outputs": [
    {
     "data": {
      "text/html": [
       "<table border='1'>\n",
       "<tr><th>cpf</th><th>email</th><th>senha</th><th>data_de_nascimento</th><th>estado</th><th>data_cadastro</th><th>ipv4</th><th>cor_favorita</th><th>profissao</th><th>telefone</th></tr>\n",
       "<tr><td>413.087.526-44</td><td>alexiada-rocha@ig...</td><td>@f@!Z!2c*2</td><td>1920-05-26</td><td>MS</td><td>2023-02-18</td><td>182.61.65.201</td><td>Laranja</td><td>Microfonista</td><td>(021) 3739-2944</td></tr>\n",
       "<tr><td>210.549.367-06</td><td>ana23@uol.com.br</td><td>&amp;#6ZAkAKWh</td><td>1958-04-06</td><td>AC</td><td>2023-03-09</td><td>38.117.200.190</td><td>Verde</td><td>Kite-Surfer</td><td>(011) 2149 3857</td></tr>\n",
       "<tr><td>518.490.623-15</td><td>ana08@yahoo.com.br</td><td>Dg9epjTlI)</td><td>2003-10-20</td><td>PB</td><td>2023-02-02</td><td>104.37.135.232</td><td>Marrom</td><td>Skatista</td><td>+55 (021) 4307 4419</td></tr>\n",
       "<tr><td>891.603.475-20</td><td>araujoelisa@ig.co...</td><td>7I&amp;8CYyU5Y</td><td>1958-01-03</td><td>MS</td><td>2023-02-17</td><td>39.216.170.1</td><td>Verde Escuro</td><td>Jogador De Futebol</td><td>71 8049-1602</td></tr>\n",
       "<tr><td>517.264.980-85</td><td>ana-sophiajesus@b...</td><td>w9jTwVpj_r</td><td>2018-01-04</td><td>GO</td><td>2023-01-10</td><td>163.253.182.70</td><td>Amarelo</td><td>Jogador De Boliche</td><td>0800-940-3789</td></tr>\n",
       "<tr><td>965.134.708-20</td><td>apires@bol.com.br</td><td>_3Wg*UTZPK</td><td>1931-06-27</td><td>CE</td><td>2023-03-12</td><td>171.143.246.230</td><td>Cinza</td><td>Analista De Sistemas</td><td>71 1719-4863</td></tr>\n",
       "<tr><td>495.068.172-94</td><td>alana94@bol.com.br</td><td>IfV2bMYl(*</td><td>1930-06-26</td><td>ES</td><td>2023-03-04</td><td>32.46.82.32</td><td>Marrom</td><td>Catador De Materi...</td><td>11 7683-1500</td></tr>\n",
       "<tr><td>026.358.719-30</td><td>alexiasilva@yahoo...</td><td>#aMFx)3wI1</td><td>1940-09-13</td><td>RO</td><td>2023-02-22</td><td>52.91.52.76</td><td>Azul</td><td>Baixista</td><td>(061) 3231-7250</td></tr>\n",
       "<tr><td>360.785.294-47</td><td>araujoluna@bol.co...</td><td>_%HD@txu5W</td><td>1939-11-09</td><td>DF</td><td>2023-03-07</td><td>167.91.9.69</td><td>Violeta</td><td>Piloto Automobil&iacute;...</td><td>+55 (051) 2876 0562</td></tr>\n",
       "<tr><td>704.391.285-79</td><td>alexia76@bol.com.br</td><td>@8(aMEorP_</td><td>1996-01-21</td><td>MA</td><td>2023-02-24</td><td>108.191.88.153</td><td>Verde Claro</td><td>Sacoleira</td><td>+55 (051) 1760 8904</td></tr>\n",
       "<tr><td>843.912.506-24</td><td>ana-vitoria49@uol...</td><td>%Vyd!Hbx4W</td><td>1946-05-31</td><td>RS</td><td>2023-02-12</td><td>207.103.16.202</td><td>Verde Claro</td><td>Ginasta R&iacute;tmica</td><td>+55 31 7335 7734</td></tr>\n",
       "<tr><td>369.428.075-83</td><td>azevedopietra@bol...</td><td>8Zx6Nk6i&amp;J</td><td>1984-05-26</td><td>PI</td><td>2023-02-24</td><td>75.196.127.229</td><td>Verde Claro</td><td>Perito Judicial</td><td>71 9391-4822</td></tr>\n",
       "<tr><td>172.906.543-07</td><td>augusto57@bol.com.br</td><td>7@6JPe14MH</td><td>1951-02-09</td><td>BA</td><td>2023-02-12</td><td>99.200.54.12</td><td>Marrom</td><td>Escultor</td><td>(021) 1067-3969</td></tr>\n",
       "<tr><td>734.825.106-44</td><td>agatha76@bol.com.br</td><td>*VHMNZa4&amp;9</td><td>1919-05-27</td><td>PE</td><td>2023-01-05</td><td>222.173.123.246</td><td>Magenta</td><td>Assistente Social</td><td>+55 (021) 8031-1835</td></tr>\n",
       "<tr><td>631.524.890-05</td><td>alicia95@ig.com.br</td><td>ySH4*YDv#i</td><td>1985-04-13</td><td>MS</td><td>2023-03-09</td><td>35.69.58.7</td><td>Ciano</td><td>Dublador</td><td>+55 71 2435-3716</td></tr>\n",
       "<tr><td>350.182.697-40</td><td>anaaragao@ig.com.br</td><td>#g9UBLrjcF</td><td>1939-12-05</td><td>BA</td><td>2023-03-05</td><td>160.58.219.7</td><td>Verde</td><td>Engenheiro De Tra...</td><td>+55 (041) 7375-5115</td></tr>\n",
       "<tr><td>160.978.432-40</td><td>ana-vitoria78@uol...</td><td>%GMmHvqp$4</td><td>1982-06-19</td><td>RS</td><td>2023-01-31</td><td>44.113.169.53</td><td>Ciano</td><td>Tabeli&atilde;o</td><td>71 7405-6227</td></tr>\n",
       "<tr><td>813.495.062-06</td><td>araujoevelyn@yaho...</td><td>BKCkUtZK_6</td><td>2008-08-11</td><td>DF</td><td>2023-01-11</td><td>166.49.84.74</td><td>Branco</td><td>L&iacute;der Comunit&aacute;rio</td><td>0500-250-3164</td></tr>\n",
       "<tr><td>706.135.948-00</td><td>ana-vitoriafernan...</td><td>ye!oooXy$0</td><td>1935-05-09</td><td>MG</td><td>2023-02-11</td><td>103.28.141.203</td><td>Amarelo</td><td>Cientista De Alim...</td><td>71 0827-8838</td></tr>\n",
       "<tr><td>753.169.082-95</td><td>ana-vitoriada-luz...</td><td>!1(THuZ&amp;)0</td><td>1939-10-04</td><td>TO</td><td>2023-01-26</td><td>2.119.226.146</td><td>Azul Escuro</td><td>Arranjador Musical</td><td>+55 (051) 2523-7338</td></tr>\n",
       "</table>\n",
       "only showing top 20 rows\n"
      ],
      "text/plain": [
       "+--------------+--------------------+----------+------------------+------+-------------+---------------+------------+--------------------+-------------------+\n",
       "|           cpf|               email|     senha|data_de_nascimento|estado|data_cadastro|           ipv4|cor_favorita|           profissao|           telefone|\n",
       "+--------------+--------------------+----------+------------------+------+-------------+---------------+------------+--------------------+-------------------+\n",
       "|413.087.526-44|alexiada-rocha@ig...|@f@!Z!2c*2|        1920-05-26|    MS|   2023-02-18|  182.61.65.201|     Laranja|        Microfonista|    (021) 3739-2944|\n",
       "|210.549.367-06|    ana23@uol.com.br|&#6ZAkAKWh|        1958-04-06|    AC|   2023-03-09| 38.117.200.190|       Verde|         Kite-Surfer|    (011) 2149 3857|\n",
       "|518.490.623-15|  ana08@yahoo.com.br|Dg9epjTlI)|        2003-10-20|    PB|   2023-02-02| 104.37.135.232|      Marrom|            Skatista|+55 (021) 4307 4419|\n",
       "|891.603.475-20|araujoelisa@ig.co...|7I&8CYyU5Y|        1958-01-03|    MS|   2023-02-17|   39.216.170.1|Verde Escuro|  Jogador De Futebol|       71 8049-1602|\n",
       "|517.264.980-85|ana-sophiajesus@b...|w9jTwVpj_r|        2018-01-04|    GO|   2023-01-10| 163.253.182.70|     Amarelo|  Jogador De Boliche|      0800-940-3789|\n",
       "|965.134.708-20|   apires@bol.com.br|_3Wg*UTZPK|        1931-06-27|    CE|   2023-03-12|171.143.246.230|       Cinza|Analista De Sistemas|       71 1719-4863|\n",
       "|495.068.172-94|  alana94@bol.com.br|IfV2bMYl(*|        1930-06-26|    ES|   2023-03-04|    32.46.82.32|      Marrom|Catador De Materi...|       11 7683-1500|\n",
       "|026.358.719-30|alexiasilva@yahoo...|#aMFx)3wI1|        1940-09-13|    RO|   2023-02-22|    52.91.52.76|        Azul|            Baixista|    (061) 3231-7250|\n",
       "|360.785.294-47|araujoluna@bol.co...|_%HD@txu5W|        1939-11-09|    DF|   2023-03-07|    167.91.9.69|     Violeta|Piloto Automobilí...|+55 (051) 2876 0562|\n",
       "|704.391.285-79| alexia76@bol.com.br|@8(aMEorP_|        1996-01-21|    MA|   2023-02-24| 108.191.88.153| Verde Claro|           Sacoleira|+55 (051) 1760 8904|\n",
       "|843.912.506-24|ana-vitoria49@uol...|%Vyd!Hbx4W|        1946-05-31|    RS|   2023-02-12| 207.103.16.202| Verde Claro|     Ginasta Rítmica|   +55 31 7335 7734|\n",
       "|369.428.075-83|azevedopietra@bol...|8Zx6Nk6i&J|        1984-05-26|    PI|   2023-02-24| 75.196.127.229| Verde Claro|     Perito Judicial|       71 9391-4822|\n",
       "|172.906.543-07|augusto57@bol.com.br|7@6JPe14MH|        1951-02-09|    BA|   2023-02-12|   99.200.54.12|      Marrom|            Escultor|    (021) 1067-3969|\n",
       "|734.825.106-44| agatha76@bol.com.br|*VHMNZa4&9|        1919-05-27|    PE|   2023-01-05|222.173.123.246|     Magenta|   Assistente Social|+55 (021) 8031-1835|\n",
       "|631.524.890-05|  alicia95@ig.com.br|ySH4*YDv#i|        1985-04-13|    MS|   2023-03-09|     35.69.58.7|       Ciano|            Dublador|   +55 71 2435-3716|\n",
       "|350.182.697-40| anaaragao@ig.com.br|#g9UBLrjcF|        1939-12-05|    BA|   2023-03-05|   160.58.219.7|       Verde|Engenheiro De Tra...|+55 (041) 7375-5115|\n",
       "|160.978.432-40|ana-vitoria78@uol...|%GMmHvqp$4|        1982-06-19|    RS|   2023-01-31|  44.113.169.53|       Ciano|            Tabelião|       71 7405-6227|\n",
       "|813.495.062-06|araujoevelyn@yaho...|BKCkUtZK_6|        2008-08-11|    DF|   2023-01-11|   166.49.84.74|      Branco|   Líder Comunitário|      0500-250-3164|\n",
       "|706.135.948-00|ana-vitoriafernan...|ye!oooXy$0|        1935-05-09|    MG|   2023-02-11| 103.28.141.203|     Amarelo|Cientista De Alim...|       71 0827-8838|\n",
       "|753.169.082-95|ana-vitoriada-luz...|!1(THuZ&)0|        1939-10-04|    TO|   2023-01-26|  2.119.226.146| Azul Escuro|  Arranjador Musical|+55 (051) 2523-7338|\n",
       "+--------------+--------------------+----------+------------------+------+-------------+---------------+------------+--------------------+-------------------+\n",
       "only showing top 20 rows"
      ]
     },
     "execution_count": 30,
     "metadata": {},
     "output_type": "execute_result"
    }
   ],
   "source": [
    "# Filtrando todos emails que começam com 'a' e terminam com '.br'\n",
    "(\n",
    "    df\n",
    "    .where(F.col('email').endswith('.br'))\n",
    "    .where(F.col('email').startswith('a'))\n",
    ")"
   ]
  }
 ],
 "metadata": {
  "kernelspec": {
   "display_name": "Python 3 (ipykernel)",
   "language": "python",
   "name": "python3"
  },
  "language_info": {
   "codemirror_mode": {
    "name": "ipython",
    "version": 3
   },
   "file_extension": ".py",
   "mimetype": "text/x-python",
   "name": "python",
   "nbconvert_exporter": "python",
   "pygments_lexer": "ipython3",
   "version": "3.11.5"
  }
 },
 "nbformat": 4,
 "nbformat_minor": 5
}
