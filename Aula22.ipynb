{
 "cells": [
  {
   "cell_type": "code",
   "execution_count": 1,
   "id": "9d35a332-e77d-452b-b498-96ceb6a55c30",
   "metadata": {},
   "outputs": [],
   "source": [
    "# Importando as bibliotecas utilizadas\n",
    "from pyspark.sql import SparkSession\n",
    "import pyspark.sql.functions as F"
   ]
  },
  {
   "cell_type": "code",
   "execution_count": 3,
   "id": "625fa924-96c4-4e56-93e6-f01b745c9375",
   "metadata": {},
   "outputs": [],
   "source": [
    "# Criando a sessão, nomeando e configurando para mostrar tabela do tipo pandas \n",
    "spark = (\n",
    "    SparkSession.builder\n",
    "    .appName('PySpark - Simulado')\n",
    "    .config('spark.sql.repl.eagerEval.enabled', True)\n",
    "    .getOrCreate()\n",
    ")"
   ]
  },
  {
   "cell_type": "code",
   "execution_count": 106,
   "id": "df489d01-0f7b-4d27-9f7d-cb7e4919555d",
   "metadata": {},
   "outputs": [],
   "source": [
    "# Carregando os arquivos\n",
    "titanic = spark.read.csv('./datasets/titanic/train.csv', header=True)\n",
    "mall = spark.read.csv('./datasets/Mall_Customers.csv', header=True)"
   ]
  },
  {
   "cell_type": "code",
   "execution_count": 35,
   "id": "fd5159bc-f982-42d2-b99a-7f36f1a6474a",
   "metadata": {},
   "outputs": [
    {
     "data": {
      "text/html": [
       "<table border='1'>\n",
       "<tr><th>PassengerId</th><th>Survived</th><th>Pclass</th><th>Name</th><th>Sex</th><th>Age</th><th>SibSp</th><th>Parch</th><th>Ticket</th><th>Fare</th><th>Cabin</th><th>Embarked</th></tr>\n",
       "<tr><td>1</td><td>0</td><td>3</td><td>Braund, Mr. Owen ...</td><td>male</td><td>22</td><td>1</td><td>0</td><td>A/5 21171</td><td>7.25</td><td>NULL</td><td>S</td></tr>\n",
       "<tr><td>2</td><td>1</td><td>1</td><td>Cumings, Mrs. Joh...</td><td>female</td><td>38</td><td>1</td><td>0</td><td>PC 17599</td><td>71.2833</td><td>C85</td><td>C</td></tr>\n",
       "<tr><td>3</td><td>1</td><td>3</td><td>Heikkinen, Miss. ...</td><td>female</td><td>26</td><td>0</td><td>0</td><td>STON/O2. 3101282</td><td>7.925</td><td>NULL</td><td>S</td></tr>\n",
       "<tr><td>4</td><td>1</td><td>1</td><td>Futrelle, Mrs. Ja...</td><td>female</td><td>35</td><td>1</td><td>0</td><td>113803</td><td>53.1</td><td>C123</td><td>S</td></tr>\n",
       "<tr><td>5</td><td>0</td><td>3</td><td>Allen, Mr. Willia...</td><td>male</td><td>35</td><td>0</td><td>0</td><td>373450</td><td>8.05</td><td>NULL</td><td>S</td></tr>\n",
       "<tr><td>6</td><td>0</td><td>3</td><td>Moran, Mr. James</td><td>male</td><td>NULL</td><td>0</td><td>0</td><td>330877</td><td>8.4583</td><td>NULL</td><td>Q</td></tr>\n",
       "<tr><td>7</td><td>0</td><td>1</td><td>McCarthy, Mr. Tim...</td><td>male</td><td>54</td><td>0</td><td>0</td><td>17463</td><td>51.8625</td><td>E46</td><td>S</td></tr>\n",
       "<tr><td>8</td><td>0</td><td>3</td><td>Palsson, Master. ...</td><td>male</td><td>2</td><td>3</td><td>1</td><td>349909</td><td>21.075</td><td>NULL</td><td>S</td></tr>\n",
       "<tr><td>9</td><td>1</td><td>3</td><td>Johnson, Mrs. Osc...</td><td>female</td><td>27</td><td>0</td><td>2</td><td>347742</td><td>11.1333</td><td>NULL</td><td>S</td></tr>\n",
       "<tr><td>10</td><td>1</td><td>2</td><td>Nasser, Mrs. Nich...</td><td>female</td><td>14</td><td>1</td><td>0</td><td>237736</td><td>30.0708</td><td>NULL</td><td>C</td></tr>\n",
       "<tr><td>11</td><td>1</td><td>3</td><td>Sandstrom, Miss. ...</td><td>female</td><td>4</td><td>1</td><td>1</td><td>PP 9549</td><td>16.7</td><td>G6</td><td>S</td></tr>\n",
       "<tr><td>12</td><td>1</td><td>1</td><td>Bonnell, Miss. El...</td><td>female</td><td>58</td><td>0</td><td>0</td><td>113783</td><td>26.55</td><td>C103</td><td>S</td></tr>\n",
       "<tr><td>13</td><td>0</td><td>3</td><td>Saundercock, Mr. ...</td><td>male</td><td>20</td><td>0</td><td>0</td><td>A/5. 2151</td><td>8.05</td><td>NULL</td><td>S</td></tr>\n",
       "<tr><td>14</td><td>0</td><td>3</td><td>Andersson, Mr. An...</td><td>male</td><td>39</td><td>1</td><td>5</td><td>347082</td><td>31.275</td><td>NULL</td><td>S</td></tr>\n",
       "<tr><td>15</td><td>0</td><td>3</td><td>Vestrom, Miss. Hu...</td><td>female</td><td>14</td><td>0</td><td>0</td><td>350406</td><td>7.8542</td><td>NULL</td><td>S</td></tr>\n",
       "<tr><td>16</td><td>1</td><td>2</td><td>Hewlett, Mrs. (Ma...</td><td>female</td><td>55</td><td>0</td><td>0</td><td>248706</td><td>16</td><td>NULL</td><td>S</td></tr>\n",
       "<tr><td>17</td><td>0</td><td>3</td><td>Rice, Master. Eugene</td><td>male</td><td>2</td><td>4</td><td>1</td><td>382652</td><td>29.125</td><td>NULL</td><td>Q</td></tr>\n",
       "<tr><td>18</td><td>1</td><td>2</td><td>Williams, Mr. Cha...</td><td>male</td><td>NULL</td><td>0</td><td>0</td><td>244373</td><td>13</td><td>NULL</td><td>S</td></tr>\n",
       "<tr><td>19</td><td>0</td><td>3</td><td>Vander Planke, Mr...</td><td>female</td><td>31</td><td>1</td><td>0</td><td>345763</td><td>18</td><td>NULL</td><td>S</td></tr>\n",
       "<tr><td>20</td><td>1</td><td>3</td><td>Masselmani, Mrs. ...</td><td>female</td><td>NULL</td><td>0</td><td>0</td><td>2649</td><td>7.225</td><td>NULL</td><td>C</td></tr>\n",
       "</table>\n",
       "only showing top 20 rows\n"
      ],
      "text/plain": [
       "+-----------+--------+------+--------------------+------+----+-----+-----+----------------+-------+-----+--------+\n",
       "|PassengerId|Survived|Pclass|                Name|   Sex| Age|SibSp|Parch|          Ticket|   Fare|Cabin|Embarked|\n",
       "+-----------+--------+------+--------------------+------+----+-----+-----+----------------+-------+-----+--------+\n",
       "|          1|       0|     3|Braund, Mr. Owen ...|  male|  22|    1|    0|       A/5 21171|   7.25| NULL|       S|\n",
       "|          2|       1|     1|Cumings, Mrs. Joh...|female|  38|    1|    0|        PC 17599|71.2833|  C85|       C|\n",
       "|          3|       1|     3|Heikkinen, Miss. ...|female|  26|    0|    0|STON/O2. 3101282|  7.925| NULL|       S|\n",
       "|          4|       1|     1|Futrelle, Mrs. Ja...|female|  35|    1|    0|          113803|   53.1| C123|       S|\n",
       "|          5|       0|     3|Allen, Mr. Willia...|  male|  35|    0|    0|          373450|   8.05| NULL|       S|\n",
       "|          6|       0|     3|    Moran, Mr. James|  male|NULL|    0|    0|          330877| 8.4583| NULL|       Q|\n",
       "|          7|       0|     1|McCarthy, Mr. Tim...|  male|  54|    0|    0|           17463|51.8625|  E46|       S|\n",
       "|          8|       0|     3|Palsson, Master. ...|  male|   2|    3|    1|          349909| 21.075| NULL|       S|\n",
       "|          9|       1|     3|Johnson, Mrs. Osc...|female|  27|    0|    2|          347742|11.1333| NULL|       S|\n",
       "|         10|       1|     2|Nasser, Mrs. Nich...|female|  14|    1|    0|          237736|30.0708| NULL|       C|\n",
       "|         11|       1|     3|Sandstrom, Miss. ...|female|   4|    1|    1|         PP 9549|   16.7|   G6|       S|\n",
       "|         12|       1|     1|Bonnell, Miss. El...|female|  58|    0|    0|          113783|  26.55| C103|       S|\n",
       "|         13|       0|     3|Saundercock, Mr. ...|  male|  20|    0|    0|       A/5. 2151|   8.05| NULL|       S|\n",
       "|         14|       0|     3|Andersson, Mr. An...|  male|  39|    1|    5|          347082| 31.275| NULL|       S|\n",
       "|         15|       0|     3|Vestrom, Miss. Hu...|female|  14|    0|    0|          350406| 7.8542| NULL|       S|\n",
       "|         16|       1|     2|Hewlett, Mrs. (Ma...|female|  55|    0|    0|          248706|     16| NULL|       S|\n",
       "|         17|       0|     3|Rice, Master. Eugene|  male|   2|    4|    1|          382652| 29.125| NULL|       Q|\n",
       "|         18|       1|     2|Williams, Mr. Cha...|  male|NULL|    0|    0|          244373|     13| NULL|       S|\n",
       "|         19|       0|     3|Vander Planke, Mr...|female|  31|    1|    0|          345763|     18| NULL|       S|\n",
       "|         20|       1|     3|Masselmani, Mrs. ...|female|NULL|    0|    0|            2649|  7.225| NULL|       C|\n",
       "+-----------+--------+------+--------------------+------+----+-----+-----+----------------+-------+-----+--------+\n",
       "only showing top 20 rows"
      ]
     },
     "execution_count": 35,
     "metadata": {},
     "output_type": "execute_result"
    }
   ],
   "source": [
    "titanic"
   ]
  },
  {
   "cell_type": "code",
   "execution_count": 107,
   "id": "193df4ab-1c82-4018-8e71-bb35b1533428",
   "metadata": {},
   "outputs": [
    {
     "data": {
      "text/plain": [
       "38.38383838383838"
      ]
     },
     "execution_count": 107,
     "metadata": {},
     "output_type": "execute_result"
    }
   ],
   "source": [
    "# Qual a proporção de sobreviventes em relação ao total de passageiros a bordo do Titanic? \n",
    "sobreviventes = titanic.where(titanic.Survived == 1).count()\n",
    "total_passageiros = titanic.count()\n",
    "sobreviventes / total_passageiros * 100"
   ]
  },
  {
   "cell_type": "code",
   "execution_count": 91,
   "id": "231b85d6-f7b9-41d5-b414-48833dbf594c",
   "metadata": {},
   "outputs": [
    {
     "data": {
      "text/plain": [
       "30.62617924528302"
      ]
     },
     "execution_count": 91,
     "metadata": {},
     "output_type": "execute_result"
    }
   ],
   "source": [
    "# Qual a média de idade dos passageiros que não sobreviveram?\n",
    "titanic.where(titanic.Survived == 0).agg(F.avg(titanic.Age)).collect()[0][0]"
   ]
  },
  {
   "cell_type": "code",
   "execution_count": 104,
   "id": "9949b63b-0389-4225-9dad-24ea7a18a9f0",
   "metadata": {},
   "outputs": [
    {
     "data": {
      "text/plain": [
       "119"
      ]
     },
     "execution_count": 104,
     "metadata": {},
     "output_type": "execute_result"
    }
   ],
   "source": [
    "# Quantos passageiros da terceira classe sobreviveram ao naufrágio?\n",
    "qtd_3classe_subrev = titanic.where((titanic.Pclass == 3) & (titanic.Survived == 1)).count()\n",
    "qtd_3classe_subrev"
   ]
  },
  {
   "cell_type": "code",
   "execution_count": 89,
   "id": "d2f246cb-e747-4079-896b-14d76d17e8df",
   "metadata": {},
   "outputs": [
    {
     "data": {
      "text/plain": [
       "74.20382165605095"
      ]
     },
     "execution_count": 89,
     "metadata": {},
     "output_type": "execute_result"
    }
   ],
   "source": [
    "# Qual a porcentagem de mulheres sobreviventes em relação ao total de mulheres a bordo do Titanic?\n",
    "total_mulheres = titanic.where(titanic.Sex == 'female').count()\n",
    "mulheres_sobreviventes = titanic.where((titanic.Sex == 'female') & (titanic.Survived == 1)).count()\n",
    "mulheres_sobreviventes / total_mulheres * 100"
   ]
  },
  {
   "cell_type": "code",
   "execution_count": 113,
   "id": "e8d6064d-baaa-4c51-9941-d38f9d9da11e",
   "metadata": {},
   "outputs": [
    {
     "data": {
      "text/plain": [
       "48.39540760233917"
      ]
     },
     "execution_count": 113,
     "metadata": {},
     "output_type": "execute_result"
    }
   ],
   "source": [
    "# Qual foi o preço médio da passagem dos passageiros que sobreviveram ao naufrágio?\n",
    "titanic.where(titanic.Survived == 1).agg(F.avg('Fare')).collect()[0][0]"
   ]
  },
  {
   "cell_type": "code",
   "execution_count": 108,
   "id": "be8c8856-e902-4146-80b8-85dd1d89f546",
   "metadata": {},
   "outputs": [
    {
     "data": {
      "text/plain": [
       "891"
      ]
     },
     "execution_count": 108,
     "metadata": {},
     "output_type": "execute_result"
    }
   ],
   "source": [
    "# Qual a quantidade de passageiros que embarcaram no Titanic? \n",
    "total_passageiros"
   ]
  },
  {
   "cell_type": "code",
   "execution_count": 109,
   "id": "6afbc253-26ff-4ba3-9104-f76f63673a78",
   "metadata": {},
   "outputs": [
    {
     "data": {
      "text/plain": [
       "64.75869809203144"
      ]
     },
     "execution_count": 109,
     "metadata": {},
     "output_type": "execute_result"
    }
   ],
   "source": [
    "# Qual a proporção de passageiros do sexo masculino em relação ao total de passageiros?\n",
    "homens = titanic.where((titanic.Sex == 'male')).count()\n",
    "homens / total_passageiros * 100"
   ]
  },
  {
   "cell_type": "code",
   "execution_count": 110,
   "id": "55571205-a753-4acc-8b50-b84e289d1fa2",
   "metadata": {},
   "outputs": [
    {
     "data": {
      "text/plain": [
       "13.35578002244669"
      ]
     },
     "execution_count": 110,
     "metadata": {},
     "output_type": "execute_result"
    }
   ],
   "source": [
    "# Qual a proporção de passageiros da terceira classe que sobreviveram?\n",
    "qtd_3classe_subrev / total_passageiros * 100"
   ]
  },
  {
   "cell_type": "code",
   "execution_count": 114,
   "id": "222c4e68-1768-4586-acbc-25e8a4ab3d88",
   "metadata": {},
   "outputs": [
    {
     "data": {
      "text/html": [
       "<table border='1'>\n",
       "<tr><th>CustomerID</th><th>Gender</th><th>Age</th><th>Annual Income (k$)</th><th>Spending Score (1-100)</th></tr>\n",
       "<tr><td>1</td><td>Male</td><td>19</td><td>15</td><td>39</td></tr>\n",
       "<tr><td>2</td><td>Male</td><td>21</td><td>15</td><td>81</td></tr>\n",
       "<tr><td>3</td><td>Female</td><td>20</td><td>16</td><td>6</td></tr>\n",
       "<tr><td>4</td><td>Female</td><td>23</td><td>16</td><td>77</td></tr>\n",
       "<tr><td>5</td><td>Female</td><td>31</td><td>17</td><td>40</td></tr>\n",
       "<tr><td>6</td><td>Female</td><td>22</td><td>17</td><td>76</td></tr>\n",
       "<tr><td>7</td><td>Female</td><td>35</td><td>18</td><td>6</td></tr>\n",
       "<tr><td>8</td><td>Female</td><td>23</td><td>18</td><td>94</td></tr>\n",
       "<tr><td>9</td><td>Male</td><td>64</td><td>19</td><td>3</td></tr>\n",
       "<tr><td>10</td><td>Female</td><td>30</td><td>19</td><td>72</td></tr>\n",
       "<tr><td>11</td><td>Male</td><td>67</td><td>19</td><td>14</td></tr>\n",
       "<tr><td>12</td><td>Female</td><td>35</td><td>19</td><td>99</td></tr>\n",
       "<tr><td>13</td><td>Female</td><td>58</td><td>20</td><td>15</td></tr>\n",
       "<tr><td>14</td><td>Female</td><td>24</td><td>20</td><td>77</td></tr>\n",
       "<tr><td>15</td><td>Male</td><td>37</td><td>20</td><td>13</td></tr>\n",
       "<tr><td>16</td><td>Male</td><td>22</td><td>20</td><td>79</td></tr>\n",
       "<tr><td>17</td><td>Female</td><td>35</td><td>21</td><td>35</td></tr>\n",
       "<tr><td>18</td><td>Male</td><td>20</td><td>21</td><td>66</td></tr>\n",
       "<tr><td>19</td><td>Male</td><td>52</td><td>23</td><td>29</td></tr>\n",
       "<tr><td>20</td><td>Female</td><td>35</td><td>23</td><td>98</td></tr>\n",
       "</table>\n",
       "only showing top 20 rows\n"
      ],
      "text/plain": [
       "+----------+------+---+------------------+----------------------+\n",
       "|CustomerID|Gender|Age|Annual Income (k$)|Spending Score (1-100)|\n",
       "+----------+------+---+------------------+----------------------+\n",
       "|         1|  Male| 19|                15|                    39|\n",
       "|         2|  Male| 21|                15|                    81|\n",
       "|         3|Female| 20|                16|                     6|\n",
       "|         4|Female| 23|                16|                    77|\n",
       "|         5|Female| 31|                17|                    40|\n",
       "|         6|Female| 22|                17|                    76|\n",
       "|         7|Female| 35|                18|                     6|\n",
       "|         8|Female| 23|                18|                    94|\n",
       "|         9|  Male| 64|                19|                     3|\n",
       "|        10|Female| 30|                19|                    72|\n",
       "|        11|  Male| 67|                19|                    14|\n",
       "|        12|Female| 35|                19|                    99|\n",
       "|        13|Female| 58|                20|                    15|\n",
       "|        14|Female| 24|                20|                    77|\n",
       "|        15|  Male| 37|                20|                    13|\n",
       "|        16|  Male| 22|                20|                    79|\n",
       "|        17|Female| 35|                21|                    35|\n",
       "|        18|  Male| 20|                21|                    66|\n",
       "|        19|  Male| 52|                23|                    29|\n",
       "|        20|Female| 35|                23|                    98|\n",
       "+----------+------+---+------------------+----------------------+\n",
       "only showing top 20 rows"
      ]
     },
     "execution_count": 114,
     "metadata": {},
     "output_type": "execute_result"
    }
   ],
   "source": [
    "mall"
   ]
  },
  {
   "cell_type": "code",
   "execution_count": 124,
   "id": "5332f564-992f-4f14-b72e-33596a9ad02c",
   "metadata": {},
   "outputs": [
    {
     "data": {
      "text/plain": [
       "38.85"
      ]
     },
     "execution_count": 124,
     "metadata": {},
     "output_type": "execute_result"
    }
   ],
   "source": [
    "# Qual é a média de idade dos clientes no Shopping?\n",
    "mall.agg(F.avg('Age')).collect()[0][0]"
   ]
  },
  {
   "cell_type": "code",
   "execution_count": 125,
   "id": "ae71113a-ed27-4dd2-b70d-7c6818306acd",
   "metadata": {},
   "outputs": [
    {
     "data": {
      "text/plain": [
       "112"
      ]
     },
     "execution_count": 125,
     "metadata": {},
     "output_type": "execute_result"
    }
   ],
   "source": [
    "# Quantas mulheres são clientes do Shopping? \n",
    "mall.where(mall.Gender == 'Female').count()"
   ]
  },
  {
   "cell_type": "code",
   "execution_count": 127,
   "id": "b073d1a2-f111-401e-b4ad-b27e23af6ebe",
   "metadata": {},
   "outputs": [
    {
     "data": {
      "text/plain": [
       "60.56"
      ]
     },
     "execution_count": 127,
     "metadata": {},
     "output_type": "execute_result"
    }
   ],
   "source": [
    "# Qual é a média de renda anual dos clientes?\n",
    "mall.agg(F.avg('Annual Income (k$)')).collect()[0][0]"
   ]
  },
  {
   "cell_type": "code",
   "execution_count": 128,
   "id": "81d47f1f-170f-48bd-82d1-ee9b7de29607",
   "metadata": {},
   "outputs": [
    {
     "data": {
      "text/plain": [
       "13.96900733155888"
      ]
     },
     "execution_count": 128,
     "metadata": {},
     "output_type": "execute_result"
    }
   ],
   "source": [
    "# Qual é o desvio padrão da idade dos clientes?\n",
    "mall.agg(F.std('Age')).collect()[0][0]"
   ]
  },
  {
   "cell_type": "code",
   "execution_count": 132,
   "id": "9488c33f-aa1b-4894-9163-36dd0d7ff4c4",
   "metadata": {},
   "outputs": [
    {
     "data": {
      "text/plain": [
       "38"
      ]
     },
     "execution_count": 132,
     "metadata": {},
     "output_type": "execute_result"
    }
   ],
   "source": [
    "# Quantos clientes têm uma renda anual superior a 80 mil? \n",
    "mall.where(F.col('Annual Income (k$)') > 80).count()"
   ]
  },
  {
   "cell_type": "code",
   "execution_count": 133,
   "id": "7457cbde-90d8-4cbf-85fb-96a638211e8b",
   "metadata": {},
   "outputs": [
    {
     "data": {
      "text/plain": [
       "'42'"
      ]
     },
     "execution_count": 133,
     "metadata": {},
     "output_type": "execute_result"
    }
   ],
   "source": [
    "# Qual é a moda da pontuação de gastos dos clientes?\n",
    "mall.agg(F.mode('Spending Score (1-100)')).collect()[0][0]"
   ]
  }
 ],
 "metadata": {
  "kernelspec": {
   "display_name": "Python 3 (ipykernel)",
   "language": "python",
   "name": "python3"
  },
  "language_info": {
   "codemirror_mode": {
    "name": "ipython",
    "version": 3
   },
   "file_extension": ".py",
   "mimetype": "text/x-python",
   "name": "python",
   "nbconvert_exporter": "python",
   "pygments_lexer": "ipython3",
   "version": "3.11.5"
  }
 },
 "nbformat": 4,
 "nbformat_minor": 5
}
