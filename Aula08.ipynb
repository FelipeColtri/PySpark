{
 "cells": [
  {
   "cell_type": "code",
   "execution_count": 1,
   "id": "9d35a332-e77d-452b-b498-96ceb6a55c30",
   "metadata": {},
   "outputs": [],
   "source": [
    "# Importando as bibliotecas utilizadas\n",
    "from pyspark.sql import SparkSession\n",
    "import pyspark.sql.functions as F"
   ]
  },
  {
   "cell_type": "code",
   "execution_count": 4,
   "id": "625fa924-96c4-4e56-93e6-f01b745c9375",
   "metadata": {},
   "outputs": [],
   "source": [
    "# Criando a sessão, nomeando e configurando para mostrar tabela do tipo pandas \n",
    "spark = (\n",
    "    SparkSession.builder\n",
    "    .appName('PySpark - Order By')\n",
    "    .config('spark.sql.repl.eagerEval.enabled', True)\n",
    "    .getOrCreate()\n",
    ")"
   ]
  },
  {
   "cell_type": "code",
   "execution_count": 6,
   "id": "df489d01-0f7b-4d27-9f7d-cb7e4919555d",
   "metadata": {},
   "outputs": [],
   "source": [
    "# Carregando um arquivo PARQUET para dataframe\n",
    "df = spark.read.parquet('./DATASETS/LOGINS.parquet')"
   ]
  },
  {
   "cell_type": "code",
   "execution_count": 10,
   "id": "e7dc4c33-ee93-4237-80dc-8b2bd1ff8d24",
   "metadata": {},
   "outputs": [
    {
     "data": {
      "text/html": [
       "<table border='1'>\n",
       "<tr><th>cpf</th><th>email</th><th>senha</th><th>data_de_nascimento</th><th>estado</th><th>data_cadastro</th><th>ipv4</th><th>cor_favorita</th><th>profissao</th><th>telefone</th></tr>\n",
       "<tr><td>621.405.389-51</td><td>aaragao@hotmail.com</td><td>_JYL0DQtf2</td><td>1914-01-28</td><td>CE</td><td>2023-02-14</td><td>13.16.193.193</td><td>Violeta</td><td>Mestre-De-Obras</td><td>(084) 5160 2174</td></tr>\n",
       "<tr><td>634.205.971-34</td><td>aazevedo@yahoo.co...</td><td>&amp;3HILwOn4R</td><td>1924-09-25</td><td>AL</td><td>2023-03-09</td><td>219.11.145.237</td><td>Verde Escuro</td><td>Senador</td><td>+55 (061) 7082-6767</td></tr>\n",
       "<tr><td>298.356.041-42</td><td>acardoso@gmail.com</td><td>$F7V+mgg**</td><td>1935-12-02</td><td>MS</td><td>2023-01-07</td><td>184.215.220.225</td><td>Preto</td><td>Transcritor</td><td>+55 (021) 0076-2292</td></tr>\n",
       "<tr><td>341.698.720-96</td><td>acarvalho@uol.com.br</td><td>1jtUGOLd!X</td><td>2006-06-22</td><td>AL</td><td>2023-02-23</td><td>11.122.146.214</td><td>Laranja</td><td>Tenista</td><td>+55 61 9832 2237</td></tr>\n",
       "<tr><td>208.754.391-79</td><td>acosta@hotmail.com</td><td>!0CNLeSz_u</td><td>1984-10-25</td><td>SC</td><td>2023-02-14</td><td>20.111.50.200</td><td>Amarelo</td><td>Artes&atilde;o</td><td>71 6561 0125</td></tr>\n",
       "<tr><td>259.781.036-40</td><td>adas-neves@hotmai...</td><td>P^6VzcbuGq</td><td>1954-05-13</td><td>DF</td><td>2023-03-15</td><td>129.233.47.92</td><td>Rosa</td><td>Engenheiro De Mat...</td><td>21 0388-2423</td></tr>\n",
       "<tr><td>410.732.986-04</td><td>afernandes@gmail.com</td><td>x0gGbTtp^X</td><td>1924-05-07</td><td>AM</td><td>2023-01-18</td><td>218.29.94.87</td><td>Marrom</td><td>Estat&iacute;stico</td><td>0300 825 2508</td></tr>\n",
       "<tr><td>623.047.198-13</td><td>aferreira@hotmail...</td><td>q@7vNfPpE@</td><td>1943-10-09</td><td>BA</td><td>2023-02-17</td><td>130.49.142.235</td><td>Marrom</td><td>Flautista</td><td>(031) 4448-2587</td></tr>\n",
       "<tr><td>734.825.106-44</td><td>agatha76@bol.com.br</td><td>*VHMNZa4&amp;9</td><td>1919-05-27</td><td>PE</td><td>2023-01-05</td><td>222.173.123.246</td><td>Magenta</td><td>Assistente Social</td><td>+55 (021) 8031-1835</td></tr>\n",
       "<tr><td>517.806.342-26</td><td>agatha82@ig.com.br</td><td>#4Zhn3k67a</td><td>2011-08-31</td><td>TO</td><td>2023-02-14</td><td>92.13.130.231</td><td>Roxo</td><td>Tenente</td><td>+55 (084) 2134 9259</td></tr>\n",
       "<tr><td>495.068.172-94</td><td>alana94@bol.com.br</td><td>IfV2bMYl(*</td><td>1930-06-26</td><td>ES</td><td>2023-03-04</td><td>32.46.82.32</td><td>Marrom</td><td>Catador De Materi...</td><td>11 7683-1500</td></tr>\n",
       "<tr><td>123.485.607-71</td><td>alexandreda-paz@g...</td><td>0LDkoQVu(p</td><td>2005-07-31</td><td>RO</td><td>2023-01-03</td><td>70.108.33.80</td><td>Verde Escuro</td><td>Orientador Educac...</td><td>+55 51 5580 9105</td></tr>\n",
       "<tr><td>984.576.023-65</td><td>alexandrenovaes@b...</td><td>5dOPQdpy+K</td><td>2007-12-18</td><td>RJ</td><td>2023-01-10</td><td>31.99.42.130</td><td>Amarelo</td><td>Triatleta</td><td>71 3730 3757</td></tr>\n",
       "<tr><td>704.391.285-79</td><td>alexia76@bol.com.br</td><td>@8(aMEorP_</td><td>1996-01-21</td><td>MA</td><td>2023-02-24</td><td>108.191.88.153</td><td>Verde Claro</td><td>Sacoleira</td><td>+55 (051) 1760 8904</td></tr>\n",
       "<tr><td>370.986.215-95</td><td>alexiacavalcanti@...</td><td>vXwc9HTp&amp;6</td><td>1947-04-14</td><td>DF</td><td>2023-01-06</td><td>137.162.224.251</td><td>Rosa</td><td>Engenheiro Agr&ocirc;nomo</td><td>(061) 9714-2240</td></tr>\n",
       "<tr><td>413.087.526-44</td><td>alexiada-rocha@ig...</td><td>@f@!Z!2c*2</td><td>1920-05-26</td><td>MS</td><td>2023-02-18</td><td>182.61.65.201</td><td>Laranja</td><td>Microfonista</td><td>(021) 3739-2944</td></tr>\n",
       "<tr><td>026.358.719-30</td><td>alexiasilva@yahoo...</td><td>#aMFx)3wI1</td><td>1940-09-13</td><td>RO</td><td>2023-02-22</td><td>52.91.52.76</td><td>Azul</td><td>Baixista</td><td>(061) 3231-7250</td></tr>\n",
       "<tr><td>361.280.594-06</td><td>alice20@hotmail.com</td><td>@0JRBP$&amp;j)</td><td>2012-02-08</td><td>SE</td><td>2023-01-02</td><td>129.116.136.189</td><td>Verde Claro</td><td>Otorrinolaringolo...</td><td>11 6808 5565</td></tr>\n",
       "<tr><td>593.206.418-89</td><td>alice27@bol.com.br</td><td>^CBQA4*v$1</td><td>2022-11-28</td><td>PE</td><td>2023-03-11</td><td>155.80.98.177</td><td>Preto</td><td>Salva-Vidas</td><td>+55 (051) 8804 3153</td></tr>\n",
       "<tr><td>631.524.890-05</td><td>alicia95@ig.com.br</td><td>ySH4*YDv#i</td><td>1985-04-13</td><td>MS</td><td>2023-03-09</td><td>35.69.58.7</td><td>Ciano</td><td>Dublador</td><td>+55 71 2435-3716</td></tr>\n",
       "</table>\n",
       "only showing top 20 rows\n"
      ],
      "text/plain": [
       "+--------------+--------------------+----------+------------------+------+-------------+---------------+------------+--------------------+-------------------+\n",
       "|           cpf|               email|     senha|data_de_nascimento|estado|data_cadastro|           ipv4|cor_favorita|           profissao|           telefone|\n",
       "+--------------+--------------------+----------+------------------+------+-------------+---------------+------------+--------------------+-------------------+\n",
       "|621.405.389-51| aaragao@hotmail.com|_JYL0DQtf2|        1914-01-28|    CE|   2023-02-14|  13.16.193.193|     Violeta|     Mestre-De-Obras|    (084) 5160 2174|\n",
       "|634.205.971-34|aazevedo@yahoo.co...|&3HILwOn4R|        1924-09-25|    AL|   2023-03-09| 219.11.145.237|Verde Escuro|             Senador|+55 (061) 7082-6767|\n",
       "|298.356.041-42|  acardoso@gmail.com|$F7V+mgg**|        1935-12-02|    MS|   2023-01-07|184.215.220.225|       Preto|         Transcritor|+55 (021) 0076-2292|\n",
       "|341.698.720-96|acarvalho@uol.com.br|1jtUGOLd!X|        2006-06-22|    AL|   2023-02-23| 11.122.146.214|     Laranja|             Tenista|   +55 61 9832 2237|\n",
       "|208.754.391-79|  acosta@hotmail.com|!0CNLeSz_u|        1984-10-25|    SC|   2023-02-14|  20.111.50.200|     Amarelo|             Artesão|       71 6561 0125|\n",
       "|259.781.036-40|adas-neves@hotmai...|P^6VzcbuGq|        1954-05-13|    DF|   2023-03-15|  129.233.47.92|        Rosa|Engenheiro De Mat...|       21 0388-2423|\n",
       "|410.732.986-04|afernandes@gmail.com|x0gGbTtp^X|        1924-05-07|    AM|   2023-01-18|   218.29.94.87|      Marrom|         Estatístico|      0300 825 2508|\n",
       "|623.047.198-13|aferreira@hotmail...|q@7vNfPpE@|        1943-10-09|    BA|   2023-02-17| 130.49.142.235|      Marrom|           Flautista|    (031) 4448-2587|\n",
       "|734.825.106-44| agatha76@bol.com.br|*VHMNZa4&9|        1919-05-27|    PE|   2023-01-05|222.173.123.246|     Magenta|   Assistente Social|+55 (021) 8031-1835|\n",
       "|517.806.342-26|  agatha82@ig.com.br|#4Zhn3k67a|        2011-08-31|    TO|   2023-02-14|  92.13.130.231|        Roxo|             Tenente|+55 (084) 2134 9259|\n",
       "|495.068.172-94|  alana94@bol.com.br|IfV2bMYl(*|        1930-06-26|    ES|   2023-03-04|    32.46.82.32|      Marrom|Catador De Materi...|       11 7683-1500|\n",
       "|123.485.607-71|alexandreda-paz@g...|0LDkoQVu(p|        2005-07-31|    RO|   2023-01-03|   70.108.33.80|Verde Escuro|Orientador Educac...|   +55 51 5580 9105|\n",
       "|984.576.023-65|alexandrenovaes@b...|5dOPQdpy+K|        2007-12-18|    RJ|   2023-01-10|   31.99.42.130|     Amarelo|           Triatleta|       71 3730 3757|\n",
       "|704.391.285-79| alexia76@bol.com.br|@8(aMEorP_|        1996-01-21|    MA|   2023-02-24| 108.191.88.153| Verde Claro|           Sacoleira|+55 (051) 1760 8904|\n",
       "|370.986.215-95|alexiacavalcanti@...|vXwc9HTp&6|        1947-04-14|    DF|   2023-01-06|137.162.224.251|        Rosa| Engenheiro Agrônomo|    (061) 9714-2240|\n",
       "|413.087.526-44|alexiada-rocha@ig...|@f@!Z!2c*2|        1920-05-26|    MS|   2023-02-18|  182.61.65.201|     Laranja|        Microfonista|    (021) 3739-2944|\n",
       "|026.358.719-30|alexiasilva@yahoo...|#aMFx)3wI1|        1940-09-13|    RO|   2023-02-22|    52.91.52.76|        Azul|            Baixista|    (061) 3231-7250|\n",
       "|361.280.594-06| alice20@hotmail.com|@0JRBP$&j)|        2012-02-08|    SE|   2023-01-02|129.116.136.189| Verde Claro|Otorrinolaringolo...|       11 6808 5565|\n",
       "|593.206.418-89|  alice27@bol.com.br|^CBQA4*v$1|        2022-11-28|    PE|   2023-03-11|  155.80.98.177|       Preto|         Salva-Vidas|+55 (051) 8804 3153|\n",
       "|631.524.890-05|  alicia95@ig.com.br|ySH4*YDv#i|        1985-04-13|    MS|   2023-03-09|     35.69.58.7|       Ciano|            Dublador|   +55 71 2435-3716|\n",
       "+--------------+--------------------+----------+------------------+------+-------------+---------------+------------+--------------------+-------------------+\n",
       "only showing top 20 rows"
      ]
     },
     "execution_count": 10,
     "metadata": {},
     "output_type": "execute_result"
    }
   ],
   "source": [
    "# Ordenando dataset por uma coluna\n",
    "df.orderBy('email') # Por padrão F.asc"
   ]
  },
  {
   "cell_type": "code",
   "execution_count": 9,
   "id": "fd5159bc-f982-42d2-b99a-7f36f1a6474a",
   "metadata": {},
   "outputs": [
    {
     "data": {
      "text/html": [
       "<table border='1'>\n",
       "<tr><th>cpf</th><th>email</th><th>senha</th><th>data_de_nascimento</th><th>estado</th><th>data_cadastro</th><th>ipv4</th><th>cor_favorita</th><th>profissao</th><th>telefone</th></tr>\n",
       "<tr><td>837.021.546-71</td><td>zpinto@yahoo.com.br</td><td>(5R*_#XVDl</td><td>1955-06-08</td><td>RR</td><td>2023-02-06</td><td>52.26.104.153</td><td>Rosa</td><td>Argumentista</td><td>(081) 8099 9690</td></tr>\n",
       "<tr><td>037.862.951-40</td><td>zlopes@gmail.com</td><td>_LYcJLlu&amp;8</td><td>1966-10-15</td><td>RR</td><td>2023-03-14</td><td>64.236.21.52</td><td>Branco</td><td>Ourives</td><td>+55 61 4893 1165</td></tr>\n",
       "<tr><td>398.051.472-23</td><td>zgomes@uol.com.br</td><td>0QZ0RHjHw%</td><td>1945-02-04</td><td>SE</td><td>2023-02-07</td><td>126.249.226.142</td><td>Magenta</td><td>Cadista</td><td>(021) 0775 2915</td></tr>\n",
       "<tr><td>482.063.597-29</td><td>zgomes@uol.com.br</td><td>zIEEb2Oma^</td><td>1990-04-25</td><td>PI</td><td>2023-03-05</td><td>152.70.106.84</td><td>Verde Escuro</td><td>Baterista</td><td>+55 (061) 9491 2341</td></tr>\n",
       "<tr><td>063.581.249-51</td><td>zfernandes@hotmai...</td><td>+I%Lr!wz0(</td><td>1962-08-22</td><td>MT</td><td>2023-02-12</td><td>53.238.78.76</td><td>Azul</td><td>Fundidor De Placa...</td><td>71 1659-6052</td></tr>\n",
       "<tr><td>341.697.025-06</td><td>ypeixoto@yahoo.co...</td><td>&amp;3H*Q_soD4</td><td>1973-12-18</td><td>BA</td><td>2023-03-15</td><td>36.64.228.53</td><td>Verde Claro</td><td>Ferreiro</td><td>0500-012-9429</td></tr>\n",
       "<tr><td>365.841.029-98</td><td>ypeixoto@hotmail.com</td><td>c$8TxYirOu</td><td>1995-06-11</td><td>SE</td><td>2023-03-13</td><td>160.93.14.250</td><td>Magenta</td><td>Engenheiro Cartog...</td><td>0800-480-3407</td></tr>\n",
       "<tr><td>891.034.672-87</td><td>ynogueira@hotmail...</td><td>@3AJHqIWkV</td><td>2021-07-30</td><td>AL</td><td>2023-01-05</td><td>143.134.33.192</td><td>Azul Escuro</td><td>Torneiro Mec&acirc;nico</td><td>0500-324-4347</td></tr>\n",
       "<tr><td>794.623.805-38</td><td>ymoura@gmail.com</td><td>*bZGnLObY0</td><td>1946-05-30</td><td>AC</td><td>2023-01-02</td><td>22.66.90.218</td><td>Azul Escuro</td><td>Investigador Part...</td><td>(051) 4288 6754</td></tr>\n",
       "<tr><td>561.438.072-80</td><td>ymoraes@ig.com.br</td><td>c(6&amp;FoouMR</td><td>1998-02-23</td><td>AC</td><td>2023-02-15</td><td>8.207.21.132</td><td>Marrom</td><td>Odontologista Pre...</td><td>(061) 5069 4948</td></tr>\n",
       "<tr><td>054.681.327-53</td><td>ymelo@ig.com.br</td><td>_&amp;(RxJ@b9i</td><td>1941-11-13</td><td>MA</td><td>2023-01-21</td><td>177.136.210.154</td><td>Cinza</td><td>Argumentista</td><td>11 9674-4969</td></tr>\n",
       "<tr><td>854.209.361-51</td><td>ylima@yahoo.com.br</td><td>(w&amp;9QnOv#B</td><td>1954-07-28</td><td>PI</td><td>2023-03-01</td><td>129.24.96.93</td><td>Cinza</td><td>Dj</td><td>(081) 0026 6407</td></tr>\n",
       "<tr><td>974.612.805-11</td><td>yferreira@uol.com.br</td><td>#2KsZ_zn_P</td><td>1981-02-05</td><td>SP</td><td>2023-01-31</td><td>110.94.27.112</td><td>Verde Claro</td><td>Moldador</td><td>+55 (051) 2735 3651</td></tr>\n",
       "<tr><td>562.713.480-17</td><td>ydas-neves@bol.co...</td><td>p@0Ukod4xl</td><td>1940-03-12</td><td>SC</td><td>2023-02-22</td><td>150.110.65.174</td><td>Amarelo</td><td>T&eacute;cnico Em Rede</td><td>(071) 1865 1558</td></tr>\n",
       "<tr><td>947.615.238-91</td><td>yda-paz@bol.com.br</td><td>wVmsBsEn@4</td><td>1950-11-29</td><td>SC</td><td>2023-02-13</td><td>100.172.217.120</td><td>Magenta</td><td>Surfista</td><td>+55 41 6990 8024</td></tr>\n",
       "<tr><td>395.184.760-39</td><td>yda-luz@uol.com.br</td><td>6^8)1tranG</td><td>1940-09-12</td><td>AM</td><td>2023-01-31</td><td>40.183.73.149</td><td>Marrom</td><td>Tintureiro</td><td>(021) 2493 8417</td></tr>\n",
       "<tr><td>096.741.853-48</td><td>yda-costa@uol.com.br</td><td>x7J&amp;2$a2(7</td><td>2018-08-06</td><td>RS</td><td>2023-03-09</td><td>34.94.78.134</td><td>Branco</td><td>T&eacute;cnico Em Arquivo</td><td>+55 (081) 5917 4735</td></tr>\n",
       "<tr><td>076.541.328-08</td><td>ycorreia@yahoo.co...</td><td>N6S1Xk0YD)</td><td>2003-07-25</td><td>SP</td><td>2023-02-22</td><td>108.16.1.197</td><td>Magenta</td><td>Jogador De Handebol</td><td>+55 71 9877-2831</td></tr>\n",
       "<tr><td>126.958.304-24</td><td>ycavalcanti@bol.c...</td><td>xoKn)JSQ^7</td><td>2006-10-28</td><td>AM</td><td>2023-02-21</td><td>146.140.176.146</td><td>Azul</td><td>Patinador</td><td>0800-596-5498</td></tr>\n",
       "<tr><td>134.985.067-57</td><td>yago35@bol.com.br</td><td>Mcp&amp;6MYtbL</td><td>1993-12-03</td><td>PE</td><td>2023-02-14</td><td>10.67.124.77</td><td>Magenta</td><td>Engenheiro Mecatr...</td><td>81 5269-9143</td></tr>\n",
       "</table>\n",
       "only showing top 20 rows\n"
      ],
      "text/plain": [
       "+--------------+--------------------+----------+------------------+------+-------------+---------------+------------+--------------------+-------------------+\n",
       "|           cpf|               email|     senha|data_de_nascimento|estado|data_cadastro|           ipv4|cor_favorita|           profissao|           telefone|\n",
       "+--------------+--------------------+----------+------------------+------+-------------+---------------+------------+--------------------+-------------------+\n",
       "|837.021.546-71| zpinto@yahoo.com.br|(5R*_#XVDl|        1955-06-08|    RR|   2023-02-06|  52.26.104.153|        Rosa|        Argumentista|    (081) 8099 9690|\n",
       "|037.862.951-40|    zlopes@gmail.com|_LYcJLlu&8|        1966-10-15|    RR|   2023-03-14|   64.236.21.52|      Branco|             Ourives|   +55 61 4893 1165|\n",
       "|398.051.472-23|   zgomes@uol.com.br|0QZ0RHjHw%|        1945-02-04|    SE|   2023-02-07|126.249.226.142|     Magenta|             Cadista|    (021) 0775 2915|\n",
       "|482.063.597-29|   zgomes@uol.com.br|zIEEb2Oma^|        1990-04-25|    PI|   2023-03-05|  152.70.106.84|Verde Escuro|           Baterista|+55 (061) 9491 2341|\n",
       "|063.581.249-51|zfernandes@hotmai...|+I%Lr!wz0(|        1962-08-22|    MT|   2023-02-12|   53.238.78.76|        Azul|Fundidor De Placa...|       71 1659-6052|\n",
       "|341.697.025-06|ypeixoto@yahoo.co...|&3H*Q_soD4|        1973-12-18|    BA|   2023-03-15|   36.64.228.53| Verde Claro|            Ferreiro|      0500-012-9429|\n",
       "|365.841.029-98|ypeixoto@hotmail.com|c$8TxYirOu|        1995-06-11|    SE|   2023-03-13|  160.93.14.250|     Magenta|Engenheiro Cartog...|      0800-480-3407|\n",
       "|891.034.672-87|ynogueira@hotmail...|@3AJHqIWkV|        2021-07-30|    AL|   2023-01-05| 143.134.33.192| Azul Escuro|   Torneiro Mecânico|      0500-324-4347|\n",
       "|794.623.805-38|    ymoura@gmail.com|*bZGnLObY0|        1946-05-30|    AC|   2023-01-02|   22.66.90.218| Azul Escuro|Investigador Part...|    (051) 4288 6754|\n",
       "|561.438.072-80|   ymoraes@ig.com.br|c(6&FoouMR|        1998-02-23|    AC|   2023-02-15|   8.207.21.132|      Marrom|Odontologista Pre...|    (061) 5069 4948|\n",
       "|054.681.327-53|     ymelo@ig.com.br|_&(RxJ@b9i|        1941-11-13|    MA|   2023-01-21|177.136.210.154|       Cinza|        Argumentista|       11 9674-4969|\n",
       "|854.209.361-51|  ylima@yahoo.com.br|(w&9QnOv#B|        1954-07-28|    PI|   2023-03-01|   129.24.96.93|       Cinza|                  Dj|    (081) 0026 6407|\n",
       "|974.612.805-11|yferreira@uol.com.br|#2KsZ_zn_P|        1981-02-05|    SP|   2023-01-31|  110.94.27.112| Verde Claro|            Moldador|+55 (051) 2735 3651|\n",
       "|562.713.480-17|ydas-neves@bol.co...|p@0Ukod4xl|        1940-03-12|    SC|   2023-02-22| 150.110.65.174|     Amarelo|     Técnico Em Rede|    (071) 1865 1558|\n",
       "|947.615.238-91|  yda-paz@bol.com.br|wVmsBsEn@4|        1950-11-29|    SC|   2023-02-13|100.172.217.120|     Magenta|            Surfista|   +55 41 6990 8024|\n",
       "|395.184.760-39|  yda-luz@uol.com.br|6^8)1tranG|        1940-09-12|    AM|   2023-01-31|  40.183.73.149|      Marrom|          Tintureiro|    (021) 2493 8417|\n",
       "|096.741.853-48|yda-costa@uol.com.br|x7J&2$a2(7|        2018-08-06|    RS|   2023-03-09|   34.94.78.134|      Branco|  Técnico Em Arquivo|+55 (081) 5917 4735|\n",
       "|076.541.328-08|ycorreia@yahoo.co...|N6S1Xk0YD)|        2003-07-25|    SP|   2023-02-22|   108.16.1.197|     Magenta| Jogador De Handebol|   +55 71 9877-2831|\n",
       "|126.958.304-24|ycavalcanti@bol.c...|xoKn)JSQ^7|        2006-10-28|    AM|   2023-02-21|146.140.176.146|        Azul|           Patinador|      0800-596-5498|\n",
       "|134.985.067-57|   yago35@bol.com.br|Mcp&6MYtbL|        1993-12-03|    PE|   2023-02-14|   10.67.124.77|     Magenta|Engenheiro Mecatr...|       81 5269-9143|\n",
       "+--------------+--------------------+----------+------------------+------+-------------+---------------+------------+--------------------+-------------------+\n",
       "only showing top 20 rows"
      ]
     },
     "execution_count": 9,
     "metadata": {},
     "output_type": "execute_result"
    }
   ],
   "source": [
    "# Ordenando dataset por uma coluna de forma decrescente\n",
    "df.orderBy(F.desc('email'))"
   ]
  },
  {
   "cell_type": "code",
   "execution_count": 12,
   "id": "81ab3dde-5ffc-4882-b6a7-22f330dd965e",
   "metadata": {},
   "outputs": [
    {
     "data": {
      "text/html": [
       "<table border='1'>\n",
       "<tr><th>cpf</th><th>email</th><th>senha</th><th>data_de_nascimento</th><th>estado</th><th>data_cadastro</th><th>ipv4</th><th>cor_favorita</th><th>profissao</th><th>telefone</th></tr>\n",
       "<tr><td>293.850.471-32</td><td>camposclara@ig.co...</td><td>DP40gF#i!R</td><td>1907-05-10</td><td>RR</td><td>2023-02-15</td><td>4.23.95.210</td><td>Rosa</td><td>Endocrinologista</td><td>+55 (061) 5335-3353</td></tr>\n",
       "<tr><td>824.165.730-71</td><td>alveserick@hotmai...</td><td>$n(MXjqh!0</td><td>1907-05-26</td><td>RO</td><td>2023-02-19</td><td>87.31.168.117</td><td>Rosa</td><td>Biotecn&oacute;logo</td><td>(084) 9069 8763</td></tr>\n",
       "<tr><td>285.936.410-24</td><td>joao-guilherme49@...</td><td>(4V2Nz5Kn9</td><td>1907-06-05</td><td>CE</td><td>2023-01-31</td><td>114.11.108.120</td><td>Verde Escuro</td><td>Produtor Musical</td><td>+55 41 3546-4159</td></tr>\n",
       "<tr><td>905.218.674-01</td><td>cardosovalentina@...</td><td>84A6j^na$(</td><td>1907-06-14</td><td>AC</td><td>2023-02-21</td><td>159.35.147.104</td><td>Violeta</td><td>Gerente De Banco</td><td>11 9994-5315</td></tr>\n",
       "<tr><td>953.162.047-43</td><td>augusto34@yahoo.c...</td><td>%0n@1(ql$B</td><td>1907-07-14</td><td>AP</td><td>2023-02-28</td><td>205.39.64.106</td><td>Verde</td><td>Lavador</td><td>+55 (041) 6667 6745</td></tr>\n",
       "<tr><td>154.638.029-98</td><td>rmonteiro@bol.com.br</td><td>ks6EvVg1_%</td><td>1907-11-17</td><td>RN</td><td>2023-03-14</td><td>1.132.119.166</td><td>Ciano</td><td>Aeromo&ccedil;a</td><td>+55 (061) 1256 6586</td></tr>\n",
       "<tr><td>054.187.692-94</td><td>qsouza@uol.com.br</td><td>W6sT$wQ1&amp;9</td><td>1908-02-24</td><td>MA</td><td>2023-01-11</td><td>101.210.210.106</td><td>Cinza</td><td>Professor</td><td>+55 (011) 9183 8269</td></tr>\n",
       "<tr><td>708.594.326-29</td><td>henriquepeixoto@g...</td><td>uDi6hJf+_!</td><td>1908-07-02</td><td>AM</td><td>2023-02-15</td><td>119.60.176.202</td><td>Cinza</td><td>Policial Federal</td><td>0500 152 2585</td></tr>\n",
       "<tr><td>098.143.267-04</td><td>amanda95@hotmail.com</td><td>hC_3ZVfz%*</td><td>1908-07-16</td><td>SC</td><td>2023-01-02</td><td>129.131.12.163</td><td>Magenta</td><td>Barman</td><td>(084) 9123 4322</td></tr>\n",
       "<tr><td>615.842.370-07</td><td>wda-paz@ig.com.br</td><td>P^90jERsas</td><td>1908-07-17</td><td>ES</td><td>2023-02-02</td><td>221.185.121.197</td><td>Rosa</td><td>Headhunter</td><td>+55 31 5183-2242</td></tr>\n",
       "<tr><td>781.504.293-79</td><td>mdas-neves@bol.co...</td><td>!0aEsXlpJ0</td><td>1908-07-31</td><td>PR</td><td>2023-03-09</td><td>59.22.152.49</td><td>Verde Claro</td><td>Qu&iacute;mico Farmac&ecirc;utico</td><td>+55 71 6505-0385</td></tr>\n",
       "<tr><td>124.970.835-41</td><td>rezendenatalia@ya...</td><td>E(&amp;N0)F07j</td><td>1908-08-17</td><td>RJ</td><td>2023-01-23</td><td>142.140.248.194</td><td>Violeta</td><td>Profissional De R...</td><td>(041) 4264-9238</td></tr>\n",
       "<tr><td>186.942.307-04</td><td>usouza@uol.com.br</td><td>vQ0Ku@T$%I</td><td>1908-09-28</td><td>PB</td><td>2023-02-16</td><td>37.20.9.87</td><td>Magenta</td><td>Matem&aacute;tico</td><td>(021) 1526-5985</td></tr>\n",
       "<tr><td>652.134.908-24</td><td>waraujo@gmail.com</td><td>wzOo3x6k_5</td><td>1908-12-04</td><td>RO</td><td>2023-01-15</td><td>94.109.249.219</td><td>Branco</td><td>Paginador</td><td>(031) 6937-6573</td></tr>\n",
       "<tr><td>843.507.269-00</td><td>correiajuan@gmail...</td><td>*4JfJrMP7o</td><td>1909-08-23</td><td>RO</td><td>2023-01-31</td><td>19.7.77.221</td><td>Verde Escuro</td><td>Sonoplasta</td><td>0900-359-2057</td></tr>\n",
       "<tr><td>697.234.501-43</td><td>moreiralarissa@bo...</td><td>ssL9JHpul_</td><td>1909-09-15</td><td>AL</td><td>2023-02-20</td><td>222.129.73.250</td><td>Marrom</td><td>Not&aacute;rio</td><td>+55 (071) 9903-3825</td></tr>\n",
       "<tr><td>907.154.268-85</td><td>bryancampos@ig.co...</td><td>iji*Bp0m(1</td><td>1909-09-29</td><td>RR</td><td>2023-01-23</td><td>78.243.210.49</td><td>Magenta</td><td>Gastr&ocirc;nomo</td><td>+55 (021) 3837 9360</td></tr>\n",
       "<tr><td>042.185.693-98</td><td>ramosmaria-vitori...</td><td>%F4ZTe9fN@</td><td>1910-01-11</td><td>PB</td><td>2023-01-17</td><td>112.163.112.71</td><td>Azul</td><td>Toxicologista</td><td>+55 (071) 8276-0640</td></tr>\n",
       "<tr><td>603.572.914-25</td><td>da-cruzgabriel@ya...</td><td>AVQlx^ft&amp;9</td><td>1910-01-12</td><td>MG</td><td>2023-01-02</td><td>82.128.87.137</td><td>Roxo</td><td>T&eacute;cnico Em Edific...</td><td>(041) 9003 3229</td></tr>\n",
       "<tr><td>096.752.348-65</td><td>juliana75@hotmail...</td><td>x(9THe^y@W</td><td>1910-02-09</td><td>RR</td><td>2023-01-16</td><td>25.239.29.197</td><td>Verde</td><td>Kite-Surfer</td><td>(051) 6597 5400</td></tr>\n",
       "</table>\n",
       "only showing top 20 rows\n"
      ],
      "text/plain": [
       "+--------------+--------------------+----------+------------------+------+-------------+---------------+------------+--------------------+-------------------+\n",
       "|           cpf|               email|     senha|data_de_nascimento|estado|data_cadastro|           ipv4|cor_favorita|           profissao|           telefone|\n",
       "+--------------+--------------------+----------+------------------+------+-------------+---------------+------------+--------------------+-------------------+\n",
       "|293.850.471-32|camposclara@ig.co...|DP40gF#i!R|        1907-05-10|    RR|   2023-02-15|    4.23.95.210|        Rosa|    Endocrinologista|+55 (061) 5335-3353|\n",
       "|824.165.730-71|alveserick@hotmai...|$n(MXjqh!0|        1907-05-26|    RO|   2023-02-19|  87.31.168.117|        Rosa|        Biotecnólogo|    (084) 9069 8763|\n",
       "|285.936.410-24|joao-guilherme49@...|(4V2Nz5Kn9|        1907-06-05|    CE|   2023-01-31| 114.11.108.120|Verde Escuro|    Produtor Musical|   +55 41 3546-4159|\n",
       "|905.218.674-01|cardosovalentina@...|84A6j^na$(|        1907-06-14|    AC|   2023-02-21| 159.35.147.104|     Violeta|    Gerente De Banco|       11 9994-5315|\n",
       "|953.162.047-43|augusto34@yahoo.c...|%0n@1(ql$B|        1907-07-14|    AP|   2023-02-28|  205.39.64.106|       Verde|             Lavador|+55 (041) 6667 6745|\n",
       "|154.638.029-98|rmonteiro@bol.com.br|ks6EvVg1_%|        1907-11-17|    RN|   2023-03-14|  1.132.119.166|       Ciano|            Aeromoça|+55 (061) 1256 6586|\n",
       "|054.187.692-94|   qsouza@uol.com.br|W6sT$wQ1&9|        1908-02-24|    MA|   2023-01-11|101.210.210.106|       Cinza|           Professor|+55 (011) 9183 8269|\n",
       "|708.594.326-29|henriquepeixoto@g...|uDi6hJf+_!|        1908-07-02|    AM|   2023-02-15| 119.60.176.202|       Cinza|    Policial Federal|      0500 152 2585|\n",
       "|098.143.267-04|amanda95@hotmail.com|hC_3ZVfz%*|        1908-07-16|    SC|   2023-01-02| 129.131.12.163|     Magenta|              Barman|    (084) 9123 4322|\n",
       "|615.842.370-07|   wda-paz@ig.com.br|P^90jERsas|        1908-07-17|    ES|   2023-02-02|221.185.121.197|        Rosa|          Headhunter|   +55 31 5183-2242|\n",
       "|781.504.293-79|mdas-neves@bol.co...|!0aEsXlpJ0|        1908-07-31|    PR|   2023-03-09|   59.22.152.49| Verde Claro|Químico Farmacêutico|   +55 71 6505-0385|\n",
       "|124.970.835-41|rezendenatalia@ya...|E(&N0)F07j|        1908-08-17|    RJ|   2023-01-23|142.140.248.194|     Violeta|Profissional De R...|    (041) 4264-9238|\n",
       "|186.942.307-04|   usouza@uol.com.br|vQ0Ku@T$%I|        1908-09-28|    PB|   2023-02-16|     37.20.9.87|     Magenta|          Matemático|    (021) 1526-5985|\n",
       "|652.134.908-24|   waraujo@gmail.com|wzOo3x6k_5|        1908-12-04|    RO|   2023-01-15| 94.109.249.219|      Branco|           Paginador|    (031) 6937-6573|\n",
       "|843.507.269-00|correiajuan@gmail...|*4JfJrMP7o|        1909-08-23|    RO|   2023-01-31|    19.7.77.221|Verde Escuro|          Sonoplasta|      0900-359-2057|\n",
       "|697.234.501-43|moreiralarissa@bo...|ssL9JHpul_|        1909-09-15|    AL|   2023-02-20| 222.129.73.250|      Marrom|             Notário|+55 (071) 9903-3825|\n",
       "|907.154.268-85|bryancampos@ig.co...|iji*Bp0m(1|        1909-09-29|    RR|   2023-01-23|  78.243.210.49|     Magenta|          Gastrônomo|+55 (021) 3837 9360|\n",
       "|042.185.693-98|ramosmaria-vitori...|%F4ZTe9fN@|        1910-01-11|    PB|   2023-01-17| 112.163.112.71|        Azul|       Toxicologista|+55 (071) 8276-0640|\n",
       "|603.572.914-25|da-cruzgabriel@ya...|AVQlx^ft&9|        1910-01-12|    MG|   2023-01-02|  82.128.87.137|        Roxo|Técnico Em Edific...|    (041) 9003 3229|\n",
       "|096.752.348-65|juliana75@hotmail...|x(9THe^y@W|        1910-02-09|    RR|   2023-01-16|  25.239.29.197|       Verde|         Kite-Surfer|    (051) 6597 5400|\n",
       "+--------------+--------------------+----------+------------------+------+-------------+---------------+------------+--------------------+-------------------+\n",
       "only showing top 20 rows"
      ]
     },
     "execution_count": 12,
     "metadata": {},
     "output_type": "execute_result"
    }
   ],
   "source": [
    "# Ordenando duas colunas, segue a ordem de prioridade \n",
    "df.orderBy('data_de_nascimento', 'estado')"
   ]
  }
 ],
 "metadata": {
  "kernelspec": {
   "display_name": "Python 3 (ipykernel)",
   "language": "python",
   "name": "python3"
  },
  "language_info": {
   "codemirror_mode": {
    "name": "ipython",
    "version": 3
   },
   "file_extension": ".py",
   "mimetype": "text/x-python",
   "name": "python",
   "nbconvert_exporter": "python",
   "pygments_lexer": "ipython3",
   "version": "3.11.5"
  }
 },
 "nbformat": 4,
 "nbformat_minor": 5
}
