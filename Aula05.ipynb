{
 "cells": [
  {
   "cell_type": "code",
   "execution_count": 1,
   "id": "9d35a332-e77d-452b-b498-96ceb6a55c30",
   "metadata": {},
   "outputs": [],
   "source": [
    "# Importando as bibliotecas utilizadas\n",
    "from pyspark.sql import SparkSession\n",
    "import pyspark.sql.functions as F"
   ]
  },
  {
   "cell_type": "code",
   "execution_count": 10,
   "id": "625fa924-96c4-4e56-93e6-f01b745c9375",
   "metadata": {},
   "outputs": [],
   "source": [
    "# Criando a sessão, nomeando e configurando para mostrar tabela do tipo pandas \n",
    "spark = (\n",
    "    SparkSession.builder\n",
    "    .appName('PySpark - Manipulaçao de String')\n",
    "    .config('spark.sql.repl.eagerEval.enabled', True)\n",
    "    .getOrCreate()\n",
    ")"
   ]
  },
  {
   "cell_type": "code",
   "execution_count": 11,
   "id": "df489d01-0f7b-4d27-9f7d-cb7e4919555d",
   "metadata": {},
   "outputs": [],
   "source": [
    "# Carregando um arquivo PARQUET para dataframe, somentende algumas colunas\n",
    "df = spark.read.parquet('./DATASETS/LOGINS.parquet').select('email', 'senha', 'estado', 'cor_favorita', 'profissao')"
   ]
  },
  {
   "cell_type": "code",
   "execution_count": 12,
   "id": "e7dc4c33-ee93-4237-80dc-8b2bd1ff8d24",
   "metadata": {},
   "outputs": [
    {
     "data": {
      "text/html": [
       "<table border='1'>\n",
       "<tr><th>email</th><th>senha</th><th>estado</th><th>cor_favorita</th><th>profissao</th></tr>\n",
       "<tr><td>pedro-lucas53@gma...</td><td>+7^7E%xFBc</td><td>RR</td><td>Roxo</td><td>Jogador De Golfe</td></tr>\n",
       "<tr><td>rezendeisaac@hotm...</td><td>_O_2GRnGOe</td><td>GO</td><td>Ciano</td><td>Atleta De Arremes...</td></tr>\n",
       "<tr><td>felipepires@uol.c...</td><td>*Aw5EOAvy9</td><td>MG</td><td>Azul</td><td>Papiloscopista</td></tr>\n",
       "<tr><td>stellamoraes@bol....</td><td>mw0AWYAs#s</td><td>AC</td><td>Marrom</td><td>Aeromo&ccedil;a</td></tr>\n",
       "<tr><td>wcarvalho@ig.com.br</td><td>pGD%!2Pq5X</td><td>AP</td><td>Laranja</td><td>Fonoaudi&oacute;logo</td></tr>\n",
       "<tr><td>da-conceicaodavi-...</td><td>uhBbFxPA&amp;9</td><td>MG</td><td>Rosa</td><td>Taxista</td></tr>\n",
       "<tr><td>efreitas@bol.com.br</td><td>s#q9VZt&amp;xl</td><td>MG</td><td>Branco</td><td>Produtor De Audio...</td></tr>\n",
       "<tr><td>wnunes@bol.com.br</td><td>_8az1W%n7g</td><td>SE</td><td>Azul</td><td>Cadeirinha</td></tr>\n",
       "<tr><td>jribeiro@bol.com.br</td><td>MEf1X7fj_0</td><td>PA</td><td>Marrom</td><td>Ge&oacute;logo</td></tr>\n",
       "<tr><td>murilo05@gmail.com</td><td>Te&amp;gO7GkKs</td><td>MT</td><td>Marrom</td><td>T&eacute;cnico De Som</td></tr>\n",
       "<tr><td>joaquim57@ig.com.br</td><td>&amp;2E1NY+ARc</td><td>BA</td><td>Rosa</td><td>Esteticista</td></tr>\n",
       "<tr><td>alexiada-rocha@ig...</td><td>@f@!Z!2c*2</td><td>MS</td><td>Laranja</td><td>Microfonista</td></tr>\n",
       "<tr><td>pmendes@gmail.com</td><td>M+^XDBfe(2</td><td>RR</td><td>Verde Claro</td><td>Fiscal</td></tr>\n",
       "<tr><td>renan46@bol.com.br</td><td>Rp%2pVqfe$</td><td>PA</td><td>Verde Escuro</td><td>Contabilista</td></tr>\n",
       "<tr><td>manuelada-rosa@ho...</td><td>#hEIEOztQ3</td><td>SE</td><td>Violeta</td><td>Seguidor De Compras</td></tr>\n",
       "<tr><td>usales@ig.com.br</td><td>b_8xaY$ozJ</td><td>AM</td><td>Rosa</td><td>Almirante</td></tr>\n",
       "<tr><td>pereiranicolas@ho...</td><td>YA9I85Wb+2</td><td>MA</td><td>Amarelo</td><td>Consultor De Moda</td></tr>\n",
       "<tr><td>cardosolivia@ig.c...</td><td>yXkDW7Ebh*</td><td>GO</td><td>Laranja</td><td>Barbeiro</td></tr>\n",
       "<tr><td>brenda39@ig.com.br</td><td>XS$84Hpsnw</td><td>RJ</td><td>Branco</td><td>Promotor De Vendas</td></tr>\n",
       "<tr><td>luizapeixoto@gmai...</td><td>TbKy82Kda$</td><td>DF</td><td>Ciano</td><td>Implantodontista</td></tr>\n",
       "</table>\n",
       "only showing top 20 rows\n"
      ],
      "text/plain": [
       "+--------------------+----------+------+------------+--------------------+\n",
       "|               email|     senha|estado|cor_favorita|           profissao|\n",
       "+--------------------+----------+------+------------+--------------------+\n",
       "|pedro-lucas53@gma...|+7^7E%xFBc|    RR|        Roxo|    Jogador De Golfe|\n",
       "|rezendeisaac@hotm...|_O_2GRnGOe|    GO|       Ciano|Atleta De Arremes...|\n",
       "|felipepires@uol.c...|*Aw5EOAvy9|    MG|        Azul|      Papiloscopista|\n",
       "|stellamoraes@bol....|mw0AWYAs#s|    AC|      Marrom|            Aeromoça|\n",
       "| wcarvalho@ig.com.br|pGD%!2Pq5X|    AP|     Laranja|       Fonoaudiólogo|\n",
       "|da-conceicaodavi-...|uhBbFxPA&9|    MG|        Rosa|             Taxista|\n",
       "| efreitas@bol.com.br|s#q9VZt&xl|    MG|      Branco|Produtor De Audio...|\n",
       "|   wnunes@bol.com.br|_8az1W%n7g|    SE|        Azul|          Cadeirinha|\n",
       "| jribeiro@bol.com.br|MEf1X7fj_0|    PA|      Marrom|             Geólogo|\n",
       "|  murilo05@gmail.com|Te&gO7GkKs|    MT|      Marrom|      Técnico De Som|\n",
       "| joaquim57@ig.com.br|&2E1NY+ARc|    BA|        Rosa|         Esteticista|\n",
       "|alexiada-rocha@ig...|@f@!Z!2c*2|    MS|     Laranja|        Microfonista|\n",
       "|   pmendes@gmail.com|M+^XDBfe(2|    RR| Verde Claro|              Fiscal|\n",
       "|  renan46@bol.com.br|Rp%2pVqfe$|    PA|Verde Escuro|        Contabilista|\n",
       "|manuelada-rosa@ho...|#hEIEOztQ3|    SE|     Violeta| Seguidor De Compras|\n",
       "|    usales@ig.com.br|b_8xaY$ozJ|    AM|        Rosa|           Almirante|\n",
       "|pereiranicolas@ho...|YA9I85Wb+2|    MA|     Amarelo|   Consultor De Moda|\n",
       "|cardosolivia@ig.c...|yXkDW7Ebh*|    GO|     Laranja|            Barbeiro|\n",
       "|  brenda39@ig.com.br|XS$84Hpsnw|    RJ|      Branco|  Promotor De Vendas|\n",
       "|luizapeixoto@gmai...|TbKy82Kda$|    DF|       Ciano|    Implantodontista|\n",
       "+--------------------+----------+------+------------+--------------------+\n",
       "only showing top 20 rows"
      ]
     },
     "execution_count": 12,
     "metadata": {},
     "output_type": "execute_result"
    }
   ],
   "source": [
    "df"
   ]
  },
  {
   "cell_type": "code",
   "execution_count": 32,
   "id": "fd5159bc-f982-42d2-b99a-7f36f1a6474a",
   "metadata": {},
   "outputs": [
    {
     "data": {
      "text/html": [
       "<table border='1'>\n",
       "<tr><th>email</th><th>senha</th><th>estado</th><th>cor_favorita</th><th>profissao</th><th>usuario</th><th>provedor</th></tr>\n",
       "<tr><td>pedro-lucas53@gma...</td><td>+7^7E%xFBc</td><td>RR</td><td>Roxo</td><td>Jogador De Golfe</td><td>pedro-lucas53</td><td>gmail</td></tr>\n",
       "<tr><td>rezendeisaac@hotm...</td><td>_O_2GRnGOe</td><td>GO</td><td>Ciano</td><td>Atleta De Arremes...</td><td>rezendeisaac</td><td>hotmail</td></tr>\n",
       "<tr><td>felipepires@uol.c...</td><td>*Aw5EOAvy9</td><td>MG</td><td>Azul</td><td>Papiloscopista</td><td>felipepires</td><td>uol</td></tr>\n",
       "<tr><td>stellamoraes@bol....</td><td>mw0AWYAs#s</td><td>AC</td><td>Marrom</td><td>Aeromo&ccedil;a</td><td>stellamoraes</td><td>bol</td></tr>\n",
       "<tr><td>wcarvalho@ig.com.br</td><td>pGD%!2Pq5X</td><td>AP</td><td>Laranja</td><td>Fonoaudi&oacute;logo</td><td>wcarvalho</td><td>ig</td></tr>\n",
       "<tr><td>da-conceicaodavi-...</td><td>uhBbFxPA&amp;9</td><td>MG</td><td>Rosa</td><td>Taxista</td><td>da-conceicaodavi-...</td><td>hotmail</td></tr>\n",
       "<tr><td>efreitas@bol.com.br</td><td>s#q9VZt&amp;xl</td><td>MG</td><td>Branco</td><td>Produtor De Audio...</td><td>efreitas</td><td>bol</td></tr>\n",
       "<tr><td>wnunes@bol.com.br</td><td>_8az1W%n7g</td><td>SE</td><td>Azul</td><td>Cadeirinha</td><td>wnunes</td><td>bol</td></tr>\n",
       "<tr><td>jribeiro@bol.com.br</td><td>MEf1X7fj_0</td><td>PA</td><td>Marrom</td><td>Ge&oacute;logo</td><td>jribeiro</td><td>bol</td></tr>\n",
       "<tr><td>murilo05@gmail.com</td><td>Te&amp;gO7GkKs</td><td>MT</td><td>Marrom</td><td>T&eacute;cnico De Som</td><td>murilo05</td><td>gmail</td></tr>\n",
       "<tr><td>joaquim57@ig.com.br</td><td>&amp;2E1NY+ARc</td><td>BA</td><td>Rosa</td><td>Esteticista</td><td>joaquim57</td><td>ig</td></tr>\n",
       "<tr><td>alexiada-rocha@ig...</td><td>@f@!Z!2c*2</td><td>MS</td><td>Laranja</td><td>Microfonista</td><td>alexiada-rocha</td><td>ig</td></tr>\n",
       "<tr><td>pmendes@gmail.com</td><td>M+^XDBfe(2</td><td>RR</td><td>Verde Claro</td><td>Fiscal</td><td>pmendes</td><td>gmail</td></tr>\n",
       "<tr><td>renan46@bol.com.br</td><td>Rp%2pVqfe$</td><td>PA</td><td>Verde Escuro</td><td>Contabilista</td><td>renan46</td><td>bol</td></tr>\n",
       "<tr><td>manuelada-rosa@ho...</td><td>#hEIEOztQ3</td><td>SE</td><td>Violeta</td><td>Seguidor De Compras</td><td>manuelada-rosa</td><td>hotmail</td></tr>\n",
       "<tr><td>usales@ig.com.br</td><td>b_8xaY$ozJ</td><td>AM</td><td>Rosa</td><td>Almirante</td><td>usales</td><td>ig</td></tr>\n",
       "<tr><td>pereiranicolas@ho...</td><td>YA9I85Wb+2</td><td>MA</td><td>Amarelo</td><td>Consultor De Moda</td><td>pereiranicolas</td><td>hotmail</td></tr>\n",
       "<tr><td>cardosolivia@ig.c...</td><td>yXkDW7Ebh*</td><td>GO</td><td>Laranja</td><td>Barbeiro</td><td>cardosolivia</td><td>ig</td></tr>\n",
       "<tr><td>brenda39@ig.com.br</td><td>XS$84Hpsnw</td><td>RJ</td><td>Branco</td><td>Promotor De Vendas</td><td>brenda39</td><td>ig</td></tr>\n",
       "<tr><td>luizapeixoto@gmai...</td><td>TbKy82Kda$</td><td>DF</td><td>Ciano</td><td>Implantodontista</td><td>luizapeixoto</td><td>gmail</td></tr>\n",
       "</table>\n",
       "only showing top 20 rows\n"
      ],
      "text/plain": [
       "+--------------------+----------+------+------------+--------------------+--------------------+--------+\n",
       "|               email|     senha|estado|cor_favorita|           profissao|             usuario|provedor|\n",
       "+--------------------+----------+------+------------+--------------------+--------------------+--------+\n",
       "|pedro-lucas53@gma...|+7^7E%xFBc|    RR|        Roxo|    Jogador De Golfe|       pedro-lucas53|   gmail|\n",
       "|rezendeisaac@hotm...|_O_2GRnGOe|    GO|       Ciano|Atleta De Arremes...|        rezendeisaac| hotmail|\n",
       "|felipepires@uol.c...|*Aw5EOAvy9|    MG|        Azul|      Papiloscopista|         felipepires|     uol|\n",
       "|stellamoraes@bol....|mw0AWYAs#s|    AC|      Marrom|            Aeromoça|        stellamoraes|     bol|\n",
       "| wcarvalho@ig.com.br|pGD%!2Pq5X|    AP|     Laranja|       Fonoaudiólogo|           wcarvalho|      ig|\n",
       "|da-conceicaodavi-...|uhBbFxPA&9|    MG|        Rosa|             Taxista|da-conceicaodavi-...| hotmail|\n",
       "| efreitas@bol.com.br|s#q9VZt&xl|    MG|      Branco|Produtor De Audio...|            efreitas|     bol|\n",
       "|   wnunes@bol.com.br|_8az1W%n7g|    SE|        Azul|          Cadeirinha|              wnunes|     bol|\n",
       "| jribeiro@bol.com.br|MEf1X7fj_0|    PA|      Marrom|             Geólogo|            jribeiro|     bol|\n",
       "|  murilo05@gmail.com|Te&gO7GkKs|    MT|      Marrom|      Técnico De Som|            murilo05|   gmail|\n",
       "| joaquim57@ig.com.br|&2E1NY+ARc|    BA|        Rosa|         Esteticista|           joaquim57|      ig|\n",
       "|alexiada-rocha@ig...|@f@!Z!2c*2|    MS|     Laranja|        Microfonista|      alexiada-rocha|      ig|\n",
       "|   pmendes@gmail.com|M+^XDBfe(2|    RR| Verde Claro|              Fiscal|             pmendes|   gmail|\n",
       "|  renan46@bol.com.br|Rp%2pVqfe$|    PA|Verde Escuro|        Contabilista|             renan46|     bol|\n",
       "|manuelada-rosa@ho...|#hEIEOztQ3|    SE|     Violeta| Seguidor De Compras|      manuelada-rosa| hotmail|\n",
       "|    usales@ig.com.br|b_8xaY$ozJ|    AM|        Rosa|           Almirante|              usales|      ig|\n",
       "|pereiranicolas@ho...|YA9I85Wb+2|    MA|     Amarelo|   Consultor De Moda|      pereiranicolas| hotmail|\n",
       "|cardosolivia@ig.c...|yXkDW7Ebh*|    GO|     Laranja|            Barbeiro|        cardosolivia|      ig|\n",
       "|  brenda39@ig.com.br|XS$84Hpsnw|    RJ|      Branco|  Promotor De Vendas|            brenda39|      ig|\n",
       "|luizapeixoto@gmai...|TbKy82Kda$|    DF|       Ciano|    Implantodontista|        luizapeixoto|   gmail|\n",
       "+--------------------+----------+------+------------+--------------------+--------------------+--------+\n",
       "only showing top 20 rows"
      ]
     },
     "execution_count": 32,
     "metadata": {},
     "output_type": "execute_result"
    }
   ],
   "source": [
    "# Criando novas colunas usando a função split\n",
    "(\n",
    "    df\n",
    "    .withColumn('usuario', F.split(F.col('email'), '@').getItem(0))\n",
    "    .withColumn('provedor', F.split(F.split(F.col('email'), '@').getItem(1), '\\.').getItem(0))\n",
    ")"
   ]
  },
  {
   "cell_type": "code",
   "execution_count": 31,
   "id": "81ab3dde-5ffc-4882-b6a7-22f330dd965e",
   "metadata": {},
   "outputs": [
    {
     "data": {
      "text/html": [
       "<table border='1'>\n",
       "<tr><th>email</th><th>senha</th><th>estado</th><th>cor_favorita</th><th>profissao</th><th>cor_estado</th></tr>\n",
       "<tr><td>pedro-lucas53@gma...</td><td>+7^7E%xFBc</td><td>RR</td><td>Roxo</td><td>Jogador De Golfe</td><td>Roxo RR</td></tr>\n",
       "<tr><td>rezendeisaac@hotm...</td><td>_O_2GRnGOe</td><td>GO</td><td>Ciano</td><td>Atleta De Arremes...</td><td>Ciano GO</td></tr>\n",
       "<tr><td>felipepires@uol.c...</td><td>*Aw5EOAvy9</td><td>MG</td><td>Azul</td><td>Papiloscopista</td><td>Azul MG</td></tr>\n",
       "<tr><td>stellamoraes@bol....</td><td>mw0AWYAs#s</td><td>AC</td><td>Marrom</td><td>Aeromo&ccedil;a</td><td>Marrom AC</td></tr>\n",
       "<tr><td>wcarvalho@ig.com.br</td><td>pGD%!2Pq5X</td><td>AP</td><td>Laranja</td><td>Fonoaudi&oacute;logo</td><td>Laranja AP</td></tr>\n",
       "<tr><td>da-conceicaodavi-...</td><td>uhBbFxPA&amp;9</td><td>MG</td><td>Rosa</td><td>Taxista</td><td>Rosa MG</td></tr>\n",
       "<tr><td>efreitas@bol.com.br</td><td>s#q9VZt&amp;xl</td><td>MG</td><td>Branco</td><td>Produtor De Audio...</td><td>Branco MG</td></tr>\n",
       "<tr><td>wnunes@bol.com.br</td><td>_8az1W%n7g</td><td>SE</td><td>Azul</td><td>Cadeirinha</td><td>Azul SE</td></tr>\n",
       "<tr><td>jribeiro@bol.com.br</td><td>MEf1X7fj_0</td><td>PA</td><td>Marrom</td><td>Ge&oacute;logo</td><td>Marrom PA</td></tr>\n",
       "<tr><td>murilo05@gmail.com</td><td>Te&amp;gO7GkKs</td><td>MT</td><td>Marrom</td><td>T&eacute;cnico De Som</td><td>Marrom MT</td></tr>\n",
       "<tr><td>joaquim57@ig.com.br</td><td>&amp;2E1NY+ARc</td><td>BA</td><td>Rosa</td><td>Esteticista</td><td>Rosa BA</td></tr>\n",
       "<tr><td>alexiada-rocha@ig...</td><td>@f@!Z!2c*2</td><td>MS</td><td>Laranja</td><td>Microfonista</td><td>Laranja MS</td></tr>\n",
       "<tr><td>pmendes@gmail.com</td><td>M+^XDBfe(2</td><td>RR</td><td>Verde Claro</td><td>Fiscal</td><td>Verde Claro RR</td></tr>\n",
       "<tr><td>renan46@bol.com.br</td><td>Rp%2pVqfe$</td><td>PA</td><td>Verde Escuro</td><td>Contabilista</td><td>Verde Escuro PA</td></tr>\n",
       "<tr><td>manuelada-rosa@ho...</td><td>#hEIEOztQ3</td><td>SE</td><td>Violeta</td><td>Seguidor De Compras</td><td>Violeta SE</td></tr>\n",
       "<tr><td>usales@ig.com.br</td><td>b_8xaY$ozJ</td><td>AM</td><td>Rosa</td><td>Almirante</td><td>Rosa AM</td></tr>\n",
       "<tr><td>pereiranicolas@ho...</td><td>YA9I85Wb+2</td><td>MA</td><td>Amarelo</td><td>Consultor De Moda</td><td>Amarelo MA</td></tr>\n",
       "<tr><td>cardosolivia@ig.c...</td><td>yXkDW7Ebh*</td><td>GO</td><td>Laranja</td><td>Barbeiro</td><td>Laranja GO</td></tr>\n",
       "<tr><td>brenda39@ig.com.br</td><td>XS$84Hpsnw</td><td>RJ</td><td>Branco</td><td>Promotor De Vendas</td><td>Branco RJ</td></tr>\n",
       "<tr><td>luizapeixoto@gmai...</td><td>TbKy82Kda$</td><td>DF</td><td>Ciano</td><td>Implantodontista</td><td>Ciano DF</td></tr>\n",
       "</table>\n",
       "only showing top 20 rows\n"
      ],
      "text/plain": [
       "+--------------------+----------+------+------------+--------------------+---------------+\n",
       "|               email|     senha|estado|cor_favorita|           profissao|     cor_estado|\n",
       "+--------------------+----------+------+------------+--------------------+---------------+\n",
       "|pedro-lucas53@gma...|+7^7E%xFBc|    RR|        Roxo|    Jogador De Golfe|        Roxo RR|\n",
       "|rezendeisaac@hotm...|_O_2GRnGOe|    GO|       Ciano|Atleta De Arremes...|       Ciano GO|\n",
       "|felipepires@uol.c...|*Aw5EOAvy9|    MG|        Azul|      Papiloscopista|        Azul MG|\n",
       "|stellamoraes@bol....|mw0AWYAs#s|    AC|      Marrom|            Aeromoça|      Marrom AC|\n",
       "| wcarvalho@ig.com.br|pGD%!2Pq5X|    AP|     Laranja|       Fonoaudiólogo|     Laranja AP|\n",
       "|da-conceicaodavi-...|uhBbFxPA&9|    MG|        Rosa|             Taxista|        Rosa MG|\n",
       "| efreitas@bol.com.br|s#q9VZt&xl|    MG|      Branco|Produtor De Audio...|      Branco MG|\n",
       "|   wnunes@bol.com.br|_8az1W%n7g|    SE|        Azul|          Cadeirinha|        Azul SE|\n",
       "| jribeiro@bol.com.br|MEf1X7fj_0|    PA|      Marrom|             Geólogo|      Marrom PA|\n",
       "|  murilo05@gmail.com|Te&gO7GkKs|    MT|      Marrom|      Técnico De Som|      Marrom MT|\n",
       "| joaquim57@ig.com.br|&2E1NY+ARc|    BA|        Rosa|         Esteticista|        Rosa BA|\n",
       "|alexiada-rocha@ig...|@f@!Z!2c*2|    MS|     Laranja|        Microfonista|     Laranja MS|\n",
       "|   pmendes@gmail.com|M+^XDBfe(2|    RR| Verde Claro|              Fiscal| Verde Claro RR|\n",
       "|  renan46@bol.com.br|Rp%2pVqfe$|    PA|Verde Escuro|        Contabilista|Verde Escuro PA|\n",
       "|manuelada-rosa@ho...|#hEIEOztQ3|    SE|     Violeta| Seguidor De Compras|     Violeta SE|\n",
       "|    usales@ig.com.br|b_8xaY$ozJ|    AM|        Rosa|           Almirante|        Rosa AM|\n",
       "|pereiranicolas@ho...|YA9I85Wb+2|    MA|     Amarelo|   Consultor De Moda|     Amarelo MA|\n",
       "|cardosolivia@ig.c...|yXkDW7Ebh*|    GO|     Laranja|            Barbeiro|     Laranja GO|\n",
       "|  brenda39@ig.com.br|XS$84Hpsnw|    RJ|      Branco|  Promotor De Vendas|      Branco RJ|\n",
       "|luizapeixoto@gmai...|TbKy82Kda$|    DF|       Ciano|    Implantodontista|       Ciano DF|\n",
       "+--------------------+----------+------+------------+--------------------+---------------+\n",
       "only showing top 20 rows"
      ]
     },
     "execution_count": 31,
     "metadata": {},
     "output_type": "execute_result"
    }
   ],
   "source": [
    "# Concatenando duas colunas\n",
    "(\n",
    "    df\n",
    "    .withColumn('cor_estado', F.concat(F.col('cor_favorita'), F.lit(' '), F.col('estado')))\n",
    ")"
   ]
  },
  {
   "cell_type": "code",
   "execution_count": 36,
   "id": "c5c28c37-279e-42b5-ab9b-a991523a8ffc",
   "metadata": {},
   "outputs": [
    {
     "data": {
      "text/html": [
       "<table border='1'>\n",
       "<tr><th>email</th><th>senha</th><th>estado</th><th>cor_favorita</th><th>profissao</th><th>cor_minuscula</th><th>cor_maiuscula</th><th>cor_initcap</th></tr>\n",
       "<tr><td>pedro-lucas53@gma...</td><td>+7^7E%xFBc</td><td>RR</td><td>Roxo</td><td>Jogador De Golfe</td><td>roxo</td><td>ROXO</td><td>Roxo</td></tr>\n",
       "<tr><td>rezendeisaac@hotm...</td><td>_O_2GRnGOe</td><td>GO</td><td>Ciano</td><td>Atleta De Arremes...</td><td>ciano</td><td>CIANO</td><td>Ciano</td></tr>\n",
       "<tr><td>felipepires@uol.c...</td><td>*Aw5EOAvy9</td><td>MG</td><td>Azul</td><td>Papiloscopista</td><td>azul</td><td>AZUL</td><td>Azul</td></tr>\n",
       "<tr><td>stellamoraes@bol....</td><td>mw0AWYAs#s</td><td>AC</td><td>Marrom</td><td>Aeromo&ccedil;a</td><td>marrom</td><td>MARROM</td><td>Marrom</td></tr>\n",
       "<tr><td>wcarvalho@ig.com.br</td><td>pGD%!2Pq5X</td><td>AP</td><td>Laranja</td><td>Fonoaudi&oacute;logo</td><td>laranja</td><td>LARANJA</td><td>Laranja</td></tr>\n",
       "<tr><td>da-conceicaodavi-...</td><td>uhBbFxPA&amp;9</td><td>MG</td><td>Rosa</td><td>Taxista</td><td>rosa</td><td>ROSA</td><td>Rosa</td></tr>\n",
       "<tr><td>efreitas@bol.com.br</td><td>s#q9VZt&amp;xl</td><td>MG</td><td>Branco</td><td>Produtor De Audio...</td><td>branco</td><td>BRANCO</td><td>Branco</td></tr>\n",
       "<tr><td>wnunes@bol.com.br</td><td>_8az1W%n7g</td><td>SE</td><td>Azul</td><td>Cadeirinha</td><td>azul</td><td>AZUL</td><td>Azul</td></tr>\n",
       "<tr><td>jribeiro@bol.com.br</td><td>MEf1X7fj_0</td><td>PA</td><td>Marrom</td><td>Ge&oacute;logo</td><td>marrom</td><td>MARROM</td><td>Marrom</td></tr>\n",
       "<tr><td>murilo05@gmail.com</td><td>Te&amp;gO7GkKs</td><td>MT</td><td>Marrom</td><td>T&eacute;cnico De Som</td><td>marrom</td><td>MARROM</td><td>Marrom</td></tr>\n",
       "<tr><td>joaquim57@ig.com.br</td><td>&amp;2E1NY+ARc</td><td>BA</td><td>Rosa</td><td>Esteticista</td><td>rosa</td><td>ROSA</td><td>Rosa</td></tr>\n",
       "<tr><td>alexiada-rocha@ig...</td><td>@f@!Z!2c*2</td><td>MS</td><td>Laranja</td><td>Microfonista</td><td>laranja</td><td>LARANJA</td><td>Laranja</td></tr>\n",
       "<tr><td>pmendes@gmail.com</td><td>M+^XDBfe(2</td><td>RR</td><td>Verde Claro</td><td>Fiscal</td><td>verde claro</td><td>VERDE CLARO</td><td>Verde Claro</td></tr>\n",
       "<tr><td>renan46@bol.com.br</td><td>Rp%2pVqfe$</td><td>PA</td><td>Verde Escuro</td><td>Contabilista</td><td>verde escuro</td><td>VERDE ESCURO</td><td>Verde Escuro</td></tr>\n",
       "<tr><td>manuelada-rosa@ho...</td><td>#hEIEOztQ3</td><td>SE</td><td>Violeta</td><td>Seguidor De Compras</td><td>violeta</td><td>VIOLETA</td><td>Violeta</td></tr>\n",
       "<tr><td>usales@ig.com.br</td><td>b_8xaY$ozJ</td><td>AM</td><td>Rosa</td><td>Almirante</td><td>rosa</td><td>ROSA</td><td>Rosa</td></tr>\n",
       "<tr><td>pereiranicolas@ho...</td><td>YA9I85Wb+2</td><td>MA</td><td>Amarelo</td><td>Consultor De Moda</td><td>amarelo</td><td>AMARELO</td><td>Amarelo</td></tr>\n",
       "<tr><td>cardosolivia@ig.c...</td><td>yXkDW7Ebh*</td><td>GO</td><td>Laranja</td><td>Barbeiro</td><td>laranja</td><td>LARANJA</td><td>Laranja</td></tr>\n",
       "<tr><td>brenda39@ig.com.br</td><td>XS$84Hpsnw</td><td>RJ</td><td>Branco</td><td>Promotor De Vendas</td><td>branco</td><td>BRANCO</td><td>Branco</td></tr>\n",
       "<tr><td>luizapeixoto@gmai...</td><td>TbKy82Kda$</td><td>DF</td><td>Ciano</td><td>Implantodontista</td><td>ciano</td><td>CIANO</td><td>Ciano</td></tr>\n",
       "</table>\n",
       "only showing top 20 rows\n"
      ],
      "text/plain": [
       "+--------------------+----------+------+------------+--------------------+-------------+-------------+------------+\n",
       "|               email|     senha|estado|cor_favorita|           profissao|cor_minuscula|cor_maiuscula| cor_initcap|\n",
       "+--------------------+----------+------+------------+--------------------+-------------+-------------+------------+\n",
       "|pedro-lucas53@gma...|+7^7E%xFBc|    RR|        Roxo|    Jogador De Golfe|         roxo|         ROXO|        Roxo|\n",
       "|rezendeisaac@hotm...|_O_2GRnGOe|    GO|       Ciano|Atleta De Arremes...|        ciano|        CIANO|       Ciano|\n",
       "|felipepires@uol.c...|*Aw5EOAvy9|    MG|        Azul|      Papiloscopista|         azul|         AZUL|        Azul|\n",
       "|stellamoraes@bol....|mw0AWYAs#s|    AC|      Marrom|            Aeromoça|       marrom|       MARROM|      Marrom|\n",
       "| wcarvalho@ig.com.br|pGD%!2Pq5X|    AP|     Laranja|       Fonoaudiólogo|      laranja|      LARANJA|     Laranja|\n",
       "|da-conceicaodavi-...|uhBbFxPA&9|    MG|        Rosa|             Taxista|         rosa|         ROSA|        Rosa|\n",
       "| efreitas@bol.com.br|s#q9VZt&xl|    MG|      Branco|Produtor De Audio...|       branco|       BRANCO|      Branco|\n",
       "|   wnunes@bol.com.br|_8az1W%n7g|    SE|        Azul|          Cadeirinha|         azul|         AZUL|        Azul|\n",
       "| jribeiro@bol.com.br|MEf1X7fj_0|    PA|      Marrom|             Geólogo|       marrom|       MARROM|      Marrom|\n",
       "|  murilo05@gmail.com|Te&gO7GkKs|    MT|      Marrom|      Técnico De Som|       marrom|       MARROM|      Marrom|\n",
       "| joaquim57@ig.com.br|&2E1NY+ARc|    BA|        Rosa|         Esteticista|         rosa|         ROSA|        Rosa|\n",
       "|alexiada-rocha@ig...|@f@!Z!2c*2|    MS|     Laranja|        Microfonista|      laranja|      LARANJA|     Laranja|\n",
       "|   pmendes@gmail.com|M+^XDBfe(2|    RR| Verde Claro|              Fiscal|  verde claro|  VERDE CLARO| Verde Claro|\n",
       "|  renan46@bol.com.br|Rp%2pVqfe$|    PA|Verde Escuro|        Contabilista| verde escuro| VERDE ESCURO|Verde Escuro|\n",
       "|manuelada-rosa@ho...|#hEIEOztQ3|    SE|     Violeta| Seguidor De Compras|      violeta|      VIOLETA|     Violeta|\n",
       "|    usales@ig.com.br|b_8xaY$ozJ|    AM|        Rosa|           Almirante|         rosa|         ROSA|        Rosa|\n",
       "|pereiranicolas@ho...|YA9I85Wb+2|    MA|     Amarelo|   Consultor De Moda|      amarelo|      AMARELO|     Amarelo|\n",
       "|cardosolivia@ig.c...|yXkDW7Ebh*|    GO|     Laranja|            Barbeiro|      laranja|      LARANJA|     Laranja|\n",
       "|  brenda39@ig.com.br|XS$84Hpsnw|    RJ|      Branco|  Promotor De Vendas|       branco|       BRANCO|      Branco|\n",
       "|luizapeixoto@gmai...|TbKy82Kda$|    DF|       Ciano|    Implantodontista|        ciano|        CIANO|       Ciano|\n",
       "+--------------------+----------+------+------------+--------------------+-------------+-------------+------------+\n",
       "only showing top 20 rows"
      ]
     },
     "execution_count": 36,
     "metadata": {},
     "output_type": "execute_result"
    }
   ],
   "source": [
    "# Transformando as letras em maiúsculas ou minúsculas\n",
    "(\n",
    "    df\n",
    "    .withColumn('cor_minuscula', F.lower(F.col('cor_favorita')))\n",
    "    .withColumn('cor_maiuscula', F.upper(F.col('cor_favorita')))\n",
    "    .withColumn('cor_initcap', F.initcap(F.col('cor_minuscula')))\n",
    ")"
   ]
  },
  {
   "cell_type": "code",
   "execution_count": 61,
   "id": "624fcf9d-def1-48b4-ba97-3fbf53acc7dc",
   "metadata": {},
   "outputs": [
    {
     "data": {
      "text/html": [
       "<table border='1'>\n",
       "<tr><th>email</th><th>senha</th><th>estado</th><th>cor_favorita</th><th>profissao</th><th>substring</th></tr>\n",
       "<tr><td>pedro-lucas53@gma...</td><td>+7^7E%xFBc</td><td>RR</td><td>Roxo</td><td>Jogador De Golfe</td><td>oxo</td></tr>\n",
       "<tr><td>rezendeisaac@hotm...</td><td>_O_2GRnGOe</td><td>GO</td><td>Ciano</td><td>Atleta De Arremes...</td><td>iano</td></tr>\n",
       "<tr><td>felipepires@uol.c...</td><td>*Aw5EOAvy9</td><td>MG</td><td>Azul</td><td>Papiloscopista</td><td>zul</td></tr>\n",
       "<tr><td>stellamoraes@bol....</td><td>mw0AWYAs#s</td><td>AC</td><td>Marrom</td><td>Aeromo&ccedil;a</td><td>arro</td></tr>\n",
       "<tr><td>wcarvalho@ig.com.br</td><td>pGD%!2Pq5X</td><td>AP</td><td>Laranja</td><td>Fonoaudi&oacute;logo</td><td>aran</td></tr>\n",
       "<tr><td>da-conceicaodavi-...</td><td>uhBbFxPA&amp;9</td><td>MG</td><td>Rosa</td><td>Taxista</td><td>osa</td></tr>\n",
       "<tr><td>efreitas@bol.com.br</td><td>s#q9VZt&amp;xl</td><td>MG</td><td>Branco</td><td>Produtor De Audio...</td><td>ranc</td></tr>\n",
       "<tr><td>wnunes@bol.com.br</td><td>_8az1W%n7g</td><td>SE</td><td>Azul</td><td>Cadeirinha</td><td>zul</td></tr>\n",
       "<tr><td>jribeiro@bol.com.br</td><td>MEf1X7fj_0</td><td>PA</td><td>Marrom</td><td>Ge&oacute;logo</td><td>arro</td></tr>\n",
       "<tr><td>murilo05@gmail.com</td><td>Te&amp;gO7GkKs</td><td>MT</td><td>Marrom</td><td>T&eacute;cnico De Som</td><td>arro</td></tr>\n",
       "<tr><td>joaquim57@ig.com.br</td><td>&amp;2E1NY+ARc</td><td>BA</td><td>Rosa</td><td>Esteticista</td><td>osa</td></tr>\n",
       "<tr><td>alexiada-rocha@ig...</td><td>@f@!Z!2c*2</td><td>MS</td><td>Laranja</td><td>Microfonista</td><td>aran</td></tr>\n",
       "<tr><td>pmendes@gmail.com</td><td>M+^XDBfe(2</td><td>RR</td><td>Verde Claro</td><td>Fiscal</td><td>erde</td></tr>\n",
       "<tr><td>renan46@bol.com.br</td><td>Rp%2pVqfe$</td><td>PA</td><td>Verde Escuro</td><td>Contabilista</td><td>erde</td></tr>\n",
       "<tr><td>manuelada-rosa@ho...</td><td>#hEIEOztQ3</td><td>SE</td><td>Violeta</td><td>Seguidor De Compras</td><td>iole</td></tr>\n",
       "<tr><td>usales@ig.com.br</td><td>b_8xaY$ozJ</td><td>AM</td><td>Rosa</td><td>Almirante</td><td>osa</td></tr>\n",
       "<tr><td>pereiranicolas@ho...</td><td>YA9I85Wb+2</td><td>MA</td><td>Amarelo</td><td>Consultor De Moda</td><td>mare</td></tr>\n",
       "<tr><td>cardosolivia@ig.c...</td><td>yXkDW7Ebh*</td><td>GO</td><td>Laranja</td><td>Barbeiro</td><td>aran</td></tr>\n",
       "<tr><td>brenda39@ig.com.br</td><td>XS$84Hpsnw</td><td>RJ</td><td>Branco</td><td>Promotor De Vendas</td><td>ranc</td></tr>\n",
       "<tr><td>luizapeixoto@gmai...</td><td>TbKy82Kda$</td><td>DF</td><td>Ciano</td><td>Implantodontista</td><td>iano</td></tr>\n",
       "</table>\n",
       "only showing top 20 rows\n"
      ],
      "text/plain": [
       "+--------------------+----------+------+------------+--------------------+---------+\n",
       "|               email|     senha|estado|cor_favorita|           profissao|substring|\n",
       "+--------------------+----------+------+------------+--------------------+---------+\n",
       "|pedro-lucas53@gma...|+7^7E%xFBc|    RR|        Roxo|    Jogador De Golfe|      oxo|\n",
       "|rezendeisaac@hotm...|_O_2GRnGOe|    GO|       Ciano|Atleta De Arremes...|     iano|\n",
       "|felipepires@uol.c...|*Aw5EOAvy9|    MG|        Azul|      Papiloscopista|      zul|\n",
       "|stellamoraes@bol....|mw0AWYAs#s|    AC|      Marrom|            Aeromoça|     arro|\n",
       "| wcarvalho@ig.com.br|pGD%!2Pq5X|    AP|     Laranja|       Fonoaudiólogo|     aran|\n",
       "|da-conceicaodavi-...|uhBbFxPA&9|    MG|        Rosa|             Taxista|      osa|\n",
       "| efreitas@bol.com.br|s#q9VZt&xl|    MG|      Branco|Produtor De Audio...|     ranc|\n",
       "|   wnunes@bol.com.br|_8az1W%n7g|    SE|        Azul|          Cadeirinha|      zul|\n",
       "| jribeiro@bol.com.br|MEf1X7fj_0|    PA|      Marrom|             Geólogo|     arro|\n",
       "|  murilo05@gmail.com|Te&gO7GkKs|    MT|      Marrom|      Técnico De Som|     arro|\n",
       "| joaquim57@ig.com.br|&2E1NY+ARc|    BA|        Rosa|         Esteticista|      osa|\n",
       "|alexiada-rocha@ig...|@f@!Z!2c*2|    MS|     Laranja|        Microfonista|     aran|\n",
       "|   pmendes@gmail.com|M+^XDBfe(2|    RR| Verde Claro|              Fiscal|     erde|\n",
       "|  renan46@bol.com.br|Rp%2pVqfe$|    PA|Verde Escuro|        Contabilista|     erde|\n",
       "|manuelada-rosa@ho...|#hEIEOztQ3|    SE|     Violeta| Seguidor De Compras|     iole|\n",
       "|    usales@ig.com.br|b_8xaY$ozJ|    AM|        Rosa|           Almirante|      osa|\n",
       "|pereiranicolas@ho...|YA9I85Wb+2|    MA|     Amarelo|   Consultor De Moda|     mare|\n",
       "|cardosolivia@ig.c...|yXkDW7Ebh*|    GO|     Laranja|            Barbeiro|     aran|\n",
       "|  brenda39@ig.com.br|XS$84Hpsnw|    RJ|      Branco|  Promotor De Vendas|     ranc|\n",
       "|luizapeixoto@gmai...|TbKy82Kda$|    DF|       Ciano|    Implantodontista|     iano|\n",
       "+--------------------+----------+------+------------+--------------------+---------+\n",
       "only showing top 20 rows"
      ]
     },
     "execution_count": 61,
     "metadata": {},
     "output_type": "execute_result"
    }
   ],
   "source": [
    "# Substring \n",
    "(\n",
    "    df\n",
    "    .withColumn('substring', F.substring(F.col('cor_favorita'), 2, 4))\n",
    ")"
   ]
  },
  {
   "cell_type": "code",
   "execution_count": 64,
   "id": "4b020dbb-c28a-4a7e-a87b-ae04555f9f08",
   "metadata": {},
   "outputs": [
    {
     "name": "stdout",
     "output_type": "stream",
     "text": [
      "+-----------------------------------+\n",
      "|string_formatada                   |\n",
      "+-----------------------------------+\n",
      "|Seu estado é RR e sua cor é Roxo   |\n",
      "|Seu estado é GO e sua cor é Ciano  |\n",
      "|Seu estado é MG e sua cor é Azul   |\n",
      "|Seu estado é AC e sua cor é Marrom |\n",
      "|Seu estado é AP e sua cor é Laranja|\n",
      "|Seu estado é MG e sua cor é Rosa   |\n",
      "|Seu estado é MG e sua cor é Branco |\n",
      "|Seu estado é SE e sua cor é Azul   |\n",
      "|Seu estado é PA e sua cor é Marrom |\n",
      "|Seu estado é MT e sua cor é Marrom |\n",
      "+-----------------------------------+\n",
      "only showing top 10 rows\n",
      "\n"
     ]
    }
   ],
   "source": [
    "# Formatar String\n",
    "(\n",
    "    df\n",
    "    .withColumn('string_formatada', F.format_string('Seu estado é %s e sua cor é %s', F.col('estado'), F.col('cor_favorita')))\n",
    "    .select(F.col('string_formatada'))\n",
    "    .show(10, False)\n",
    ")"
   ]
  },
  {
   "cell_type": "code",
   "execution_count": 65,
   "id": "7d65e1f7-b6f6-4371-a7c7-7c8b54801692",
   "metadata": {},
   "outputs": [
    {
     "data": {
      "text/html": [
       "<table border='1'>\n",
       "<tr><th>email</th><th>senha</th><th>estado</th><th>cor_favorita</th><th>profissao</th><th>posicao_arroba</th><th>posicao_gmail</th></tr>\n",
       "<tr><td>pedro-lucas53@gma...</td><td>+7^7E%xFBc</td><td>RR</td><td>Roxo</td><td>Jogador De Golfe</td><td>14</td><td>15</td></tr>\n",
       "<tr><td>rezendeisaac@hotm...</td><td>_O_2GRnGOe</td><td>GO</td><td>Ciano</td><td>Atleta De Arremes...</td><td>13</td><td>0</td></tr>\n",
       "<tr><td>felipepires@uol.c...</td><td>*Aw5EOAvy9</td><td>MG</td><td>Azul</td><td>Papiloscopista</td><td>12</td><td>0</td></tr>\n",
       "<tr><td>stellamoraes@bol....</td><td>mw0AWYAs#s</td><td>AC</td><td>Marrom</td><td>Aeromo&ccedil;a</td><td>13</td><td>0</td></tr>\n",
       "<tr><td>wcarvalho@ig.com.br</td><td>pGD%!2Pq5X</td><td>AP</td><td>Laranja</td><td>Fonoaudi&oacute;logo</td><td>10</td><td>0</td></tr>\n",
       "<tr><td>da-conceicaodavi-...</td><td>uhBbFxPA&amp;9</td><td>MG</td><td>Rosa</td><td>Taxista</td><td>23</td><td>0</td></tr>\n",
       "<tr><td>efreitas@bol.com.br</td><td>s#q9VZt&amp;xl</td><td>MG</td><td>Branco</td><td>Produtor De Audio...</td><td>9</td><td>0</td></tr>\n",
       "<tr><td>wnunes@bol.com.br</td><td>_8az1W%n7g</td><td>SE</td><td>Azul</td><td>Cadeirinha</td><td>7</td><td>0</td></tr>\n",
       "<tr><td>jribeiro@bol.com.br</td><td>MEf1X7fj_0</td><td>PA</td><td>Marrom</td><td>Ge&oacute;logo</td><td>9</td><td>0</td></tr>\n",
       "<tr><td>murilo05@gmail.com</td><td>Te&amp;gO7GkKs</td><td>MT</td><td>Marrom</td><td>T&eacute;cnico De Som</td><td>9</td><td>10</td></tr>\n",
       "<tr><td>joaquim57@ig.com.br</td><td>&amp;2E1NY+ARc</td><td>BA</td><td>Rosa</td><td>Esteticista</td><td>10</td><td>0</td></tr>\n",
       "<tr><td>alexiada-rocha@ig...</td><td>@f@!Z!2c*2</td><td>MS</td><td>Laranja</td><td>Microfonista</td><td>15</td><td>0</td></tr>\n",
       "<tr><td>pmendes@gmail.com</td><td>M+^XDBfe(2</td><td>RR</td><td>Verde Claro</td><td>Fiscal</td><td>8</td><td>9</td></tr>\n",
       "<tr><td>renan46@bol.com.br</td><td>Rp%2pVqfe$</td><td>PA</td><td>Verde Escuro</td><td>Contabilista</td><td>8</td><td>0</td></tr>\n",
       "<tr><td>manuelada-rosa@ho...</td><td>#hEIEOztQ3</td><td>SE</td><td>Violeta</td><td>Seguidor De Compras</td><td>15</td><td>0</td></tr>\n",
       "<tr><td>usales@ig.com.br</td><td>b_8xaY$ozJ</td><td>AM</td><td>Rosa</td><td>Almirante</td><td>7</td><td>0</td></tr>\n",
       "<tr><td>pereiranicolas@ho...</td><td>YA9I85Wb+2</td><td>MA</td><td>Amarelo</td><td>Consultor De Moda</td><td>15</td><td>0</td></tr>\n",
       "<tr><td>cardosolivia@ig.c...</td><td>yXkDW7Ebh*</td><td>GO</td><td>Laranja</td><td>Barbeiro</td><td>13</td><td>0</td></tr>\n",
       "<tr><td>brenda39@ig.com.br</td><td>XS$84Hpsnw</td><td>RJ</td><td>Branco</td><td>Promotor De Vendas</td><td>9</td><td>0</td></tr>\n",
       "<tr><td>luizapeixoto@gmai...</td><td>TbKy82Kda$</td><td>DF</td><td>Ciano</td><td>Implantodontista</td><td>13</td><td>14</td></tr>\n",
       "</table>\n",
       "only showing top 20 rows\n"
      ],
      "text/plain": [
       "+--------------------+----------+------+------------+--------------------+--------------+-------------+\n",
       "|               email|     senha|estado|cor_favorita|           profissao|posicao_arroba|posicao_gmail|\n",
       "+--------------------+----------+------+------------+--------------------+--------------+-------------+\n",
       "|pedro-lucas53@gma...|+7^7E%xFBc|    RR|        Roxo|    Jogador De Golfe|            14|           15|\n",
       "|rezendeisaac@hotm...|_O_2GRnGOe|    GO|       Ciano|Atleta De Arremes...|            13|            0|\n",
       "|felipepires@uol.c...|*Aw5EOAvy9|    MG|        Azul|      Papiloscopista|            12|            0|\n",
       "|stellamoraes@bol....|mw0AWYAs#s|    AC|      Marrom|            Aeromoça|            13|            0|\n",
       "| wcarvalho@ig.com.br|pGD%!2Pq5X|    AP|     Laranja|       Fonoaudiólogo|            10|            0|\n",
       "|da-conceicaodavi-...|uhBbFxPA&9|    MG|        Rosa|             Taxista|            23|            0|\n",
       "| efreitas@bol.com.br|s#q9VZt&xl|    MG|      Branco|Produtor De Audio...|             9|            0|\n",
       "|   wnunes@bol.com.br|_8az1W%n7g|    SE|        Azul|          Cadeirinha|             7|            0|\n",
       "| jribeiro@bol.com.br|MEf1X7fj_0|    PA|      Marrom|             Geólogo|             9|            0|\n",
       "|  murilo05@gmail.com|Te&gO7GkKs|    MT|      Marrom|      Técnico De Som|             9|           10|\n",
       "| joaquim57@ig.com.br|&2E1NY+ARc|    BA|        Rosa|         Esteticista|            10|            0|\n",
       "|alexiada-rocha@ig...|@f@!Z!2c*2|    MS|     Laranja|        Microfonista|            15|            0|\n",
       "|   pmendes@gmail.com|M+^XDBfe(2|    RR| Verde Claro|              Fiscal|             8|            9|\n",
       "|  renan46@bol.com.br|Rp%2pVqfe$|    PA|Verde Escuro|        Contabilista|             8|            0|\n",
       "|manuelada-rosa@ho...|#hEIEOztQ3|    SE|     Violeta| Seguidor De Compras|            15|            0|\n",
       "|    usales@ig.com.br|b_8xaY$ozJ|    AM|        Rosa|           Almirante|             7|            0|\n",
       "|pereiranicolas@ho...|YA9I85Wb+2|    MA|     Amarelo|   Consultor De Moda|            15|            0|\n",
       "|cardosolivia@ig.c...|yXkDW7Ebh*|    GO|     Laranja|            Barbeiro|            13|            0|\n",
       "|  brenda39@ig.com.br|XS$84Hpsnw|    RJ|      Branco|  Promotor De Vendas|             9|            0|\n",
       "|luizapeixoto@gmai...|TbKy82Kda$|    DF|       Ciano|    Implantodontista|            13|           14|\n",
       "+--------------------+----------+------+------------+--------------------+--------------+-------------+\n",
       "only showing top 20 rows"
      ]
     },
     "execution_count": 65,
     "metadata": {},
     "output_type": "execute_result"
    }
   ],
   "source": [
    "# Posição da letra ou substring\n",
    "(\n",
    "    df\n",
    "    .withColumn('posicao_arroba', F.instr(F.col('email'), '@'))\n",
    "    .withColumn('posicao_gmail', F.instr(F.col('email'), 'gmail')) # 0 é não encontrado, começa no 1\n",
    ")"
   ]
  },
  {
   "cell_type": "code",
   "execution_count": 55,
   "id": "193df4ab-1c82-4018-8e71-bb35b1533428",
   "metadata": {},
   "outputs": [
    {
     "data": {
      "text/html": [
       "<table border='1'>\n",
       "<tr><th>email</th><th>senha</th><th>estado</th><th>cor_favorita</th><th>profissao</th><th>tamanho_email</th></tr>\n",
       "<tr><td>pedro-lucas53@gma...</td><td>+7^7E%xFBc</td><td>RR</td><td>Roxo</td><td>Jogador De Golfe</td><td>23</td></tr>\n",
       "<tr><td>rezendeisaac@hotm...</td><td>_O_2GRnGOe</td><td>GO</td><td>Ciano</td><td>Atleta De Arremes...</td><td>24</td></tr>\n",
       "<tr><td>felipepires@uol.c...</td><td>*Aw5EOAvy9</td><td>MG</td><td>Azul</td><td>Papiloscopista</td><td>22</td></tr>\n",
       "<tr><td>stellamoraes@bol....</td><td>mw0AWYAs#s</td><td>AC</td><td>Marrom</td><td>Aeromo&ccedil;a</td><td>23</td></tr>\n",
       "<tr><td>wcarvalho@ig.com.br</td><td>pGD%!2Pq5X</td><td>AP</td><td>Laranja</td><td>Fonoaudi&oacute;logo</td><td>19</td></tr>\n",
       "<tr><td>da-conceicaodavi-...</td><td>uhBbFxPA&amp;9</td><td>MG</td><td>Rosa</td><td>Taxista</td><td>34</td></tr>\n",
       "<tr><td>efreitas@bol.com.br</td><td>s#q9VZt&amp;xl</td><td>MG</td><td>Branco</td><td>Produtor De Audio...</td><td>19</td></tr>\n",
       "<tr><td>wnunes@bol.com.br</td><td>_8az1W%n7g</td><td>SE</td><td>Azul</td><td>Cadeirinha</td><td>17</td></tr>\n",
       "<tr><td>jribeiro@bol.com.br</td><td>MEf1X7fj_0</td><td>PA</td><td>Marrom</td><td>Ge&oacute;logo</td><td>19</td></tr>\n",
       "<tr><td>murilo05@gmail.com</td><td>Te&amp;gO7GkKs</td><td>MT</td><td>Marrom</td><td>T&eacute;cnico De Som</td><td>18</td></tr>\n",
       "<tr><td>joaquim57@ig.com.br</td><td>&amp;2E1NY+ARc</td><td>BA</td><td>Rosa</td><td>Esteticista</td><td>19</td></tr>\n",
       "<tr><td>alexiada-rocha@ig...</td><td>@f@!Z!2c*2</td><td>MS</td><td>Laranja</td><td>Microfonista</td><td>24</td></tr>\n",
       "<tr><td>pmendes@gmail.com</td><td>M+^XDBfe(2</td><td>RR</td><td>Verde Claro</td><td>Fiscal</td><td>17</td></tr>\n",
       "<tr><td>renan46@bol.com.br</td><td>Rp%2pVqfe$</td><td>PA</td><td>Verde Escuro</td><td>Contabilista</td><td>18</td></tr>\n",
       "<tr><td>manuelada-rosa@ho...</td><td>#hEIEOztQ3</td><td>SE</td><td>Violeta</td><td>Seguidor De Compras</td><td>26</td></tr>\n",
       "<tr><td>usales@ig.com.br</td><td>b_8xaY$ozJ</td><td>AM</td><td>Rosa</td><td>Almirante</td><td>16</td></tr>\n",
       "<tr><td>pereiranicolas@ho...</td><td>YA9I85Wb+2</td><td>MA</td><td>Amarelo</td><td>Consultor De Moda</td><td>26</td></tr>\n",
       "<tr><td>cardosolivia@ig.c...</td><td>yXkDW7Ebh*</td><td>GO</td><td>Laranja</td><td>Barbeiro</td><td>22</td></tr>\n",
       "<tr><td>brenda39@ig.com.br</td><td>XS$84Hpsnw</td><td>RJ</td><td>Branco</td><td>Promotor De Vendas</td><td>18</td></tr>\n",
       "<tr><td>luizapeixoto@gmai...</td><td>TbKy82Kda$</td><td>DF</td><td>Ciano</td><td>Implantodontista</td><td>22</td></tr>\n",
       "</table>\n",
       "only showing top 20 rows\n"
      ],
      "text/plain": [
       "+--------------------+----------+------+------------+--------------------+-------------+\n",
       "|               email|     senha|estado|cor_favorita|           profissao|tamanho_email|\n",
       "+--------------------+----------+------+------------+--------------------+-------------+\n",
       "|pedro-lucas53@gma...|+7^7E%xFBc|    RR|        Roxo|    Jogador De Golfe|           23|\n",
       "|rezendeisaac@hotm...|_O_2GRnGOe|    GO|       Ciano|Atleta De Arremes...|           24|\n",
       "|felipepires@uol.c...|*Aw5EOAvy9|    MG|        Azul|      Papiloscopista|           22|\n",
       "|stellamoraes@bol....|mw0AWYAs#s|    AC|      Marrom|            Aeromoça|           23|\n",
       "| wcarvalho@ig.com.br|pGD%!2Pq5X|    AP|     Laranja|       Fonoaudiólogo|           19|\n",
       "|da-conceicaodavi-...|uhBbFxPA&9|    MG|        Rosa|             Taxista|           34|\n",
       "| efreitas@bol.com.br|s#q9VZt&xl|    MG|      Branco|Produtor De Audio...|           19|\n",
       "|   wnunes@bol.com.br|_8az1W%n7g|    SE|        Azul|          Cadeirinha|           17|\n",
       "| jribeiro@bol.com.br|MEf1X7fj_0|    PA|      Marrom|             Geólogo|           19|\n",
       "|  murilo05@gmail.com|Te&gO7GkKs|    MT|      Marrom|      Técnico De Som|           18|\n",
       "| joaquim57@ig.com.br|&2E1NY+ARc|    BA|        Rosa|         Esteticista|           19|\n",
       "|alexiada-rocha@ig...|@f@!Z!2c*2|    MS|     Laranja|        Microfonista|           24|\n",
       "|   pmendes@gmail.com|M+^XDBfe(2|    RR| Verde Claro|              Fiscal|           17|\n",
       "|  renan46@bol.com.br|Rp%2pVqfe$|    PA|Verde Escuro|        Contabilista|           18|\n",
       "|manuelada-rosa@ho...|#hEIEOztQ3|    SE|     Violeta| Seguidor De Compras|           26|\n",
       "|    usales@ig.com.br|b_8xaY$ozJ|    AM|        Rosa|           Almirante|           16|\n",
       "|pereiranicolas@ho...|YA9I85Wb+2|    MA|     Amarelo|   Consultor De Moda|           26|\n",
       "|cardosolivia@ig.c...|yXkDW7Ebh*|    GO|     Laranja|            Barbeiro|           22|\n",
       "|  brenda39@ig.com.br|XS$84Hpsnw|    RJ|      Branco|  Promotor De Vendas|           18|\n",
       "|luizapeixoto@gmai...|TbKy82Kda$|    DF|       Ciano|    Implantodontista|           22|\n",
       "+--------------------+----------+------+------------+--------------------+-------------+\n",
       "only showing top 20 rows"
      ]
     },
     "execution_count": 55,
     "metadata": {},
     "output_type": "execute_result"
    }
   ],
   "source": [
    "# Contagem de caracteres\n",
    "(\n",
    "    df\n",
    "    .withColumn('tamanho_email', F.length(F.col('email')))\n",
    ")"
   ]
  },
  {
   "cell_type": "code",
   "execution_count": 69,
   "id": "bf8ea7ef-446d-4a4f-98af-6bacda4fa9c5",
   "metadata": {},
   "outputs": [
    {
     "data": {
      "text/html": [
       "<table border='1'>\n",
       "<tr><th>email</th><th>senha</th><th>estado</th><th>cor_favorita</th><th>profissao</th><th>repetir_estado</th></tr>\n",
       "<tr><td>pedro-lucas53@gma...</td><td>+7^7E%xFBc</td><td>RR</td><td>Roxo</td><td>Jogador De Golfe</td><td>RRRRRRRRRR</td></tr>\n",
       "<tr><td>rezendeisaac@hotm...</td><td>_O_2GRnGOe</td><td>GO</td><td>Ciano</td><td>Atleta De Arremes...</td><td>GOGOGOGOGO</td></tr>\n",
       "<tr><td>felipepires@uol.c...</td><td>*Aw5EOAvy9</td><td>MG</td><td>Azul</td><td>Papiloscopista</td><td>MGMGMGMGMG</td></tr>\n",
       "<tr><td>stellamoraes@bol....</td><td>mw0AWYAs#s</td><td>AC</td><td>Marrom</td><td>Aeromo&ccedil;a</td><td>ACACACACAC</td></tr>\n",
       "<tr><td>wcarvalho@ig.com.br</td><td>pGD%!2Pq5X</td><td>AP</td><td>Laranja</td><td>Fonoaudi&oacute;logo</td><td>APAPAPAPAP</td></tr>\n",
       "<tr><td>da-conceicaodavi-...</td><td>uhBbFxPA&amp;9</td><td>MG</td><td>Rosa</td><td>Taxista</td><td>MGMGMGMGMG</td></tr>\n",
       "<tr><td>efreitas@bol.com.br</td><td>s#q9VZt&amp;xl</td><td>MG</td><td>Branco</td><td>Produtor De Audio...</td><td>MGMGMGMGMG</td></tr>\n",
       "<tr><td>wnunes@bol.com.br</td><td>_8az1W%n7g</td><td>SE</td><td>Azul</td><td>Cadeirinha</td><td>SESESESESE</td></tr>\n",
       "<tr><td>jribeiro@bol.com.br</td><td>MEf1X7fj_0</td><td>PA</td><td>Marrom</td><td>Ge&oacute;logo</td><td>PAPAPAPAPA</td></tr>\n",
       "<tr><td>murilo05@gmail.com</td><td>Te&amp;gO7GkKs</td><td>MT</td><td>Marrom</td><td>T&eacute;cnico De Som</td><td>MTMTMTMTMT</td></tr>\n",
       "<tr><td>joaquim57@ig.com.br</td><td>&amp;2E1NY+ARc</td><td>BA</td><td>Rosa</td><td>Esteticista</td><td>BABABABABA</td></tr>\n",
       "<tr><td>alexiada-rocha@ig...</td><td>@f@!Z!2c*2</td><td>MS</td><td>Laranja</td><td>Microfonista</td><td>MSMSMSMSMS</td></tr>\n",
       "<tr><td>pmendes@gmail.com</td><td>M+^XDBfe(2</td><td>RR</td><td>Verde Claro</td><td>Fiscal</td><td>RRRRRRRRRR</td></tr>\n",
       "<tr><td>renan46@bol.com.br</td><td>Rp%2pVqfe$</td><td>PA</td><td>Verde Escuro</td><td>Contabilista</td><td>PAPAPAPAPA</td></tr>\n",
       "<tr><td>manuelada-rosa@ho...</td><td>#hEIEOztQ3</td><td>SE</td><td>Violeta</td><td>Seguidor De Compras</td><td>SESESESESE</td></tr>\n",
       "<tr><td>usales@ig.com.br</td><td>b_8xaY$ozJ</td><td>AM</td><td>Rosa</td><td>Almirante</td><td>AMAMAMAMAM</td></tr>\n",
       "<tr><td>pereiranicolas@ho...</td><td>YA9I85Wb+2</td><td>MA</td><td>Amarelo</td><td>Consultor De Moda</td><td>MAMAMAMAMA</td></tr>\n",
       "<tr><td>cardosolivia@ig.c...</td><td>yXkDW7Ebh*</td><td>GO</td><td>Laranja</td><td>Barbeiro</td><td>GOGOGOGOGO</td></tr>\n",
       "<tr><td>brenda39@ig.com.br</td><td>XS$84Hpsnw</td><td>RJ</td><td>Branco</td><td>Promotor De Vendas</td><td>RJRJRJRJRJ</td></tr>\n",
       "<tr><td>luizapeixoto@gmai...</td><td>TbKy82Kda$</td><td>DF</td><td>Ciano</td><td>Implantodontista</td><td>DFDFDFDFDF</td></tr>\n",
       "</table>\n",
       "only showing top 20 rows\n"
      ],
      "text/plain": [
       "+--------------------+----------+------+------------+--------------------+--------------+\n",
       "|               email|     senha|estado|cor_favorita|           profissao|repetir_estado|\n",
       "+--------------------+----------+------+------------+--------------------+--------------+\n",
       "|pedro-lucas53@gma...|+7^7E%xFBc|    RR|        Roxo|    Jogador De Golfe|    RRRRRRRRRR|\n",
       "|rezendeisaac@hotm...|_O_2GRnGOe|    GO|       Ciano|Atleta De Arremes...|    GOGOGOGOGO|\n",
       "|felipepires@uol.c...|*Aw5EOAvy9|    MG|        Azul|      Papiloscopista|    MGMGMGMGMG|\n",
       "|stellamoraes@bol....|mw0AWYAs#s|    AC|      Marrom|            Aeromoça|    ACACACACAC|\n",
       "| wcarvalho@ig.com.br|pGD%!2Pq5X|    AP|     Laranja|       Fonoaudiólogo|    APAPAPAPAP|\n",
       "|da-conceicaodavi-...|uhBbFxPA&9|    MG|        Rosa|             Taxista|    MGMGMGMGMG|\n",
       "| efreitas@bol.com.br|s#q9VZt&xl|    MG|      Branco|Produtor De Audio...|    MGMGMGMGMG|\n",
       "|   wnunes@bol.com.br|_8az1W%n7g|    SE|        Azul|          Cadeirinha|    SESESESESE|\n",
       "| jribeiro@bol.com.br|MEf1X7fj_0|    PA|      Marrom|             Geólogo|    PAPAPAPAPA|\n",
       "|  murilo05@gmail.com|Te&gO7GkKs|    MT|      Marrom|      Técnico De Som|    MTMTMTMTMT|\n",
       "| joaquim57@ig.com.br|&2E1NY+ARc|    BA|        Rosa|         Esteticista|    BABABABABA|\n",
       "|alexiada-rocha@ig...|@f@!Z!2c*2|    MS|     Laranja|        Microfonista|    MSMSMSMSMS|\n",
       "|   pmendes@gmail.com|M+^XDBfe(2|    RR| Verde Claro|              Fiscal|    RRRRRRRRRR|\n",
       "|  renan46@bol.com.br|Rp%2pVqfe$|    PA|Verde Escuro|        Contabilista|    PAPAPAPAPA|\n",
       "|manuelada-rosa@ho...|#hEIEOztQ3|    SE|     Violeta| Seguidor De Compras|    SESESESESE|\n",
       "|    usales@ig.com.br|b_8xaY$ozJ|    AM|        Rosa|           Almirante|    AMAMAMAMAM|\n",
       "|pereiranicolas@ho...|YA9I85Wb+2|    MA|     Amarelo|   Consultor De Moda|    MAMAMAMAMA|\n",
       "|cardosolivia@ig.c...|yXkDW7Ebh*|    GO|     Laranja|            Barbeiro|    GOGOGOGOGO|\n",
       "|  brenda39@ig.com.br|XS$84Hpsnw|    RJ|      Branco|  Promotor De Vendas|    RJRJRJRJRJ|\n",
       "|luizapeixoto@gmai...|TbKy82Kda$|    DF|       Ciano|    Implantodontista|    DFDFDFDFDF|\n",
       "+--------------------+----------+------+------------+--------------------+--------------+\n",
       "only showing top 20 rows"
      ]
     },
     "execution_count": 69,
     "metadata": {},
     "output_type": "execute_result"
    }
   ],
   "source": [
    "# Repetição\n",
    "(\n",
    "    df\n",
    "    .withColumn('repetir_estado', F.repeat(F.col('estado'), 5))\n",
    ")"
   ]
  },
  {
   "cell_type": "code",
   "execution_count": 79,
   "id": "8c8f73f8-bb90-4eef-b6c3-d2cd6e614e5b",
   "metadata": {},
   "outputs": [
    {
     "name": "stdout",
     "output_type": "stream",
     "text": [
      "+------+------------+------+\n",
      "|estado|espacos     |podado|\n",
      "+------+------------+------+\n",
      "|RR    |     RR     |RR    |\n",
      "|GO    |     GO     |GO    |\n",
      "|MG    |     MG     |MG    |\n",
      "|AC    |     AC     |AC    |\n",
      "|AP    |     AP     |AP    |\n",
      "|MG    |     MG     |MG    |\n",
      "|MG    |     MG     |MG    |\n",
      "|SE    |     SE     |SE    |\n",
      "|PA    |     PA     |PA    |\n",
      "|MT    |     MT     |MT    |\n",
      "+------+------------+------+\n",
      "only showing top 10 rows\n",
      "\n"
     ]
    }
   ],
   "source": [
    "# Podar\n",
    "(\n",
    "    df\n",
    "    .withColumn('espacos', F.concat(F.lit('     '), F.col('estado'), F.lit('     ')))\n",
    "    .withColumn('podado', F.trim(F.col('espacos')))\n",
    "    .select(F.col('estado'), F.col('espacos'), F.col('podado'))\n",
    "    .show(10, False)\n",
    ")"
   ]
  },
  {
   "cell_type": "code",
   "execution_count": 84,
   "id": "b5b8895e-e6c6-4352-b42b-8a4f7cd01969",
   "metadata": {},
   "outputs": [
    {
     "data": {
      "text/html": [
       "<table border='1'>\n",
       "<tr><th>email</th><th>senha</th><th>estado</th><th>cor_favorita</th><th>profissao</th><th>esquerda</th><th>direita</th></tr>\n",
       "<tr><td>pedro-lucas53@gma...</td><td>+7^7E%xFBc</td><td>RR</td><td>Roxo</td><td>Jogador De Golfe</td><td>******Roxo</td><td>Roxo******</td></tr>\n",
       "<tr><td>rezendeisaac@hotm...</td><td>_O_2GRnGOe</td><td>GO</td><td>Ciano</td><td>Atleta De Arremes...</td><td>*****Ciano</td><td>Ciano*****</td></tr>\n",
       "<tr><td>felipepires@uol.c...</td><td>*Aw5EOAvy9</td><td>MG</td><td>Azul</td><td>Papiloscopista</td><td>******Azul</td><td>Azul******</td></tr>\n",
       "<tr><td>stellamoraes@bol....</td><td>mw0AWYAs#s</td><td>AC</td><td>Marrom</td><td>Aeromo&ccedil;a</td><td>****Marrom</td><td>Marrom****</td></tr>\n",
       "<tr><td>wcarvalho@ig.com.br</td><td>pGD%!2Pq5X</td><td>AP</td><td>Laranja</td><td>Fonoaudi&oacute;logo</td><td>***Laranja</td><td>Laranja***</td></tr>\n",
       "<tr><td>da-conceicaodavi-...</td><td>uhBbFxPA&amp;9</td><td>MG</td><td>Rosa</td><td>Taxista</td><td>******Rosa</td><td>Rosa******</td></tr>\n",
       "<tr><td>efreitas@bol.com.br</td><td>s#q9VZt&amp;xl</td><td>MG</td><td>Branco</td><td>Produtor De Audio...</td><td>****Branco</td><td>Branco****</td></tr>\n",
       "<tr><td>wnunes@bol.com.br</td><td>_8az1W%n7g</td><td>SE</td><td>Azul</td><td>Cadeirinha</td><td>******Azul</td><td>Azul******</td></tr>\n",
       "<tr><td>jribeiro@bol.com.br</td><td>MEf1X7fj_0</td><td>PA</td><td>Marrom</td><td>Ge&oacute;logo</td><td>****Marrom</td><td>Marrom****</td></tr>\n",
       "<tr><td>murilo05@gmail.com</td><td>Te&amp;gO7GkKs</td><td>MT</td><td>Marrom</td><td>T&eacute;cnico De Som</td><td>****Marrom</td><td>Marrom****</td></tr>\n",
       "<tr><td>joaquim57@ig.com.br</td><td>&amp;2E1NY+ARc</td><td>BA</td><td>Rosa</td><td>Esteticista</td><td>******Rosa</td><td>Rosa******</td></tr>\n",
       "<tr><td>alexiada-rocha@ig...</td><td>@f@!Z!2c*2</td><td>MS</td><td>Laranja</td><td>Microfonista</td><td>***Laranja</td><td>Laranja***</td></tr>\n",
       "<tr><td>pmendes@gmail.com</td><td>M+^XDBfe(2</td><td>RR</td><td>Verde Claro</td><td>Fiscal</td><td>Verde Clar</td><td>Verde Clar</td></tr>\n",
       "<tr><td>renan46@bol.com.br</td><td>Rp%2pVqfe$</td><td>PA</td><td>Verde Escuro</td><td>Contabilista</td><td>Verde Escu</td><td>Verde Escu</td></tr>\n",
       "<tr><td>manuelada-rosa@ho...</td><td>#hEIEOztQ3</td><td>SE</td><td>Violeta</td><td>Seguidor De Compras</td><td>***Violeta</td><td>Violeta***</td></tr>\n",
       "<tr><td>usales@ig.com.br</td><td>b_8xaY$ozJ</td><td>AM</td><td>Rosa</td><td>Almirante</td><td>******Rosa</td><td>Rosa******</td></tr>\n",
       "<tr><td>pereiranicolas@ho...</td><td>YA9I85Wb+2</td><td>MA</td><td>Amarelo</td><td>Consultor De Moda</td><td>***Amarelo</td><td>Amarelo***</td></tr>\n",
       "<tr><td>cardosolivia@ig.c...</td><td>yXkDW7Ebh*</td><td>GO</td><td>Laranja</td><td>Barbeiro</td><td>***Laranja</td><td>Laranja***</td></tr>\n",
       "<tr><td>brenda39@ig.com.br</td><td>XS$84Hpsnw</td><td>RJ</td><td>Branco</td><td>Promotor De Vendas</td><td>****Branco</td><td>Branco****</td></tr>\n",
       "<tr><td>luizapeixoto@gmai...</td><td>TbKy82Kda$</td><td>DF</td><td>Ciano</td><td>Implantodontista</td><td>*****Ciano</td><td>Ciano*****</td></tr>\n",
       "</table>\n",
       "only showing top 20 rows\n"
      ],
      "text/plain": [
       "+--------------------+----------+------+------------+--------------------+----------+----------+\n",
       "|               email|     senha|estado|cor_favorita|           profissao|  esquerda|   direita|\n",
       "+--------------------+----------+------+------------+--------------------+----------+----------+\n",
       "|pedro-lucas53@gma...|+7^7E%xFBc|    RR|        Roxo|    Jogador De Golfe|******Roxo|Roxo******|\n",
       "|rezendeisaac@hotm...|_O_2GRnGOe|    GO|       Ciano|Atleta De Arremes...|*****Ciano|Ciano*****|\n",
       "|felipepires@uol.c...|*Aw5EOAvy9|    MG|        Azul|      Papiloscopista|******Azul|Azul******|\n",
       "|stellamoraes@bol....|mw0AWYAs#s|    AC|      Marrom|            Aeromoça|****Marrom|Marrom****|\n",
       "| wcarvalho@ig.com.br|pGD%!2Pq5X|    AP|     Laranja|       Fonoaudiólogo|***Laranja|Laranja***|\n",
       "|da-conceicaodavi-...|uhBbFxPA&9|    MG|        Rosa|             Taxista|******Rosa|Rosa******|\n",
       "| efreitas@bol.com.br|s#q9VZt&xl|    MG|      Branco|Produtor De Audio...|****Branco|Branco****|\n",
       "|   wnunes@bol.com.br|_8az1W%n7g|    SE|        Azul|          Cadeirinha|******Azul|Azul******|\n",
       "| jribeiro@bol.com.br|MEf1X7fj_0|    PA|      Marrom|             Geólogo|****Marrom|Marrom****|\n",
       "|  murilo05@gmail.com|Te&gO7GkKs|    MT|      Marrom|      Técnico De Som|****Marrom|Marrom****|\n",
       "| joaquim57@ig.com.br|&2E1NY+ARc|    BA|        Rosa|         Esteticista|******Rosa|Rosa******|\n",
       "|alexiada-rocha@ig...|@f@!Z!2c*2|    MS|     Laranja|        Microfonista|***Laranja|Laranja***|\n",
       "|   pmendes@gmail.com|M+^XDBfe(2|    RR| Verde Claro|              Fiscal|Verde Clar|Verde Clar|\n",
       "|  renan46@bol.com.br|Rp%2pVqfe$|    PA|Verde Escuro|        Contabilista|Verde Escu|Verde Escu|\n",
       "|manuelada-rosa@ho...|#hEIEOztQ3|    SE|     Violeta| Seguidor De Compras|***Violeta|Violeta***|\n",
       "|    usales@ig.com.br|b_8xaY$ozJ|    AM|        Rosa|           Almirante|******Rosa|Rosa******|\n",
       "|pereiranicolas@ho...|YA9I85Wb+2|    MA|     Amarelo|   Consultor De Moda|***Amarelo|Amarelo***|\n",
       "|cardosolivia@ig.c...|yXkDW7Ebh*|    GO|     Laranja|            Barbeiro|***Laranja|Laranja***|\n",
       "|  brenda39@ig.com.br|XS$84Hpsnw|    RJ|      Branco|  Promotor De Vendas|****Branco|Branco****|\n",
       "|luizapeixoto@gmai...|TbKy82Kda$|    DF|       Ciano|    Implantodontista|*****Ciano|Ciano*****|\n",
       "+--------------------+----------+------+------------+--------------------+----------+----------+\n",
       "only showing top 20 rows"
      ]
     },
     "execution_count": 84,
     "metadata": {},
     "output_type": "execute_result"
    }
   ],
   "source": [
    "# Preenchimento a direita e a esquerda \n",
    "(\n",
    "    df\n",
    "    .withColumn('esquerda', F.lpad(F.col('cor_favorita'), 10, '*'))\n",
    "    .withColumn('direita', F.rpad(F.col('cor_favorita'), 10, '*'))\n",
    ")"
   ]
  }
 ],
 "metadata": {
  "kernelspec": {
   "display_name": "Python 3 (ipykernel)",
   "language": "python",
   "name": "python3"
  },
  "language_info": {
   "codemirror_mode": {
    "name": "ipython",
    "version": 3
   },
   "file_extension": ".py",
   "mimetype": "text/x-python",
   "name": "python",
   "nbconvert_exporter": "python",
   "pygments_lexer": "ipython3",
   "version": "3.11.5"
  }
 },
 "nbformat": 4,
 "nbformat_minor": 5
}
