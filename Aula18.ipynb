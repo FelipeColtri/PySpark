{
 "cells": [
  {
   "cell_type": "code",
   "execution_count": 24,
   "id": "9d35a332-e77d-452b-b498-96ceb6a55c30",
   "metadata": {},
   "outputs": [],
   "source": [
    "# Importando as bibliotecas utilizadas\n",
    "from pyspark.sql import SparkSession\n",
    "import pyspark.sql.functions as F\n",
    "import pyspark.sql.types as T\n",
    "from pyspark.sql import Row"
   ]
  },
  {
   "cell_type": "code",
   "execution_count": 3,
   "id": "625fa924-96c4-4e56-93e6-f01b745c9375",
   "metadata": {},
   "outputs": [],
   "source": [
    "# Criando a sessão, nomeando e configurando para mostrar tabela do tipo pandas \n",
    "spark = (\n",
    "    SparkSession.builder\n",
    "    .appName('PySpark - Criando um Dataframe')\n",
    "    .config('spark.sql.repl.eagerEval.enabled', True)\n",
    "    .getOrCreate()\n",
    ")"
   ]
  },
  {
   "cell_type": "code",
   "execution_count": 9,
   "id": "df489d01-0f7b-4d27-9f7d-cb7e4919555d",
   "metadata": {},
   "outputs": [
    {
     "data": {
      "text/plain": [
       "[{'nome': 'joao', 'idade': 23},\n",
       " {'nome': 'pedro', 'idade': 29},\n",
       " {'nome': 'paulo', 'idade': 35}]"
      ]
     },
     "execution_count": 9,
     "metadata": {},
     "output_type": "execute_result"
    }
   ],
   "source": [
    "# Criando uma lista de dicionários {coluna: valor}\n",
    "dicionarios = [\n",
    "    {'nome': 'joao', 'idade': 23},\n",
    "    {'nome': 'pedro', 'idade': 29},\n",
    "    {'nome': 'paulo', 'idade': 35}\n",
    "]\n",
    "dicionario"
   ]
  },
  {
   "cell_type": "code",
   "execution_count": 10,
   "id": "e7dc4c33-ee93-4237-80dc-8b2bd1ff8d24",
   "metadata": {},
   "outputs": [
    {
     "data": {
      "text/html": [
       "<table border='1'>\n",
       "<tr><th>idade</th><th>nome</th></tr>\n",
       "<tr><td>23</td><td>joao</td></tr>\n",
       "<tr><td>29</td><td>pedro</td></tr>\n",
       "<tr><td>35</td><td>paulo</td></tr>\n",
       "</table>\n"
      ],
      "text/plain": [
       "+-----+-----+\n",
       "|idade| nome|\n",
       "+-----+-----+\n",
       "|   23| joao|\n",
       "|   29|pedro|\n",
       "|   35|paulo|\n",
       "+-----+-----+"
      ]
     },
     "execution_count": 10,
     "metadata": {},
     "output_type": "execute_result"
    }
   ],
   "source": [
    "# Transformando os dicionários em um dataframe spark \n",
    "df = spark.createDataFrame(dicionarios)\n",
    "df"
   ]
  },
  {
   "cell_type": "code",
   "execution_count": 12,
   "id": "fd5159bc-f982-42d2-b99a-7f36f1a6474a",
   "metadata": {},
   "outputs": [],
   "source": [
    "# Criando uma lista de tuplas (coluna, valor)\n",
    "tuplas = [\n",
    "    ('joao', 23),\n",
    "    ('pedro', 29),\n",
    "    ('paulo', 35)\n",
    "]"
   ]
  },
  {
   "cell_type": "code",
   "execution_count": 14,
   "id": "e8f9eb46-f217-4ab8-a1de-5234dacf9b45",
   "metadata": {},
   "outputs": [
    {
     "data": {
      "text/html": [
       "<table border='1'>\n",
       "<tr><th>nome</th><th>idade</th></tr>\n",
       "<tr><td>joao</td><td>23</td></tr>\n",
       "<tr><td>pedro</td><td>29</td></tr>\n",
       "<tr><td>paulo</td><td>35</td></tr>\n",
       "</table>\n"
      ],
      "text/plain": [
       "+-----+-----+\n",
       "| nome|idade|\n",
       "+-----+-----+\n",
       "| joao|   23|\n",
       "|pedro|   29|\n",
       "|paulo|   35|\n",
       "+-----+-----+"
      ]
     },
     "execution_count": 14,
     "metadata": {},
     "output_type": "execute_result"
    }
   ],
   "source": [
    "# Transformando as tuplas em um dataframe spark \n",
    "df = spark.createDataFrame(tuplas, ['nome', 'idade'])\n",
    "df"
   ]
  },
  {
   "cell_type": "code",
   "execution_count": 19,
   "id": "9b2d57e0-e0a8-4be3-bd03-2e7def98f7fb",
   "metadata": {},
   "outputs": [],
   "source": [
    "# Definindo o Schema do tipo de dado (usando pyspark.sql.types) \n",
    "schema = T.StructType([\n",
    "    T.StructField('nome', T.StringType(), True), # coluna nome do tipo string que permite valores nulos \n",
    "    T.StructField('idade', T.IntegerType(), True)\n",
    "])"
   ]
  },
  {
   "cell_type": "code",
   "execution_count": 23,
   "id": "fef25113-d180-4a27-817e-5e220660365b",
   "metadata": {},
   "outputs": [
    {
     "data": {
      "text/html": [
       "<table border='1'>\n",
       "<tr><th>nome</th><th>idade</th></tr>\n",
       "<tr><td>joao</td><td>23</td></tr>\n",
       "<tr><td>pedro</td><td>29</td></tr>\n",
       "<tr><td>paulo</td><td>35</td></tr>\n",
       "</table>\n"
      ],
      "text/plain": [
       "+-----+-----+\n",
       "| nome|idade|\n",
       "+-----+-----+\n",
       "| joao|   23|\n",
       "|pedro|   29|\n",
       "|paulo|   35|\n",
       "+-----+-----+"
      ]
     },
     "execution_count": 23,
     "metadata": {},
     "output_type": "execute_result"
    }
   ],
   "source": [
    "# Criando o dataframe spark a partir do schema \n",
    "df = spark.createDataFrame(tuplas, schema) # com 'dicionarios' também funciona\n",
    "df"
   ]
  },
  {
   "cell_type": "code",
   "execution_count": 26,
   "id": "87431000-f554-4e9d-bec5-ac289e546dcb",
   "metadata": {},
   "outputs": [
    {
     "data": {
      "text/plain": [
       "[<Row('joao', 23)>, <Row('pedro', 29)>, <Row('paulo', 35)>]"
      ]
     },
     "execution_count": 26,
     "metadata": {},
     "output_type": "execute_result"
    }
   ],
   "source": [
    "# Crian uma estrutura Row\n",
    "row = [\n",
    "    Row('joao', 23),\n",
    "    Row('pedro', 29),\n",
    "    Row('paulo', 35)\n",
    "]\n",
    "row"
   ]
  },
  {
   "cell_type": "code",
   "execution_count": 29,
   "id": "a5a9a646-0b70-42dd-a6b2-202a8ec20b8c",
   "metadata": {},
   "outputs": [
    {
     "data": {
      "text/html": [
       "<table border='1'>\n",
       "<tr><th>nome</th><th>idade</th></tr>\n",
       "<tr><td>joao</td><td>23</td></tr>\n",
       "<tr><td>pedro</td><td>29</td></tr>\n",
       "<tr><td>paulo</td><td>35</td></tr>\n",
       "</table>\n"
      ],
      "text/plain": [
       "+-----+-----+\n",
       "| nome|idade|\n",
       "+-----+-----+\n",
       "| joao|   23|\n",
       "|pedro|   29|\n",
       "|paulo|   35|\n",
       "+-----+-----+"
      ]
     },
     "execution_count": 29,
     "metadata": {},
     "output_type": "execute_result"
    }
   ],
   "source": [
    "## Criando o dataframe spark a partir da estrutura row (ANTIGO)\n",
    "df = spark.createDataFrame(row, 'nome: string, idade: int')\n",
    "df"
   ]
  }
 ],
 "metadata": {
  "kernelspec": {
   "display_name": "Python 3 (ipykernel)",
   "language": "python",
   "name": "python3"
  },
  "language_info": {
   "codemirror_mode": {
    "name": "ipython",
    "version": 3
   },
   "file_extension": ".py",
   "mimetype": "text/x-python",
   "name": "python",
   "nbconvert_exporter": "python",
   "pygments_lexer": "ipython3",
   "version": "3.11.5"
  }
 },
 "nbformat": 4,
 "nbformat_minor": 5
}
