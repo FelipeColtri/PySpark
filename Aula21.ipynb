{
 "cells": [
  {
   "cell_type": "code",
   "execution_count": 22,
   "id": "9d35a332-e77d-452b-b498-96ceb6a55c30",
   "metadata": {},
   "outputs": [],
   "source": [
    "# Importando as bibliotecas utilizadas\n",
    "from pyspark.sql import SparkSession\n",
    "import pyspark.sql.functions as F\n",
    "from pyspark.sql.window import Window"
   ]
  },
  {
   "cell_type": "code",
   "execution_count": 5,
   "id": "625fa924-96c4-4e56-93e6-f01b745c9375",
   "metadata": {},
   "outputs": [],
   "source": [
    "# Criando a sessão, nomeando e configurando para mostrar tabela do tipo pandas \n",
    "spark = (\n",
    "    SparkSession.builder\n",
    "    .appName('PySpark - Funções Janeladas')\n",
    "    .config('spark.sql.repl.eagerEval.enabled', True)\n",
    "    .getOrCreate()\n",
    ")"
   ]
  },
  {
   "cell_type": "code",
   "execution_count": 8,
   "id": "df489d01-0f7b-4d27-9f7d-cb7e4919555d",
   "metadata": {},
   "outputs": [],
   "source": [
    "# Carregando os dataframes\n",
    "compras = spark.read.parquet('./DATASETS/COMPRAS.parquet').select('id', 'data', 'cd_livro', 'cd_cliente').alias('compras')\n",
    "livros = spark.read.parquet('./DATASETS/LIVROS.parquet').select('id', 'data_lancamento', 'preco').alias('livros')\n",
    "autores = spark.read.parquet('./DATASETS/AUTORES.parquet').alias('autores')"
   ]
  },
  {
   "cell_type": "code",
   "execution_count": 21,
   "id": "e7dc4c33-ee93-4237-80dc-8b2bd1ff8d24",
   "metadata": {},
   "outputs": [
    {
     "data": {
      "text/html": [
       "<table border='1'>\n",
       "<tr><th>id</th><th>data</th><th>cd_livro</th><th>cd_cliente</th><th>data_lancamento</th><th>preco</th><th>titulo</th><th>autor</th></tr>\n",
       "<tr><td>012389</td><td>2021-07-24</td><td>030334762</td><td>3339828</td><td>2013-05-08</td><td>123.47</td><td>Em Busca do Tempo...</td><td>Marcel Proust</td></tr>\n",
       "<tr><td>012534</td><td>2021-07-15</td><td>014347542</td><td>7799936</td><td>2007-04-05</td><td>182.43</td><td>Fogo Morto&nbsp;</td><td>Jos&eacute; Lins do Rego</td></tr>\n",
       "<tr><td>012574</td><td>2020-05-19</td><td>010325500</td><td>6273720</td><td>2000-09-09</td><td>30.62</td><td>A Obscena Senhora D&nbsp;</td><td>Hilda Hilst</td></tr>\n",
       "<tr><td>012675</td><td>2021-07-11</td><td>035940339</td><td>649001</td><td>2014-08-11</td><td>213.6</td><td>Adeus &agrave;s Armas&nbsp;</td><td>Ernest Hemingway</td></tr>\n",
       "<tr><td>013457</td><td>2021-10-26</td><td>021006591</td><td>4312106</td><td>2019-02-24</td><td>96.84</td><td>Paulic&eacute;ia Desvair...</td><td>M&aacute;rio de Andrade</td></tr>\n",
       "<tr><td>013478</td><td>2020-05-10</td><td>019488257</td><td>670483</td><td>2013-05-19</td><td>17.11</td><td>O &Oacute;dio que Voc&ecirc; S...</td><td>Angie Thomas</td></tr>\n",
       "<tr><td>013562</td><td>2021-10-28</td><td>035940339</td><td>1275633</td><td>2014-08-11</td><td>213.6</td><td>Adeus &agrave;s Armas&nbsp;</td><td>Ernest Hemingway</td></tr>\n",
       "<tr><td>013679</td><td>2020-10-19</td><td>030144651</td><td>1261140</td><td>2011-04-14</td><td>242.2</td><td>Zero&nbsp;</td><td>Ign&aacute;cio De Loyola...</td></tr>\n",
       "<tr><td>013687</td><td>2020-05-29</td><td>021923195</td><td>4098904</td><td>2015-02-22</td><td>38.89</td><td>O Ex-M&aacute;gico&nbsp;</td><td>Murilo Rubi&atilde;o</td></tr>\n",
       "<tr><td>013796</td><td>2021-10-15</td><td>016778973</td><td>4024706</td><td>2017-06-23</td><td>99.81</td><td>Crime e Castigo&nbsp;</td><td>Fi&oacute;dor Dostoi&eacute;vski</td></tr>\n",
       "<tr><td>013872</td><td>2021-08-22</td><td>019488257</td><td>6697506</td><td>2013-05-19</td><td>17.11</td><td>O &Oacute;dio que Voc&ecirc; S...</td><td>Angie Thomas</td></tr>\n",
       "<tr><td>013926</td><td>2022-01-01</td><td>010325500</td><td>7857991</td><td>2000-09-09</td><td>30.62</td><td>A Obscena Senhora D&nbsp;</td><td>Hilda Hilst</td></tr>\n",
       "<tr><td>014638</td><td>2022-05-25</td><td>036896107</td><td>5628104</td><td>2005-12-08</td><td>174.92</td><td>Mem&oacute;rias Sentimen...</td><td>Oswald de Andrade</td></tr>\n",
       "<tr><td>014837</td><td>2020-08-12</td><td>020414016</td><td>6349397</td><td>2011-06-09</td><td>212.1</td><td>Vidas Secas&nbsp;</td><td>Graciliano Ramos</td></tr>\n",
       "<tr><td>014973</td><td>2022-09-20</td><td>017551704</td><td>6204999</td><td>2018-10-19</td><td>44.38</td><td>200 Cr&ocirc;nicas Esco...</td><td>Rubem Braga</td></tr>\n",
       "<tr><td>015238</td><td>2022-07-17</td><td>035940339</td><td>7564726</td><td>2014-08-11</td><td>213.6</td><td>Adeus &agrave;s Armas&nbsp;</td><td>Ernest Hemingway</td></tr>\n",
       "<tr><td>015769</td><td>2020-04-27</td><td>020396192</td><td>7001961</td><td>2018-12-21</td><td>71.89</td><td>O Picapau Amarelo&nbsp;</td><td>Monteiro Lobato</td></tr>\n",
       "<tr><td>015846</td><td>2021-01-06</td><td>036030824</td><td>1086227</td><td>2005-01-26</td><td>226.36</td><td>Tremor de Terra&nbsp;</td><td>Luiz Vilela</td></tr>\n",
       "<tr><td>015863</td><td>2021-04-08</td><td>019488257</td><td>53125</td><td>2013-05-19</td><td>17.11</td><td>O &Oacute;dio que Voc&ecirc; S...</td><td>Angie Thomas</td></tr>\n",
       "<tr><td>015938</td><td>2022-04-17</td><td>017063409</td><td>6085405</td><td>2015-06-29</td><td>212.35</td><td>Anna Karenina&nbsp;</td><td>Lev Tolst&oacute;i</td></tr>\n",
       "</table>\n",
       "only showing top 20 rows\n"
      ],
      "text/plain": [
       "+------+----------+---------+----------+---------------+------+--------------------+--------------------+\n",
       "|    id|      data| cd_livro|cd_cliente|data_lancamento| preco|              titulo|               autor|\n",
       "+------+----------+---------+----------+---------------+------+--------------------+--------------------+\n",
       "|012389|2021-07-24|030334762|   3339828|     2013-05-08|123.47|Em Busca do Tempo...|       Marcel Proust|\n",
       "|012534|2021-07-15|014347542|   7799936|     2007-04-05|182.43|         Fogo Morto |   José Lins do Rego|\n",
       "|012574|2020-05-19|010325500|   6273720|     2000-09-09| 30.62|A Obscena Senhora D |         Hilda Hilst|\n",
       "|012675|2021-07-11|035940339|    649001|     2014-08-11| 213.6|     Adeus às Armas |    Ernest Hemingway|\n",
       "|013457|2021-10-26|021006591|   4312106|     2019-02-24| 96.84|Paulicéia Desvair...|    Mário de Andrade|\n",
       "|013478|2020-05-10|019488257|    670483|     2013-05-19| 17.11|O Ódio que Você S...|        Angie Thomas|\n",
       "|013562|2021-10-28|035940339|   1275633|     2014-08-11| 213.6|     Adeus às Armas |    Ernest Hemingway|\n",
       "|013679|2020-10-19|030144651|   1261140|     2011-04-14| 242.2|               Zero |Ignácio De Loyola...|\n",
       "|013687|2020-05-29|021923195|   4098904|     2015-02-22| 38.89|        O Ex-Mágico |       Murilo Rubião|\n",
       "|013796|2021-10-15|016778973|   4024706|     2017-06-23| 99.81|    Crime e Castigo |  Fiódor Dostoiévski|\n",
       "|013872|2021-08-22|019488257|   6697506|     2013-05-19| 17.11|O Ódio que Você S...|        Angie Thomas|\n",
       "|013926|2022-01-01|010325500|   7857991|     2000-09-09| 30.62|A Obscena Senhora D |         Hilda Hilst|\n",
       "|014638|2022-05-25|036896107|   5628104|     2005-12-08|174.92|Memórias Sentimen...|   Oswald de Andrade|\n",
       "|014837|2020-08-12|020414016|   6349397|     2011-06-09| 212.1|        Vidas Secas |    Graciliano Ramos|\n",
       "|014973|2022-09-20|017551704|   6204999|     2018-10-19| 44.38|200 Crônicas Esco...|         Rubem Braga|\n",
       "|015238|2022-07-17|035940339|   7564726|     2014-08-11| 213.6|     Adeus às Armas |    Ernest Hemingway|\n",
       "|015769|2020-04-27|020396192|   7001961|     2018-12-21| 71.89|  O Picapau Amarelo |     Monteiro Lobato|\n",
       "|015846|2021-01-06|036030824|   1086227|     2005-01-26|226.36|    Tremor de Terra |         Luiz Vilela|\n",
       "|015863|2021-04-08|019488257|     53125|     2013-05-19| 17.11|O Ódio que Você S...|        Angie Thomas|\n",
       "|015938|2022-04-17|017063409|   6085405|     2015-06-29|212.35|      Anna Karenina |         Lev Tolstói|\n",
       "+------+----------+---------+----------+---------------+------+--------------------+--------------------+\n",
       "only showing top 20 rows"
      ]
     },
     "execution_count": 21,
     "metadata": {},
     "output_type": "execute_result"
    }
   ],
   "source": [
    "# Fazendo os joins para um só dataframe e removendo ids repetidos\n",
    "df = (\n",
    "    compras\n",
    "    .join(livros, compras.cd_livro == livros.id)\n",
    "    .join(autores, autores.id == livros.id)\n",
    "    .drop(livros.id, autores.id)\n",
    ")\n",
    "df"
   ]
  },
  {
   "cell_type": "code",
   "execution_count": 36,
   "id": "dce5c187-8cd4-427a-9ffd-129fc506a891",
   "metadata": {},
   "outputs": [],
   "source": [
    "# Criando janelamentos\n",
    "win_num = Window.orderBy('id') # qtd linha\n",
    "win_ordem_compra = Window.partitionBy('cd_cliente').orderBy('data') # qtd compra cada cliente\n",
    "win_lancamento_livro = Window.partitionBy('autor').orderBy('data_lancamento') # data lancamento livro"
   ]
  },
  {
   "cell_type": "code",
   "execution_count": 41,
   "id": "81ab3dde-5ffc-4882-b6a7-22f330dd965e",
   "metadata": {},
   "outputs": [
    {
     "name": "stderr",
     "output_type": "stream",
     "text": [
      "24/03/24 19:48:14 WARN WindowExec: No Partition Defined for Window operation! Moving all data to a single partition, this can cause serious performance degradation.\n",
      "24/03/24 19:48:14 WARN WindowExec: No Partition Defined for Window operation! Moving all data to a single partition, this can cause serious performance degradation.\n",
      "24/03/24 19:48:15 WARN WindowExec: No Partition Defined for Window operation! Moving all data to a single partition, this can cause serious performance degradation.\n",
      "24/03/24 19:48:15 WARN WindowExec: No Partition Defined for Window operation! Moving all data to a single partition, this can cause serious performance degradation.\n",
      "24/03/24 19:48:15 WARN WindowExec: No Partition Defined for Window operation! Moving all data to a single partition, this can cause serious performance degradation.\n",
      "24/03/24 19:48:15 WARN WindowExec: No Partition Defined for Window operation! Moving all data to a single partition, this can cause serious performance degradation.\n",
      "24/03/24 19:48:15 WARN WindowExec: No Partition Defined for Window operation! Moving all data to a single partition, this can cause serious performance degradation.\n",
      "24/03/24 19:48:15 WARN WindowExec: No Partition Defined for Window operation! Moving all data to a single partition, this can cause serious performance degradation.\n",
      "24/03/24 19:48:15 WARN WindowExec: No Partition Defined for Window operation! Moving all data to a single partition, this can cause serious performance degradation.\n",
      "24/03/24 19:48:15 WARN WindowExec: No Partition Defined for Window operation! Moving all data to a single partition, this can cause serious performance degradation.\n",
      "24/03/24 19:48:15 WARN WindowExec: No Partition Defined for Window operation! Moving all data to a single partition, this can cause serious performance degradation.\n",
      "24/03/24 19:48:15 WARN WindowExec: No Partition Defined for Window operation! Moving all data to a single partition, this can cause serious performance degradation.\n",
      "24/03/24 19:48:15 WARN WindowExec: No Partition Defined for Window operation! Moving all data to a single partition, this can cause serious performance degradation.\n",
      "24/03/24 19:48:15 WARN WindowExec: No Partition Defined for Window operation! Moving all data to a single partition, this can cause serious performance degradation.\n",
      "24/03/24 19:48:15 WARN WindowExec: No Partition Defined for Window operation! Moving all data to a single partition, this can cause serious performance degradation.\n",
      "24/03/24 19:48:15 WARN WindowExec: No Partition Defined for Window operation! Moving all data to a single partition, this can cause serious performance degradation.\n"
     ]
    },
    {
     "data": {
      "text/html": [
       "<table border='1'>\n",
       "<tr><th>id</th><th>data</th><th>cd_livro</th><th>cd_cliente</th><th>data_lancamento</th><th>preco</th><th>titulo</th><th>autor</th><th>num</th><th>ordem_compra</th><th>acumulado_cliente</th></tr>\n",
       "<tr><td>184365</td><td>2020-10-31</td><td>100520231</td><td>1010444</td><td>2009-08-17</td><td>35.55</td><td>Gal&aacute;xias&nbsp;</td><td>Haroldo de Campos</td><td>3330</td><td>1</td><td>35.55</td></tr>\n",
       "<tr><td>162408</td><td>2021-06-16</td><td>036059407</td><td>1010444</td><td>2021-01-20</td><td>222.98</td><td>As Hist&oacute;rias Comp...</td><td>Franz Kafka</td><td>2874</td><td>2</td><td>258.53</td></tr>\n",
       "<tr><td>629783</td><td>2021-09-14</td><td>016581063</td><td>1010444</td><td>2013-05-16</td><td>145.25</td><td>Macuna&iacute;ma &ndash; O Her...</td><td>M&aacute;rio de Andrade</td><td>11521</td><td>3</td><td>403.78</td></tr>\n",
       "<tr><td>594608</td><td>2021-10-11</td><td>030099528</td><td>1010444</td><td>2000-02-06</td><td>208.39</td><td>Retrato do Artist...</td><td>James Joyce</td><td>10824</td><td>4</td><td>612.17</td></tr>\n",
       "<tr><td>561293</td><td>2021-11-02</td><td>030144651</td><td>1010444</td><td>2011-04-14</td><td>242.2</td><td>Zero&nbsp;</td><td>Ign&aacute;cio De Loyola...</td><td>10118</td><td>5</td><td>854.37</td></tr>\n",
       "<tr><td>648950</td><td>2022-01-15</td><td>022112497</td><td>1010444</td><td>2021-01-06</td><td>10.84</td><td>Mrs Dalloway&nbsp;</td><td>Virginia Woolf</td><td>11896</td><td>6</td><td>865.21</td></tr>\n",
       "<tr><td>184567</td><td>2022-03-29</td><td>020414016</td><td>1010444</td><td>2011-06-09</td><td>212.1</td><td>Vidas Secas&nbsp;</td><td>Graciliano Ramos</td><td>3335</td><td>7</td><td>1077.31</td></tr>\n",
       "<tr><td>026947</td><td>2022-05-04</td><td>036030824</td><td>1010444</td><td>2005-01-26</td><td>226.36</td><td>Tremor de Terra&nbsp;</td><td>Luiz Vilela</td><td>317</td><td>8</td><td>1303.67</td></tr>\n",
       "<tr><td>472081</td><td>2022-06-19</td><td>026925428</td><td>1010444</td><td>2011-09-04</td><td>193.19</td><td>Sing, Unburied, S...</td><td>Jesmyn Ward</td><td>8520</td><td>9</td><td>1496.86</td></tr>\n",
       "<tr><td>027189</td><td>2022-06-26</td><td>012489208</td><td>1010444</td><td>2011-10-30</td><td>160.53</td><td>Triste Fim de Pol...</td><td>Lima Barreto</td><td>322</td><td>10</td><td>1657.39</td></tr>\n",
       "<tr><td>394678</td><td>2022-07-07</td><td>012489208</td><td>1010444</td><td>2011-10-30</td><td>160.53</td><td>Triste Fim de Pol...</td><td>Lima Barreto</td><td>7111</td><td>11</td><td>1817.92</td></tr>\n",
       "<tr><td>845072</td><td>2023-03-11</td><td>060875372</td><td>1010444</td><td>2016-08-14</td><td>247.14</td><td>O Sonho da C&acirc;mara...</td><td>Cao Xueqin</td><td>15506</td><td>12</td><td>2065.06</td></tr>\n",
       "<tr><td>397624</td><td>2020-05-25</td><td>019328498</td><td>1012185</td><td>2018-10-20</td><td>95.59</td><td>Serm&otilde;es&nbsp;</td><td>Padre Vieira</td><td>7194</td><td>1</td><td>95.59</td></tr>\n",
       "<tr><td>238450</td><td>2020-06-13</td><td>028590563</td><td>1012185</td><td>2017-10-01</td><td>18.31</td><td>Br&aacute;s, Bexiga e Ba...</td><td>Ant&ocirc;nio de Alc&acirc;nt...</td><td>4212</td><td>2</td><td>113.9</td></tr>\n",
       "<tr><td>201586</td><td>2020-09-01</td><td>069309548</td><td>1012185</td><td>2004-02-01</td><td>196.92</td><td>Os Melhores Conto...</td><td>Edgar Allan Poe</td><td>3659</td><td>3</td><td>310.82</td></tr>\n",
       "<tr><td>734085</td><td>2020-11-03</td><td>016581063</td><td>1012185</td><td>2013-05-16</td><td>145.25</td><td>Macuna&iacute;ma &ndash; O Her...</td><td>M&aacute;rio de Andrade</td><td>13416</td><td>4</td><td>456.07</td></tr>\n",
       "<tr><td>801632</td><td>2020-12-07</td><td>036896107</td><td>1012185</td><td>2005-12-08</td><td>174.92</td><td>Mem&oacute;rias Sentimen...</td><td>Oswald de Andrade</td><td>14597</td><td>5</td><td>630.99</td></tr>\n",
       "<tr><td>315209</td><td>2020-12-23</td><td>017101222</td><td>1012185</td><td>2009-10-05</td><td>24.87</td><td>Retrato de Uma Se...</td><td>Henry James</td><td>5744</td><td>6</td><td>655.86</td></tr>\n",
       "<tr><td>706354</td><td>2021-01-04</td><td>013465823</td><td>1012185</td><td>2017-05-13</td><td>54.54</td><td>O Quinze&nbsp;</td><td>Rachel de Queiroz</td><td>12859</td><td>7</td><td>710.4</td></tr>\n",
       "<tr><td>485162</td><td>2021-04-29</td><td>030144651</td><td>1012185</td><td>2011-04-14</td><td>242.2</td><td>Zero&nbsp;</td><td>Ign&aacute;cio De Loyola...</td><td>8755</td><td>8</td><td>952.6</td></tr>\n",
       "</table>\n",
       "only showing top 20 rows\n"
      ],
      "text/plain": [
       "+------+----------+---------+----------+---------------+------+--------------------+--------------------+-----+------------+-----------------+\n",
       "|    id|      data| cd_livro|cd_cliente|data_lancamento| preco|              titulo|               autor|  num|ordem_compra|acumulado_cliente|\n",
       "+------+----------+---------+----------+---------------+------+--------------------+--------------------+-----+------------+-----------------+\n",
       "|184365|2020-10-31|100520231|   1010444|     2009-08-17| 35.55|           Galáxias |   Haroldo de Campos| 3330|           1|            35.55|\n",
       "|162408|2021-06-16|036059407|   1010444|     2021-01-20|222.98|As Histórias Comp...|         Franz Kafka| 2874|           2|           258.53|\n",
       "|629783|2021-09-14|016581063|   1010444|     2013-05-16|145.25|Macunaíma – O Her...|    Mário de Andrade|11521|           3|           403.78|\n",
       "|594608|2021-10-11|030099528|   1010444|     2000-02-06|208.39|Retrato do Artist...|         James Joyce|10824|           4|           612.17|\n",
       "|561293|2021-11-02|030144651|   1010444|     2011-04-14| 242.2|               Zero |Ignácio De Loyola...|10118|           5|           854.37|\n",
       "|648950|2022-01-15|022112497|   1010444|     2021-01-06| 10.84|       Mrs Dalloway |      Virginia Woolf|11896|           6|           865.21|\n",
       "|184567|2022-03-29|020414016|   1010444|     2011-06-09| 212.1|        Vidas Secas |    Graciliano Ramos| 3335|           7|          1077.31|\n",
       "|026947|2022-05-04|036030824|   1010444|     2005-01-26|226.36|    Tremor de Terra |         Luiz Vilela|  317|           8|          1303.67|\n",
       "|472081|2022-06-19|026925428|   1010444|     2011-09-04|193.19|Sing, Unburied, S...|         Jesmyn Ward| 8520|           9|          1496.86|\n",
       "|027189|2022-06-26|012489208|   1010444|     2011-10-30|160.53|Triste Fim de Pol...|        Lima Barreto|  322|          10|          1657.39|\n",
       "|394678|2022-07-07|012489208|   1010444|     2011-10-30|160.53|Triste Fim de Pol...|        Lima Barreto| 7111|          11|          1817.92|\n",
       "|845072|2023-03-11|060875372|   1010444|     2016-08-14|247.14|O Sonho da Câmara...|          Cao Xueqin|15506|          12|          2065.06|\n",
       "|397624|2020-05-25|019328498|   1012185|     2018-10-20| 95.59|            Sermões |        Padre Vieira| 7194|           1|            95.59|\n",
       "|238450|2020-06-13|028590563|   1012185|     2017-10-01| 18.31|Brás, Bexiga e Ba...|Antônio de Alcânt...| 4212|           2|            113.9|\n",
       "|201586|2020-09-01|069309548|   1012185|     2004-02-01|196.92|Os Melhores Conto...|     Edgar Allan Poe| 3659|           3|           310.82|\n",
       "|734085|2020-11-03|016581063|   1012185|     2013-05-16|145.25|Macunaíma – O Her...|    Mário de Andrade|13416|           4|           456.07|\n",
       "|801632|2020-12-07|036896107|   1012185|     2005-12-08|174.92|Memórias Sentimen...|   Oswald de Andrade|14597|           5|           630.99|\n",
       "|315209|2020-12-23|017101222|   1012185|     2009-10-05| 24.87|Retrato de Uma Se...|         Henry James| 5744|           6|           655.86|\n",
       "|706354|2021-01-04|013465823|   1012185|     2017-05-13| 54.54|           O Quinze |   Rachel de Queiroz|12859|           7|            710.4|\n",
       "|485162|2021-04-29|030144651|   1012185|     2011-04-14| 242.2|               Zero |Ignácio De Loyola...| 8755|           8|            952.6|\n",
       "+------+----------+---------+----------+---------------+------+--------------------+--------------------+-----+------------+-----------------+\n",
       "only showing top 20 rows"
      ]
     },
     "execution_count": 41,
     "metadata": {},
     "output_type": "execute_result"
    }
   ],
   "source": [
    "# Adicionando uma coluna com o número da linha (somente exmplos, não aplicável)\n",
    "(\n",
    "    df\n",
    "    .withColumn('num', F.row_number().over(win_num))\n",
    "    .withColumn('ordem_compra', F.row_number().over(win_ordem_compra))\n",
    "    # .dropDuplicates(['cd_livro', 'autor']) # rm duplicatas nessas duas colunas \n",
    "    # .withColumn('lancamento_livro', F.row_number().over(win_lancamento_livro))\n",
    "    .withColumn('acumulado_cliente', F.round(F.sum('preco').over(win_ordem_compra), 2))\n",
    ")"
   ]
  }
 ],
 "metadata": {
  "kernelspec": {
   "display_name": "Python 3 (ipykernel)",
   "language": "python",
   "name": "python3"
  },
  "language_info": {
   "codemirror_mode": {
    "name": "ipython",
    "version": 3
   },
   "file_extension": ".py",
   "mimetype": "text/x-python",
   "name": "python",
   "nbconvert_exporter": "python",
   "pygments_lexer": "ipython3",
   "version": "3.11.5"
  }
 },
 "nbformat": 4,
 "nbformat_minor": 5
}
