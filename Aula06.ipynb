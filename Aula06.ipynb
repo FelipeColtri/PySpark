{
 "cells": [
  {
   "cell_type": "code",
   "execution_count": 1,
   "id": "9d35a332-e77d-452b-b498-96ceb6a55c30",
   "metadata": {},
   "outputs": [],
   "source": [
    "# Importando as bibliotecas utilizadas\n",
    "from pyspark.sql import SparkSession\n",
    "import pyspark.sql.functions as F"
   ]
  },
  {
   "cell_type": "code",
   "execution_count": 3,
   "id": "625fa924-96c4-4e56-93e6-f01b745c9375",
   "metadata": {},
   "outputs": [],
   "source": [
    "# Criando a sessão, nomeando e configurando para mostrar tabela do tipo pandas \n",
    "spark = (\n",
    "    SparkSession.builder\n",
    "    .appName('PySpark - Funções Numéricas')\n",
    "    .config('spark.sql.repl.eagerEval.enabled', True)\n",
    "    .getOrCreate()\n",
    ")"
   ]
  },
  {
   "cell_type": "code",
   "execution_count": 4,
   "id": "df489d01-0f7b-4d27-9f7d-cb7e4919555d",
   "metadata": {},
   "outputs": [],
   "source": [
    "# Carregando um arquivo PARQUET para dataframe\n",
    "df = spark.read.parquet('./DATASETS/IMC.parquet')"
   ]
  },
  {
   "cell_type": "code",
   "execution_count": 5,
   "id": "e7dc4c33-ee93-4237-80dc-8b2bd1ff8d24",
   "metadata": {},
   "outputs": [
    {
     "data": {
      "text/html": [
       "<table border='1'>\n",
       "<tr><th>nome</th><th>altura</th><th>peso</th></tr>\n",
       "<tr><td>Pietra Fernandes</td><td>176</td><td>97.88</td></tr>\n",
       "<tr><td>Ana J&uacute;lia da Rosa</td><td>163</td><td>80.56</td></tr>\n",
       "<tr><td>Fernando Martins</td><td>150</td><td>85.55</td></tr>\n",
       "<tr><td>Isis Silveira</td><td>173</td><td>70.1</td></tr>\n",
       "<tr><td>Cec&iacute;lia Porto</td><td>190</td><td>93.42</td></tr>\n",
       "<tr><td>Sra. Bruna Almeida</td><td>198</td><td>73.07</td></tr>\n",
       "<tr><td>Maria Julia Silva</td><td>170</td><td>71.36</td></tr>\n",
       "<tr><td>Pedro Henrique da...</td><td>188</td><td>105.57</td></tr>\n",
       "<tr><td>Davi Lucas Campos</td><td>180</td><td>98.49</td></tr>\n",
       "<tr><td>Juan Gon&ccedil;alves</td><td>175</td><td>71.87</td></tr>\n",
       "</table>\n"
      ],
      "text/plain": [
       "+--------------------+------+------+\n",
       "|                nome|altura|  peso|\n",
       "+--------------------+------+------+\n",
       "|    Pietra Fernandes|   176| 97.88|\n",
       "|   Ana Júlia da Rosa|   163| 80.56|\n",
       "|    Fernando Martins|   150| 85.55|\n",
       "|       Isis Silveira|   173|  70.1|\n",
       "|       Cecília Porto|   190| 93.42|\n",
       "|  Sra. Bruna Almeida|   198| 73.07|\n",
       "|   Maria Julia Silva|   170| 71.36|\n",
       "|Pedro Henrique da...|   188|105.57|\n",
       "|   Davi Lucas Campos|   180| 98.49|\n",
       "|      Juan Gonçalves|   175| 71.87|\n",
       "+--------------------+------+------+"
      ]
     },
     "execution_count": 5,
     "metadata": {},
     "output_type": "execute_result"
    }
   ],
   "source": [
    "df"
   ]
  },
  {
   "cell_type": "code",
   "execution_count": 9,
   "id": "fd5159bc-f982-42d2-b99a-7f36f1a6474a",
   "metadata": {},
   "outputs": [
    {
     "data": {
      "text/html": [
       "<table border='1'>\n",
       "<tr><th>nome</th><th>altura</th><th>peso</th><th>arrendodamento</th><th>teto</th><th>piso</th></tr>\n",
       "<tr><td>Pietra Fernandes</td><td>176</td><td>97.88</td><td>97.9</td><td>98</td><td>97</td></tr>\n",
       "<tr><td>Ana J&uacute;lia da Rosa</td><td>163</td><td>80.56</td><td>80.6</td><td>81</td><td>80</td></tr>\n",
       "<tr><td>Fernando Martins</td><td>150</td><td>85.55</td><td>85.6</td><td>86</td><td>85</td></tr>\n",
       "<tr><td>Isis Silveira</td><td>173</td><td>70.1</td><td>70.1</td><td>71</td><td>70</td></tr>\n",
       "<tr><td>Cec&iacute;lia Porto</td><td>190</td><td>93.42</td><td>93.4</td><td>94</td><td>93</td></tr>\n",
       "<tr><td>Sra. Bruna Almeida</td><td>198</td><td>73.07</td><td>73.1</td><td>74</td><td>73</td></tr>\n",
       "<tr><td>Maria Julia Silva</td><td>170</td><td>71.36</td><td>71.4</td><td>72</td><td>71</td></tr>\n",
       "<tr><td>Pedro Henrique da...</td><td>188</td><td>105.57</td><td>105.6</td><td>106</td><td>105</td></tr>\n",
       "<tr><td>Davi Lucas Campos</td><td>180</td><td>98.49</td><td>98.5</td><td>99</td><td>98</td></tr>\n",
       "<tr><td>Juan Gon&ccedil;alves</td><td>175</td><td>71.87</td><td>71.9</td><td>72</td><td>71</td></tr>\n",
       "</table>\n"
      ],
      "text/plain": [
       "+--------------------+------+------+--------------+----+----+\n",
       "|                nome|altura|  peso|arrendodamento|teto|piso|\n",
       "+--------------------+------+------+--------------+----+----+\n",
       "|    Pietra Fernandes|   176| 97.88|          97.9|  98|  97|\n",
       "|   Ana Júlia da Rosa|   163| 80.56|          80.6|  81|  80|\n",
       "|    Fernando Martins|   150| 85.55|          85.6|  86|  85|\n",
       "|       Isis Silveira|   173|  70.1|          70.1|  71|  70|\n",
       "|       Cecília Porto|   190| 93.42|          93.4|  94|  93|\n",
       "|  Sra. Bruna Almeida|   198| 73.07|          73.1|  74|  73|\n",
       "|   Maria Julia Silva|   170| 71.36|          71.4|  72|  71|\n",
       "|Pedro Henrique da...|   188|105.57|         105.6| 106| 105|\n",
       "|   Davi Lucas Campos|   180| 98.49|          98.5|  99|  98|\n",
       "|      Juan Gonçalves|   175| 71.87|          71.9|  72|  71|\n",
       "+--------------------+------+------+--------------+----+----+"
      ]
     },
     "execution_count": 9,
     "metadata": {},
     "output_type": "execute_result"
    }
   ],
   "source": [
    "# Arrendodamentos\n",
    "(\n",
    "    df\n",
    "    .withColumn('arrendodamento', F.round(F.col('peso'), 1))\n",
    "    .withColumn('teto', F.ceil(F.col('peso')))\n",
    "    .withColumn('piso', F.floor(F.col('peso')))\n",
    ")"
   ]
  },
  {
   "cell_type": "code",
   "execution_count": 16,
   "id": "81ab3dde-5ffc-4882-b6a7-22f330dd965e",
   "metadata": {},
   "outputs": [
    {
     "data": {
      "text/html": [
       "<table border='1'>\n",
       "<tr><th>nome</th><th>altura</th><th>peso</th><th>negativo</th><th>absoluto</th></tr>\n",
       "<tr><td>Pietra Fernandes</td><td>176</td><td>97.88</td><td>-176</td><td>176</td></tr>\n",
       "<tr><td>Ana J&uacute;lia da Rosa</td><td>163</td><td>80.56</td><td>-163</td><td>163</td></tr>\n",
       "<tr><td>Fernando Martins</td><td>150</td><td>85.55</td><td>-150</td><td>150</td></tr>\n",
       "<tr><td>Isis Silveira</td><td>173</td><td>70.1</td><td>-173</td><td>173</td></tr>\n",
       "<tr><td>Cec&iacute;lia Porto</td><td>190</td><td>93.42</td><td>-190</td><td>190</td></tr>\n",
       "<tr><td>Sra. Bruna Almeida</td><td>198</td><td>73.07</td><td>-198</td><td>198</td></tr>\n",
       "<tr><td>Maria Julia Silva</td><td>170</td><td>71.36</td><td>-170</td><td>170</td></tr>\n",
       "<tr><td>Pedro Henrique da...</td><td>188</td><td>105.57</td><td>-188</td><td>188</td></tr>\n",
       "<tr><td>Davi Lucas Campos</td><td>180</td><td>98.49</td><td>-180</td><td>180</td></tr>\n",
       "<tr><td>Juan Gon&ccedil;alves</td><td>175</td><td>71.87</td><td>-175</td><td>175</td></tr>\n",
       "</table>\n"
      ],
      "text/plain": [
       "+--------------------+------+------+--------+--------+\n",
       "|                nome|altura|  peso|negativo|absoluto|\n",
       "+--------------------+------+------+--------+--------+\n",
       "|    Pietra Fernandes|   176| 97.88|    -176|     176|\n",
       "|   Ana Júlia da Rosa|   163| 80.56|    -163|     163|\n",
       "|    Fernando Martins|   150| 85.55|    -150|     150|\n",
       "|       Isis Silveira|   173|  70.1|    -173|     173|\n",
       "|       Cecília Porto|   190| 93.42|    -190|     190|\n",
       "|  Sra. Bruna Almeida|   198| 73.07|    -198|     198|\n",
       "|   Maria Julia Silva|   170| 71.36|    -170|     170|\n",
       "|Pedro Henrique da...|   188|105.57|    -188|     188|\n",
       "|   Davi Lucas Campos|   180| 98.49|    -180|     180|\n",
       "|      Juan Gonçalves|   175| 71.87|    -175|     175|\n",
       "+--------------------+------+------+--------+--------+"
      ]
     },
     "execution_count": 16,
     "metadata": {},
     "output_type": "execute_result"
    }
   ],
   "source": [
    "# Valor absoluto \n",
    "(\n",
    "    df\n",
    "    .withColumn('negativo', -F.col('altura'))\n",
    "    .withColumn('absoluto', F.abs(F.col('negativo')))\n",
    ")"
   ]
  },
  {
   "cell_type": "code",
   "execution_count": 13,
   "id": "193df4ab-1c82-4018-8e71-bb35b1533428",
   "metadata": {},
   "outputs": [
    {
     "data": {
      "text/html": [
       "<table border='1'>\n",
       "<tr><th>nome</th><th>altura</th><th>peso</th><th>potencia</th><th>raiz</th></tr>\n",
       "<tr><td>Pietra Fernandes</td><td>176</td><td>97.88</td><td>9580.4944</td><td>9.89343216482531</td></tr>\n",
       "<tr><td>Ana J&uacute;lia da Rosa</td><td>163</td><td>80.56</td><td>6489.913600000001</td><td>8.97552226892675</td></tr>\n",
       "<tr><td>Fernando Martins</td><td>150</td><td>85.55</td><td>7318.8025</td><td>9.249324299644812</td></tr>\n",
       "<tr><td>Isis Silveira</td><td>173</td><td>70.1</td><td>4914.009999999999</td><td>8.372574275573792</td></tr>\n",
       "<tr><td>Cec&iacute;lia Porto</td><td>190</td><td>93.42</td><td>8727.296400000001</td><td>9.665402216152208</td></tr>\n",
       "<tr><td>Sra. Bruna Almeida</td><td>198</td><td>73.07</td><td>5339.224899999999</td><td>8.548099203916623</td></tr>\n",
       "<tr><td>Maria Julia Silva</td><td>170</td><td>71.36</td><td>5092.2496</td><td>8.44748483277715</td></tr>\n",
       "<tr><td>Pedro Henrique da...</td><td>188</td><td>105.57</td><td>11145.024899999999</td><td>10.274726273726225</td></tr>\n",
       "<tr><td>Davi Lucas Campos</td><td>180</td><td>98.49</td><td>9700.280099999998</td><td>9.924212815130478</td></tr>\n",
       "<tr><td>Juan Gon&ccedil;alves</td><td>175</td><td>71.87</td><td>5165.2969</td><td>8.477617589865682</td></tr>\n",
       "</table>\n"
      ],
      "text/plain": [
       "+--------------------+------+------+------------------+------------------+\n",
       "|                nome|altura|  peso|          potencia|              raiz|\n",
       "+--------------------+------+------+------------------+------------------+\n",
       "|    Pietra Fernandes|   176| 97.88|         9580.4944|  9.89343216482531|\n",
       "|   Ana Júlia da Rosa|   163| 80.56| 6489.913600000001|  8.97552226892675|\n",
       "|    Fernando Martins|   150| 85.55|         7318.8025| 9.249324299644812|\n",
       "|       Isis Silveira|   173|  70.1| 4914.009999999999| 8.372574275573792|\n",
       "|       Cecília Porto|   190| 93.42| 8727.296400000001| 9.665402216152208|\n",
       "|  Sra. Bruna Almeida|   198| 73.07| 5339.224899999999| 8.548099203916623|\n",
       "|   Maria Julia Silva|   170| 71.36|         5092.2496|  8.44748483277715|\n",
       "|Pedro Henrique da...|   188|105.57|11145.024899999999|10.274726273726225|\n",
       "|   Davi Lucas Campos|   180| 98.49| 9700.280099999998| 9.924212815130478|\n",
       "|      Juan Gonçalves|   175| 71.87|         5165.2969| 8.477617589865682|\n",
       "+--------------------+------+------+------------------+------------------+"
      ]
     },
     "execution_count": 13,
     "metadata": {},
     "output_type": "execute_result"
    }
   ],
   "source": [
    "# Potência e Raiz\n",
    "(\n",
    "    df\n",
    "    .withColumn('potencia', F.pow(F.col('peso'), 2))\n",
    "    .withColumn('raiz', F.sqrt(F.col('peso')))\n",
    ")"
   ]
  },
  {
   "cell_type": "code",
   "execution_count": 15,
   "id": "55001776-5722-4743-bb5a-cd4f3c757dc7",
   "metadata": {},
   "outputs": [
    {
     "data": {
      "text/html": [
       "<table border='1'>\n",
       "<tr><th>nome</th><th>altura</th><th>peso</th><th>imc</th></tr>\n",
       "<tr><td>Pietra Fernandes</td><td>176</td><td>97.88</td><td>54.43</td></tr>\n",
       "<tr><td>Ana J&uacute;lia da Rosa</td><td>163</td><td>80.56</td><td>39.82</td></tr>\n",
       "<tr><td>Fernando Martins</td><td>150</td><td>85.55</td><td>48.79</td></tr>\n",
       "<tr><td>Isis Silveira</td><td>173</td><td>70.1</td><td>28.4</td></tr>\n",
       "<tr><td>Cec&iacute;lia Porto</td><td>190</td><td>93.42</td><td>45.93</td></tr>\n",
       "<tr><td>Sra. Bruna Almeida</td><td>198</td><td>73.07</td><td>26.97</td></tr>\n",
       "<tr><td>Maria Julia Silva</td><td>170</td><td>71.36</td><td>29.95</td></tr>\n",
       "<tr><td>Pedro Henrique da...</td><td>188</td><td>105.57</td><td>59.28</td></tr>\n",
       "<tr><td>Davi Lucas Campos</td><td>180</td><td>98.49</td><td>53.89</td></tr>\n",
       "<tr><td>Juan Gon&ccedil;alves</td><td>175</td><td>71.87</td><td>29.52</td></tr>\n",
       "</table>\n"
      ],
      "text/plain": [
       "+--------------------+------+------+-----+\n",
       "|                nome|altura|  peso|  imc|\n",
       "+--------------------+------+------+-----+\n",
       "|    Pietra Fernandes|   176| 97.88|54.43|\n",
       "|   Ana Júlia da Rosa|   163| 80.56|39.82|\n",
       "|    Fernando Martins|   150| 85.55|48.79|\n",
       "|       Isis Silveira|   173|  70.1| 28.4|\n",
       "|       Cecília Porto|   190| 93.42|45.93|\n",
       "|  Sra. Bruna Almeida|   198| 73.07|26.97|\n",
       "|   Maria Julia Silva|   170| 71.36|29.95|\n",
       "|Pedro Henrique da...|   188|105.57|59.28|\n",
       "|   Davi Lucas Campos|   180| 98.49|53.89|\n",
       "|      Juan Gonçalves|   175| 71.87|29.52|\n",
       "+--------------------+------+------+-----+"
      ]
     },
     "execution_count": 15,
     "metadata": {},
     "output_type": "execute_result"
    }
   ],
   "source": [
    "# Calculo do IMC\n",
    "(\n",
    "    df\n",
    "    .withColumn('imc', F.round(F.pow(F.col('peso'), 2) / F.col('altura'), 2))\n",
    ")"
   ]
  }
 ],
 "metadata": {
  "kernelspec": {
   "display_name": "Python 3 (ipykernel)",
   "language": "python",
   "name": "python3"
  },
  "language_info": {
   "codemirror_mode": {
    "name": "ipython",
    "version": 3
   },
   "file_extension": ".py",
   "mimetype": "text/x-python",
   "name": "python",
   "nbconvert_exporter": "python",
   "pygments_lexer": "ipython3",
   "version": "3.11.5"
  }
 },
 "nbformat": 4,
 "nbformat_minor": 5
}
