{
 "cells": [
  {
   "cell_type": "code",
   "execution_count": 1,
   "id": "9d35a332-e77d-452b-b498-96ceb6a55c30",
   "metadata": {},
   "outputs": [],
   "source": [
    "# Importando as bibliotecas itilizadas\n",
    "from pyspark.sql import SparkSession\n",
    "import pyspark.sql.functions as F"
   ]
  },
  {
   "cell_type": "code",
   "execution_count": 3,
   "id": "625fa924-96c4-4e56-93e6-f01b745c9375",
   "metadata": {},
   "outputs": [],
   "source": [
    "# Criando a sessão, nomeando e configurando para mostrar tabela do tipo pandas \n",
    "spark = (\n",
    "    SparkSession.builder\n",
    "    .appName('PySpark - Exportar Dados')\n",
    "    .config('spark.sql.repl.eagerEval.enabled', True)\n",
    "    .getOrCreate()\n",
    ")"
   ]
  },
  {
   "cell_type": "code",
   "execution_count": 5,
   "id": "df489d01-0f7b-4d27-9f7d-cb7e4919555d",
   "metadata": {},
   "outputs": [],
   "source": [
    "# Carregando um arquivo PARQUET para dataframe\n",
    "df = spark.read.parquet('./DATASETS/LOGINS.parquet')"
   ]
  },
  {
   "cell_type": "code",
   "execution_count": 9,
   "id": "e7dc4c33-ee93-4237-80dc-8b2bd1ff8d24",
   "metadata": {},
   "outputs": [],
   "source": [
    "# Tendo um dataframe, basta salva-lo no formato desejado\n",
    "# Nesse caso é salvo parquet dentro de uma pasta\n",
    "df.write.save('saida') "
   ]
  },
  {
   "cell_type": "code",
   "execution_count": 10,
   "id": "fd5159bc-f982-42d2-b99a-7f36f1a6474a",
   "metadata": {},
   "outputs": [],
   "source": [
    "# Usando o parâmetro para sobrescrever \n",
    "df.write.save('saida', mode='overwrite') # pode usar o parâmetro 'append' para adicionar no final"
   ]
  },
  {
   "cell_type": "code",
   "execution_count": 12,
   "id": "81ab3dde-5ffc-4882-b6a7-22f330dd965e",
   "metadata": {},
   "outputs": [],
   "source": [
    "# Mudando o formato para csv\n",
    "df.write.save('saida', mode='overwrite', format='csv')"
   ]
  },
  {
   "cell_type": "code",
   "execution_count": 18,
   "id": "193df4ab-1c82-4018-8e71-bb35b1533428",
   "metadata": {},
   "outputs": [
    {
     "name": "stderr",
     "output_type": "stream",
     "text": [
      "                                                                                \r"
     ]
    }
   ],
   "source": [
    "# Salvando em diferentes partições (quando for ler ve em um único dataframe)\n",
    "df.write.save('saida', mode='overwrite', format='parquet', partitionBy=['estado', 'cor_favorita'])"
   ]
  },
  {
   "cell_type": "code",
   "execution_count": 15,
   "id": "231b85d6-f7b9-41d5-b414-48833dbf594c",
   "metadata": {},
   "outputs": [],
   "source": [
    "# Salvando com uma tabela de banco de dados \n",
    "df.write.saveAsTable('db_login')"
   ]
  },
  {
   "cell_type": "code",
   "execution_count": 17,
   "id": "b69474db-6ef3-45b7-95e8-3a0faefde330",
   "metadata": {},
   "outputs": [],
   "source": [
    "# Diretamente em csv\n",
    "df.write.csv('saida', mode='overwrite')"
   ]
  },
  {
   "cell_type": "code",
   "execution_count": 19,
   "id": "fb821596-bfb6-4330-9dd2-03572538aade",
   "metadata": {},
   "outputs": [],
   "source": [
    "# Diretamente como parquet\n",
    "df.write.mode('overwrite').parquet('saida')"
   ]
  },
  {
   "cell_type": "code",
   "execution_count": 21,
   "id": "aa88806c-bd4b-4346-9c18-8ba2fe68fe9b",
   "metadata": {},
   "outputs": [],
   "source": [
    "# Convertendo o dataframe spark para pandas e salvando (somente arquivo)\n",
    "df.toPandas().to_csv('saida.csv')"
   ]
  },
  {
   "cell_type": "code",
   "execution_count": 22,
   "id": "5d2f0808-5bae-4c6e-9936-99a32077b5ca",
   "metadata": {},
   "outputs": [],
   "source": [
    "# Para texto também usa to_csv()\n",
    "df.toPandas().to_csv('saida.txt')"
   ]
  },
  {
   "cell_type": "code",
   "execution_count": 23,
   "id": "cb2cece6-6155-4fa1-86af-fd42078701f8",
   "metadata": {},
   "outputs": [],
   "source": [
    "# Para no formato feather  \n",
    "df.toPandas().to_feather('saida.feather')"
   ]
  }
 ],
 "metadata": {
  "kernelspec": {
   "display_name": "Python 3 (ipykernel)",
   "language": "python",
   "name": "python3"
  },
  "language_info": {
   "codemirror_mode": {
    "name": "ipython",
    "version": 3
   },
   "file_extension": ".py",
   "mimetype": "text/x-python",
   "name": "python",
   "nbconvert_exporter": "python",
   "pygments_lexer": "ipython3",
   "version": "3.11.5"
  }
 },
 "nbformat": 4,
 "nbformat_minor": 5
}
