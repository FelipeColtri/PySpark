{
 "cells": [
  {
   "cell_type": "code",
   "execution_count": 2,
   "id": "9d35a332-e77d-452b-b498-96ceb6a55c30",
   "metadata": {},
   "outputs": [],
   "source": [
    "# Importando as bibliotecas utilizadas\n",
    "from pyspark.sql import SparkSession\n",
    "import pyspark.sql.functions as F"
   ]
  },
  {
   "cell_type": "code",
   "execution_count": 4,
   "id": "625fa924-96c4-4e56-93e6-f01b745c9375",
   "metadata": {},
   "outputs": [],
   "source": [
    "# Criando a sessão, nomeando e configurando para mostrar tabela do tipo pandas \n",
    "spark = (\n",
    "    SparkSession.builder\n",
    "    .appName('PySpark - Group By')\n",
    "    .config('spark.sql.repl.eagerEval.enabled', True)\n",
    "    .getOrCreate()\n",
    ")"
   ]
  },
  {
   "cell_type": "code",
   "execution_count": 6,
   "id": "df489d01-0f7b-4d27-9f7d-cb7e4919555d",
   "metadata": {},
   "outputs": [],
   "source": [
    "# Carregando um arquivo PARQUET para dataframe\n",
    "df = spark.read.parquet('./DATASETS/LOGINS.parquet')"
   ]
  },
  {
   "cell_type": "code",
   "execution_count": 12,
   "id": "e7dc4c33-ee93-4237-80dc-8b2bd1ff8d24",
   "metadata": {},
   "outputs": [
    {
     "data": {
      "text/html": [
       "<table border='1'>\n",
       "<tr><th>cor_favorita</th><th>count</th></tr>\n",
       "<tr><td>Preto</td><td>57</td></tr>\n",
       "<tr><td>Violeta</td><td>47</td></tr>\n",
       "<tr><td>Rosa</td><td>81</td></tr>\n",
       "<tr><td>Marrom</td><td>62</td></tr>\n",
       "<tr><td>Ciano</td><td>59</td></tr>\n",
       "<tr><td>Laranja</td><td>53</td></tr>\n",
       "<tr><td>Azul</td><td>76</td></tr>\n",
       "<tr><td>Verde Claro</td><td>66</td></tr>\n",
       "<tr><td>Roxo</td><td>64</td></tr>\n",
       "<tr><td>Branco</td><td>66</td></tr>\n",
       "<tr><td>Verde Escuro</td><td>65</td></tr>\n",
       "<tr><td>Azul Escuro</td><td>62</td></tr>\n",
       "<tr><td>Verde</td><td>53</td></tr>\n",
       "<tr><td>Magenta</td><td>54</td></tr>\n",
       "<tr><td>Cinza</td><td>75</td></tr>\n",
       "<tr><td>Amarelo</td><td>60</td></tr>\n",
       "</table>\n"
      ],
      "text/plain": [
       "+------------+-----+\n",
       "|cor_favorita|count|\n",
       "+------------+-----+\n",
       "|       Preto|   57|\n",
       "|     Violeta|   47|\n",
       "|        Rosa|   81|\n",
       "|      Marrom|   62|\n",
       "|       Ciano|   59|\n",
       "|     Laranja|   53|\n",
       "|        Azul|   76|\n",
       "| Verde Claro|   66|\n",
       "|        Roxo|   64|\n",
       "|      Branco|   66|\n",
       "|Verde Escuro|   65|\n",
       "| Azul Escuro|   62|\n",
       "|       Verde|   53|\n",
       "|     Magenta|   54|\n",
       "|       Cinza|   75|\n",
       "|     Amarelo|   60|\n",
       "+------------+-----+"
      ]
     },
     "execution_count": 12,
     "metadata": {},
     "output_type": "execute_result"
    }
   ],
   "source": [
    "# Agrupando dados pela cor, contando os valores de cada\n",
    "df.groupBy('cor_favorita').count()"
   ]
  },
  {
   "cell_type": "code",
   "execution_count": 13,
   "id": "fd5159bc-f982-42d2-b99a-7f36f1a6474a",
   "metadata": {},
   "outputs": [
    {
     "data": {
      "text/html": [
       "<table border='1'>\n",
       "<tr><th>estado</th><th>cor_favorita</th><th>count</th></tr>\n",
       "<tr><td>AM</td><td>Cinza</td><td>2</td></tr>\n",
       "<tr><td>MA</td><td>Ciano</td><td>1</td></tr>\n",
       "<tr><td>AC</td><td>Ciano</td><td>1</td></tr>\n",
       "<tr><td>RS</td><td>Roxo</td><td>1</td></tr>\n",
       "<tr><td>RJ</td><td>Azul</td><td>4</td></tr>\n",
       "<tr><td>ES</td><td>Verde Claro</td><td>2</td></tr>\n",
       "<tr><td>CE</td><td>Azul</td><td>5</td></tr>\n",
       "<tr><td>AM</td><td>Marrom</td><td>6</td></tr>\n",
       "<tr><td>AP</td><td>Preto</td><td>2</td></tr>\n",
       "<tr><td>MA</td><td>Verde Escuro</td><td>2</td></tr>\n",
       "<tr><td>SP</td><td>Verde Claro</td><td>7</td></tr>\n",
       "<tr><td>GO</td><td>Branco</td><td>2</td></tr>\n",
       "<tr><td>RN</td><td>Amarelo</td><td>1</td></tr>\n",
       "<tr><td>PR</td><td>Verde</td><td>1</td></tr>\n",
       "<tr><td>DF</td><td>Ciano</td><td>1</td></tr>\n",
       "<tr><td>PA</td><td>Laranja</td><td>3</td></tr>\n",
       "<tr><td>TO</td><td>Rosa</td><td>3</td></tr>\n",
       "<tr><td>TO</td><td>Branco</td><td>1</td></tr>\n",
       "<tr><td>RJ</td><td>Preto</td><td>2</td></tr>\n",
       "<tr><td>RO</td><td>Amarelo</td><td>1</td></tr>\n",
       "</table>\n",
       "only showing top 20 rows\n"
      ],
      "text/plain": [
       "+------+------------+-----+\n",
       "|estado|cor_favorita|count|\n",
       "+------+------------+-----+\n",
       "|    AM|       Cinza|    2|\n",
       "|    MA|       Ciano|    1|\n",
       "|    AC|       Ciano|    1|\n",
       "|    RS|        Roxo|    1|\n",
       "|    RJ|        Azul|    4|\n",
       "|    ES| Verde Claro|    2|\n",
       "|    CE|        Azul|    5|\n",
       "|    AM|      Marrom|    6|\n",
       "|    AP|       Preto|    2|\n",
       "|    MA|Verde Escuro|    2|\n",
       "|    SP| Verde Claro|    7|\n",
       "|    GO|      Branco|    2|\n",
       "|    RN|     Amarelo|    1|\n",
       "|    PR|       Verde|    1|\n",
       "|    DF|       Ciano|    1|\n",
       "|    PA|     Laranja|    3|\n",
       "|    TO|        Rosa|    3|\n",
       "|    TO|      Branco|    1|\n",
       "|    RJ|       Preto|    2|\n",
       "|    RO|     Amarelo|    1|\n",
       "+------+------------+-----+\n",
       "only showing top 20 rows"
      ]
     },
     "execution_count": 13,
     "metadata": {},
     "output_type": "execute_result"
    }
   ],
   "source": [
    "# Agrupando duas colunas\n",
    "df.groupBy('estado', 'cor_favorita').count()"
   ]
  },
  {
   "cell_type": "code",
   "execution_count": 30,
   "id": "81ab3dde-5ffc-4882-b6a7-22f330dd965e",
   "metadata": {},
   "outputs": [
    {
     "data": {
      "text/html": [
       "<table border='1'>\n",
       "<tr><th>estado</th></tr>\n",
       "<tr><td>SC</td></tr>\n",
       "<tr><td>RO</td></tr>\n",
       "<tr><td>PI</td></tr>\n",
       "<tr><td>AM</td></tr>\n",
       "<tr><td>RR</td></tr>\n",
       "<tr><td>GO</td></tr>\n",
       "<tr><td>TO</td></tr>\n",
       "<tr><td>MT</td></tr>\n",
       "<tr><td>SP</td></tr>\n",
       "<tr><td>ES</td></tr>\n",
       "<tr><td>PB</td></tr>\n",
       "<tr><td>RS</td></tr>\n",
       "<tr><td>MS</td></tr>\n",
       "<tr><td>AL</td></tr>\n",
       "<tr><td>MG</td></tr>\n",
       "<tr><td>PA</td></tr>\n",
       "<tr><td>BA</td></tr>\n",
       "<tr><td>SE</td></tr>\n",
       "<tr><td>PE</td></tr>\n",
       "<tr><td>CE</td></tr>\n",
       "</table>\n",
       "only showing top 20 rows\n"
      ],
      "text/plain": [
       "+------+\n",
       "|estado|\n",
       "+------+\n",
       "|    SC|\n",
       "|    RO|\n",
       "|    PI|\n",
       "|    AM|\n",
       "|    RR|\n",
       "|    GO|\n",
       "|    TO|\n",
       "|    MT|\n",
       "|    SP|\n",
       "|    ES|\n",
       "|    PB|\n",
       "|    RS|\n",
       "|    MS|\n",
       "|    AL|\n",
       "|    MG|\n",
       "|    PA|\n",
       "|    BA|\n",
       "|    SE|\n",
       "|    PE|\n",
       "|    CE|\n",
       "+------+\n",
       "only showing top 20 rows"
      ]
     },
     "execution_count": 30,
     "metadata": {},
     "output_type": "execute_result"
    }
   ],
   "source": [
    "# Outros comando além do count (exemplo)\n",
    "df.groupBy('estado').sum() # soma\n",
    "df.groupBy('estado').avg() # média\n",
    "df.groupBy('estado').min() # mínimo\n",
    "df.groupBy('estado').max() # máximo"
   ]
  },
  {
   "cell_type": "code",
   "execution_count": 34,
   "id": "193df4ab-1c82-4018-8e71-bb35b1533428",
   "metadata": {},
   "outputs": [
    {
     "data": {
      "text/html": [
       "<table border='1'>\n",
       "<tr><th>year(data_de_nascimento)</th><th>count</th></tr>\n",
       "<tr><td>1959</td><td>8</td></tr>\n",
       "<tr><td>1990</td><td>7</td></tr>\n",
       "<tr><td>1975</td><td>7</td></tr>\n",
       "<tr><td>1977</td><td>5</td></tr>\n",
       "<tr><td>1924</td><td>9</td></tr>\n",
       "<tr><td>2003</td><td>7</td></tr>\n",
       "<tr><td>2007</td><td>12</td></tr>\n",
       "<tr><td>2018</td><td>13</td></tr>\n",
       "<tr><td>1974</td><td>7</td></tr>\n",
       "<tr><td>2015</td><td>9</td></tr>\n",
       "<tr><td>2023</td><td>2</td></tr>\n",
       "<tr><td>1927</td><td>6</td></tr>\n",
       "<tr><td>1955</td><td>13</td></tr>\n",
       "<tr><td>2006</td><td>14</td></tr>\n",
       "<tr><td>2022</td><td>9</td></tr>\n",
       "<tr><td>1978</td><td>6</td></tr>\n",
       "<tr><td>1908</td><td>8</td></tr>\n",
       "<tr><td>1925</td><td>7</td></tr>\n",
       "<tr><td>1961</td><td>7</td></tr>\n",
       "<tr><td>2013</td><td>9</td></tr>\n",
       "</table>\n",
       "only showing top 20 rows\n"
      ],
      "text/plain": [
       "+------------------------+-----+\n",
       "|year(data_de_nascimento)|count|\n",
       "+------------------------+-----+\n",
       "|                    1959|    8|\n",
       "|                    1990|    7|\n",
       "|                    1975|    7|\n",
       "|                    1977|    5|\n",
       "|                    1924|    9|\n",
       "|                    2003|    7|\n",
       "|                    2007|   12|\n",
       "|                    2018|   13|\n",
       "|                    1974|    7|\n",
       "|                    2015|    9|\n",
       "|                    2023|    2|\n",
       "|                    1927|    6|\n",
       "|                    1955|   13|\n",
       "|                    2006|   14|\n",
       "|                    2022|    9|\n",
       "|                    1978|    6|\n",
       "|                    1908|    8|\n",
       "|                    1925|    7|\n",
       "|                    1961|    7|\n",
       "|                    2013|    9|\n",
       "+------------------------+-----+\n",
       "only showing top 20 rows"
      ]
     },
     "execution_count": 34,
     "metadata": {},
     "output_type": "execute_result"
    }
   ],
   "source": [
    "# Agrupando por ano de nascimento\n",
    "df.groupBy(F.year('data_de_nascimento')).count()"
   ]
  }
 ],
 "metadata": {
  "kernelspec": {
   "display_name": "Python 3 (ipykernel)",
   "language": "python",
   "name": "python3"
  },
  "language_info": {
   "codemirror_mode": {
    "name": "ipython",
    "version": 3
   },
   "file_extension": ".py",
   "mimetype": "text/x-python",
   "name": "python",
   "nbconvert_exporter": "python",
   "pygments_lexer": "ipython3",
   "version": "3.11.5"
  }
 },
 "nbformat": 4,
 "nbformat_minor": 5
}
