{
 "cells": [
  {
   "cell_type": "code",
   "execution_count": 1,
   "id": "9d35a332-e77d-452b-b498-96ceb6a55c30",
   "metadata": {},
   "outputs": [],
   "source": [
    "# Importando as bibliotecas utilizadas\n",
    "from pyspark.sql import SparkSession\n",
    "import pyspark.sql.functions as F"
   ]
  },
  {
   "cell_type": "code",
   "execution_count": 18,
   "id": "625fa924-96c4-4e56-93e6-f01b745c9375",
   "metadata": {},
   "outputs": [],
   "source": [
    "# Criando a sessão, nomeando e configurando para mostrar tabela do tipo pandas \n",
    "spark = (\n",
    "    SparkSession.builder\n",
    "    .appName('PySpark - Join')\n",
    "    .config('spark.sql.repl.eagerEval.enabled', True)\n",
    "    .getOrCreate()\n",
    ")"
   ]
  },
  {
   "cell_type": "code",
   "execution_count": 19,
   "id": "df489d01-0f7b-4d27-9f7d-cb7e4919555d",
   "metadata": {},
   "outputs": [],
   "source": [
    "# Carregando as bases de dados em PARQUET para trabalhar com o join\n",
    "autores = spark.read.parquet('./DATASETS/AUTORES.parquet')\n",
    "livros = spark.read.parquet('./DATASETS/LIVROS.parquet')\n",
    "compras = spark.read.parquet('./DATASETS/COMPRAS.parquet')\n",
    "clientes = spark.read.parquet('./DATASETS/CLIENTES.parquet')"
   ]
  },
  {
   "cell_type": "code",
   "execution_count": 4,
   "id": "e7dc4c33-ee93-4237-80dc-8b2bd1ff8d24",
   "metadata": {},
   "outputs": [
    {
     "data": {
      "text/html": [
       "<table border='1'>\n",
       "<tr><th>id</th><th>titulo</th><th>autor</th></tr>\n",
       "<tr><td>106042959</td><td>1984&nbsp;</td><td>George Orwell</td></tr>\n",
       "<tr><td>017551704</td><td>200 Cr&ocirc;nicas Esco...</td><td>Rubem Braga</td></tr>\n",
       "<tr><td>054099410</td><td>A Alma Encantador...</td><td>Jo&atilde;o do Rio</td></tr>\n",
       "<tr><td>128422117</td><td>A Biblioteca da M...</td><td>Matt Haig</td></tr>\n",
       "<tr><td>049141399</td><td>A Coleira do C&atilde;o&nbsp;</td><td>Rubem Fonseca</td></tr>\n",
       "<tr><td>065490862</td><td>A Cor P&uacute;rpura&nbsp;</td><td>Alice Walker</td></tr>\n",
       "<tr><td>029077001</td><td>A Educa&ccedil;&atilde;o Sentim...</td><td>Gustave Flaubert</td></tr>\n",
       "<tr><td>032275599</td><td>A Escrava Isaura&nbsp;</td><td>Bernardo Guimar&atilde;es</td></tr>\n",
       "<tr><td>090690941</td><td>A Estrela Sobe&nbsp;</td><td>Marques Rebelo</td></tr>\n",
       "<tr><td>095695255</td><td>A Hora da Estrela&nbsp;</td><td>Clarice Lispector</td></tr>\n",
       "<tr><td>036365230</td><td>A Hora dos Rumina...</td><td>Jos&eacute; J. Veiga</td></tr>\n",
       "<tr><td>069146824</td><td>A Letra Escarlate&nbsp;</td><td>Nathaniel Hawthorne</td></tr>\n",
       "<tr><td>025903823</td><td>A Metamorfose&nbsp;</td><td>Franz Kafka</td></tr>\n",
       "<tr><td>015903574</td><td>A Montanha M&aacute;gica&nbsp;</td><td>Thomas Mann</td></tr>\n",
       "<tr><td>076938216</td><td>A Moreninha&nbsp;</td><td>Joaquim Manuel de...</td></tr>\n",
       "<tr><td>010325500</td><td>A Obscena Senhora D&nbsp;</td><td>Hilda Hilst</td></tr>\n",
       "<tr><td>095678890</td><td>A Paix&atilde;o Segundo ...</td><td>Clarice Lispector</td></tr>\n",
       "<tr><td>073269564</td><td>A Revolu&ccedil;&atilde;o dos B...</td><td>George Orwell</td></tr>\n",
       "<tr><td>076121829</td><td>A Rosa do Povo&nbsp;</td><td>Carlos Drummond d...</td></tr>\n",
       "<tr><td>087365849</td><td>A Senhorita Simpson&nbsp;</td><td>S&eacute;rgio Sant&rsquo;anna</td></tr>\n",
       "</table>\n",
       "only showing top 20 rows\n"
      ],
      "text/plain": [
       "+---------+--------------------+--------------------+\n",
       "|       id|              titulo|               autor|\n",
       "+---------+--------------------+--------------------+\n",
       "|106042959|               1984 |       George Orwell|\n",
       "|017551704|200 Crônicas Esco...|         Rubem Braga|\n",
       "|054099410|A Alma Encantador...|         João do Rio|\n",
       "|128422117|A Biblioteca da M...|           Matt Haig|\n",
       "|049141399|   A Coleira do Cão |       Rubem Fonseca|\n",
       "|065490862|      A Cor Púrpura |        Alice Walker|\n",
       "|029077001|A Educação Sentim...|    Gustave Flaubert|\n",
       "|032275599|   A Escrava Isaura |  Bernardo Guimarães|\n",
       "|090690941|     A Estrela Sobe |      Marques Rebelo|\n",
       "|095695255|  A Hora da Estrela |   Clarice Lispector|\n",
       "|036365230|A Hora dos Rumina...|       José J. Veiga|\n",
       "|069146824|  A Letra Escarlate | Nathaniel Hawthorne|\n",
       "|025903823|      A Metamorfose |         Franz Kafka|\n",
       "|015903574|  A Montanha Mágica |         Thomas Mann|\n",
       "|076938216|        A Moreninha |Joaquim Manuel de...|\n",
       "|010325500|A Obscena Senhora D |         Hilda Hilst|\n",
       "|095678890|A Paixão Segundo ...|   Clarice Lispector|\n",
       "|073269564|A Revolução dos B...|       George Orwell|\n",
       "|076121829|     A Rosa do Povo |Carlos Drummond d...|\n",
       "|087365849|A Senhorita Simpson |    Sérgio Sant’anna|\n",
       "+---------+--------------------+--------------------+\n",
       "only showing top 20 rows"
      ]
     },
     "execution_count": 4,
     "metadata": {},
     "output_type": "execute_result"
    }
   ],
   "source": [
    "autores"
   ]
  },
  {
   "cell_type": "code",
   "execution_count": 5,
   "id": "fd5159bc-f982-42d2-b99a-7f36f1a6474a",
   "metadata": {},
   "outputs": [
    {
     "data": {
      "text/html": [
       "<table border='1'>\n",
       "<tr><th>id</th><th>cnpj_editora</th><th>data_lancamento</th><th>ean</th><th>isbn10</th><th>numero_paginas</th><th>preco</th></tr>\n",
       "<tr><td>102961160</td><td>54.317.982/0001-79</td><td>2011-09-19</td><td>4367115749184</td><td>0-06-594558-1</td><td>516</td><td>113.84</td></tr>\n",
       "<tr><td>043636240</td><td>16.938.042/0001-08</td><td>2019-05-11</td><td>1239569754256</td><td>0-611-23680-X</td><td>371</td><td>207.67</td></tr>\n",
       "<tr><td>052928059</td><td>57.624.038/0001-52</td><td>2003-08-03</td><td>5462162528221</td><td>1-109-29542-1</td><td>198</td><td>107.89</td></tr>\n",
       "<tr><td>088482271</td><td>16.249.378/0001-63</td><td>2022-09-07</td><td>5713629047213</td><td>1-229-68842-0</td><td>632</td><td>143.95</td></tr>\n",
       "<tr><td>028125446</td><td>90.425.178/0001-77</td><td>2011-07-25</td><td>2226757040245</td><td>0-657-66391-3</td><td>384</td><td>156.49</td></tr>\n",
       "<tr><td>055610005</td><td>20.756.194/0001-67</td><td>2006-03-22</td><td>2114468195241</td><td>0-455-43278-3</td><td>419</td><td>37.08</td></tr>\n",
       "<tr><td>049806867</td><td>93.617.240/0001-10</td><td>2022-02-17</td><td>3166123637398</td><td>1-4822-8784-6</td><td>378</td><td>162.97</td></tr>\n",
       "<tr><td>102803370</td><td>48.760.531/0001-09</td><td>2011-12-13</td><td>2550608407612</td><td>0-399-05121-X</td><td>732</td><td>75.62</td></tr>\n",
       "<tr><td>084858867</td><td>10.752.843/0001-06</td><td>2015-04-30</td><td>6207011925788</td><td>1-03-549652-6</td><td>635</td><td>237.67</td></tr>\n",
       "<tr><td>059303729</td><td>05.129.783/0001-21</td><td>2001-08-25</td><td>1641133648784</td><td>0-620-46508-5</td><td>107</td><td>61.41</td></tr>\n",
       "<tr><td>064175052</td><td>65.301.927/0001-07</td><td>2008-05-29</td><td>6905480714673</td><td>1-876722-64-9</td><td>795</td><td>85.56</td></tr>\n",
       "<tr><td>080608956</td><td>90.563.247/0001-09</td><td>2011-10-05</td><td>0332981484891</td><td>1-925760-25-1</td><td>203</td><td>107.63</td></tr>\n",
       "<tr><td>018453254</td><td>95.367.280/0001-87</td><td>2012-11-02</td><td>0507454098268</td><td>0-609-21722-4</td><td>043</td><td>52.94</td></tr>\n",
       "<tr><td>021765997</td><td>59.374.801/0001-60</td><td>2014-05-17</td><td>4743679337089</td><td>1-85580-232-5</td><td>499</td><td>143.43</td></tr>\n",
       "<tr><td>023911383</td><td>98.526.047/0001-98</td><td>2005-11-12</td><td>4165252098109</td><td>1-369-22273-4</td><td>599</td><td>121.0</td></tr>\n",
       "<tr><td>029667220</td><td>20.136.498/0001-21</td><td>2008-09-22</td><td>9813450961422</td><td>0-466-92503-4</td><td>474</td><td>175.32</td></tr>\n",
       "<tr><td>030099528</td><td>28.103.975/0001-64</td><td>2000-02-06</td><td>9164658045347</td><td>0-904222-71-3</td><td>292</td><td>208.39</td></tr>\n",
       "<tr><td>034553086</td><td>29.507.683/0001-50</td><td>2016-12-29</td><td>7318970609554</td><td>1-4989-7802-9</td><td>540</td><td>113.52</td></tr>\n",
       "<tr><td>035350343</td><td>25.491.073/0001-54</td><td>2003-11-29</td><td>7630092024962</td><td>1-957157-95-X</td><td>109</td><td>58.61</td></tr>\n",
       "<tr><td>017477529</td><td>39.507.184/0001-16</td><td>2005-09-23</td><td>5930606400018</td><td>1-393-77728-7</td><td>747</td><td>232.65</td></tr>\n",
       "</table>\n",
       "only showing top 20 rows\n"
      ],
      "text/plain": [
       "+---------+------------------+---------------+-------------+-------------+--------------+------+\n",
       "|       id|      cnpj_editora|data_lancamento|          ean|       isbn10|numero_paginas| preco|\n",
       "+---------+------------------+---------------+-------------+-------------+--------------+------+\n",
       "|102961160|54.317.982/0001-79|     2011-09-19|4367115749184|0-06-594558-1|           516|113.84|\n",
       "|043636240|16.938.042/0001-08|     2019-05-11|1239569754256|0-611-23680-X|           371|207.67|\n",
       "|052928059|57.624.038/0001-52|     2003-08-03|5462162528221|1-109-29542-1|           198|107.89|\n",
       "|088482271|16.249.378/0001-63|     2022-09-07|5713629047213|1-229-68842-0|           632|143.95|\n",
       "|028125446|90.425.178/0001-77|     2011-07-25|2226757040245|0-657-66391-3|           384|156.49|\n",
       "|055610005|20.756.194/0001-67|     2006-03-22|2114468195241|0-455-43278-3|           419| 37.08|\n",
       "|049806867|93.617.240/0001-10|     2022-02-17|3166123637398|1-4822-8784-6|           378|162.97|\n",
       "|102803370|48.760.531/0001-09|     2011-12-13|2550608407612|0-399-05121-X|           732| 75.62|\n",
       "|084858867|10.752.843/0001-06|     2015-04-30|6207011925788|1-03-549652-6|           635|237.67|\n",
       "|059303729|05.129.783/0001-21|     2001-08-25|1641133648784|0-620-46508-5|           107| 61.41|\n",
       "|064175052|65.301.927/0001-07|     2008-05-29|6905480714673|1-876722-64-9|           795| 85.56|\n",
       "|080608956|90.563.247/0001-09|     2011-10-05|0332981484891|1-925760-25-1|           203|107.63|\n",
       "|018453254|95.367.280/0001-87|     2012-11-02|0507454098268|0-609-21722-4|           043| 52.94|\n",
       "|021765997|59.374.801/0001-60|     2014-05-17|4743679337089|1-85580-232-5|           499|143.43|\n",
       "|023911383|98.526.047/0001-98|     2005-11-12|4165252098109|1-369-22273-4|           599| 121.0|\n",
       "|029667220|20.136.498/0001-21|     2008-09-22|9813450961422|0-466-92503-4|           474|175.32|\n",
       "|030099528|28.103.975/0001-64|     2000-02-06|9164658045347|0-904222-71-3|           292|208.39|\n",
       "|034553086|29.507.683/0001-50|     2016-12-29|7318970609554|1-4989-7802-9|           540|113.52|\n",
       "|035350343|25.491.073/0001-54|     2003-11-29|7630092024962|1-957157-95-X|           109| 58.61|\n",
       "|017477529|39.507.184/0001-16|     2005-09-23|5930606400018|1-393-77728-7|           747|232.65|\n",
       "+---------+------------------+---------------+-------------+-------------+--------------+------+\n",
       "only showing top 20 rows"
      ]
     },
     "execution_count": 5,
     "metadata": {},
     "output_type": "execute_result"
    }
   ],
   "source": [
    "livros"
   ]
  },
  {
   "cell_type": "code",
   "execution_count": 6,
   "id": "4ada2072-c608-4a08-85e9-0f9a32689140",
   "metadata": {},
   "outputs": [
    {
     "data": {
      "text/html": [
       "<table border='1'>\n",
       "<tr><th>id</th><th>cpf</th><th>rg</th><th>name</th><th>email</th><th>data_de_nascimento</th><th>estado</th><th>profissao</th><th>telefone</th></tr>\n",
       "<tr><td>4738995</td><td>637.180.254-26</td><td>012835766</td><td>Srta. Ana Laura M...</td><td>eteixeira@uol.com.br</td><td>2003-02-03</td><td>RS</td><td>Profissional De R...</td><td>(011) 8424-0376</td></tr>\n",
       "<tr><td>4011280</td><td>689.750.231-68</td><td>01284357X</td><td>Ana Julia das Neves</td><td>xda-paz@hotmail.com</td><td>2009-05-29</td><td>PA</td><td>Engenheiro Sanita...</td><td>+55 71 9739-6705</td></tr>\n",
       "<tr><td>5662332</td><td>306.158.472-26</td><td>013562745</td><td>Milena Cunha</td><td>pietrada-rosa@bol...</td><td>2013-10-05</td><td>AC</td><td>Fonoaudi&oacute;logo</td><td>+55 81 5498-3331</td></tr>\n",
       "<tr><td>7450009</td><td>593.140.268-33</td><td>014736822</td><td>Sra. Eloah Nogueira</td><td>yda-paz@bol.com.br</td><td>1979-11-02</td><td>PI</td><td>Profissional De T...</td><td>(021) 8628-7265</td></tr>\n",
       "<tr><td>3583249</td><td>982.604.317-69</td><td>014876358</td><td>Nathan Azevedo</td><td>rafaelacostela@ya...</td><td>1931-08-29</td><td>ES</td><td>Profissional De C...</td><td>81 2925 1456</td></tr>\n",
       "<tr><td>2890701</td><td>721.395.064-99</td><td>01528637X</td><td>Esther Rodrigues</td><td>caue34@yahoo.com.br</td><td>1957-01-16</td><td>RO</td><td>Senador</td><td>(011) 5381 6173</td></tr>\n",
       "<tr><td>6685012</td><td>867.439.052-83</td><td>015842733</td><td>Jo&atilde;o Gabriel Barros</td><td>pedro-lucas13@gma...</td><td>1982-06-17</td><td>AM</td><td>Neonatologista</td><td>(071) 5210 2730</td></tr>\n",
       "<tr><td>2388467</td><td>470.815.269-85</td><td>01625837X</td><td>Luiz Ot&aacute;vio Rezende</td><td>portojoana@uol.co...</td><td>2017-07-16</td><td>MS</td><td>Profissional De L...</td><td>+55 71 5952-3387</td></tr>\n",
       "<tr><td>4279570</td><td>857.210.643-07</td><td>016487357</td><td>Gustavo Henrique ...</td><td>da-matabenjamin@i...</td><td>1983-06-24</td><td>BA</td><td>Engenheiro Agr&iacute;cola</td><td>31 6727 6524</td></tr>\n",
       "<tr><td>8599757</td><td>810.563.427-90</td><td>017346587</td><td>Pietro Nunes</td><td>carvalholeandro@h...</td><td>2012-09-03</td><td>PI</td><td>Cobaia M&eacute;dica</td><td>+55 (061) 3135-5607</td></tr>\n",
       "<tr><td>3441541</td><td>698.104.275-49</td><td>017583627</td><td>Agatha Peixoto</td><td>larissaporto@yaho...</td><td>1965-03-24</td><td>GO</td><td>Engenheiro Agrime...</td><td>0500-618-4617</td></tr>\n",
       "<tr><td>7687244</td><td>849.175.032-05</td><td>018256375</td><td>Dr. Ot&aacute;vio Ara&uacute;jo</td><td>maria-fernanda29@...</td><td>1923-04-25</td><td>PE</td><td>Deputado</td><td>(021) 5820 0740</td></tr>\n",
       "<tr><td>604220</td><td>491.567.308-10</td><td>018324654</td><td>Arthur Pereira</td><td>imendes@bol.com.br</td><td>1975-04-17</td><td>SE</td><td>Tenente</td><td>+55 (071) 3637 8445</td></tr>\n",
       "<tr><td>3336897</td><td>039.825.671-30</td><td>01856723X</td><td>Sra. Clarice Freitas</td><td>dfernandes@yahoo....</td><td>1910-12-17</td><td>PE</td><td>Despachante</td><td>+55 (051) 6274-3235</td></tr>\n",
       "<tr><td>5720641</td><td>508.314.976-10</td><td>02137465X</td><td>Sra. Eloah Silva</td><td>thiago69@gmail.com</td><td>1938-02-02</td><td>RR</td><td>Engenheiro Agr&iacute;cola</td><td>(051) 6591 7177</td></tr>\n",
       "<tr><td>3100520</td><td>108.736.542-26</td><td>023147866</td><td>Srta. Clarice Fre...</td><td>cardosoelisa@gmai...</td><td>1980-06-11</td><td>AP</td><td>Encanador</td><td>(081) 3375 5349</td></tr>\n",
       "<tr><td>5706990</td><td>269.341.870-40</td><td>023856749</td><td>Dra. Beatriz da C...</td><td>gomesvitor@bol.co...</td><td>1992-09-09</td><td>PB</td><td>T&eacute;cnico Em Radiol...</td><td>+55 81 1878-5560</td></tr>\n",
       "<tr><td>2350203</td><td>134.982.607-31</td><td>025864312</td><td>Davi Vieira</td><td>peixotoalexandre@...</td><td>1928-11-09</td><td>PR</td><td>Frentista</td><td>+55 71 6394 4879</td></tr>\n",
       "<tr><td>1351375</td><td>294.536.081-06</td><td>026715831</td><td>Diogo Nascimento</td><td>teixeiranicole@ig...</td><td>1947-05-15</td><td>PI</td><td>Pr&aacute;tico</td><td>+55 81 1904-6183</td></tr>\n",
       "<tr><td>335510</td><td>361.794.520-16</td><td>027318564</td><td>Sra. Caroline da ...</td><td>waragao@ig.com.br</td><td>2016-08-23</td><td>RN</td><td>Preparador De M&aacute;q...</td><td>+55 (051) 4505 5080</td></tr>\n",
       "</table>\n",
       "only showing top 20 rows\n"
      ],
      "text/plain": [
       "+-------+--------------+---------+--------------------+--------------------+------------------+------+--------------------+-------------------+\n",
       "|     id|           cpf|       rg|                name|               email|data_de_nascimento|estado|           profissao|           telefone|\n",
       "+-------+--------------+---------+--------------------+--------------------+------------------+------+--------------------+-------------------+\n",
       "|4738995|637.180.254-26|012835766|Srta. Ana Laura M...|eteixeira@uol.com.br|        2003-02-03|    RS|Profissional De R...|    (011) 8424-0376|\n",
       "|4011280|689.750.231-68|01284357X| Ana Julia das Neves| xda-paz@hotmail.com|        2009-05-29|    PA|Engenheiro Sanita...|   +55 71 9739-6705|\n",
       "|5662332|306.158.472-26|013562745|        Milena Cunha|pietrada-rosa@bol...|        2013-10-05|    AC|       Fonoaudiólogo|   +55 81 5498-3331|\n",
       "|7450009|593.140.268-33|014736822| Sra. Eloah Nogueira|  yda-paz@bol.com.br|        1979-11-02|    PI|Profissional De T...|    (021) 8628-7265|\n",
       "|3583249|982.604.317-69|014876358|      Nathan Azevedo|rafaelacostela@ya...|        1931-08-29|    ES|Profissional De C...|       81 2925 1456|\n",
       "|2890701|721.395.064-99|01528637X|    Esther Rodrigues| caue34@yahoo.com.br|        1957-01-16|    RO|             Senador|    (011) 5381 6173|\n",
       "|6685012|867.439.052-83|015842733| João Gabriel Barros|pedro-lucas13@gma...|        1982-06-17|    AM|      Neonatologista|    (071) 5210 2730|\n",
       "|2388467|470.815.269-85|01625837X| Luiz Otávio Rezende|portojoana@uol.co...|        2017-07-16|    MS|Profissional De L...|   +55 71 5952-3387|\n",
       "|4279570|857.210.643-07|016487357|Gustavo Henrique ...|da-matabenjamin@i...|        1983-06-24|    BA| Engenheiro Agrícola|       31 6727 6524|\n",
       "|8599757|810.563.427-90|017346587|        Pietro Nunes|carvalholeandro@h...|        2012-09-03|    PI|       Cobaia Médica|+55 (061) 3135-5607|\n",
       "|3441541|698.104.275-49|017583627|      Agatha Peixoto|larissaporto@yaho...|        1965-03-24|    GO|Engenheiro Agrime...|      0500-618-4617|\n",
       "|7687244|849.175.032-05|018256375|   Dr. Otávio Araújo|maria-fernanda29@...|        1923-04-25|    PE|            Deputado|    (021) 5820 0740|\n",
       "| 604220|491.567.308-10|018324654|      Arthur Pereira|  imendes@bol.com.br|        1975-04-17|    SE|             Tenente|+55 (071) 3637 8445|\n",
       "|3336897|039.825.671-30|01856723X|Sra. Clarice Freitas|dfernandes@yahoo....|        1910-12-17|    PE|         Despachante|+55 (051) 6274-3235|\n",
       "|5720641|508.314.976-10|02137465X|    Sra. Eloah Silva|  thiago69@gmail.com|        1938-02-02|    RR| Engenheiro Agrícola|    (051) 6591 7177|\n",
       "|3100520|108.736.542-26|023147866|Srta. Clarice Fre...|cardosoelisa@gmai...|        1980-06-11|    AP|           Encanador|    (081) 3375 5349|\n",
       "|5706990|269.341.870-40|023856749|Dra. Beatriz da C...|gomesvitor@bol.co...|        1992-09-09|    PB|Técnico Em Radiol...|   +55 81 1878-5560|\n",
       "|2350203|134.982.607-31|025864312|         Davi Vieira|peixotoalexandre@...|        1928-11-09|    PR|           Frentista|   +55 71 6394 4879|\n",
       "|1351375|294.536.081-06|026715831|    Diogo Nascimento|teixeiranicole@ig...|        1947-05-15|    PI|             Prático|   +55 81 1904-6183|\n",
       "| 335510|361.794.520-16|027318564|Sra. Caroline da ...|   waragao@ig.com.br|        2016-08-23|    RN|Preparador De Máq...|+55 (051) 4505 5080|\n",
       "+-------+--------------+---------+--------------------+--------------------+------------------+------+--------------------+-------------------+\n",
       "only showing top 20 rows"
      ]
     },
     "execution_count": 6,
     "metadata": {},
     "output_type": "execute_result"
    }
   ],
   "source": [
    "clientes"
   ]
  },
  {
   "cell_type": "code",
   "execution_count": 7,
   "id": "cba460f2-00e1-42ff-93b7-c345a9551320",
   "metadata": {},
   "outputs": [
    {
     "data": {
      "text/html": [
       "<table border='1'>\n",
       "<tr><th>id</th><th>cartao_data_expiracao</th><th>cartao_numero</th><th>cartao_bandeira</th><th>cartao_cvc</th><th>codigo_transacao_bancaria</th><th>data</th><th>hora</th><th>ipv4</th><th>ipv6</th><th>cep_entrega</th><th>cd_livro</th><th>cd_cliente</th></tr>\n",
       "<tr><td>012389</td><td>11/25</td><td>5500804500517692</td><td>Discover</td><td>959</td><td>GB98MPIH622108593...</td><td>2021-07-24</td><td>03:21:28</td><td>62.145.31.164</td><td>b23d:58a2:9eff:36...</td><td>36629-219</td><td>030334762</td><td>3339828</td></tr>\n",
       "<tr><td>012476</td><td>01/31</td><td>4609489235873</td><td>VISA 16 digit</td><td>6979</td><td>GB79GAVL233010819...</td><td>2021-08-23</td><td>11:15:52</td><td>185.150.224.52</td><td>1e2c:f641:49d1:5a...</td><td>17012-747</td><td>013721981</td><td>7624624</td></tr>\n",
       "<tr><td>012478</td><td>07/23</td><td>30072722359174</td><td>American Express</td><td>689</td><td>GB51SZOU538484531...</td><td>2020-01-27</td><td>17:08:10</td><td>40.179.153.24</td><td>9bcd:ee0c:af68:33...</td><td>25921298</td><td>019458805</td><td>8703114</td></tr>\n",
       "<tr><td>012534</td><td>09/29</td><td>4561935154572</td><td>VISA 16 digit</td><td>353</td><td>GB05UNEX021466511...</td><td>2021-07-15</td><td>07:39:25</td><td>86.20.51.194</td><td>be57:8f94:132:1cb...</td><td>73799370</td><td>014347542</td><td>7799936</td></tr>\n",
       "<tr><td>012549</td><td>01/31</td><td>3541220668415122</td><td>JCB 15 digit</td><td>967</td><td>GB97RCCC581942620...</td><td>2020-07-22</td><td>23:56:14</td><td>55.189.220.65</td><td>a1fd:9dd:115f:9d5...</td><td>50727-454</td><td>020215846</td><td>6703678</td></tr>\n",
       "<tr><td>012574</td><td>06/24</td><td>4155061214506542</td><td>JCB 16 digit</td><td>362</td><td>GB93YATI197164292...</td><td>2020-05-19</td><td>10:47:09</td><td>212.26.253.42</td><td>1815:dc0e:c557:96...</td><td>67662-182</td><td>010325500</td><td>6273720</td></tr>\n",
       "<tr><td>012579</td><td>01/27</td><td>30554213514227</td><td>Maestro</td><td>9847</td><td>GB54PQLN799705859...</td><td>2021-04-15</td><td>10:36:56</td><td>168.197.230.167</td><td>7f3b:4ada:4c62:3f...</td><td>61193-110</td><td>053479015</td><td>6977964</td></tr>\n",
       "<tr><td>012648</td><td>05/24</td><td>347386847428278</td><td>VISA 16 digit</td><td>823</td><td>GB90MYZL510193283...</td><td>2021-06-19</td><td>13:07:48</td><td>146.108.131.11</td><td>c52d:53d8:371a:34...</td><td>10059-723</td><td>012331534</td><td>6616715</td></tr>\n",
       "<tr><td>012675</td><td>04/29</td><td>4534805013764</td><td>Mastercard</td><td>384</td><td>GB11XMUH824876351...</td><td>2021-07-11</td><td>07:55:08</td><td>148.155.72.234</td><td>b290:d2b7:6a58:86...</td><td>79292884</td><td>035940339</td><td>649001</td></tr>\n",
       "<tr><td>012698</td><td>12/31</td><td>4450657280386776</td><td>American Express</td><td>247</td><td>GB79ECRO017868447...</td><td>2021-08-11</td><td>12:06:48</td><td>190.135.5.172</td><td>7cbc:4554:7f5d:65...</td><td>93609312</td><td>058320651</td><td>4523531</td></tr>\n",
       "<tr><td>012845</td><td>01/32</td><td>6589457551152257</td><td>Diners Club / Car...</td><td>081</td><td>GB54ZAJA800810561...</td><td>2023-02-27</td><td>09:34:58</td><td>117.107.7.243</td><td>d3f6:6a7f:32a8:eb...</td><td>65177115</td><td>032169692</td><td>8443760</td></tr>\n",
       "<tr><td>012948</td><td>12/28</td><td>373871288580551</td><td>Diners Club / Car...</td><td>619</td><td>GB43SXJF889505944...</td><td>2020-02-20</td><td>03:10:01</td><td>210.130.27.213</td><td>9ae4:b03a:1a1f:c6...</td><td>39334-766</td><td>032169692</td><td>1235431</td></tr>\n",
       "<tr><td>012964</td><td>12/30</td><td>4852311914204</td><td>Mastercard</td><td>555</td><td>GB64DLQF090053954...</td><td>2022-10-04</td><td>06:40:47</td><td>129.93.60.161</td><td>5bfe:ad1b:a4f1:f2...</td><td>41199-650</td><td>033338998</td><td>7811168</td></tr>\n",
       "<tr><td>012984</td><td>06/31</td><td>4513536757134128830</td><td>VISA 19 digit</td><td>834</td><td>GB32QSLY821583204...</td><td>2020-08-05</td><td>09:45:12</td><td>141.203.245.233</td><td>7528:d2f8:fa09:82...</td><td>84410-583</td><td>042900595</td><td>2093927</td></tr>\n",
       "<tr><td>012986</td><td>10/26</td><td>3585620838660639</td><td>Mastercard</td><td>440</td><td>GB79ZFSL741355562...</td><td>2020-05-06</td><td>23:22:03</td><td>221.251.216.243</td><td>5da7:4583:5800:96...</td><td>16961-730</td><td>019458805</td><td>3945329</td></tr>\n",
       "<tr><td>013257</td><td>05/23</td><td>6579633995016199</td><td>VISA 13 digit</td><td>9804</td><td>GB93NZLK218118563...</td><td>2022-11-28</td><td>02:09:43</td><td>189.189.141.229</td><td>7b91:3b21:d3f1:36...</td><td>83312054</td><td>027740385</td><td>6689138</td></tr>\n",
       "<tr><td>013265</td><td>12/31</td><td>3535506018736607</td><td>JCB 15 digit</td><td>702</td><td>GB97UUHZ239804882...</td><td>2020-10-27</td><td>18:17:07</td><td>24.152.218.181</td><td>77da:6ce5:522a:ac...</td><td>06479-166</td><td>049141690</td><td>1942388</td></tr>\n",
       "<tr><td>013274</td><td>01/24</td><td>3568580151701777</td><td>JCB 16 digit</td><td>257</td><td>GB80ISML116442671...</td><td>2021-12-20</td><td>14:44:09</td><td>42.253.7.153</td><td>cf6a:3335:55be:e0...</td><td>30462-427</td><td>104361784</td><td>2487770</td></tr>\n",
       "<tr><td>013457</td><td>06/28</td><td>4589839699652790803</td><td>Maestro</td><td>280</td><td>GB22HUUD094642820...</td><td>2021-10-26</td><td>23:04:27</td><td>207.179.196.45</td><td>9b03:e5f0:c72f:c7...</td><td>10506549</td><td>021006591</td><td>4312106</td></tr>\n",
       "<tr><td>013478</td><td>07/24</td><td>3560452545224585</td><td>VISA 16 digit</td><td>126</td><td>GB63LUHF437452702...</td><td>2020-05-10</td><td>02:33:28</td><td>105.127.245.188</td><td>dd79:3fca:9d38:98...</td><td>10354-560</td><td>019488257</td><td>670483</td></tr>\n",
       "</table>\n",
       "only showing top 20 rows\n"
      ],
      "text/plain": [
       "+------+---------------------+-------------------+--------------------+----------+-------------------------+----------+--------+---------------+--------------------+-----------+---------+----------+\n",
       "|    id|cartao_data_expiracao|      cartao_numero|     cartao_bandeira|cartao_cvc|codigo_transacao_bancaria|      data|    hora|           ipv4|                ipv6|cep_entrega| cd_livro|cd_cliente|\n",
       "+------+---------------------+-------------------+--------------------+----------+-------------------------+----------+--------+---------------+--------------------+-----------+---------+----------+\n",
       "|012389|                11/25|   5500804500517692|            Discover|       959|     GB98MPIH622108593...|2021-07-24|03:21:28|  62.145.31.164|b23d:58a2:9eff:36...|  36629-219|030334762|   3339828|\n",
       "|012476|                01/31|      4609489235873|       VISA 16 digit|      6979|     GB79GAVL233010819...|2021-08-23|11:15:52| 185.150.224.52|1e2c:f641:49d1:5a...|  17012-747|013721981|   7624624|\n",
       "|012478|                07/23|     30072722359174|    American Express|       689|     GB51SZOU538484531...|2020-01-27|17:08:10|  40.179.153.24|9bcd:ee0c:af68:33...|   25921298|019458805|   8703114|\n",
       "|012534|                09/29|      4561935154572|       VISA 16 digit|       353|     GB05UNEX021466511...|2021-07-15|07:39:25|   86.20.51.194|be57:8f94:132:1cb...|   73799370|014347542|   7799936|\n",
       "|012549|                01/31|   3541220668415122|        JCB 15 digit|       967|     GB97RCCC581942620...|2020-07-22|23:56:14|  55.189.220.65|a1fd:9dd:115f:9d5...|  50727-454|020215846|   6703678|\n",
       "|012574|                06/24|   4155061214506542|        JCB 16 digit|       362|     GB93YATI197164292...|2020-05-19|10:47:09|  212.26.253.42|1815:dc0e:c557:96...|  67662-182|010325500|   6273720|\n",
       "|012579|                01/27|     30554213514227|             Maestro|      9847|     GB54PQLN799705859...|2021-04-15|10:36:56|168.197.230.167|7f3b:4ada:4c62:3f...|  61193-110|053479015|   6977964|\n",
       "|012648|                05/24|    347386847428278|       VISA 16 digit|       823|     GB90MYZL510193283...|2021-06-19|13:07:48| 146.108.131.11|c52d:53d8:371a:34...|  10059-723|012331534|   6616715|\n",
       "|012675|                04/29|      4534805013764|          Mastercard|       384|     GB11XMUH824876351...|2021-07-11|07:55:08| 148.155.72.234|b290:d2b7:6a58:86...|   79292884|035940339|    649001|\n",
       "|012698|                12/31|   4450657280386776|    American Express|       247|     GB79ECRO017868447...|2021-08-11|12:06:48|  190.135.5.172|7cbc:4554:7f5d:65...|   93609312|058320651|   4523531|\n",
       "|012845|                01/32|   6589457551152257|Diners Club / Car...|       081|     GB54ZAJA800810561...|2023-02-27|09:34:58|  117.107.7.243|d3f6:6a7f:32a8:eb...|   65177115|032169692|   8443760|\n",
       "|012948|                12/28|    373871288580551|Diners Club / Car...|       619|     GB43SXJF889505944...|2020-02-20|03:10:01| 210.130.27.213|9ae4:b03a:1a1f:c6...|  39334-766|032169692|   1235431|\n",
       "|012964|                12/30|      4852311914204|          Mastercard|       555|     GB64DLQF090053954...|2022-10-04|06:40:47|  129.93.60.161|5bfe:ad1b:a4f1:f2...|  41199-650|033338998|   7811168|\n",
       "|012984|                06/31|4513536757134128830|       VISA 19 digit|       834|     GB32QSLY821583204...|2020-08-05|09:45:12|141.203.245.233|7528:d2f8:fa09:82...|  84410-583|042900595|   2093927|\n",
       "|012986|                10/26|   3585620838660639|          Mastercard|       440|     GB79ZFSL741355562...|2020-05-06|23:22:03|221.251.216.243|5da7:4583:5800:96...|  16961-730|019458805|   3945329|\n",
       "|013257|                05/23|   6579633995016199|       VISA 13 digit|      9804|     GB93NZLK218118563...|2022-11-28|02:09:43|189.189.141.229|7b91:3b21:d3f1:36...|   83312054|027740385|   6689138|\n",
       "|013265|                12/31|   3535506018736607|        JCB 15 digit|       702|     GB97UUHZ239804882...|2020-10-27|18:17:07| 24.152.218.181|77da:6ce5:522a:ac...|  06479-166|049141690|   1942388|\n",
       "|013274|                01/24|   3568580151701777|        JCB 16 digit|       257|     GB80ISML116442671...|2021-12-20|14:44:09|   42.253.7.153|cf6a:3335:55be:e0...|  30462-427|104361784|   2487770|\n",
       "|013457|                06/28|4589839699652790803|             Maestro|       280|     GB22HUUD094642820...|2021-10-26|23:04:27| 207.179.196.45|9b03:e5f0:c72f:c7...|   10506549|021006591|   4312106|\n",
       "|013478|                07/24|   3560452545224585|       VISA 16 digit|       126|     GB63LUHF437452702...|2020-05-10|02:33:28|105.127.245.188|dd79:3fca:9d38:98...|  10354-560|019488257|    670483|\n",
       "+------+---------------------+-------------------+--------------------+----------+-------------------------+----------+--------+---------------+--------------------+-----------+---------+----------+\n",
       "only showing top 20 rows"
      ]
     },
     "execution_count": 7,
     "metadata": {},
     "output_type": "execute_result"
    }
   ],
   "source": [
    "compras"
   ]
  },
  {
   "cell_type": "code",
   "execution_count": 8,
   "id": "36571c53-67dc-4ca4-9b98-1c2bc89e551d",
   "metadata": {},
   "outputs": [
    {
     "data": {
      "text/html": [
       "<table border='1'>\n",
       "<tr><th>id</th><th>titulo</th><th>autor</th><th>cnpj_editora</th><th>data_lancamento</th><th>ean</th><th>isbn10</th><th>numero_paginas</th><th>preco</th></tr>\n",
       "<tr><td>106042959</td><td>1984&nbsp;</td><td>George Orwell</td><td>NULL</td><td>NULL</td><td>NULL</td><td>NULL</td><td>NULL</td><td>NULL</td></tr>\n",
       "<tr><td>017551704</td><td>200 Cr&ocirc;nicas Esco...</td><td>Rubem Braga</td><td>14.857.032/0001-12</td><td>2018-10-19</td><td>2352660010751</td><td>0-7433-6026-5</td><td>645</td><td>44.38</td></tr>\n",
       "<tr><td>054099410</td><td>A Alma Encantador...</td><td>Jo&atilde;o do Rio</td><td>NULL</td><td>NULL</td><td>NULL</td><td>NULL</td><td>NULL</td><td>NULL</td></tr>\n",
       "<tr><td>128422117</td><td>A Biblioteca da M...</td><td>Matt Haig</td><td>NULL</td><td>NULL</td><td>NULL</td><td>NULL</td><td>NULL</td><td>NULL</td></tr>\n",
       "<tr><td>049141399</td><td>A Coleira do C&atilde;o&nbsp;</td><td>Rubem Fonseca</td><td>NULL</td><td>NULL</td><td>NULL</td><td>NULL</td><td>NULL</td><td>NULL</td></tr>\n",
       "<tr><td>065490862</td><td>A Cor P&uacute;rpura&nbsp;</td><td>Alice Walker</td><td>NULL</td><td>NULL</td><td>NULL</td><td>NULL</td><td>NULL</td><td>NULL</td></tr>\n",
       "<tr><td>029077001</td><td>A Educa&ccedil;&atilde;o Sentim...</td><td>Gustave Flaubert</td><td>NULL</td><td>NULL</td><td>NULL</td><td>NULL</td><td>NULL</td><td>NULL</td></tr>\n",
       "<tr><td>032275599</td><td>A Escrava Isaura&nbsp;</td><td>Bernardo Guimar&atilde;es</td><td>49.037.512/0001-11</td><td>2001-05-15</td><td>2964406383663</td><td>1-83335-705-1</td><td>752</td><td>184.42</td></tr>\n",
       "<tr><td>090690941</td><td>A Estrela Sobe&nbsp;</td><td>Marques Rebelo</td><td>NULL</td><td>NULL</td><td>NULL</td><td>NULL</td><td>NULL</td><td>NULL</td></tr>\n",
       "<tr><td>095695255</td><td>A Hora da Estrela&nbsp;</td><td>Clarice Lispector</td><td>94.567.038/0001-94</td><td>2015-04-23</td><td>4084520465552</td><td>0-7650-7381-1</td><td>572</td><td>83.33</td></tr>\n",
       "<tr><td>036365230</td><td>A Hora dos Rumina...</td><td>Jos&eacute; J. Veiga</td><td>NULL</td><td>NULL</td><td>NULL</td><td>NULL</td><td>NULL</td><td>NULL</td></tr>\n",
       "<tr><td>069146824</td><td>A Letra Escarlate&nbsp;</td><td>Nathaniel Hawthorne</td><td>NULL</td><td>NULL</td><td>NULL</td><td>NULL</td><td>NULL</td><td>NULL</td></tr>\n",
       "<tr><td>025903823</td><td>A Metamorfose&nbsp;</td><td>Franz Kafka</td><td>64.315.082/0001-46</td><td>2006-01-05</td><td>7561853479861</td><td>0-10-032263-8</td><td>760</td><td>215.52</td></tr>\n",
       "<tr><td>015903574</td><td>A Montanha M&aacute;gica&nbsp;</td><td>Thomas Mann</td><td>25.908.643/0001-69</td><td>2006-03-03</td><td>7694802204365</td><td>0-931131-95-2</td><td>600</td><td>90.22</td></tr>\n",
       "<tr><td>076938216</td><td>A Moreninha&nbsp;</td><td>Joaquim Manuel de...</td><td>NULL</td><td>NULL</td><td>NULL</td><td>NULL</td><td>NULL</td><td>NULL</td></tr>\n",
       "<tr><td>010325500</td><td>A Obscena Senhora D&nbsp;</td><td>Hilda Hilst</td><td>27.689.540/0001-80</td><td>2000-09-09</td><td>8793472196570</td><td>0-933627-98-X</td><td>306</td><td>30.62</td></tr>\n",
       "<tr><td>095678890</td><td>A Paix&atilde;o Segundo ...</td><td>Clarice Lispector</td><td>NULL</td><td>NULL</td><td>NULL</td><td>NULL</td><td>NULL</td><td>NULL</td></tr>\n",
       "<tr><td>073269564</td><td>A Revolu&ccedil;&atilde;o dos B...</td><td>George Orwell</td><td>NULL</td><td>NULL</td><td>NULL</td><td>NULL</td><td>NULL</td><td>NULL</td></tr>\n",
       "<tr><td>076121829</td><td>A Rosa do Povo&nbsp;</td><td>Carlos Drummond d...</td><td>NULL</td><td>NULL</td><td>NULL</td><td>NULL</td><td>NULL</td><td>NULL</td></tr>\n",
       "<tr><td>087365849</td><td>A Senhorita Simpson&nbsp;</td><td>S&eacute;rgio Sant&rsquo;anna</td><td>NULL</td><td>NULL</td><td>NULL</td><td>NULL</td><td>NULL</td><td>NULL</td></tr>\n",
       "</table>\n",
       "only showing top 20 rows\n"
      ],
      "text/plain": [
       "+---------+--------------------+--------------------+------------------+---------------+-------------+-------------+--------------+------+\n",
       "|       id|              titulo|               autor|      cnpj_editora|data_lancamento|          ean|       isbn10|numero_paginas| preco|\n",
       "+---------+--------------------+--------------------+------------------+---------------+-------------+-------------+--------------+------+\n",
       "|106042959|               1984 |       George Orwell|              NULL|           NULL|         NULL|         NULL|          NULL|  NULL|\n",
       "|017551704|200 Crônicas Esco...|         Rubem Braga|14.857.032/0001-12|     2018-10-19|2352660010751|0-7433-6026-5|           645| 44.38|\n",
       "|054099410|A Alma Encantador...|         João do Rio|              NULL|           NULL|         NULL|         NULL|          NULL|  NULL|\n",
       "|128422117|A Biblioteca da M...|           Matt Haig|              NULL|           NULL|         NULL|         NULL|          NULL|  NULL|\n",
       "|049141399|   A Coleira do Cão |       Rubem Fonseca|              NULL|           NULL|         NULL|         NULL|          NULL|  NULL|\n",
       "|065490862|      A Cor Púrpura |        Alice Walker|              NULL|           NULL|         NULL|         NULL|          NULL|  NULL|\n",
       "|029077001|A Educação Sentim...|    Gustave Flaubert|              NULL|           NULL|         NULL|         NULL|          NULL|  NULL|\n",
       "|032275599|   A Escrava Isaura |  Bernardo Guimarães|49.037.512/0001-11|     2001-05-15|2964406383663|1-83335-705-1|           752|184.42|\n",
       "|090690941|     A Estrela Sobe |      Marques Rebelo|              NULL|           NULL|         NULL|         NULL|          NULL|  NULL|\n",
       "|095695255|  A Hora da Estrela |   Clarice Lispector|94.567.038/0001-94|     2015-04-23|4084520465552|0-7650-7381-1|           572| 83.33|\n",
       "|036365230|A Hora dos Rumina...|       José J. Veiga|              NULL|           NULL|         NULL|         NULL|          NULL|  NULL|\n",
       "|069146824|  A Letra Escarlate | Nathaniel Hawthorne|              NULL|           NULL|         NULL|         NULL|          NULL|  NULL|\n",
       "|025903823|      A Metamorfose |         Franz Kafka|64.315.082/0001-46|     2006-01-05|7561853479861|0-10-032263-8|           760|215.52|\n",
       "|015903574|  A Montanha Mágica |         Thomas Mann|25.908.643/0001-69|     2006-03-03|7694802204365|0-931131-95-2|           600| 90.22|\n",
       "|076938216|        A Moreninha |Joaquim Manuel de...|              NULL|           NULL|         NULL|         NULL|          NULL|  NULL|\n",
       "|010325500|A Obscena Senhora D |         Hilda Hilst|27.689.540/0001-80|     2000-09-09|8793472196570|0-933627-98-X|           306| 30.62|\n",
       "|095678890|A Paixão Segundo ...|   Clarice Lispector|              NULL|           NULL|         NULL|         NULL|          NULL|  NULL|\n",
       "|073269564|A Revolução dos B...|       George Orwell|              NULL|           NULL|         NULL|         NULL|          NULL|  NULL|\n",
       "|076121829|     A Rosa do Povo |Carlos Drummond d...|              NULL|           NULL|         NULL|         NULL|          NULL|  NULL|\n",
       "|087365849|A Senhorita Simpson |    Sérgio Sant’anna|              NULL|           NULL|         NULL|         NULL|          NULL|  NULL|\n",
       "+---------+--------------------+--------------------+------------------+---------------+-------------+-------------+--------------+------+\n",
       "only showing top 20 rows"
      ]
     },
     "execution_count": 8,
     "metadata": {},
     "output_type": "execute_result"
    }
   ],
   "source": [
    "# Fazendo left join entre os datasets autores e livros\n",
    "autores.join(other=livros, on='id', how='left')"
   ]
  },
  {
   "cell_type": "code",
   "execution_count": 9,
   "id": "a71052ae-ed03-4eee-bdbe-11b71a1fc877",
   "metadata": {},
   "outputs": [
    {
     "data": {
      "text/html": [
       "<table border='1'>\n",
       "<tr><th>id</th><th>titulo</th><th>autor</th><th>cnpj_editora</th><th>data_lancamento</th><th>ean</th><th>isbn10</th><th>numero_paginas</th><th>preco</th></tr>\n",
       "<tr><td>102961160</td><td>NULL</td><td>NULL</td><td>54.317.982/0001-79</td><td>2011-09-19</td><td>4367115749184</td><td>0-06-594558-1</td><td>516</td><td>113.84</td></tr>\n",
       "<tr><td>043636240</td><td>NULL</td><td>NULL</td><td>16.938.042/0001-08</td><td>2019-05-11</td><td>1239569754256</td><td>0-611-23680-X</td><td>371</td><td>207.67</td></tr>\n",
       "<tr><td>052928059</td><td>NULL</td><td>NULL</td><td>57.624.038/0001-52</td><td>2003-08-03</td><td>5462162528221</td><td>1-109-29542-1</td><td>198</td><td>107.89</td></tr>\n",
       "<tr><td>088482271</td><td>NULL</td><td>NULL</td><td>16.249.378/0001-63</td><td>2022-09-07</td><td>5713629047213</td><td>1-229-68842-0</td><td>632</td><td>143.95</td></tr>\n",
       "<tr><td>028125446</td><td>NULL</td><td>NULL</td><td>90.425.178/0001-77</td><td>2011-07-25</td><td>2226757040245</td><td>0-657-66391-3</td><td>384</td><td>156.49</td></tr>\n",
       "<tr><td>055610005</td><td>NULL</td><td>NULL</td><td>20.756.194/0001-67</td><td>2006-03-22</td><td>2114468195241</td><td>0-455-43278-3</td><td>419</td><td>37.08</td></tr>\n",
       "<tr><td>049806867</td><td>NULL</td><td>NULL</td><td>93.617.240/0001-10</td><td>2022-02-17</td><td>3166123637398</td><td>1-4822-8784-6</td><td>378</td><td>162.97</td></tr>\n",
       "<tr><td>102803370</td><td>NULL</td><td>NULL</td><td>48.760.531/0001-09</td><td>2011-12-13</td><td>2550608407612</td><td>0-399-05121-X</td><td>732</td><td>75.62</td></tr>\n",
       "<tr><td>084858867</td><td>NULL</td><td>NULL</td><td>10.752.843/0001-06</td><td>2015-04-30</td><td>6207011925788</td><td>1-03-549652-6</td><td>635</td><td>237.67</td></tr>\n",
       "<tr><td>059303729</td><td>NULL</td><td>NULL</td><td>05.129.783/0001-21</td><td>2001-08-25</td><td>1641133648784</td><td>0-620-46508-5</td><td>107</td><td>61.41</td></tr>\n",
       "<tr><td>064175052</td><td>NULL</td><td>NULL</td><td>65.301.927/0001-07</td><td>2008-05-29</td><td>6905480714673</td><td>1-876722-64-9</td><td>795</td><td>85.56</td></tr>\n",
       "<tr><td>080608956</td><td>Viva o Povo Brasi...</td><td>Jo&atilde;o Ubaldo Ribeiro</td><td>90.563.247/0001-09</td><td>2011-10-05</td><td>0332981484891</td><td>1-925760-25-1</td><td>203</td><td>107.63</td></tr>\n",
       "<tr><td>018453254</td><td>Grande Sert&atilde;o: Ve...</td><td>Guimar&atilde;es Rosa</td><td>95.367.280/0001-87</td><td>2012-11-02</td><td>0507454098268</td><td>0-609-21722-4</td><td>043</td><td>52.94</td></tr>\n",
       "<tr><td>021765997</td><td>As Aventuras de H...</td><td>Mark Twain</td><td>59.374.801/0001-60</td><td>2014-05-17</td><td>4743679337089</td><td>1-85580-232-5</td><td>499</td><td>143.43</td></tr>\n",
       "<tr><td>023911383</td><td>Catatau&nbsp;</td><td>Paulo Leminski</td><td>98.526.047/0001-98</td><td>2005-11-12</td><td>4165252098109</td><td>1-369-22273-4</td><td>599</td><td>121.0</td></tr>\n",
       "<tr><td>029667220</td><td>NULL</td><td>NULL</td><td>20.136.498/0001-21</td><td>2008-09-22</td><td>9813450961422</td><td>0-466-92503-4</td><td>474</td><td>175.32</td></tr>\n",
       "<tr><td>030099528</td><td>Retrato do Artist...</td><td>James Joyce</td><td>28.103.975/0001-64</td><td>2000-02-06</td><td>9164658045347</td><td>0-904222-71-3</td><td>292</td><td>208.39</td></tr>\n",
       "<tr><td>034553086</td><td>NULL</td><td>NULL</td><td>29.507.683/0001-50</td><td>2016-12-29</td><td>7318970609554</td><td>1-4989-7802-9</td><td>540</td><td>113.52</td></tr>\n",
       "<tr><td>035350343</td><td>NULL</td><td>NULL</td><td>25.491.073/0001-54</td><td>2003-11-29</td><td>7630092024962</td><td>1-957157-95-X</td><td>109</td><td>58.61</td></tr>\n",
       "<tr><td>017477529</td><td>NULL</td><td>NULL</td><td>39.507.184/0001-16</td><td>2005-09-23</td><td>5930606400018</td><td>1-393-77728-7</td><td>747</td><td>232.65</td></tr>\n",
       "</table>\n",
       "only showing top 20 rows\n"
      ],
      "text/plain": [
       "+---------+--------------------+-------------------+------------------+---------------+-------------+-------------+--------------+------+\n",
       "|       id|              titulo|              autor|      cnpj_editora|data_lancamento|          ean|       isbn10|numero_paginas| preco|\n",
       "+---------+--------------------+-------------------+------------------+---------------+-------------+-------------+--------------+------+\n",
       "|102961160|                NULL|               NULL|54.317.982/0001-79|     2011-09-19|4367115749184|0-06-594558-1|           516|113.84|\n",
       "|043636240|                NULL|               NULL|16.938.042/0001-08|     2019-05-11|1239569754256|0-611-23680-X|           371|207.67|\n",
       "|052928059|                NULL|               NULL|57.624.038/0001-52|     2003-08-03|5462162528221|1-109-29542-1|           198|107.89|\n",
       "|088482271|                NULL|               NULL|16.249.378/0001-63|     2022-09-07|5713629047213|1-229-68842-0|           632|143.95|\n",
       "|028125446|                NULL|               NULL|90.425.178/0001-77|     2011-07-25|2226757040245|0-657-66391-3|           384|156.49|\n",
       "|055610005|                NULL|               NULL|20.756.194/0001-67|     2006-03-22|2114468195241|0-455-43278-3|           419| 37.08|\n",
       "|049806867|                NULL|               NULL|93.617.240/0001-10|     2022-02-17|3166123637398|1-4822-8784-6|           378|162.97|\n",
       "|102803370|                NULL|               NULL|48.760.531/0001-09|     2011-12-13|2550608407612|0-399-05121-X|           732| 75.62|\n",
       "|084858867|                NULL|               NULL|10.752.843/0001-06|     2015-04-30|6207011925788|1-03-549652-6|           635|237.67|\n",
       "|059303729|                NULL|               NULL|05.129.783/0001-21|     2001-08-25|1641133648784|0-620-46508-5|           107| 61.41|\n",
       "|064175052|                NULL|               NULL|65.301.927/0001-07|     2008-05-29|6905480714673|1-876722-64-9|           795| 85.56|\n",
       "|080608956|Viva o Povo Brasi...|João Ubaldo Ribeiro|90.563.247/0001-09|     2011-10-05|0332981484891|1-925760-25-1|           203|107.63|\n",
       "|018453254|Grande Sertão: Ve...|     Guimarães Rosa|95.367.280/0001-87|     2012-11-02|0507454098268|0-609-21722-4|           043| 52.94|\n",
       "|021765997|As Aventuras de H...|         Mark Twain|59.374.801/0001-60|     2014-05-17|4743679337089|1-85580-232-5|           499|143.43|\n",
       "|023911383|            Catatau |     Paulo Leminski|98.526.047/0001-98|     2005-11-12|4165252098109|1-369-22273-4|           599| 121.0|\n",
       "|029667220|                NULL|               NULL|20.136.498/0001-21|     2008-09-22|9813450961422|0-466-92503-4|           474|175.32|\n",
       "|030099528|Retrato do Artist...|        James Joyce|28.103.975/0001-64|     2000-02-06|9164658045347|0-904222-71-3|           292|208.39|\n",
       "|034553086|                NULL|               NULL|29.507.683/0001-50|     2016-12-29|7318970609554|1-4989-7802-9|           540|113.52|\n",
       "|035350343|                NULL|               NULL|25.491.073/0001-54|     2003-11-29|7630092024962|1-957157-95-X|           109| 58.61|\n",
       "|017477529|                NULL|               NULL|39.507.184/0001-16|     2005-09-23|5930606400018|1-393-77728-7|           747|232.65|\n",
       "+---------+--------------------+-------------------+------------------+---------------+-------------+-------------+--------------+------+\n",
       "only showing top 20 rows"
      ]
     },
     "execution_count": 9,
     "metadata": {},
     "output_type": "execute_result"
    }
   ],
   "source": [
    "# Fazendo left right entre os datasets autores e livros\n",
    "autores.join(other=livros, on='id', how='right')"
   ]
  },
  {
   "cell_type": "code",
   "execution_count": 10,
   "id": "67538951-920e-47db-b779-604658007f38",
   "metadata": {},
   "outputs": [
    {
     "data": {
      "text/html": [
       "<table border='1'>\n",
       "<tr><th>id</th><th>titulo</th><th>autor</th><th>cnpj_editora</th><th>data_lancamento</th><th>ean</th><th>isbn10</th><th>numero_paginas</th><th>preco</th></tr>\n",
       "<tr><td>010033025</td><td>NULL</td><td>NULL</td><td>06.849.371/0001-29</td><td>2005-07-05</td><td>3363492241854</td><td>1-196-97629-5</td><td>095</td><td>80.63</td></tr>\n",
       "<tr><td>010045097</td><td>Moby Dick&nbsp;</td><td>Herman Melville</td><td>93.167.508/0001-60</td><td>2003-12-17</td><td>5404258649298</td><td>1-198-80360-6</td><td>209</td><td>138.69</td></tr>\n",
       "<tr><td>010249547</td><td>NULL</td><td>NULL</td><td>10.345.968/0001-03</td><td>2017-12-04</td><td>7005400578046</td><td>0-7705-1411-1</td><td>246</td><td>81.2</td></tr>\n",
       "<tr><td>010325500</td><td>A Obscena Senhora D&nbsp;</td><td>Hilda Hilst</td><td>27.689.540/0001-80</td><td>2000-09-09</td><td>8793472196570</td><td>0-933627-98-X</td><td>306</td><td>30.62</td></tr>\n",
       "<tr><td>010366161</td><td>Luc&iacute;ola&nbsp;</td><td>Jos&eacute; de Alencar</td><td>70.293.541/0001-30</td><td>2022-02-18</td><td>9429320742345</td><td>0-356-75493-6</td><td>968</td><td>200.6</td></tr>\n",
       "<tr><td>010409138</td><td>Romanceiro da Inc...</td><td>Cec&iacute;lia Meireles</td><td>NULL</td><td>NULL</td><td>NULL</td><td>NULL</td><td>NULL</td><td>NULL</td></tr>\n",
       "<tr><td>010745876</td><td>Garg&acirc;ntua e Panta...</td><td>Fran&ccedil;ois Rabelais</td><td>01.427.369/0001-48</td><td>2017-06-12</td><td>0666233842154</td><td>0-14-758390-X</td><td>910</td><td>237.77</td></tr>\n",
       "<tr><td>010838220</td><td>Fic&ccedil;&otilde;es&nbsp;</td><td>Jorge Luis Borges</td><td>34.927.681/0001-50</td><td>2009-06-15</td><td>7773545068127</td><td>0-536-43094-2</td><td>368</td><td>129.9</td></tr>\n",
       "<tr><td>011195894</td><td>Journey to the En...</td><td>Louis-Ferdinand C...</td><td>NULL</td><td>NULL</td><td>NULL</td><td>NULL</td><td>NULL</td><td>NULL</td></tr>\n",
       "<tr><td>011247991</td><td>Lavoura Arcaica&nbsp;</td><td>Raduan Nassar</td><td>97.352.048/0001-09</td><td>2009-05-03</td><td>1126815895613</td><td>0-625-59780-X</td><td>616</td><td>106.29</td></tr>\n",
       "<tr><td>011267609</td><td>&Oacute;pera dos Mortos&nbsp;</td><td>Autran Dourado</td><td>65.470.981/0001-86</td><td>2007-07-27</td><td>6524135816526</td><td>1-80516-004-4</td><td>297</td><td>62.96</td></tr>\n",
       "<tr><td>011553384</td><td>NULL</td><td>NULL</td><td>40.853.726/0001-91</td><td>2015-03-28</td><td>9156435776292</td><td>0-9948946-4-3</td><td>269</td><td>20.79</td></tr>\n",
       "<tr><td>011576248</td><td>O Conto da Aia&nbsp;</td><td>Margaret Atwood</td><td>34.697.852/0001-00</td><td>2017-06-19</td><td>0932670524947</td><td>0-8158-8294-7</td><td>946</td><td>50.56</td></tr>\n",
       "<tr><td>011653983</td><td>O Tronco&nbsp;</td><td>Bernardo &Eacute;lis</td><td>20.349.157/0001-34</td><td>2009-03-06</td><td>9259604942426</td><td>1-949368-17-3</td><td>026</td><td>50.57</td></tr>\n",
       "<tr><td>011997254</td><td>Cana&atilde;&nbsp;</td><td>Gra&ccedil;a Aranha</td><td>NULL</td><td>NULL</td><td>NULL</td><td>NULL</td><td>NULL</td><td>NULL</td></tr>\n",
       "<tr><td>012034239</td><td>Espumas Flutuantes&nbsp;</td><td>Castro Alves</td><td>72.514.380/0001-93</td><td>2015-06-10</td><td>0382801014395</td><td>1-317-72702-9</td><td>290</td><td>129.74</td></tr>\n",
       "<tr><td>012242979</td><td>Faithful and Virt...</td><td>Louise Gl&uuml;ck</td><td>27.358.691/0001-56</td><td>2010-08-09</td><td>0284854891179</td><td>1-329-90922-4</td><td>101</td><td>109.68</td></tr>\n",
       "<tr><td>012331534</td><td>NULL</td><td>NULL</td><td>84.317.925/0001-50</td><td>2010-05-29</td><td>3177832263150</td><td>1-62649-755-9</td><td>129</td><td>175.67</td></tr>\n",
       "<tr><td>012401215</td><td>Rebecca&nbsp;</td><td>Daphne du Maurier</td><td>15.209.874/0001-20</td><td>2018-02-20</td><td>9130572281611</td><td>1-159-82903-9</td><td>773</td><td>51.84</td></tr>\n",
       "<tr><td>012413805</td><td>NULL</td><td>NULL</td><td>16.948.253/0001-21</td><td>2016-10-13</td><td>7081447826562</td><td>0-266-19518-0</td><td>090</td><td>78.97</td></tr>\n",
       "</table>\n",
       "only showing top 20 rows\n"
      ],
      "text/plain": [
       "+---------+--------------------+--------------------+------------------+---------------+-------------+-------------+--------------+------+\n",
       "|       id|              titulo|               autor|      cnpj_editora|data_lancamento|          ean|       isbn10|numero_paginas| preco|\n",
       "+---------+--------------------+--------------------+------------------+---------------+-------------+-------------+--------------+------+\n",
       "|010033025|                NULL|                NULL|06.849.371/0001-29|     2005-07-05|3363492241854|1-196-97629-5|           095| 80.63|\n",
       "|010045097|          Moby Dick |     Herman Melville|93.167.508/0001-60|     2003-12-17|5404258649298|1-198-80360-6|           209|138.69|\n",
       "|010249547|                NULL|                NULL|10.345.968/0001-03|     2017-12-04|7005400578046|0-7705-1411-1|           246|  81.2|\n",
       "|010325500|A Obscena Senhora D |         Hilda Hilst|27.689.540/0001-80|     2000-09-09|8793472196570|0-933627-98-X|           306| 30.62|\n",
       "|010366161|            Lucíola |     José de Alencar|70.293.541/0001-30|     2022-02-18|9429320742345|0-356-75493-6|           968| 200.6|\n",
       "|010409138|Romanceiro da Inc...|    Cecília Meireles|              NULL|           NULL|         NULL|         NULL|          NULL|  NULL|\n",
       "|010745876|Gargântua e Panta...|   François Rabelais|01.427.369/0001-48|     2017-06-12|0666233842154|0-14-758390-X|           910|237.77|\n",
       "|010838220|            Ficções |   Jorge Luis Borges|34.927.681/0001-50|     2009-06-15|7773545068127|0-536-43094-2|           368| 129.9|\n",
       "|011195894|Journey to the En...|Louis-Ferdinand C...|              NULL|           NULL|         NULL|         NULL|          NULL|  NULL|\n",
       "|011247991|    Lavoura Arcaica |       Raduan Nassar|97.352.048/0001-09|     2009-05-03|1126815895613|0-625-59780-X|           616|106.29|\n",
       "|011267609|   Ópera dos Mortos |      Autran Dourado|65.470.981/0001-86|     2007-07-27|6524135816526|1-80516-004-4|           297| 62.96|\n",
       "|011553384|                NULL|                NULL|40.853.726/0001-91|     2015-03-28|9156435776292|0-9948946-4-3|           269| 20.79|\n",
       "|011576248|     O Conto da Aia |     Margaret Atwood|34.697.852/0001-00|     2017-06-19|0932670524947|0-8158-8294-7|           946| 50.56|\n",
       "|011653983|           O Tronco |       Bernardo Élis|20.349.157/0001-34|     2009-03-06|9259604942426|1-949368-17-3|           026| 50.57|\n",
       "|011997254|              Canaã |        Graça Aranha|              NULL|           NULL|         NULL|         NULL|          NULL|  NULL|\n",
       "|012034239| Espumas Flutuantes |        Castro Alves|72.514.380/0001-93|     2015-06-10|0382801014395|1-317-72702-9|           290|129.74|\n",
       "|012242979|Faithful and Virt...|        Louise Glück|27.358.691/0001-56|     2010-08-09|0284854891179|1-329-90922-4|           101|109.68|\n",
       "|012331534|                NULL|                NULL|84.317.925/0001-50|     2010-05-29|3177832263150|1-62649-755-9|           129|175.67|\n",
       "|012401215|            Rebecca |   Daphne du Maurier|15.209.874/0001-20|     2018-02-20|9130572281611|1-159-82903-9|           773| 51.84|\n",
       "|012413805|                NULL|                NULL|16.948.253/0001-21|     2016-10-13|7081447826562|0-266-19518-0|           090| 78.97|\n",
       "+---------+--------------------+--------------------+------------------+---------------+-------------+-------------+--------------+------+\n",
       "only showing top 20 rows"
      ]
     },
     "execution_count": 10,
     "metadata": {},
     "output_type": "execute_result"
    }
   ],
   "source": [
    "# Fazendo full join entre os datasets autores e livros\n",
    "autores.join(other=livros, on='id', how='full')"
   ]
  },
  {
   "cell_type": "code",
   "execution_count": 11,
   "id": "81ab3dde-5ffc-4882-b6a7-22f330dd965e",
   "metadata": {},
   "outputs": [
    {
     "data": {
      "text/html": [
       "<table border='1'>\n",
       "<tr><th>id</th><th>titulo</th><th>autor</th><th>cnpj_editora</th><th>data_lancamento</th><th>ean</th><th>isbn10</th><th>numero_paginas</th><th>preco</th></tr>\n",
       "<tr><td>080608956</td><td>Viva o Povo Brasi...</td><td>Jo&atilde;o Ubaldo Ribeiro</td><td>90.563.247/0001-09</td><td>2011-10-05</td><td>0332981484891</td><td>1-925760-25-1</td><td>203</td><td>107.63</td></tr>\n",
       "<tr><td>018453254</td><td>Grande Sert&atilde;o: Ve...</td><td>Guimar&atilde;es Rosa</td><td>95.367.280/0001-87</td><td>2012-11-02</td><td>0507454098268</td><td>0-609-21722-4</td><td>043</td><td>52.94</td></tr>\n",
       "<tr><td>021765997</td><td>As Aventuras de H...</td><td>Mark Twain</td><td>59.374.801/0001-60</td><td>2014-05-17</td><td>4743679337089</td><td>1-85580-232-5</td><td>499</td><td>143.43</td></tr>\n",
       "<tr><td>023911383</td><td>Catatau&nbsp;</td><td>Paulo Leminski</td><td>98.526.047/0001-98</td><td>2005-11-12</td><td>4165252098109</td><td>1-369-22273-4</td><td>599</td><td>121.0</td></tr>\n",
       "<tr><td>030099528</td><td>Retrato do Artist...</td><td>James Joyce</td><td>28.103.975/0001-64</td><td>2000-02-06</td><td>9164658045347</td><td>0-904222-71-3</td><td>292</td><td>208.39</td></tr>\n",
       "<tr><td>030334762</td><td>Em Busca do Tempo...</td><td>Marcel Proust</td><td>80.463.719/0001-06</td><td>2013-05-08</td><td>7122725133429</td><td>0-85193-340-8</td><td>099</td><td>123.47</td></tr>\n",
       "<tr><td>035940339</td><td>Adeus &agrave;s Armas&nbsp;</td><td>Ernest Hemingway</td><td>71.530.496/0001-53</td><td>2014-08-11</td><td>6764222732753</td><td>1-396-90787-4</td><td>327</td><td>213.6</td></tr>\n",
       "<tr><td>026925428</td><td>Sing, Unburied, S...</td><td>Jesmyn Ward</td><td>97.156.423/0001-37</td><td>2011-09-04</td><td>7828100308177</td><td>0-491-15648-0</td><td>793</td><td>193.19</td></tr>\n",
       "<tr><td>010045097</td><td>Moby Dick&nbsp;</td><td>Herman Melville</td><td>93.167.508/0001-60</td><td>2003-12-17</td><td>5404258649298</td><td>1-198-80360-6</td><td>209</td><td>138.69</td></tr>\n",
       "<tr><td>010366161</td><td>Luc&iacute;ola&nbsp;</td><td>Jos&eacute; de Alencar</td><td>70.293.541/0001-30</td><td>2022-02-18</td><td>9429320742345</td><td>0-356-75493-6</td><td>968</td><td>200.6</td></tr>\n",
       "<tr><td>022395641</td><td>O Sol Tamb&eacute;m se L...</td><td>Ernest Hemingway</td><td>64.395.017/0001-78</td><td>2000-03-08</td><td>8190873212302</td><td>1-79261-939-1</td><td>244</td><td>112.33</td></tr>\n",
       "<tr><td>024027632</td><td>O Mestre e Margar...</td><td>Mikhail Bulg&aacute;kov</td><td>52.097.134/0001-76</td><td>2002-07-25</td><td>0908234894085</td><td>0-214-19455-8</td><td>965</td><td>248.4</td></tr>\n",
       "<tr><td>025331136</td><td>E O Vento Levou&nbsp;</td><td>Margaret Mitchell</td><td>13.649.820/0001-50</td><td>2001-04-17</td><td>6928869770794</td><td>0-337-49672-2</td><td>919</td><td>133.42</td></tr>\n",
       "<tr><td>028590563</td><td>Br&aacute;s, Bexiga e Ba...</td><td>Ant&ocirc;nio de Alc&acirc;nt...</td><td>83.652.071/0001-04</td><td>2017-10-01</td><td>4098655700235</td><td>0-09-656628-0</td><td>580</td><td>18.31</td></tr>\n",
       "<tr><td>015903574</td><td>A Montanha M&aacute;gica&nbsp;</td><td>Thomas Mann</td><td>25.908.643/0001-69</td><td>2006-03-03</td><td>7694802204365</td><td>0-931131-95-2</td><td>600</td><td>90.22</td></tr>\n",
       "<tr><td>034173770</td><td>Viva Vaia&nbsp;</td><td>Augusto de Campos</td><td>42.036.185/0001-34</td><td>2022-11-21</td><td>6414689158305</td><td>0-06-622504-3</td><td>433</td><td>83.01</td></tr>\n",
       "<tr><td>016430211</td><td>O Homem e Sua Hora&nbsp;</td><td>M&aacute;rio Faustino</td><td>49.168.732/0001-84</td><td>2016-03-22</td><td>3851979617518</td><td>0-400-61604-1</td><td>059</td><td>113.07</td></tr>\n",
       "<tr><td>022112497</td><td>Mrs Dalloway&nbsp;</td><td>Virginia Woolf</td><td>82.074.936/0001-21</td><td>2021-01-06</td><td>5078165920063</td><td>0-7763-1592-7</td><td>799</td><td>10.84</td></tr>\n",
       "<tr><td>030144651</td><td>Zero&nbsp;</td><td>Ign&aacute;cio De Loyola...</td><td>24.631.097/0001-07</td><td>2011-04-14</td><td>5139658472558</td><td>0-8390-6301-6</td><td>146</td><td>242.2</td></tr>\n",
       "<tr><td>012489208</td><td>Triste Fim de Pol...</td><td>Lima Barreto</td><td>76.035.284/0001-13</td><td>2011-10-30</td><td>5442868630558</td><td>1-927216-40-0</td><td>113</td><td>160.53</td></tr>\n",
       "</table>\n",
       "only showing top 20 rows\n"
      ],
      "text/plain": [
       "+---------+--------------------+--------------------+------------------+---------------+-------------+-------------+--------------+------+\n",
       "|       id|              titulo|               autor|      cnpj_editora|data_lancamento|          ean|       isbn10|numero_paginas| preco|\n",
       "+---------+--------------------+--------------------+------------------+---------------+-------------+-------------+--------------+------+\n",
       "|080608956|Viva o Povo Brasi...| João Ubaldo Ribeiro|90.563.247/0001-09|     2011-10-05|0332981484891|1-925760-25-1|           203|107.63|\n",
       "|018453254|Grande Sertão: Ve...|      Guimarães Rosa|95.367.280/0001-87|     2012-11-02|0507454098268|0-609-21722-4|           043| 52.94|\n",
       "|021765997|As Aventuras de H...|          Mark Twain|59.374.801/0001-60|     2014-05-17|4743679337089|1-85580-232-5|           499|143.43|\n",
       "|023911383|            Catatau |      Paulo Leminski|98.526.047/0001-98|     2005-11-12|4165252098109|1-369-22273-4|           599| 121.0|\n",
       "|030099528|Retrato do Artist...|         James Joyce|28.103.975/0001-64|     2000-02-06|9164658045347|0-904222-71-3|           292|208.39|\n",
       "|030334762|Em Busca do Tempo...|       Marcel Proust|80.463.719/0001-06|     2013-05-08|7122725133429|0-85193-340-8|           099|123.47|\n",
       "|035940339|     Adeus às Armas |    Ernest Hemingway|71.530.496/0001-53|     2014-08-11|6764222732753|1-396-90787-4|           327| 213.6|\n",
       "|026925428|Sing, Unburied, S...|         Jesmyn Ward|97.156.423/0001-37|     2011-09-04|7828100308177|0-491-15648-0|           793|193.19|\n",
       "|010045097|          Moby Dick |     Herman Melville|93.167.508/0001-60|     2003-12-17|5404258649298|1-198-80360-6|           209|138.69|\n",
       "|010366161|            Lucíola |     José de Alencar|70.293.541/0001-30|     2022-02-18|9429320742345|0-356-75493-6|           968| 200.6|\n",
       "|022395641|O Sol Também se L...|    Ernest Hemingway|64.395.017/0001-78|     2000-03-08|8190873212302|1-79261-939-1|           244|112.33|\n",
       "|024027632|O Mestre e Margar...|    Mikhail Bulgákov|52.097.134/0001-76|     2002-07-25|0908234894085|0-214-19455-8|           965| 248.4|\n",
       "|025331136|    E O Vento Levou |   Margaret Mitchell|13.649.820/0001-50|     2001-04-17|6928869770794|0-337-49672-2|           919|133.42|\n",
       "|028590563|Brás, Bexiga e Ba...|Antônio de Alcânt...|83.652.071/0001-04|     2017-10-01|4098655700235|0-09-656628-0|           580| 18.31|\n",
       "|015903574|  A Montanha Mágica |         Thomas Mann|25.908.643/0001-69|     2006-03-03|7694802204365|0-931131-95-2|           600| 90.22|\n",
       "|034173770|          Viva Vaia |   Augusto de Campos|42.036.185/0001-34|     2022-11-21|6414689158305|0-06-622504-3|           433| 83.01|\n",
       "|016430211| O Homem e Sua Hora |      Mário Faustino|49.168.732/0001-84|     2016-03-22|3851979617518|0-400-61604-1|           059|113.07|\n",
       "|022112497|       Mrs Dalloway |      Virginia Woolf|82.074.936/0001-21|     2021-01-06|5078165920063|0-7763-1592-7|           799| 10.84|\n",
       "|030144651|               Zero |Ignácio De Loyola...|24.631.097/0001-07|     2011-04-14|5139658472558|0-8390-6301-6|           146| 242.2|\n",
       "|012489208|Triste Fim de Pol...|        Lima Barreto|76.035.284/0001-13|     2011-10-30|5442868630558|1-927216-40-0|           113|160.53|\n",
       "+---------+--------------------+--------------------+------------------+---------------+-------------+-------------+--------------+------+\n",
       "only showing top 20 rows"
      ]
     },
     "execution_count": 11,
     "metadata": {},
     "output_type": "execute_result"
    }
   ],
   "source": [
    "# Fazendo inner join entre os datasets autores e livros\n",
    "autores.join(other=livros, on='id', how='inner')"
   ]
  },
  {
   "cell_type": "code",
   "execution_count": 12,
   "id": "193df4ab-1c82-4018-8e71-bb35b1533428",
   "metadata": {},
   "outputs": [
    {
     "data": {
      "text/html": [
       "<table border='1'>\n",
       "<tr><th>id</th><th>cartao_data_expiracao</th><th>cartao_numero</th><th>cartao_bandeira</th><th>cartao_cvc</th><th>codigo_transacao_bancaria</th><th>data</th><th>hora</th><th>ipv4</th><th>ipv6</th><th>cep_entrega</th><th>cd_livro</th><th>cd_cliente</th><th>id</th><th>cnpj_editora</th><th>data_lancamento</th><th>ean</th><th>isbn10</th><th>numero_paginas</th><th>preco</th></tr>\n",
       "<tr><td>012389</td><td>11/25</td><td>5500804500517692</td><td>Discover</td><td>959</td><td>GB98MPIH622108593...</td><td>2021-07-24</td><td>03:21:28</td><td>62.145.31.164</td><td>b23d:58a2:9eff:36...</td><td>36629-219</td><td>030334762</td><td>3339828</td><td>030334762</td><td>80.463.719/0001-06</td><td>2013-05-08</td><td>7122725133429</td><td>0-85193-340-8</td><td>099</td><td>123.47</td></tr>\n",
       "<tr><td>012476</td><td>01/31</td><td>4609489235873</td><td>VISA 16 digit</td><td>6979</td><td>GB79GAVL233010819...</td><td>2021-08-23</td><td>11:15:52</td><td>185.150.224.52</td><td>1e2c:f641:49d1:5a...</td><td>17012-747</td><td>013721981</td><td>7624624</td><td>013721981</td><td>76.351.940/0001-97</td><td>2004-01-27</td><td>8786391051693</td><td>1-60705-523-6</td><td>379</td><td>133.43</td></tr>\n",
       "<tr><td>012478</td><td>07/23</td><td>30072722359174</td><td>American Express</td><td>689</td><td>GB51SZOU538484531...</td><td>2020-01-27</td><td>17:08:10</td><td>40.179.153.24</td><td>9bcd:ee0c:af68:33...</td><td>25921298</td><td>019458805</td><td>8703114</td><td>019458805</td><td>81.253.490/0001-30</td><td>2007-12-13</td><td>2628486550239</td><td>0-916523-25-X</td><td>788</td><td>238.54</td></tr>\n",
       "<tr><td>012534</td><td>09/29</td><td>4561935154572</td><td>VISA 16 digit</td><td>353</td><td>GB05UNEX021466511...</td><td>2021-07-15</td><td>07:39:25</td><td>86.20.51.194</td><td>be57:8f94:132:1cb...</td><td>73799370</td><td>014347542</td><td>7799936</td><td>014347542</td><td>76.415.890/0001-64</td><td>2007-04-05</td><td>3883750237349</td><td>0-8360-5203-X</td><td>452</td><td>182.43</td></tr>\n",
       "<tr><td>012549</td><td>01/31</td><td>3541220668415122</td><td>JCB 15 digit</td><td>967</td><td>GB97RCCC581942620...</td><td>2020-07-22</td><td>23:56:14</td><td>55.189.220.65</td><td>a1fd:9dd:115f:9d5...</td><td>50727-454</td><td>020215846</td><td>6703678</td><td>020215846</td><td>27.659.813/0001-44</td><td>2014-03-25</td><td>7684001180416</td><td>0-216-16469-9</td><td>794</td><td>155.18</td></tr>\n",
       "<tr><td>012574</td><td>06/24</td><td>4155061214506542</td><td>JCB 16 digit</td><td>362</td><td>GB93YATI197164292...</td><td>2020-05-19</td><td>10:47:09</td><td>212.26.253.42</td><td>1815:dc0e:c557:96...</td><td>67662-182</td><td>010325500</td><td>6273720</td><td>010325500</td><td>27.689.540/0001-80</td><td>2000-09-09</td><td>8793472196570</td><td>0-933627-98-X</td><td>306</td><td>30.62</td></tr>\n",
       "<tr><td>012579</td><td>01/27</td><td>30554213514227</td><td>Maestro</td><td>9847</td><td>GB54PQLN799705859...</td><td>2021-04-15</td><td>10:36:56</td><td>168.197.230.167</td><td>7f3b:4ada:4c62:3f...</td><td>61193-110</td><td>053479015</td><td>6977964</td><td>053479015</td><td>54.327.896/0001-47</td><td>2018-12-21</td><td>1750535865566</td><td>0-518-04786-5</td><td>105</td><td>207.52</td></tr>\n",
       "<tr><td>012648</td><td>05/24</td><td>347386847428278</td><td>VISA 16 digit</td><td>823</td><td>GB90MYZL510193283...</td><td>2021-06-19</td><td>13:07:48</td><td>146.108.131.11</td><td>c52d:53d8:371a:34...</td><td>10059-723</td><td>012331534</td><td>6616715</td><td>012331534</td><td>84.317.925/0001-50</td><td>2010-05-29</td><td>3177832263150</td><td>1-62649-755-9</td><td>129</td><td>175.67</td></tr>\n",
       "<tr><td>012675</td><td>04/29</td><td>4534805013764</td><td>Mastercard</td><td>384</td><td>GB11XMUH824876351...</td><td>2021-07-11</td><td>07:55:08</td><td>148.155.72.234</td><td>b290:d2b7:6a58:86...</td><td>79292884</td><td>035940339</td><td>649001</td><td>035940339</td><td>71.530.496/0001-53</td><td>2014-08-11</td><td>6764222732753</td><td>1-396-90787-4</td><td>327</td><td>213.6</td></tr>\n",
       "<tr><td>012698</td><td>12/31</td><td>4450657280386776</td><td>American Express</td><td>247</td><td>GB79ECRO017868447...</td><td>2021-08-11</td><td>12:06:48</td><td>190.135.5.172</td><td>7cbc:4554:7f5d:65...</td><td>93609312</td><td>058320651</td><td>4523531</td><td>058320651</td><td>82.439.107/0001-03</td><td>2013-01-30</td><td>6024459409867</td><td>1-61357-201-8</td><td>290</td><td>196.35</td></tr>\n",
       "<tr><td>012845</td><td>01/32</td><td>6589457551152257</td><td>Diners Club / Car...</td><td>081</td><td>GB54ZAJA800810561...</td><td>2023-02-27</td><td>09:34:58</td><td>117.107.7.243</td><td>d3f6:6a7f:32a8:eb...</td><td>65177115</td><td>032169692</td><td>8443760</td><td>032169692</td><td>14.603.275/0001-24</td><td>2000-05-15</td><td>4659106631807</td><td>1-81244-634-9</td><td>956</td><td>176.73</td></tr>\n",
       "<tr><td>012948</td><td>12/28</td><td>373871288580551</td><td>Diners Club / Car...</td><td>619</td><td>GB43SXJF889505944...</td><td>2020-02-20</td><td>03:10:01</td><td>210.130.27.213</td><td>9ae4:b03a:1a1f:c6...</td><td>39334-766</td><td>032169692</td><td>1235431</td><td>032169692</td><td>14.603.275/0001-24</td><td>2000-05-15</td><td>4659106631807</td><td>1-81244-634-9</td><td>956</td><td>176.73</td></tr>\n",
       "<tr><td>012964</td><td>12/30</td><td>4852311914204</td><td>Mastercard</td><td>555</td><td>GB64DLQF090053954...</td><td>2022-10-04</td><td>06:40:47</td><td>129.93.60.161</td><td>5bfe:ad1b:a4f1:f2...</td><td>41199-650</td><td>033338998</td><td>7811168</td><td>033338998</td><td>43.597.816/0001-57</td><td>2015-07-10</td><td>5973438592186</td><td>0-7598-2346-4</td><td>337</td><td>150.51</td></tr>\n",
       "<tr><td>012984</td><td>06/31</td><td>4513536757134128830</td><td>VISA 19 digit</td><td>834</td><td>GB32QSLY821583204...</td><td>2020-08-05</td><td>09:45:12</td><td>141.203.245.233</td><td>7528:d2f8:fa09:82...</td><td>84410-583</td><td>042900595</td><td>2093927</td><td>042900595</td><td>28.936.451/0001-54</td><td>2010-12-15</td><td>2655132597959</td><td>0-86582-172-0</td><td>169</td><td>59.35</td></tr>\n",
       "<tr><td>012986</td><td>10/26</td><td>3585620838660639</td><td>Mastercard</td><td>440</td><td>GB79ZFSL741355562...</td><td>2020-05-06</td><td>23:22:03</td><td>221.251.216.243</td><td>5da7:4583:5800:96...</td><td>16961-730</td><td>019458805</td><td>3945329</td><td>019458805</td><td>81.253.490/0001-30</td><td>2007-12-13</td><td>2628486550239</td><td>0-916523-25-X</td><td>788</td><td>238.54</td></tr>\n",
       "<tr><td>013257</td><td>05/23</td><td>6579633995016199</td><td>VISA 13 digit</td><td>9804</td><td>GB93NZLK218118563...</td><td>2022-11-28</td><td>02:09:43</td><td>189.189.141.229</td><td>7b91:3b21:d3f1:36...</td><td>83312054</td><td>027740385</td><td>6689138</td><td>027740385</td><td>13.695.847/0001-80</td><td>2008-01-05</td><td>7379429364080</td><td>1-327-99249-3</td><td>991</td><td>105.73</td></tr>\n",
       "<tr><td>013265</td><td>12/31</td><td>3535506018736607</td><td>JCB 15 digit</td><td>702</td><td>GB97UUHZ239804882...</td><td>2020-10-27</td><td>18:17:07</td><td>24.152.218.181</td><td>77da:6ce5:522a:ac...</td><td>06479-166</td><td>049141690</td><td>1942388</td><td>049141690</td><td>95.037.812/0001-18</td><td>2016-12-24</td><td>9032214793899</td><td>1-4076-9870-2</td><td>454</td><td>210.52</td></tr>\n",
       "<tr><td>013274</td><td>01/24</td><td>3568580151701777</td><td>JCB 16 digit</td><td>257</td><td>GB80ISML116442671...</td><td>2021-12-20</td><td>14:44:09</td><td>42.253.7.153</td><td>cf6a:3335:55be:e0...</td><td>30462-427</td><td>104361784</td><td>2487770</td><td>104361784</td><td>46.527.081/0001-83</td><td>2013-12-08</td><td>1491898510198</td><td>1-101-80944-2</td><td>478</td><td>109.14</td></tr>\n",
       "<tr><td>013457</td><td>06/28</td><td>4589839699652790803</td><td>Maestro</td><td>280</td><td>GB22HUUD094642820...</td><td>2021-10-26</td><td>23:04:27</td><td>207.179.196.45</td><td>9b03:e5f0:c72f:c7...</td><td>10506549</td><td>021006591</td><td>4312106</td><td>021006591</td><td>87.521.043/0001-09</td><td>2019-02-24</td><td>1222716689648</td><td>1-955093-40-7</td><td>382</td><td>96.84</td></tr>\n",
       "<tr><td>013478</td><td>07/24</td><td>3560452545224585</td><td>VISA 16 digit</td><td>126</td><td>GB63LUHF437452702...</td><td>2020-05-10</td><td>02:33:28</td><td>105.127.245.188</td><td>dd79:3fca:9d38:98...</td><td>10354-560</td><td>019488257</td><td>670483</td><td>019488257</td><td>56.783.210/0001-58</td><td>2013-05-19</td><td>3993489629534</td><td>0-589-10612-0</td><td>734</td><td>17.11</td></tr>\n",
       "</table>\n",
       "only showing top 20 rows\n"
      ],
      "text/plain": [
       "+------+---------------------+-------------------+--------------------+----------+-------------------------+----------+--------+---------------+--------------------+-----------+---------+----------+---------+------------------+---------------+-------------+-------------+--------------+------+\n",
       "|    id|cartao_data_expiracao|      cartao_numero|     cartao_bandeira|cartao_cvc|codigo_transacao_bancaria|      data|    hora|           ipv4|                ipv6|cep_entrega| cd_livro|cd_cliente|       id|      cnpj_editora|data_lancamento|          ean|       isbn10|numero_paginas| preco|\n",
       "+------+---------------------+-------------------+--------------------+----------+-------------------------+----------+--------+---------------+--------------------+-----------+---------+----------+---------+------------------+---------------+-------------+-------------+--------------+------+\n",
       "|012389|                11/25|   5500804500517692|            Discover|       959|     GB98MPIH622108593...|2021-07-24|03:21:28|  62.145.31.164|b23d:58a2:9eff:36...|  36629-219|030334762|   3339828|030334762|80.463.719/0001-06|     2013-05-08|7122725133429|0-85193-340-8|           099|123.47|\n",
       "|012476|                01/31|      4609489235873|       VISA 16 digit|      6979|     GB79GAVL233010819...|2021-08-23|11:15:52| 185.150.224.52|1e2c:f641:49d1:5a...|  17012-747|013721981|   7624624|013721981|76.351.940/0001-97|     2004-01-27|8786391051693|1-60705-523-6|           379|133.43|\n",
       "|012478|                07/23|     30072722359174|    American Express|       689|     GB51SZOU538484531...|2020-01-27|17:08:10|  40.179.153.24|9bcd:ee0c:af68:33...|   25921298|019458805|   8703114|019458805|81.253.490/0001-30|     2007-12-13|2628486550239|0-916523-25-X|           788|238.54|\n",
       "|012534|                09/29|      4561935154572|       VISA 16 digit|       353|     GB05UNEX021466511...|2021-07-15|07:39:25|   86.20.51.194|be57:8f94:132:1cb...|   73799370|014347542|   7799936|014347542|76.415.890/0001-64|     2007-04-05|3883750237349|0-8360-5203-X|           452|182.43|\n",
       "|012549|                01/31|   3541220668415122|        JCB 15 digit|       967|     GB97RCCC581942620...|2020-07-22|23:56:14|  55.189.220.65|a1fd:9dd:115f:9d5...|  50727-454|020215846|   6703678|020215846|27.659.813/0001-44|     2014-03-25|7684001180416|0-216-16469-9|           794|155.18|\n",
       "|012574|                06/24|   4155061214506542|        JCB 16 digit|       362|     GB93YATI197164292...|2020-05-19|10:47:09|  212.26.253.42|1815:dc0e:c557:96...|  67662-182|010325500|   6273720|010325500|27.689.540/0001-80|     2000-09-09|8793472196570|0-933627-98-X|           306| 30.62|\n",
       "|012579|                01/27|     30554213514227|             Maestro|      9847|     GB54PQLN799705859...|2021-04-15|10:36:56|168.197.230.167|7f3b:4ada:4c62:3f...|  61193-110|053479015|   6977964|053479015|54.327.896/0001-47|     2018-12-21|1750535865566|0-518-04786-5|           105|207.52|\n",
       "|012648|                05/24|    347386847428278|       VISA 16 digit|       823|     GB90MYZL510193283...|2021-06-19|13:07:48| 146.108.131.11|c52d:53d8:371a:34...|  10059-723|012331534|   6616715|012331534|84.317.925/0001-50|     2010-05-29|3177832263150|1-62649-755-9|           129|175.67|\n",
       "|012675|                04/29|      4534805013764|          Mastercard|       384|     GB11XMUH824876351...|2021-07-11|07:55:08| 148.155.72.234|b290:d2b7:6a58:86...|   79292884|035940339|    649001|035940339|71.530.496/0001-53|     2014-08-11|6764222732753|1-396-90787-4|           327| 213.6|\n",
       "|012698|                12/31|   4450657280386776|    American Express|       247|     GB79ECRO017868447...|2021-08-11|12:06:48|  190.135.5.172|7cbc:4554:7f5d:65...|   93609312|058320651|   4523531|058320651|82.439.107/0001-03|     2013-01-30|6024459409867|1-61357-201-8|           290|196.35|\n",
       "|012845|                01/32|   6589457551152257|Diners Club / Car...|       081|     GB54ZAJA800810561...|2023-02-27|09:34:58|  117.107.7.243|d3f6:6a7f:32a8:eb...|   65177115|032169692|   8443760|032169692|14.603.275/0001-24|     2000-05-15|4659106631807|1-81244-634-9|           956|176.73|\n",
       "|012948|                12/28|    373871288580551|Diners Club / Car...|       619|     GB43SXJF889505944...|2020-02-20|03:10:01| 210.130.27.213|9ae4:b03a:1a1f:c6...|  39334-766|032169692|   1235431|032169692|14.603.275/0001-24|     2000-05-15|4659106631807|1-81244-634-9|           956|176.73|\n",
       "|012964|                12/30|      4852311914204|          Mastercard|       555|     GB64DLQF090053954...|2022-10-04|06:40:47|  129.93.60.161|5bfe:ad1b:a4f1:f2...|  41199-650|033338998|   7811168|033338998|43.597.816/0001-57|     2015-07-10|5973438592186|0-7598-2346-4|           337|150.51|\n",
       "|012984|                06/31|4513536757134128830|       VISA 19 digit|       834|     GB32QSLY821583204...|2020-08-05|09:45:12|141.203.245.233|7528:d2f8:fa09:82...|  84410-583|042900595|   2093927|042900595|28.936.451/0001-54|     2010-12-15|2655132597959|0-86582-172-0|           169| 59.35|\n",
       "|012986|                10/26|   3585620838660639|          Mastercard|       440|     GB79ZFSL741355562...|2020-05-06|23:22:03|221.251.216.243|5da7:4583:5800:96...|  16961-730|019458805|   3945329|019458805|81.253.490/0001-30|     2007-12-13|2628486550239|0-916523-25-X|           788|238.54|\n",
       "|013257|                05/23|   6579633995016199|       VISA 13 digit|      9804|     GB93NZLK218118563...|2022-11-28|02:09:43|189.189.141.229|7b91:3b21:d3f1:36...|   83312054|027740385|   6689138|027740385|13.695.847/0001-80|     2008-01-05|7379429364080|1-327-99249-3|           991|105.73|\n",
       "|013265|                12/31|   3535506018736607|        JCB 15 digit|       702|     GB97UUHZ239804882...|2020-10-27|18:17:07| 24.152.218.181|77da:6ce5:522a:ac...|  06479-166|049141690|   1942388|049141690|95.037.812/0001-18|     2016-12-24|9032214793899|1-4076-9870-2|           454|210.52|\n",
       "|013274|                01/24|   3568580151701777|        JCB 16 digit|       257|     GB80ISML116442671...|2021-12-20|14:44:09|   42.253.7.153|cf6a:3335:55be:e0...|  30462-427|104361784|   2487770|104361784|46.527.081/0001-83|     2013-12-08|1491898510198|1-101-80944-2|           478|109.14|\n",
       "|013457|                06/28|4589839699652790803|             Maestro|       280|     GB22HUUD094642820...|2021-10-26|23:04:27| 207.179.196.45|9b03:e5f0:c72f:c7...|   10506549|021006591|   4312106|021006591|87.521.043/0001-09|     2019-02-24|1222716689648|1-955093-40-7|           382| 96.84|\n",
       "|013478|                07/24|   3560452545224585|       VISA 16 digit|       126|     GB63LUHF437452702...|2020-05-10|02:33:28|105.127.245.188|dd79:3fca:9d38:98...|  10354-560|019488257|    670483|019488257|56.783.210/0001-58|     2013-05-19|3993489629534|0-589-10612-0|           734| 17.11|\n",
       "+------+---------------------+-------------------+--------------------+----------+-------------------------+----------+--------+---------------+--------------------+-----------+---------+----------+---------+------------------+---------------+-------------+-------------+--------------+------+\n",
       "only showing top 20 rows"
      ]
     },
     "execution_count": 12,
     "metadata": {},
     "output_type": "execute_result"
    }
   ],
   "source": [
    "# Fezendo join com colunas de nome diferente \n",
    "compras.join(livros, [compras.cd_livro == livros.id], 'inner')"
   ]
  },
  {
   "cell_type": "code",
   "execution_count": 13,
   "id": "6ed940b6-d05a-4bd5-b12b-f0a284c63498",
   "metadata": {},
   "outputs": [
    {
     "data": {
      "text/html": [
       "<table border='1'>\n",
       "<tr><th>id</th><th>cartao_data_expiracao</th><th>cartao_numero</th><th>cartao_bandeira</th><th>cartao_cvc</th><th>codigo_transacao_bancaria</th><th>data</th><th>hora</th><th>ipv4</th><th>ipv6</th><th>cep_entrega</th><th>cd_livro</th><th>cd_cliente</th><th>id</th><th>cnpj_editora</th><th>data_lancamento</th><th>ean</th><th>isbn10</th><th>numero_paginas</th><th>preco</th></tr>\n",
       "<tr><td>016284</td><td>07/25</td><td>4995253124034962</td><td>Mastercard</td><td>316</td><td>GB45KZNR247418910...</td><td>2020-10-06</td><td>05:12:49</td><td>94.195.142.102</td><td>7ee3:bf8c:b0b1:5a...</td><td>40695-781</td><td>012719596</td><td>3713338</td><td>012719596</td><td>91.572.403/0001-60</td><td>2019-09-02</td><td>0416248524886</td><td>1-71012-481-4</td><td>617</td><td>11.74</td></tr>\n",
       "<tr><td>021783</td><td>09/24</td><td>3587017635827925</td><td>Mastercard</td><td>382</td><td>GB95JQHA912163308...</td><td>2022-10-28</td><td>05:33:09</td><td>136.229.183.46</td><td>1811:d388:ac92:f3...</td><td>66885-884</td><td>028590563</td><td>4971867</td><td>028590563</td><td>83.652.071/0001-04</td><td>2017-10-01</td><td>4098655700235</td><td>0-09-656628-0</td><td>580</td><td>18.31</td></tr>\n",
       "<tr><td>026184</td><td>05/27</td><td>4213460012148657</td><td>Mastercard</td><td>895</td><td>GB38JREB002871238...</td><td>2020-02-16</td><td>08:43:56</td><td>64.150.100.169</td><td>bec3:500c:759a:a2...</td><td>56539-909</td><td>097717319</td><td>3731803</td><td>097717319</td><td>29.635.084/0001-11</td><td>2018-01-27</td><td>6029658867845</td><td>0-417-50357-1</td><td>919</td><td>10.87</td></tr>\n",
       "<tr><td>061498</td><td>01/31</td><td>6541688476149666</td><td>Mastercard</td><td>492</td><td>GB51SCPD648967971...</td><td>2023-01-25</td><td>02:21:09</td><td>159.245.209.149</td><td>6c21:749c:e888:14...</td><td>11376-043</td><td>020113375</td><td>4738995</td><td>020113375</td><td>72.513.640/0001-06</td><td>2004-05-20</td><td>6368864423927</td><td>1-4262-9302-X</td><td>979</td><td>11.22</td></tr>\n",
       "<tr><td>063814</td><td>11/31</td><td>6571799209250581</td><td>Mastercard</td><td>631</td><td>GB25EHYY003596885...</td><td>2022-09-30</td><td>12:04:19</td><td>190.133.1.142</td><td>3adc:1cb6:9dfe:b8...</td><td>33797954</td><td>020113375</td><td>8353624</td><td>020113375</td><td>72.513.640/0001-06</td><td>2004-05-20</td><td>6368864423927</td><td>1-4262-9302-X</td><td>979</td><td>11.22</td></tr>\n",
       "<tr><td>068921</td><td>12/29</td><td>4594726591421247</td><td>Mastercard</td><td>774</td><td>GB72PEKY779837453...</td><td>2023-01-21</td><td>12:32:32</td><td>21.117.238.69</td><td>b363:ca20:5a3f:97...</td><td>76711-449</td><td>022112497</td><td>3289985</td><td>022112497</td><td>82.074.936/0001-21</td><td>2021-01-06</td><td>5078165920063</td><td>0-7763-1592-7</td><td>799</td><td>10.84</td></tr>\n",
       "<tr><td>076123</td><td>02/29</td><td>6011953717127074</td><td>Mastercard</td><td>697</td><td>GB55SSHK295167521...</td><td>2021-11-18</td><td>07:36:26</td><td>112.177.151.130</td><td>76a5:b04f:7410:94...</td><td>77482079</td><td>012719596</td><td>2164688</td><td>012719596</td><td>91.572.403/0001-60</td><td>2019-09-02</td><td>0416248524886</td><td>1-71012-481-4</td><td>617</td><td>11.74</td></tr>\n",
       "<tr><td>076951</td><td>09/32</td><td>4158441267736617</td><td>Mastercard</td><td>353</td><td>GB61DKSF920635726...</td><td>2022-02-26</td><td>16:48:26</td><td>96.159.193.161</td><td>f8e4:afb0:b430:6c...</td><td>21991812</td><td>028590563</td><td>471687</td><td>028590563</td><td>83.652.071/0001-04</td><td>2017-10-01</td><td>4098655700235</td><td>0-09-656628-0</td><td>580</td><td>18.31</td></tr>\n",
       "<tr><td>097486</td><td>03/32</td><td>502059551627</td><td>Mastercard</td><td>132</td><td>GB42SAXW397890443...</td><td>2023-03-16</td><td>08:42:36</td><td>171.163.255.248</td><td>509e:bca0:eca:b9b...</td><td>37407335</td><td>025900512</td><td>2662943</td><td>025900512</td><td>28.359.407/0001-29</td><td>2001-04-24</td><td>2793458725790</td><td>1-175-20698-9</td><td>623</td><td>12.32</td></tr>\n",
       "<tr><td>107945</td><td>12/31</td><td>5585811658738465</td><td>Mastercard</td><td>658</td><td>GB76RYFT632599891...</td><td>2022-04-17</td><td>18:41:46</td><td>87.249.31.167</td><td>22f4:bb55:bc34:9a...</td><td>37237-974</td><td>031940993</td><td>1417054</td><td>031940993</td><td>03.854.176/0001-07</td><td>2018-01-06</td><td>8713441956769</td><td>1-380-31131-4</td><td>798</td><td>16.98</td></tr>\n",
       "<tr><td>154709</td><td>01/27</td><td>4218497265473014614</td><td>Mastercard</td><td>623</td><td>GB85GNCS623074490...</td><td>2021-07-28</td><td>02:11:10</td><td>40.243.132.137</td><td>708e:de72:4a0:194...</td><td>73986351</td><td>012719596</td><td>1944702</td><td>012719596</td><td>91.572.403/0001-60</td><td>2019-09-02</td><td>0416248524886</td><td>1-71012-481-4</td><td>617</td><td>11.74</td></tr>\n",
       "<tr><td>240167</td><td>10/29</td><td>2701629052116104</td><td>Mastercard</td><td>975</td><td>GB46PGNV755669216...</td><td>2021-03-15</td><td>18:10:21</td><td>184.243.97.57</td><td>a85c:f9c2:f6d8:bf...</td><td>02055-201</td><td>089889624</td><td>838873</td><td>089889624</td><td>16.294.870/0001-50</td><td>2001-06-29</td><td>4718107862235</td><td>1-346-02899-0</td><td>830</td><td>10.86</td></tr>\n",
       "<tr><td>241539</td><td>07/26</td><td>4160682273648503098</td><td>Mastercard</td><td>165</td><td>GB17DPNZ940518635...</td><td>2020-08-14</td><td>09:00:36</td><td>25.71.103.77</td><td>6395:6850:6969:f8...</td><td>58539086</td><td>031940993</td><td>3661192</td><td>031940993</td><td>03.854.176/0001-07</td><td>2018-01-06</td><td>8713441956769</td><td>1-380-31131-4</td><td>798</td><td>16.98</td></tr>\n",
       "<tr><td>245108</td><td>11/29</td><td>4194114909952</td><td>Mastercard</td><td>409</td><td>GB44LBCV911104730...</td><td>2022-01-02</td><td>11:36:19</td><td>219.139.133.61</td><td>7055:6899:7946:4f...</td><td>00546927</td><td>028590563</td><td>3287685</td><td>028590563</td><td>83.652.071/0001-04</td><td>2017-10-01</td><td>4098655700235</td><td>0-09-656628-0</td><td>580</td><td>18.31</td></tr>\n",
       "<tr><td>265710</td><td>12/28</td><td>4232262730965090</td><td>Mastercard</td><td>3335</td><td>GB40RQTT210584841...</td><td>2020-10-11</td><td>20:25:19</td><td>67.188.173.56</td><td>1876:f856:496c:dc...</td><td>57137011</td><td>055743820</td><td>1513461</td><td>055743820</td><td>84.136.752/0001-74</td><td>2022-05-25</td><td>0982049877839</td><td>0-495-68387-6</td><td>320</td><td>19.7</td></tr>\n",
       "<tr><td>295081</td><td>04/25</td><td>180012307040581</td><td>Mastercard</td><td>116</td><td>GB38XDGG468220500...</td><td>2022-03-04</td><td>13:19:11</td><td>63.220.157.247</td><td>779e:51c6:558b:58...</td><td>30275-109</td><td>089990636</td><td>6689138</td><td>089990636</td><td>28.705.436/0001-03</td><td>2006-10-06</td><td>5157429795538</td><td>1-307-72868-5</td><td>478</td><td>19.58</td></tr>\n",
       "<tr><td>304216</td><td>11/25</td><td>4205385010689826</td><td>Mastercard</td><td>629</td><td>GB02WUHW410083775...</td><td>2021-09-30</td><td>21:06:50</td><td>103.3.183.244</td><td>a914:9012:3b20:b5...</td><td>37464-064</td><td>028590563</td><td>5679656</td><td>028590563</td><td>83.652.071/0001-04</td><td>2017-10-01</td><td>4098655700235</td><td>0-09-656628-0</td><td>580</td><td>18.31</td></tr>\n",
       "<tr><td>326054</td><td>03/24</td><td>6553546076578541</td><td>Mastercard</td><td>145</td><td>GB80DTQJ420312451...</td><td>2022-06-09</td><td>22:32:12</td><td>182.66.149.189</td><td>ad3e:22e4:a485:37...</td><td>14042-014</td><td>025900512</td><td>6626948</td><td>025900512</td><td>28.359.407/0001-29</td><td>2001-04-24</td><td>2793458725790</td><td>1-175-20698-9</td><td>623</td><td>12.32</td></tr>\n",
       "<tr><td>328705</td><td>02/28</td><td>30181078013333</td><td>Mastercard</td><td>410</td><td>GB59ZXKR258441286...</td><td>2020-05-31</td><td>05:30:17</td><td>65.14.223.139</td><td>1e11:d05f:820c:3d...</td><td>52635-675</td><td>097717319</td><td>6934002</td><td>097717319</td><td>29.635.084/0001-11</td><td>2018-01-27</td><td>6029658867845</td><td>0-417-50357-1</td><td>919</td><td>10.87</td></tr>\n",
       "<tr><td>406815</td><td>06/23</td><td>4473639780531831</td><td>Mastercard</td><td>598</td><td>GB38XHFP957738164...</td><td>2020-08-05</td><td>04:17:15</td><td>175.164.46.60</td><td>20e7:877c:44c2:6a...</td><td>88036586</td><td>031940993</td><td>3971768</td><td>031940993</td><td>03.854.176/0001-07</td><td>2018-01-06</td><td>8713441956769</td><td>1-380-31131-4</td><td>798</td><td>16.98</td></tr>\n",
       "</table>\n",
       "only showing top 20 rows\n"
      ],
      "text/plain": [
       "+------+---------------------+-------------------+---------------+----------+-------------------------+----------+--------+---------------+--------------------+-----------+---------+----------+---------+------------------+---------------+-------------+-------------+--------------+-----+\n",
       "|    id|cartao_data_expiracao|      cartao_numero|cartao_bandeira|cartao_cvc|codigo_transacao_bancaria|      data|    hora|           ipv4|                ipv6|cep_entrega| cd_livro|cd_cliente|       id|      cnpj_editora|data_lancamento|          ean|       isbn10|numero_paginas|preco|\n",
       "+------+---------------------+-------------------+---------------+----------+-------------------------+----------+--------+---------------+--------------------+-----------+---------+----------+---------+------------------+---------------+-------------+-------------+--------------+-----+\n",
       "|016284|                07/25|   4995253124034962|     Mastercard|       316|     GB45KZNR247418910...|2020-10-06|05:12:49| 94.195.142.102|7ee3:bf8c:b0b1:5a...|  40695-781|012719596|   3713338|012719596|91.572.403/0001-60|     2019-09-02|0416248524886|1-71012-481-4|           617|11.74|\n",
       "|021783|                09/24|   3587017635827925|     Mastercard|       382|     GB95JQHA912163308...|2022-10-28|05:33:09| 136.229.183.46|1811:d388:ac92:f3...|  66885-884|028590563|   4971867|028590563|83.652.071/0001-04|     2017-10-01|4098655700235|0-09-656628-0|           580|18.31|\n",
       "|026184|                05/27|   4213460012148657|     Mastercard|       895|     GB38JREB002871238...|2020-02-16|08:43:56| 64.150.100.169|bec3:500c:759a:a2...|  56539-909|097717319|   3731803|097717319|29.635.084/0001-11|     2018-01-27|6029658867845|0-417-50357-1|           919|10.87|\n",
       "|061498|                01/31|   6541688476149666|     Mastercard|       492|     GB51SCPD648967971...|2023-01-25|02:21:09|159.245.209.149|6c21:749c:e888:14...|  11376-043|020113375|   4738995|020113375|72.513.640/0001-06|     2004-05-20|6368864423927|1-4262-9302-X|           979|11.22|\n",
       "|063814|                11/31|   6571799209250581|     Mastercard|       631|     GB25EHYY003596885...|2022-09-30|12:04:19|  190.133.1.142|3adc:1cb6:9dfe:b8...|   33797954|020113375|   8353624|020113375|72.513.640/0001-06|     2004-05-20|6368864423927|1-4262-9302-X|           979|11.22|\n",
       "|068921|                12/29|   4594726591421247|     Mastercard|       774|     GB72PEKY779837453...|2023-01-21|12:32:32|  21.117.238.69|b363:ca20:5a3f:97...|  76711-449|022112497|   3289985|022112497|82.074.936/0001-21|     2021-01-06|5078165920063|0-7763-1592-7|           799|10.84|\n",
       "|076123|                02/29|   6011953717127074|     Mastercard|       697|     GB55SSHK295167521...|2021-11-18|07:36:26|112.177.151.130|76a5:b04f:7410:94...|   77482079|012719596|   2164688|012719596|91.572.403/0001-60|     2019-09-02|0416248524886|1-71012-481-4|           617|11.74|\n",
       "|076951|                09/32|   4158441267736617|     Mastercard|       353|     GB61DKSF920635726...|2022-02-26|16:48:26| 96.159.193.161|f8e4:afb0:b430:6c...|   21991812|028590563|    471687|028590563|83.652.071/0001-04|     2017-10-01|4098655700235|0-09-656628-0|           580|18.31|\n",
       "|097486|                03/32|       502059551627|     Mastercard|       132|     GB42SAXW397890443...|2023-03-16|08:42:36|171.163.255.248|509e:bca0:eca:b9b...|   37407335|025900512|   2662943|025900512|28.359.407/0001-29|     2001-04-24|2793458725790|1-175-20698-9|           623|12.32|\n",
       "|107945|                12/31|   5585811658738465|     Mastercard|       658|     GB76RYFT632599891...|2022-04-17|18:41:46|  87.249.31.167|22f4:bb55:bc34:9a...|  37237-974|031940993|   1417054|031940993|03.854.176/0001-07|     2018-01-06|8713441956769|1-380-31131-4|           798|16.98|\n",
       "|154709|                01/27|4218497265473014614|     Mastercard|       623|     GB85GNCS623074490...|2021-07-28|02:11:10| 40.243.132.137|708e:de72:4a0:194...|   73986351|012719596|   1944702|012719596|91.572.403/0001-60|     2019-09-02|0416248524886|1-71012-481-4|           617|11.74|\n",
       "|240167|                10/29|   2701629052116104|     Mastercard|       975|     GB46PGNV755669216...|2021-03-15|18:10:21|  184.243.97.57|a85c:f9c2:f6d8:bf...|  02055-201|089889624|    838873|089889624|16.294.870/0001-50|     2001-06-29|4718107862235|1-346-02899-0|           830|10.86|\n",
       "|241539|                07/26|4160682273648503098|     Mastercard|       165|     GB17DPNZ940518635...|2020-08-14|09:00:36|   25.71.103.77|6395:6850:6969:f8...|   58539086|031940993|   3661192|031940993|03.854.176/0001-07|     2018-01-06|8713441956769|1-380-31131-4|           798|16.98|\n",
       "|245108|                11/29|      4194114909952|     Mastercard|       409|     GB44LBCV911104730...|2022-01-02|11:36:19| 219.139.133.61|7055:6899:7946:4f...|   00546927|028590563|   3287685|028590563|83.652.071/0001-04|     2017-10-01|4098655700235|0-09-656628-0|           580|18.31|\n",
       "|265710|                12/28|   4232262730965090|     Mastercard|      3335|     GB40RQTT210584841...|2020-10-11|20:25:19|  67.188.173.56|1876:f856:496c:dc...|   57137011|055743820|   1513461|055743820|84.136.752/0001-74|     2022-05-25|0982049877839|0-495-68387-6|           320| 19.7|\n",
       "|295081|                04/25|    180012307040581|     Mastercard|       116|     GB38XDGG468220500...|2022-03-04|13:19:11| 63.220.157.247|779e:51c6:558b:58...|  30275-109|089990636|   6689138|089990636|28.705.436/0001-03|     2006-10-06|5157429795538|1-307-72868-5|           478|19.58|\n",
       "|304216|                11/25|   4205385010689826|     Mastercard|       629|     GB02WUHW410083775...|2021-09-30|21:06:50|  103.3.183.244|a914:9012:3b20:b5...|  37464-064|028590563|   5679656|028590563|83.652.071/0001-04|     2017-10-01|4098655700235|0-09-656628-0|           580|18.31|\n",
       "|326054|                03/24|   6553546076578541|     Mastercard|       145|     GB80DTQJ420312451...|2022-06-09|22:32:12| 182.66.149.189|ad3e:22e4:a485:37...|  14042-014|025900512|   6626948|025900512|28.359.407/0001-29|     2001-04-24|2793458725790|1-175-20698-9|           623|12.32|\n",
       "|328705|                02/28|     30181078013333|     Mastercard|       410|     GB59ZXKR258441286...|2020-05-31|05:30:17|  65.14.223.139|1e11:d05f:820c:3d...|  52635-675|097717319|   6934002|097717319|29.635.084/0001-11|     2018-01-27|6029658867845|0-417-50357-1|           919|10.87|\n",
       "|406815|                06/23|   4473639780531831|     Mastercard|       598|     GB38XHFP957738164...|2020-08-05|04:17:15|  175.164.46.60|20e7:877c:44c2:6a...|   88036586|031940993|   3971768|031940993|03.854.176/0001-07|     2018-01-06|8713441956769|1-380-31131-4|           798|16.98|\n",
       "+------+---------------------+-------------------+---------------+----------+-------------------------+----------+--------+---------------+--------------------+-----------+---------+----------+---------+------------------+---------------+-------------+-------------+--------------+-----+\n",
       "only showing top 20 rows"
      ]
     },
     "execution_count": 13,
     "metadata": {},
     "output_type": "execute_result"
    }
   ],
   "source": [
    "# Fezendo join com a condição em uma LISTA separada\n",
    "condicao = [compras.cd_livro == livros.id, livros.preco < 20, compras.cartao_bandeira == 'Mastercard']\n",
    "compras.join(livros,  condicao, 'inner')"
   ]
  },
  {
   "cell_type": "code",
   "execution_count": 14,
   "id": "6cb2fc9e-eb80-4610-80af-8160b5224b24",
   "metadata": {},
   "outputs": [
    {
     "data": {
      "text/html": [
       "<table border='1'>\n",
       "<tr><th>id</th><th>titulo</th><th>autor</th><th>id</th><th>cnpj_editora</th><th>data_lancamento</th><th>ean</th><th>isbn10</th><th>numero_paginas</th><th>preco</th></tr>\n",
       "<tr><td>106042959</td><td>1984&nbsp;</td><td>George Orwell</td><td>080608956</td><td>90.563.247/0001-09</td><td>2011-10-05</td><td>0332981484891</td><td>1-925760-25-1</td><td>203</td><td>107.63</td></tr>\n",
       "<tr><td>106042959</td><td>1984&nbsp;</td><td>George Orwell</td><td>104361784</td><td>46.527.081/0001-83</td><td>2013-12-08</td><td>1491898510198</td><td>1-101-80944-2</td><td>478</td><td>109.14</td></tr>\n",
       "<tr><td>106042959</td><td>1984&nbsp;</td><td>George Orwell</td><td>018453254</td><td>95.367.280/0001-87</td><td>2012-11-02</td><td>0507454098268</td><td>0-609-21722-4</td><td>043</td><td>52.94</td></tr>\n",
       "<tr><td>106042959</td><td>1984&nbsp;</td><td>George Orwell</td><td>064175052</td><td>65.301.927/0001-07</td><td>2008-05-29</td><td>6905480714673</td><td>1-876722-64-9</td><td>795</td><td>85.56</td></tr>\n",
       "<tr><td>106042959</td><td>1984&nbsp;</td><td>George Orwell</td><td>021765997</td><td>59.374.801/0001-60</td><td>2014-05-17</td><td>4743679337089</td><td>1-85580-232-5</td><td>499</td><td>143.43</td></tr>\n",
       "<tr><td>106042959</td><td>1984&nbsp;</td><td>George Orwell</td><td>088482271</td><td>16.249.378/0001-63</td><td>2022-09-07</td><td>5713629047213</td><td>1-229-68842-0</td><td>632</td><td>143.95</td></tr>\n",
       "<tr><td>106042959</td><td>1984&nbsp;</td><td>George Orwell</td><td>023911383</td><td>98.526.047/0001-98</td><td>2005-11-12</td><td>4165252098109</td><td>1-369-22273-4</td><td>599</td><td>121.0</td></tr>\n",
       "<tr><td>106042959</td><td>1984&nbsp;</td><td>George Orwell</td><td>043636240</td><td>16.938.042/0001-08</td><td>2019-05-11</td><td>1239569754256</td><td>0-611-23680-X</td><td>371</td><td>207.67</td></tr>\n",
       "<tr><td>106042959</td><td>1984&nbsp;</td><td>George Orwell</td><td>029667220</td><td>20.136.498/0001-21</td><td>2008-09-22</td><td>9813450961422</td><td>0-466-92503-4</td><td>474</td><td>175.32</td></tr>\n",
       "<tr><td>106042959</td><td>1984&nbsp;</td><td>George Orwell</td><td>049806867</td><td>93.617.240/0001-10</td><td>2022-02-17</td><td>3166123637398</td><td>1-4822-8784-6</td><td>378</td><td>162.97</td></tr>\n",
       "<tr><td>106042959</td><td>1984&nbsp;</td><td>George Orwell</td><td>030099528</td><td>28.103.975/0001-64</td><td>2000-02-06</td><td>9164658045347</td><td>0-904222-71-3</td><td>292</td><td>208.39</td></tr>\n",
       "<tr><td>106042959</td><td>1984&nbsp;</td><td>George Orwell</td><td>084858867</td><td>10.752.843/0001-06</td><td>2015-04-30</td><td>6207011925788</td><td>1-03-549652-6</td><td>635</td><td>237.67</td></tr>\n",
       "<tr><td>106042959</td><td>1984&nbsp;</td><td>George Orwell</td><td>034553086</td><td>29.507.683/0001-50</td><td>2016-12-29</td><td>7318970609554</td><td>1-4989-7802-9</td><td>540</td><td>113.52</td></tr>\n",
       "<tr><td>106042959</td><td>1984&nbsp;</td><td>George Orwell</td><td>030334762</td><td>80.463.719/0001-06</td><td>2013-05-08</td><td>7122725133429</td><td>0-85193-340-8</td><td>099</td><td>123.47</td></tr>\n",
       "<tr><td>106042959</td><td>1984&nbsp;</td><td>George Orwell</td><td>089990636</td><td>28.705.436/0001-03</td><td>2006-10-06</td><td>5157429795538</td><td>1-307-72868-5</td><td>478</td><td>19.58</td></tr>\n",
       "<tr><td>106042959</td><td>1984&nbsp;</td><td>George Orwell</td><td>055610005</td><td>20.756.194/0001-67</td><td>2006-03-22</td><td>2114468195241</td><td>0-455-43278-3</td><td>419</td><td>37.08</td></tr>\n",
       "<tr><td>106042959</td><td>1984&nbsp;</td><td>George Orwell</td><td>035940339</td><td>71.530.496/0001-53</td><td>2014-08-11</td><td>6764222732753</td><td>1-396-90787-4</td><td>327</td><td>213.6</td></tr>\n",
       "<tr><td>106042959</td><td>1984&nbsp;</td><td>George Orwell</td><td>028125446</td><td>90.425.178/0001-77</td><td>2011-07-25</td><td>2226757040245</td><td>0-657-66391-3</td><td>384</td><td>156.49</td></tr>\n",
       "<tr><td>106042959</td><td>1984&nbsp;</td><td>George Orwell</td><td>126125885</td><td>68.017.942/0001-16</td><td>2003-06-20</td><td>1558876751780</td><td>0-523-08716-0</td><td>420</td><td>139.75</td></tr>\n",
       "<tr><td>106042959</td><td>1984&nbsp;</td><td>George Orwell</td><td>102803370</td><td>48.760.531/0001-09</td><td>2011-12-13</td><td>2550608407612</td><td>0-399-05121-X</td><td>732</td><td>75.62</td></tr>\n",
       "</table>\n",
       "only showing top 20 rows\n"
      ],
      "text/plain": [
       "+---------+------+-------------+---------+------------------+---------------+-------------+-------------+--------------+------+\n",
       "|       id|titulo|        autor|       id|      cnpj_editora|data_lancamento|          ean|       isbn10|numero_paginas| preco|\n",
       "+---------+------+-------------+---------+------------------+---------------+-------------+-------------+--------------+------+\n",
       "|106042959| 1984 |George Orwell|080608956|90.563.247/0001-09|     2011-10-05|0332981484891|1-925760-25-1|           203|107.63|\n",
       "|106042959| 1984 |George Orwell|104361784|46.527.081/0001-83|     2013-12-08|1491898510198|1-101-80944-2|           478|109.14|\n",
       "|106042959| 1984 |George Orwell|018453254|95.367.280/0001-87|     2012-11-02|0507454098268|0-609-21722-4|           043| 52.94|\n",
       "|106042959| 1984 |George Orwell|064175052|65.301.927/0001-07|     2008-05-29|6905480714673|1-876722-64-9|           795| 85.56|\n",
       "|106042959| 1984 |George Orwell|021765997|59.374.801/0001-60|     2014-05-17|4743679337089|1-85580-232-5|           499|143.43|\n",
       "|106042959| 1984 |George Orwell|088482271|16.249.378/0001-63|     2022-09-07|5713629047213|1-229-68842-0|           632|143.95|\n",
       "|106042959| 1984 |George Orwell|023911383|98.526.047/0001-98|     2005-11-12|4165252098109|1-369-22273-4|           599| 121.0|\n",
       "|106042959| 1984 |George Orwell|043636240|16.938.042/0001-08|     2019-05-11|1239569754256|0-611-23680-X|           371|207.67|\n",
       "|106042959| 1984 |George Orwell|029667220|20.136.498/0001-21|     2008-09-22|9813450961422|0-466-92503-4|           474|175.32|\n",
       "|106042959| 1984 |George Orwell|049806867|93.617.240/0001-10|     2022-02-17|3166123637398|1-4822-8784-6|           378|162.97|\n",
       "|106042959| 1984 |George Orwell|030099528|28.103.975/0001-64|     2000-02-06|9164658045347|0-904222-71-3|           292|208.39|\n",
       "|106042959| 1984 |George Orwell|084858867|10.752.843/0001-06|     2015-04-30|6207011925788|1-03-549652-6|           635|237.67|\n",
       "|106042959| 1984 |George Orwell|034553086|29.507.683/0001-50|     2016-12-29|7318970609554|1-4989-7802-9|           540|113.52|\n",
       "|106042959| 1984 |George Orwell|030334762|80.463.719/0001-06|     2013-05-08|7122725133429|0-85193-340-8|           099|123.47|\n",
       "|106042959| 1984 |George Orwell|089990636|28.705.436/0001-03|     2006-10-06|5157429795538|1-307-72868-5|           478| 19.58|\n",
       "|106042959| 1984 |George Orwell|055610005|20.756.194/0001-67|     2006-03-22|2114468195241|0-455-43278-3|           419| 37.08|\n",
       "|106042959| 1984 |George Orwell|035940339|71.530.496/0001-53|     2014-08-11|6764222732753|1-396-90787-4|           327| 213.6|\n",
       "|106042959| 1984 |George Orwell|028125446|90.425.178/0001-77|     2011-07-25|2226757040245|0-657-66391-3|           384|156.49|\n",
       "|106042959| 1984 |George Orwell|126125885|68.017.942/0001-16|     2003-06-20|1558876751780|0-523-08716-0|           420|139.75|\n",
       "|106042959| 1984 |George Orwell|102803370|48.760.531/0001-09|     2011-12-13|2550608407612|0-399-05121-X|           732| 75.62|\n",
       "+---------+------+-------------+---------+------------------+---------------+-------------+-------------+--------------+------+\n",
       "only showing top 20 rows"
      ]
     },
     "execution_count": 14,
     "metadata": {},
     "output_type": "execute_result"
    }
   ],
   "source": [
    "# Fazendo cross join entre os datasets autores e livros (tudo com tudo)\n",
    "autores.join(livros, how='cross').orderBy('titulo')"
   ]
  },
  {
   "cell_type": "code",
   "execution_count": 15,
   "id": "17a2d57c-9647-4896-b9f7-57da553fff12",
   "metadata": {},
   "outputs": [
    {
     "data": {
      "text/html": [
       "<table border='1'>\n",
       "<tr><th>id</th><th>titulo</th><th>autor</th></tr>\n",
       "<tr><td>106042959</td><td>1984&nbsp;</td><td>George Orwell</td></tr>\n",
       "<tr><td>054099410</td><td>A Alma Encantador...</td><td>Jo&atilde;o do Rio</td></tr>\n",
       "<tr><td>128422117</td><td>A Biblioteca da M...</td><td>Matt Haig</td></tr>\n",
       "<tr><td>049141399</td><td>A Coleira do C&atilde;o&nbsp;</td><td>Rubem Fonseca</td></tr>\n",
       "<tr><td>065490862</td><td>A Cor P&uacute;rpura&nbsp;</td><td>Alice Walker</td></tr>\n",
       "<tr><td>029077001</td><td>A Educa&ccedil;&atilde;o Sentim...</td><td>Gustave Flaubert</td></tr>\n",
       "<tr><td>090690941</td><td>A Estrela Sobe&nbsp;</td><td>Marques Rebelo</td></tr>\n",
       "<tr><td>036365230</td><td>A Hora dos Rumina...</td><td>Jos&eacute; J. Veiga</td></tr>\n",
       "<tr><td>069146824</td><td>A Letra Escarlate&nbsp;</td><td>Nathaniel Hawthorne</td></tr>\n",
       "<tr><td>076938216</td><td>A Moreninha&nbsp;</td><td>Joaquim Manuel de...</td></tr>\n",
       "<tr><td>095678890</td><td>A Paix&atilde;o Segundo ...</td><td>Clarice Lispector</td></tr>\n",
       "<tr><td>073269564</td><td>A Revolu&ccedil;&atilde;o dos B...</td><td>George Orwell</td></tr>\n",
       "<tr><td>076121829</td><td>A Rosa do Povo&nbsp;</td><td>Carlos Drummond d...</td></tr>\n",
       "<tr><td>087365849</td><td>A Senhorita Simpson&nbsp;</td><td>S&eacute;rgio Sant&rsquo;anna</td></tr>\n",
       "<tr><td>045836954</td><td>A Terra In&uacute;til&nbsp;</td><td>T. S. Eliot</td></tr>\n",
       "<tr><td>116347123</td><td>A Vida Como Ela &Eacute;&nbsp;</td><td>Nelson Rodrigues</td></tr>\n",
       "<tr><td>096599198</td><td>A Vida e as Opini...</td><td>Laurence Sterne</td></tr>\n",
       "<tr><td>067479001</td><td>A &Eacute;poca da Inoc&ecirc;n...</td><td>Edith Wharton</td></tr>\n",
       "<tr><td>109661324</td><td>Absal&atilde;o, Absal&atilde;o!&nbsp;</td><td>William Faulkner</td></tr>\n",
       "<tr><td>060835574</td><td>Admir&aacute;vel Mundo N...</td><td>Aldous Huxley</td></tr>\n",
       "</table>\n",
       "only showing top 20 rows\n"
      ],
      "text/plain": [
       "+---------+--------------------+--------------------+\n",
       "|       id|              titulo|               autor|\n",
       "+---------+--------------------+--------------------+\n",
       "|106042959|               1984 |       George Orwell|\n",
       "|054099410|A Alma Encantador...|         João do Rio|\n",
       "|128422117|A Biblioteca da M...|           Matt Haig|\n",
       "|049141399|   A Coleira do Cão |       Rubem Fonseca|\n",
       "|065490862|      A Cor Púrpura |        Alice Walker|\n",
       "|029077001|A Educação Sentim...|    Gustave Flaubert|\n",
       "|090690941|     A Estrela Sobe |      Marques Rebelo|\n",
       "|036365230|A Hora dos Rumina...|       José J. Veiga|\n",
       "|069146824|  A Letra Escarlate | Nathaniel Hawthorne|\n",
       "|076938216|        A Moreninha |Joaquim Manuel de...|\n",
       "|095678890|A Paixão Segundo ...|   Clarice Lispector|\n",
       "|073269564|A Revolução dos B...|       George Orwell|\n",
       "|076121829|     A Rosa do Povo |Carlos Drummond d...|\n",
       "|087365849|A Senhorita Simpson |    Sérgio Sant’anna|\n",
       "|045836954|     A Terra Inútil |         T. S. Eliot|\n",
       "|116347123|  A Vida Como Ela É |    Nelson Rodrigues|\n",
       "|096599198|A Vida e as Opini...|     Laurence Sterne|\n",
       "|067479001|A Época da Inocên...|       Edith Wharton|\n",
       "|109661324|  Absalão, Absalão! |    William Faulkner|\n",
       "|060835574|Admirável Mundo N...|       Aldous Huxley|\n",
       "+---------+--------------------+--------------------+\n",
       "only showing top 20 rows"
      ]
     },
     "execution_count": 15,
     "metadata": {},
     "output_type": "execute_result"
    }
   ],
   "source": [
    "# Fazendo anti join entre os datasets autores e livros (somente os exclusívos de autores)\n",
    "autores.join(livros, 'id', 'anti')"
   ]
  },
  {
   "cell_type": "code",
   "execution_count": 16,
   "id": "231b85d6-f7b9-41d5-b414-48833dbf594c",
   "metadata": {},
   "outputs": [
    {
     "data": {
      "text/html": [
       "<table border='1'>\n",
       "<tr><th>id</th><th>cnpj_editora</th><th>data_lancamento</th><th>ean</th><th>isbn10</th><th>numero_paginas</th><th>preco</th></tr>\n",
       "<tr><td>102961160</td><td>54.317.982/0001-79</td><td>2011-09-19</td><td>4367115749184</td><td>0-06-594558-1</td><td>516</td><td>113.84</td></tr>\n",
       "<tr><td>043636240</td><td>16.938.042/0001-08</td><td>2019-05-11</td><td>1239569754256</td><td>0-611-23680-X</td><td>371</td><td>207.67</td></tr>\n",
       "<tr><td>052928059</td><td>57.624.038/0001-52</td><td>2003-08-03</td><td>5462162528221</td><td>1-109-29542-1</td><td>198</td><td>107.89</td></tr>\n",
       "<tr><td>088482271</td><td>16.249.378/0001-63</td><td>2022-09-07</td><td>5713629047213</td><td>1-229-68842-0</td><td>632</td><td>143.95</td></tr>\n",
       "<tr><td>028125446</td><td>90.425.178/0001-77</td><td>2011-07-25</td><td>2226757040245</td><td>0-657-66391-3</td><td>384</td><td>156.49</td></tr>\n",
       "<tr><td>055610005</td><td>20.756.194/0001-67</td><td>2006-03-22</td><td>2114468195241</td><td>0-455-43278-3</td><td>419</td><td>37.08</td></tr>\n",
       "<tr><td>049806867</td><td>93.617.240/0001-10</td><td>2022-02-17</td><td>3166123637398</td><td>1-4822-8784-6</td><td>378</td><td>162.97</td></tr>\n",
       "<tr><td>102803370</td><td>48.760.531/0001-09</td><td>2011-12-13</td><td>2550608407612</td><td>0-399-05121-X</td><td>732</td><td>75.62</td></tr>\n",
       "<tr><td>084858867</td><td>10.752.843/0001-06</td><td>2015-04-30</td><td>6207011925788</td><td>1-03-549652-6</td><td>635</td><td>237.67</td></tr>\n",
       "<tr><td>059303729</td><td>05.129.783/0001-21</td><td>2001-08-25</td><td>1641133648784</td><td>0-620-46508-5</td><td>107</td><td>61.41</td></tr>\n",
       "<tr><td>064175052</td><td>65.301.927/0001-07</td><td>2008-05-29</td><td>6905480714673</td><td>1-876722-64-9</td><td>795</td><td>85.56</td></tr>\n",
       "<tr><td>029667220</td><td>20.136.498/0001-21</td><td>2008-09-22</td><td>9813450961422</td><td>0-466-92503-4</td><td>474</td><td>175.32</td></tr>\n",
       "<tr><td>034553086</td><td>29.507.683/0001-50</td><td>2016-12-29</td><td>7318970609554</td><td>1-4989-7802-9</td><td>540</td><td>113.52</td></tr>\n",
       "<tr><td>035350343</td><td>25.491.073/0001-54</td><td>2003-11-29</td><td>7630092024962</td><td>1-957157-95-X</td><td>109</td><td>58.61</td></tr>\n",
       "<tr><td>017477529</td><td>39.507.184/0001-16</td><td>2005-09-23</td><td>5930606400018</td><td>1-393-77728-7</td><td>747</td><td>232.65</td></tr>\n",
       "<tr><td>029480737</td><td>85.146.029/0001-39</td><td>2000-04-07</td><td>2530173223145</td><td>1-82596-670-2</td><td>849</td><td>118.49</td></tr>\n",
       "<tr><td>089990636</td><td>28.705.436/0001-03</td><td>2006-10-06</td><td>5157429795538</td><td>1-307-72868-5</td><td>478</td><td>19.58</td></tr>\n",
       "<tr><td>126125885</td><td>68.017.942/0001-16</td><td>2003-06-20</td><td>1558876751780</td><td>0-523-08716-0</td><td>420</td><td>139.75</td></tr>\n",
       "<tr><td>044237677</td><td>37.509.628/0001-27</td><td>2012-03-17</td><td>8209720694380</td><td>1-74315-201-9</td><td>218</td><td>46.58</td></tr>\n",
       "<tr><td>019458805</td><td>81.253.490/0001-30</td><td>2007-12-13</td><td>2628486550239</td><td>0-916523-25-X</td><td>788</td><td>238.54</td></tr>\n",
       "</table>\n",
       "only showing top 20 rows\n"
      ],
      "text/plain": [
       "+---------+------------------+---------------+-------------+-------------+--------------+------+\n",
       "|       id|      cnpj_editora|data_lancamento|          ean|       isbn10|numero_paginas| preco|\n",
       "+---------+------------------+---------------+-------------+-------------+--------------+------+\n",
       "|102961160|54.317.982/0001-79|     2011-09-19|4367115749184|0-06-594558-1|           516|113.84|\n",
       "|043636240|16.938.042/0001-08|     2019-05-11|1239569754256|0-611-23680-X|           371|207.67|\n",
       "|052928059|57.624.038/0001-52|     2003-08-03|5462162528221|1-109-29542-1|           198|107.89|\n",
       "|088482271|16.249.378/0001-63|     2022-09-07|5713629047213|1-229-68842-0|           632|143.95|\n",
       "|028125446|90.425.178/0001-77|     2011-07-25|2226757040245|0-657-66391-3|           384|156.49|\n",
       "|055610005|20.756.194/0001-67|     2006-03-22|2114468195241|0-455-43278-3|           419| 37.08|\n",
       "|049806867|93.617.240/0001-10|     2022-02-17|3166123637398|1-4822-8784-6|           378|162.97|\n",
       "|102803370|48.760.531/0001-09|     2011-12-13|2550608407612|0-399-05121-X|           732| 75.62|\n",
       "|084858867|10.752.843/0001-06|     2015-04-30|6207011925788|1-03-549652-6|           635|237.67|\n",
       "|059303729|05.129.783/0001-21|     2001-08-25|1641133648784|0-620-46508-5|           107| 61.41|\n",
       "|064175052|65.301.927/0001-07|     2008-05-29|6905480714673|1-876722-64-9|           795| 85.56|\n",
       "|029667220|20.136.498/0001-21|     2008-09-22|9813450961422|0-466-92503-4|           474|175.32|\n",
       "|034553086|29.507.683/0001-50|     2016-12-29|7318970609554|1-4989-7802-9|           540|113.52|\n",
       "|035350343|25.491.073/0001-54|     2003-11-29|7630092024962|1-957157-95-X|           109| 58.61|\n",
       "|017477529|39.507.184/0001-16|     2005-09-23|5930606400018|1-393-77728-7|           747|232.65|\n",
       "|029480737|85.146.029/0001-39|     2000-04-07|2530173223145|1-82596-670-2|           849|118.49|\n",
       "|089990636|28.705.436/0001-03|     2006-10-06|5157429795538|1-307-72868-5|           478| 19.58|\n",
       "|126125885|68.017.942/0001-16|     2003-06-20|1558876751780|0-523-08716-0|           420|139.75|\n",
       "|044237677|37.509.628/0001-27|     2012-03-17|8209720694380|1-74315-201-9|           218| 46.58|\n",
       "|019458805|81.253.490/0001-30|     2007-12-13|2628486550239|0-916523-25-X|           788|238.54|\n",
       "+---------+------------------+---------------+-------------+-------------+--------------+------+\n",
       "only showing top 20 rows"
      ]
     },
     "execution_count": 16,
     "metadata": {},
     "output_type": "execute_result"
    }
   ],
   "source": [
    "# Fazendo anti join entre os datasets livros e autores (somente os exclusívos de livros)\n",
    "livros.join(autores, 'id', 'anti')"
   ]
  },
  {
   "cell_type": "code",
   "execution_count": 22,
   "id": "a0a1041f-0de3-4e5c-807b-b75bf55c9af4",
   "metadata": {},
   "outputs": [
    {
     "data": {
      "text/html": [
       "<table border='1'>\n",
       "<tr><th>id</th><th>cartao_data_expiracao</th><th>cartao_numero</th><th>cartao_bandeira</th><th>cartao_cvc</th><th>codigo_transacao_bancaria</th><th>data</th><th>hora</th><th>ipv4</th><th>ipv6</th><th>cep_entrega</th><th>cd_livro</th><th>cd_cliente</th></tr>\n",
       "<tr><td>012389</td><td>11/25</td><td>5500804500517692</td><td>Discover</td><td>959</td><td>GB98MPIH622108593...</td><td>2021-07-24</td><td>03:21:28</td><td>62.145.31.164</td><td>b23d:58a2:9eff:36...</td><td>36629-219</td><td>030334762</td><td>3339828</td></tr>\n",
       "<tr><td>012476</td><td>01/31</td><td>4609489235873</td><td>VISA 16 digit</td><td>6979</td><td>GB79GAVL233010819...</td><td>2021-08-23</td><td>11:15:52</td><td>185.150.224.52</td><td>1e2c:f641:49d1:5a...</td><td>17012-747</td><td>013721981</td><td>7624624</td></tr>\n",
       "<tr><td>012478</td><td>07/23</td><td>30072722359174</td><td>American Express</td><td>689</td><td>GB51SZOU538484531...</td><td>2020-01-27</td><td>17:08:10</td><td>40.179.153.24</td><td>9bcd:ee0c:af68:33...</td><td>25921298</td><td>019458805</td><td>8703114</td></tr>\n",
       "<tr><td>012534</td><td>09/29</td><td>4561935154572</td><td>VISA 16 digit</td><td>353</td><td>GB05UNEX021466511...</td><td>2021-07-15</td><td>07:39:25</td><td>86.20.51.194</td><td>be57:8f94:132:1cb...</td><td>73799370</td><td>014347542</td><td>7799936</td></tr>\n",
       "<tr><td>012549</td><td>01/31</td><td>3541220668415122</td><td>JCB 15 digit</td><td>967</td><td>GB97RCCC581942620...</td><td>2020-07-22</td><td>23:56:14</td><td>55.189.220.65</td><td>a1fd:9dd:115f:9d5...</td><td>50727-454</td><td>020215846</td><td>6703678</td></tr>\n",
       "<tr><td>012574</td><td>06/24</td><td>4155061214506542</td><td>JCB 16 digit</td><td>362</td><td>GB93YATI197164292...</td><td>2020-05-19</td><td>10:47:09</td><td>212.26.253.42</td><td>1815:dc0e:c557:96...</td><td>67662-182</td><td>010325500</td><td>6273720</td></tr>\n",
       "<tr><td>012579</td><td>01/27</td><td>30554213514227</td><td>Maestro</td><td>9847</td><td>GB54PQLN799705859...</td><td>2021-04-15</td><td>10:36:56</td><td>168.197.230.167</td><td>7f3b:4ada:4c62:3f...</td><td>61193-110</td><td>053479015</td><td>6977964</td></tr>\n",
       "<tr><td>012648</td><td>05/24</td><td>347386847428278</td><td>VISA 16 digit</td><td>823</td><td>GB90MYZL510193283...</td><td>2021-06-19</td><td>13:07:48</td><td>146.108.131.11</td><td>c52d:53d8:371a:34...</td><td>10059-723</td><td>012331534</td><td>6616715</td></tr>\n",
       "<tr><td>012675</td><td>04/29</td><td>4534805013764</td><td>Mastercard</td><td>384</td><td>GB11XMUH824876351...</td><td>2021-07-11</td><td>07:55:08</td><td>148.155.72.234</td><td>b290:d2b7:6a58:86...</td><td>79292884</td><td>035940339</td><td>649001</td></tr>\n",
       "<tr><td>012698</td><td>12/31</td><td>4450657280386776</td><td>American Express</td><td>247</td><td>GB79ECRO017868447...</td><td>2021-08-11</td><td>12:06:48</td><td>190.135.5.172</td><td>7cbc:4554:7f5d:65...</td><td>93609312</td><td>058320651</td><td>4523531</td></tr>\n",
       "<tr><td>012845</td><td>01/32</td><td>6589457551152257</td><td>Diners Club / Car...</td><td>081</td><td>GB54ZAJA800810561...</td><td>2023-02-27</td><td>09:34:58</td><td>117.107.7.243</td><td>d3f6:6a7f:32a8:eb...</td><td>65177115</td><td>032169692</td><td>8443760</td></tr>\n",
       "<tr><td>012948</td><td>12/28</td><td>373871288580551</td><td>Diners Club / Car...</td><td>619</td><td>GB43SXJF889505944...</td><td>2020-02-20</td><td>03:10:01</td><td>210.130.27.213</td><td>9ae4:b03a:1a1f:c6...</td><td>39334-766</td><td>032169692</td><td>1235431</td></tr>\n",
       "<tr><td>012964</td><td>12/30</td><td>4852311914204</td><td>Mastercard</td><td>555</td><td>GB64DLQF090053954...</td><td>2022-10-04</td><td>06:40:47</td><td>129.93.60.161</td><td>5bfe:ad1b:a4f1:f2...</td><td>41199-650</td><td>033338998</td><td>7811168</td></tr>\n",
       "<tr><td>012984</td><td>06/31</td><td>4513536757134128830</td><td>VISA 19 digit</td><td>834</td><td>GB32QSLY821583204...</td><td>2020-08-05</td><td>09:45:12</td><td>141.203.245.233</td><td>7528:d2f8:fa09:82...</td><td>84410-583</td><td>042900595</td><td>2093927</td></tr>\n",
       "<tr><td>012986</td><td>10/26</td><td>3585620838660639</td><td>Mastercard</td><td>440</td><td>GB79ZFSL741355562...</td><td>2020-05-06</td><td>23:22:03</td><td>221.251.216.243</td><td>5da7:4583:5800:96...</td><td>16961-730</td><td>019458805</td><td>3945329</td></tr>\n",
       "<tr><td>013257</td><td>05/23</td><td>6579633995016199</td><td>VISA 13 digit</td><td>9804</td><td>GB93NZLK218118563...</td><td>2022-11-28</td><td>02:09:43</td><td>189.189.141.229</td><td>7b91:3b21:d3f1:36...</td><td>83312054</td><td>027740385</td><td>6689138</td></tr>\n",
       "<tr><td>013265</td><td>12/31</td><td>3535506018736607</td><td>JCB 15 digit</td><td>702</td><td>GB97UUHZ239804882...</td><td>2020-10-27</td><td>18:17:07</td><td>24.152.218.181</td><td>77da:6ce5:522a:ac...</td><td>06479-166</td><td>049141690</td><td>1942388</td></tr>\n",
       "<tr><td>013274</td><td>01/24</td><td>3568580151701777</td><td>JCB 16 digit</td><td>257</td><td>GB80ISML116442671...</td><td>2021-12-20</td><td>14:44:09</td><td>42.253.7.153</td><td>cf6a:3335:55be:e0...</td><td>30462-427</td><td>104361784</td><td>2487770</td></tr>\n",
       "<tr><td>013457</td><td>06/28</td><td>4589839699652790803</td><td>Maestro</td><td>280</td><td>GB22HUUD094642820...</td><td>2021-10-26</td><td>23:04:27</td><td>207.179.196.45</td><td>9b03:e5f0:c72f:c7...</td><td>10506549</td><td>021006591</td><td>4312106</td></tr>\n",
       "<tr><td>013478</td><td>07/24</td><td>3560452545224585</td><td>VISA 16 digit</td><td>126</td><td>GB63LUHF437452702...</td><td>2020-05-10</td><td>02:33:28</td><td>105.127.245.188</td><td>dd79:3fca:9d38:98...</td><td>10354-560</td><td>019488257</td><td>670483</td></tr>\n",
       "</table>\n",
       "only showing top 20 rows\n"
      ],
      "text/plain": [
       "+------+---------------------+-------------------+--------------------+----------+-------------------------+----------+--------+---------------+--------------------+-----------+---------+----------+\n",
       "|    id|cartao_data_expiracao|      cartao_numero|     cartao_bandeira|cartao_cvc|codigo_transacao_bancaria|      data|    hora|           ipv4|                ipv6|cep_entrega| cd_livro|cd_cliente|\n",
       "+------+---------------------+-------------------+--------------------+----------+-------------------------+----------+--------+---------------+--------------------+-----------+---------+----------+\n",
       "|012389|                11/25|   5500804500517692|            Discover|       959|     GB98MPIH622108593...|2021-07-24|03:21:28|  62.145.31.164|b23d:58a2:9eff:36...|  36629-219|030334762|   3339828|\n",
       "|012476|                01/31|      4609489235873|       VISA 16 digit|      6979|     GB79GAVL233010819...|2021-08-23|11:15:52| 185.150.224.52|1e2c:f641:49d1:5a...|  17012-747|013721981|   7624624|\n",
       "|012478|                07/23|     30072722359174|    American Express|       689|     GB51SZOU538484531...|2020-01-27|17:08:10|  40.179.153.24|9bcd:ee0c:af68:33...|   25921298|019458805|   8703114|\n",
       "|012534|                09/29|      4561935154572|       VISA 16 digit|       353|     GB05UNEX021466511...|2021-07-15|07:39:25|   86.20.51.194|be57:8f94:132:1cb...|   73799370|014347542|   7799936|\n",
       "|012549|                01/31|   3541220668415122|        JCB 15 digit|       967|     GB97RCCC581942620...|2020-07-22|23:56:14|  55.189.220.65|a1fd:9dd:115f:9d5...|  50727-454|020215846|   6703678|\n",
       "|012574|                06/24|   4155061214506542|        JCB 16 digit|       362|     GB93YATI197164292...|2020-05-19|10:47:09|  212.26.253.42|1815:dc0e:c557:96...|  67662-182|010325500|   6273720|\n",
       "|012579|                01/27|     30554213514227|             Maestro|      9847|     GB54PQLN799705859...|2021-04-15|10:36:56|168.197.230.167|7f3b:4ada:4c62:3f...|  61193-110|053479015|   6977964|\n",
       "|012648|                05/24|    347386847428278|       VISA 16 digit|       823|     GB90MYZL510193283...|2021-06-19|13:07:48| 146.108.131.11|c52d:53d8:371a:34...|  10059-723|012331534|   6616715|\n",
       "|012675|                04/29|      4534805013764|          Mastercard|       384|     GB11XMUH824876351...|2021-07-11|07:55:08| 148.155.72.234|b290:d2b7:6a58:86...|   79292884|035940339|    649001|\n",
       "|012698|                12/31|   4450657280386776|    American Express|       247|     GB79ECRO017868447...|2021-08-11|12:06:48|  190.135.5.172|7cbc:4554:7f5d:65...|   93609312|058320651|   4523531|\n",
       "|012845|                01/32|   6589457551152257|Diners Club / Car...|       081|     GB54ZAJA800810561...|2023-02-27|09:34:58|  117.107.7.243|d3f6:6a7f:32a8:eb...|   65177115|032169692|   8443760|\n",
       "|012948|                12/28|    373871288580551|Diners Club / Car...|       619|     GB43SXJF889505944...|2020-02-20|03:10:01| 210.130.27.213|9ae4:b03a:1a1f:c6...|  39334-766|032169692|   1235431|\n",
       "|012964|                12/30|      4852311914204|          Mastercard|       555|     GB64DLQF090053954...|2022-10-04|06:40:47|  129.93.60.161|5bfe:ad1b:a4f1:f2...|  41199-650|033338998|   7811168|\n",
       "|012984|                06/31|4513536757134128830|       VISA 19 digit|       834|     GB32QSLY821583204...|2020-08-05|09:45:12|141.203.245.233|7528:d2f8:fa09:82...|  84410-583|042900595|   2093927|\n",
       "|012986|                10/26|   3585620838660639|          Mastercard|       440|     GB79ZFSL741355562...|2020-05-06|23:22:03|221.251.216.243|5da7:4583:5800:96...|  16961-730|019458805|   3945329|\n",
       "|013257|                05/23|   6579633995016199|       VISA 13 digit|      9804|     GB93NZLK218118563...|2022-11-28|02:09:43|189.189.141.229|7b91:3b21:d3f1:36...|   83312054|027740385|   6689138|\n",
       "|013265|                12/31|   3535506018736607|        JCB 15 digit|       702|     GB97UUHZ239804882...|2020-10-27|18:17:07| 24.152.218.181|77da:6ce5:522a:ac...|  06479-166|049141690|   1942388|\n",
       "|013274|                01/24|   3568580151701777|        JCB 16 digit|       257|     GB80ISML116442671...|2021-12-20|14:44:09|   42.253.7.153|cf6a:3335:55be:e0...|  30462-427|104361784|   2487770|\n",
       "|013457|                06/28|4589839699652790803|             Maestro|       280|     GB22HUUD094642820...|2021-10-26|23:04:27| 207.179.196.45|9b03:e5f0:c72f:c7...|   10506549|021006591|   4312106|\n",
       "|013478|                07/24|   3560452545224585|       VISA 16 digit|       126|     GB63LUHF437452702...|2020-05-10|02:33:28|105.127.245.188|dd79:3fca:9d38:98...|  10354-560|019488257|    670483|\n",
       "+------+---------------------+-------------------+--------------------+----------+-------------------------+----------+--------+---------------+--------------------+-----------+---------+----------+\n",
       "only showing top 20 rows"
      ]
     },
     "execution_count": 22,
     "metadata": {},
     "output_type": "execute_result"
    }
   ],
   "source": [
    "# Fazendo semi join entre os datasets compras e livros \n",
    "# semlhante ao inner, só que nesse caso é retirado as duplicatas, se houver\n",
    "compras.join(livros, [compras.cd_livro == livros.id], 'semi')"
   ]
  }
 ],
 "metadata": {
  "kernelspec": {
   "display_name": "Python 3 (ipykernel)",
   "language": "python",
   "name": "python3"
  },
  "language_info": {
   "codemirror_mode": {
    "name": "ipython",
    "version": 3
   },
   "file_extension": ".py",
   "mimetype": "text/x-python",
   "name": "python",
   "nbconvert_exporter": "python",
   "pygments_lexer": "ipython3",
   "version": "3.11.5"
  }
 },
 "nbformat": 4,
 "nbformat_minor": 5
}
