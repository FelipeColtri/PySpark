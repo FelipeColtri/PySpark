{
 "cells": [
  {
   "cell_type": "code",
   "execution_count": 12,
   "id": "9d35a332-e77d-452b-b498-96ceb6a55c30",
   "metadata": {},
   "outputs": [],
   "source": [
    "# Importando as bibliotecas utilizadas\n",
    "from pyspark.sql import SparkSession\n",
    "import pyspark.sql.functions as F\n",
    "import pandas as pd\n",
    "import pyspark.pandas as ps"
   ]
  },
  {
   "cell_type": "code",
   "execution_count": 3,
   "id": "625fa924-96c4-4e56-93e6-f01b745c9375",
   "metadata": {},
   "outputs": [],
   "source": [
    "# Criando a sessão, nomeando e configurando para mostrar tabela do tipo pandas \n",
    "spark = (\n",
    "    SparkSession.builder\n",
    "    .appName('PySpark - Pandas para Spark')\n",
    "    .config('spark.sql.repl.eagerEval.enabled', True)\n",
    "    .getOrCreate()\n",
    ")"
   ]
  },
  {
   "cell_type": "code",
   "execution_count": 6,
   "id": "df489d01-0f7b-4d27-9f7d-cb7e4919555d",
   "metadata": {},
   "outputs": [
    {
     "data": {
      "text/plain": [
       "pyspark.sql.dataframe.DataFrame"
      ]
     },
     "execution_count": 6,
     "metadata": {},
     "output_type": "execute_result"
    }
   ],
   "source": [
    "# Carregando um arquivo PARQUET para dataframe\n",
    "df_spark = spark.read.parquet('./DATASETS/LOGINS.parquet')\n",
    "type(df_spark)"
   ]
  },
  {
   "cell_type": "code",
   "execution_count": 7,
   "id": "e7dc4c33-ee93-4237-80dc-8b2bd1ff8d24",
   "metadata": {},
   "outputs": [
    {
     "data": {
      "text/plain": [
       "pandas.core.frame.DataFrame"
      ]
     },
     "execution_count": 7,
     "metadata": {},
     "output_type": "execute_result"
    }
   ],
   "source": [
    "# De spark para pandas \n",
    "df_pandas = df_spark.toPandas()\n",
    "type(df_pandas)"
   ]
  },
  {
   "cell_type": "code",
   "execution_count": 19,
   "id": "fd5159bc-f982-42d2-b99a-7f36f1a6474a",
   "metadata": {},
   "outputs": [
    {
     "data": {
      "text/html": [
       "<div>\n",
       "<style scoped>\n",
       "    .dataframe tbody tr th:only-of-type {\n",
       "        vertical-align: middle;\n",
       "    }\n",
       "\n",
       "    .dataframe tbody tr th {\n",
       "        vertical-align: top;\n",
       "    }\n",
       "\n",
       "    .dataframe thead th {\n",
       "        text-align: right;\n",
       "    }\n",
       "</style>\n",
       "<table border=\"1\" class=\"dataframe\">\n",
       "  <thead>\n",
       "    <tr style=\"text-align: right;\">\n",
       "      <th></th>\n",
       "      <th>cpf</th>\n",
       "      <th>email</th>\n",
       "      <th>senha</th>\n",
       "      <th>data_de_nascimento</th>\n",
       "      <th>estado</th>\n",
       "      <th>data_cadastro</th>\n",
       "      <th>ipv4</th>\n",
       "      <th>cor_favorita</th>\n",
       "      <th>profissao</th>\n",
       "      <th>telefone</th>\n",
       "    </tr>\n",
       "  </thead>\n",
       "  <tbody>\n",
       "    <tr>\n",
       "      <th>0</th>\n",
       "      <td>981.507.362-12</td>\n",
       "      <td>pedro-lucas53@gmail.com</td>\n",
       "      <td>+7^7E%xFBc</td>\n",
       "      <td>2006-12-18</td>\n",
       "      <td>RR</td>\n",
       "      <td>2023-02-26</td>\n",
       "      <td>99.107.250.210</td>\n",
       "      <td>Roxo</td>\n",
       "      <td>Jogador De Golfe</td>\n",
       "      <td>31 7785-4046</td>\n",
       "    </tr>\n",
       "    <tr>\n",
       "      <th>1</th>\n",
       "      <td>493.705.168-75</td>\n",
       "      <td>rezendeisaac@hotmail.com</td>\n",
       "      <td>_O_2GRnGOe</td>\n",
       "      <td>1992-06-17</td>\n",
       "      <td>GO</td>\n",
       "      <td>2023-02-16</td>\n",
       "      <td>197.11.26.213</td>\n",
       "      <td>Ciano</td>\n",
       "      <td>Atleta De Arremesso De Peso</td>\n",
       "      <td>(031) 0803-6753</td>\n",
       "    </tr>\n",
       "    <tr>\n",
       "      <th>2</th>\n",
       "      <td>398.471.625-73</td>\n",
       "      <td>felipepires@uol.com.br</td>\n",
       "      <td>*Aw5EOAvy9</td>\n",
       "      <td>1921-11-11</td>\n",
       "      <td>MG</td>\n",
       "      <td>2023-01-02</td>\n",
       "      <td>181.90.63.58</td>\n",
       "      <td>Azul</td>\n",
       "      <td>Papiloscopista</td>\n",
       "      <td>11 9674-0553</td>\n",
       "    </tr>\n",
       "    <tr>\n",
       "      <th>3</th>\n",
       "      <td>092.618.354-06</td>\n",
       "      <td>stellamoraes@bol.com.br</td>\n",
       "      <td>mw0AWYAs#s</td>\n",
       "      <td>2021-06-01</td>\n",
       "      <td>AC</td>\n",
       "      <td>2023-01-08</td>\n",
       "      <td>26.121.127.94</td>\n",
       "      <td>Marrom</td>\n",
       "      <td>Aeromoça</td>\n",
       "      <td>+55 (071) 3033 9177</td>\n",
       "    </tr>\n",
       "    <tr>\n",
       "      <th>4</th>\n",
       "      <td>509.427.136-99</td>\n",
       "      <td>wcarvalho@ig.com.br</td>\n",
       "      <td>pGD%!2Pq5X</td>\n",
       "      <td>1969-10-28</td>\n",
       "      <td>AP</td>\n",
       "      <td>2023-02-14</td>\n",
       "      <td>76.184.52.163</td>\n",
       "      <td>Laranja</td>\n",
       "      <td>Fonoaudiólogo</td>\n",
       "      <td>+55 (071) 6272 2468</td>\n",
       "    </tr>\n",
       "    <tr>\n",
       "      <th>...</th>\n",
       "      <td>...</td>\n",
       "      <td>...</td>\n",
       "      <td>...</td>\n",
       "      <td>...</td>\n",
       "      <td>...</td>\n",
       "      <td>...</td>\n",
       "      <td>...</td>\n",
       "      <td>...</td>\n",
       "      <td>...</td>\n",
       "      <td>...</td>\n",
       "    </tr>\n",
       "    <tr>\n",
       "      <th>995</th>\n",
       "      <td>073.128.546-80</td>\n",
       "      <td>nicolas11@hotmail.com</td>\n",
       "      <td>hp%24OQsr(</td>\n",
       "      <td>1913-04-05</td>\n",
       "      <td>AL</td>\n",
       "      <td>2023-02-12</td>\n",
       "      <td>132.202.220.34</td>\n",
       "      <td>Verde Claro</td>\n",
       "      <td>Ortodontista</td>\n",
       "      <td>(031) 3563 5055</td>\n",
       "    </tr>\n",
       "    <tr>\n",
       "      <th>996</th>\n",
       "      <td>841.950.263-42</td>\n",
       "      <td>francisco14@bol.com.br</td>\n",
       "      <td>6^02PPwbKM</td>\n",
       "      <td>1928-07-01</td>\n",
       "      <td>ES</td>\n",
       "      <td>2023-01-02</td>\n",
       "      <td>71.49.101.55</td>\n",
       "      <td>Azul</td>\n",
       "      <td>Tecnólogo Em Esporte E Lazer</td>\n",
       "      <td>+55 (061) 0639 3574</td>\n",
       "    </tr>\n",
       "    <tr>\n",
       "      <th>997</th>\n",
       "      <td>175.682.043-08</td>\n",
       "      <td>barbara51@hotmail.com</td>\n",
       "      <td>E5B6wYv8!i</td>\n",
       "      <td>1945-08-21</td>\n",
       "      <td>AM</td>\n",
       "      <td>2023-01-09</td>\n",
       "      <td>141.223.84.73</td>\n",
       "      <td>Violeta</td>\n",
       "      <td>Musicoterapeuta</td>\n",
       "      <td>(051) 6399-9536</td>\n",
       "    </tr>\n",
       "    <tr>\n",
       "      <th>998</th>\n",
       "      <td>570.263.819-03</td>\n",
       "      <td>imendes@yahoo.com.br</td>\n",
       "      <td>^17tb#Fym_</td>\n",
       "      <td>1929-05-18</td>\n",
       "      <td>AL</td>\n",
       "      <td>2023-01-16</td>\n",
       "      <td>55.128.117.22</td>\n",
       "      <td>Rosa</td>\n",
       "      <td>Pastilheiro</td>\n",
       "      <td>81 0564-6409</td>\n",
       "    </tr>\n",
       "    <tr>\n",
       "      <th>999</th>\n",
       "      <td>651.278.304-26</td>\n",
       "      <td>erick64@uol.com.br</td>\n",
       "      <td>VM9B65Ebc+</td>\n",
       "      <td>1973-01-17</td>\n",
       "      <td>BA</td>\n",
       "      <td>2023-02-09</td>\n",
       "      <td>62.164.220.163</td>\n",
       "      <td>Azul Escuro</td>\n",
       "      <td>Implantodontista</td>\n",
       "      <td>(011) 4344 1564</td>\n",
       "    </tr>\n",
       "  </tbody>\n",
       "</table>\n",
       "<p>1000 rows × 10 columns</p>\n",
       "</div>"
      ],
      "text/plain": [
       "                cpf                     email       senha data_de_nascimento  \\\n",
       "0    981.507.362-12   pedro-lucas53@gmail.com  +7^7E%xFBc         2006-12-18   \n",
       "1    493.705.168-75  rezendeisaac@hotmail.com  _O_2GRnGOe         1992-06-17   \n",
       "2    398.471.625-73    felipepires@uol.com.br  *Aw5EOAvy9         1921-11-11   \n",
       "3    092.618.354-06   stellamoraes@bol.com.br  mw0AWYAs#s         2021-06-01   \n",
       "4    509.427.136-99       wcarvalho@ig.com.br  pGD%!2Pq5X         1969-10-28   \n",
       "..              ...                       ...         ...                ...   \n",
       "995  073.128.546-80     nicolas11@hotmail.com  hp%24OQsr(         1913-04-05   \n",
       "996  841.950.263-42    francisco14@bol.com.br  6^02PPwbKM         1928-07-01   \n",
       "997  175.682.043-08     barbara51@hotmail.com  E5B6wYv8!i         1945-08-21   \n",
       "998  570.263.819-03      imendes@yahoo.com.br  ^17tb#Fym_         1929-05-18   \n",
       "999  651.278.304-26        erick64@uol.com.br  VM9B65Ebc+         1973-01-17   \n",
       "\n",
       "    estado data_cadastro            ipv4 cor_favorita  \\\n",
       "0       RR    2023-02-26  99.107.250.210         Roxo   \n",
       "1       GO    2023-02-16   197.11.26.213        Ciano   \n",
       "2       MG    2023-01-02    181.90.63.58         Azul   \n",
       "3       AC    2023-01-08   26.121.127.94       Marrom   \n",
       "4       AP    2023-02-14   76.184.52.163      Laranja   \n",
       "..     ...           ...             ...          ...   \n",
       "995     AL    2023-02-12  132.202.220.34  Verde Claro   \n",
       "996     ES    2023-01-02    71.49.101.55         Azul   \n",
       "997     AM    2023-01-09   141.223.84.73      Violeta   \n",
       "998     AL    2023-01-16   55.128.117.22         Rosa   \n",
       "999     BA    2023-02-09  62.164.220.163  Azul Escuro   \n",
       "\n",
       "                        profissao             telefone  \n",
       "0                Jogador De Golfe         31 7785-4046  \n",
       "1     Atleta De Arremesso De Peso      (031) 0803-6753  \n",
       "2                  Papiloscopista         11 9674-0553  \n",
       "3                        Aeromoça  +55 (071) 3033 9177  \n",
       "4                   Fonoaudiólogo  +55 (071) 6272 2468  \n",
       "..                            ...                  ...  \n",
       "995                  Ortodontista      (031) 3563 5055  \n",
       "996  Tecnólogo Em Esporte E Lazer  +55 (061) 0639 3574  \n",
       "997               Musicoterapeuta      (051) 6399-9536  \n",
       "998                   Pastilheiro         81 0564-6409  \n",
       "999              Implantodontista      (011) 4344 1564  \n",
       "\n",
       "[1000 rows x 10 columns]"
      ]
     },
     "execution_count": 19,
     "metadata": {},
     "output_type": "execute_result"
    }
   ],
   "source": [
    "# Usando collect, para casos que não consiga fazer a conversão devido ao tamanho \n",
    "df_pandas = pd.DataFrame(df_spark.collect(), columns=df_spark.columns)\n",
    "df_pandas"
   ]
  },
  {
   "cell_type": "code",
   "execution_count": 15,
   "id": "81ab3dde-5ffc-4882-b6a7-22f330dd965e",
   "metadata": {},
   "outputs": [
    {
     "data": {
      "text/plain": [
       "pyspark.pandas.frame.DataFrame"
      ]
     },
     "execution_count": 15,
     "metadata": {},
     "output_type": "execute_result"
    }
   ],
   "source": [
    "# Criando um pandas datafram pelo pyspark.pandas \n",
    "df_pyspark_pandas = ps.DataFrame(df_pandas)\n",
    "type(df_pyspark_pandas)"
   ]
  },
  {
   "cell_type": "code",
   "execution_count": 24,
   "id": "193df4ab-1c82-4018-8e71-bb35b1533428",
   "metadata": {},
   "outputs": [
    {
     "name": "stderr",
     "output_type": "stream",
     "text": [
      "/home/menta/anaconda3/lib/python3.11/site-packages/pyspark/pandas/utils.py:1016: PandasAPIOnSparkAdviceWarning: If `index_col` is not specified for `to_spark`, the existing index is lost when converting to Spark DataFrame.\n",
      "  warnings.warn(message, PandasAPIOnSparkAdviceWarning)\n"
     ]
    },
    {
     "data": {
      "text/plain": [
       "pyspark.sql.dataframe.DataFrame"
      ]
     },
     "execution_count": 24,
     "metadata": {},
     "output_type": "execute_result"
    }
   ],
   "source": [
    "# Convertendo um pandas em pyspark diretamente (DEPRECIADO)\n",
    "df_spark = ps.DataFrame(df_pyspark_pandas).to_spark()\n",
    "type(df_spark)"
   ]
  },
  {
   "cell_type": "code",
   "execution_count": 25,
   "id": "231b85d6-f7b9-41d5-b414-48833dbf594c",
   "metadata": {},
   "outputs": [
    {
     "data": {
      "text/html": [
       "<table border='1'>\n",
       "<tr><th>cpf</th><th>email</th><th>senha</th><th>data_de_nascimento</th><th>estado</th><th>data_cadastro</th><th>ipv4</th><th>cor_favorita</th><th>profissao</th><th>telefone</th></tr>\n",
       "<tr><td>981.507.362-12</td><td>pedro-lucas53@gma...</td><td>+7^7E%xFBc</td><td>2006-12-18</td><td>RR</td><td>2023-02-26</td><td>99.107.250.210</td><td>Roxo</td><td>Jogador De Golfe</td><td>31 7785-4046</td></tr>\n",
       "<tr><td>493.705.168-75</td><td>rezendeisaac@hotm...</td><td>_O_2GRnGOe</td><td>1992-06-17</td><td>GO</td><td>2023-02-16</td><td>197.11.26.213</td><td>Ciano</td><td>Atleta De Arremes...</td><td>(031) 0803-6753</td></tr>\n",
       "<tr><td>398.471.625-73</td><td>felipepires@uol.c...</td><td>*Aw5EOAvy9</td><td>1921-11-11</td><td>MG</td><td>2023-01-02</td><td>181.90.63.58</td><td>Azul</td><td>Papiloscopista</td><td>11 9674-0553</td></tr>\n",
       "<tr><td>092.618.354-06</td><td>stellamoraes@bol....</td><td>mw0AWYAs#s</td><td>2021-06-01</td><td>AC</td><td>2023-01-08</td><td>26.121.127.94</td><td>Marrom</td><td>Aeromo&ccedil;a</td><td>+55 (071) 3033 9177</td></tr>\n",
       "<tr><td>509.427.136-99</td><td>wcarvalho@ig.com.br</td><td>pGD%!2Pq5X</td><td>1969-10-28</td><td>AP</td><td>2023-02-14</td><td>76.184.52.163</td><td>Laranja</td><td>Fonoaudi&oacute;logo</td><td>+55 (071) 6272 2468</td></tr>\n",
       "<tr><td>218.795.460-94</td><td>da-conceicaodavi-...</td><td>uhBbFxPA&amp;9</td><td>1986-05-19</td><td>MG</td><td>2023-03-07</td><td>192.93.0.24</td><td>Rosa</td><td>Taxista</td><td>+55 84 0652 9691</td></tr>\n",
       "<tr><td>715.836.940-48</td><td>efreitas@bol.com.br</td><td>s#q9VZt&amp;xl</td><td>2018-04-20</td><td>MG</td><td>2023-01-13</td><td>76.251.188.148</td><td>Branco</td><td>Produtor De Audio...</td><td>+55 (084) 1363 0052</td></tr>\n",
       "<tr><td>475.698.032-56</td><td>wnunes@bol.com.br</td><td>_8az1W%n7g</td><td>1996-05-12</td><td>SE</td><td>2023-02-04</td><td>139.196.176.154</td><td>Azul</td><td>Cadeirinha</td><td>(071) 1640-3388</td></tr>\n",
       "<tr><td>217.639.540-99</td><td>jribeiro@bol.com.br</td><td>MEf1X7fj_0</td><td>2021-10-05</td><td>PA</td><td>2023-03-02</td><td>71.22.224.5</td><td>Marrom</td><td>Ge&oacute;logo</td><td>21 1432 4092</td></tr>\n",
       "<tr><td>261.938.750-77</td><td>murilo05@gmail.com</td><td>Te&amp;gO7GkKs</td><td>1917-01-05</td><td>MT</td><td>2023-02-21</td><td>136.54.123.165</td><td>Marrom</td><td>T&eacute;cnico De Som</td><td>+55 (084) 5878-3346</td></tr>\n",
       "<tr><td>520.831.796-68</td><td>joaquim57@ig.com.br</td><td>&amp;2E1NY+ARc</td><td>1912-05-25</td><td>BA</td><td>2023-01-25</td><td>78.196.255.126</td><td>Rosa</td><td>Esteticista</td><td>41 7914-3753</td></tr>\n",
       "<tr><td>413.087.526-44</td><td>alexiada-rocha@ig...</td><td>@f@!Z!2c*2</td><td>1920-05-26</td><td>MS</td><td>2023-02-18</td><td>182.61.65.201</td><td>Laranja</td><td>Microfonista</td><td>(021) 3739-2944</td></tr>\n",
       "<tr><td>509.287.143-14</td><td>pmendes@gmail.com</td><td>M+^XDBfe(2</td><td>1938-03-11</td><td>RR</td><td>2023-01-19</td><td>61.234.208.17</td><td>Verde Claro</td><td>Fiscal</td><td>+55 (084) 5940-1932</td></tr>\n",
       "<tr><td>563.170.492-70</td><td>renan46@bol.com.br</td><td>Rp%2pVqfe$</td><td>1922-09-01</td><td>PA</td><td>2023-02-01</td><td>122.203.83.177</td><td>Verde Escuro</td><td>Contabilista</td><td>+55 41 6248 5773</td></tr>\n",
       "<tr><td>098.712.346-78</td><td>manuelada-rosa@ho...</td><td>#hEIEOztQ3</td><td>2013-01-10</td><td>SE</td><td>2023-01-07</td><td>175.18.73.211</td><td>Violeta</td><td>Seguidor De Compras</td><td>51 0278 0564</td></tr>\n",
       "<tr><td>345.709.261-34</td><td>usales@ig.com.br</td><td>b_8xaY$ozJ</td><td>1992-10-16</td><td>AM</td><td>2023-01-05</td><td>97.93.29.75</td><td>Rosa</td><td>Almirante</td><td>(084) 8993-4521</td></tr>\n",
       "<tr><td>318.254.906-51</td><td>pereiranicolas@ho...</td><td>YA9I85Wb+2</td><td>1945-11-18</td><td>MA</td><td>2023-01-24</td><td>182.195.33.137</td><td>Amarelo</td><td>Consultor De Moda</td><td>(084) 4591 3795</td></tr>\n",
       "<tr><td>610.287.453-62</td><td>cardosolivia@ig.c...</td><td>yXkDW7Ebh*</td><td>1915-11-15</td><td>GO</td><td>2023-01-22</td><td>195.194.63.184</td><td>Laranja</td><td>Barbeiro</td><td>+55 61 8967-9563</td></tr>\n",
       "<tr><td>615.790.842-49</td><td>brenda39@ig.com.br</td><td>XS$84Hpsnw</td><td>1964-02-01</td><td>RJ</td><td>2023-02-16</td><td>21.252.226.29</td><td>Branco</td><td>Promotor De Vendas</td><td>+55 (021) 4751 2004</td></tr>\n",
       "<tr><td>624.095.138-24</td><td>luizapeixoto@gmai...</td><td>TbKy82Kda$</td><td>1959-02-01</td><td>DF</td><td>2023-02-25</td><td>105.107.23.13</td><td>Ciano</td><td>Implantodontista</td><td>84 1293 1906</td></tr>\n",
       "</table>\n",
       "only showing top 20 rows\n"
      ],
      "text/plain": [
       "+--------------+--------------------+----------+------------------+------+-------------+---------------+------------+--------------------+-------------------+\n",
       "|           cpf|               email|     senha|data_de_nascimento|estado|data_cadastro|           ipv4|cor_favorita|           profissao|           telefone|\n",
       "+--------------+--------------------+----------+------------------+------+-------------+---------------+------------+--------------------+-------------------+\n",
       "|981.507.362-12|pedro-lucas53@gma...|+7^7E%xFBc|        2006-12-18|    RR|   2023-02-26| 99.107.250.210|        Roxo|    Jogador De Golfe|       31 7785-4046|\n",
       "|493.705.168-75|rezendeisaac@hotm...|_O_2GRnGOe|        1992-06-17|    GO|   2023-02-16|  197.11.26.213|       Ciano|Atleta De Arremes...|    (031) 0803-6753|\n",
       "|398.471.625-73|felipepires@uol.c...|*Aw5EOAvy9|        1921-11-11|    MG|   2023-01-02|   181.90.63.58|        Azul|      Papiloscopista|       11 9674-0553|\n",
       "|092.618.354-06|stellamoraes@bol....|mw0AWYAs#s|        2021-06-01|    AC|   2023-01-08|  26.121.127.94|      Marrom|            Aeromoça|+55 (071) 3033 9177|\n",
       "|509.427.136-99| wcarvalho@ig.com.br|pGD%!2Pq5X|        1969-10-28|    AP|   2023-02-14|  76.184.52.163|     Laranja|       Fonoaudiólogo|+55 (071) 6272 2468|\n",
       "|218.795.460-94|da-conceicaodavi-...|uhBbFxPA&9|        1986-05-19|    MG|   2023-03-07|    192.93.0.24|        Rosa|             Taxista|   +55 84 0652 9691|\n",
       "|715.836.940-48| efreitas@bol.com.br|s#q9VZt&xl|        2018-04-20|    MG|   2023-01-13| 76.251.188.148|      Branco|Produtor De Audio...|+55 (084) 1363 0052|\n",
       "|475.698.032-56|   wnunes@bol.com.br|_8az1W%n7g|        1996-05-12|    SE|   2023-02-04|139.196.176.154|        Azul|          Cadeirinha|    (071) 1640-3388|\n",
       "|217.639.540-99| jribeiro@bol.com.br|MEf1X7fj_0|        2021-10-05|    PA|   2023-03-02|    71.22.224.5|      Marrom|             Geólogo|       21 1432 4092|\n",
       "|261.938.750-77|  murilo05@gmail.com|Te&gO7GkKs|        1917-01-05|    MT|   2023-02-21| 136.54.123.165|      Marrom|      Técnico De Som|+55 (084) 5878-3346|\n",
       "|520.831.796-68| joaquim57@ig.com.br|&2E1NY+ARc|        1912-05-25|    BA|   2023-01-25| 78.196.255.126|        Rosa|         Esteticista|       41 7914-3753|\n",
       "|413.087.526-44|alexiada-rocha@ig...|@f@!Z!2c*2|        1920-05-26|    MS|   2023-02-18|  182.61.65.201|     Laranja|        Microfonista|    (021) 3739-2944|\n",
       "|509.287.143-14|   pmendes@gmail.com|M+^XDBfe(2|        1938-03-11|    RR|   2023-01-19|  61.234.208.17| Verde Claro|              Fiscal|+55 (084) 5940-1932|\n",
       "|563.170.492-70|  renan46@bol.com.br|Rp%2pVqfe$|        1922-09-01|    PA|   2023-02-01| 122.203.83.177|Verde Escuro|        Contabilista|   +55 41 6248 5773|\n",
       "|098.712.346-78|manuelada-rosa@ho...|#hEIEOztQ3|        2013-01-10|    SE|   2023-01-07|  175.18.73.211|     Violeta| Seguidor De Compras|       51 0278 0564|\n",
       "|345.709.261-34|    usales@ig.com.br|b_8xaY$ozJ|        1992-10-16|    AM|   2023-01-05|    97.93.29.75|        Rosa|           Almirante|    (084) 8993-4521|\n",
       "|318.254.906-51|pereiranicolas@ho...|YA9I85Wb+2|        1945-11-18|    MA|   2023-01-24| 182.195.33.137|     Amarelo|   Consultor De Moda|    (084) 4591 3795|\n",
       "|610.287.453-62|cardosolivia@ig.c...|yXkDW7Ebh*|        1915-11-15|    GO|   2023-01-22| 195.194.63.184|     Laranja|            Barbeiro|   +55 61 8967-9563|\n",
       "|615.790.842-49|  brenda39@ig.com.br|XS$84Hpsnw|        1964-02-01|    RJ|   2023-02-16|  21.252.226.29|      Branco|  Promotor De Vendas|+55 (021) 4751 2004|\n",
       "|624.095.138-24|luizapeixoto@gmai...|TbKy82Kda$|        1959-02-01|    DF|   2023-02-25|  105.107.23.13|       Ciano|    Implantodontista|       84 1293 1906|\n",
       "+--------------+--------------------+----------+------------------+------+-------------+---------------+------------+--------------------+-------------------+\n",
       "only showing top 20 rows"
      ]
     },
     "execution_count": 25,
     "metadata": {},
     "output_type": "execute_result"
    }
   ],
   "source": [
    "df_spark"
   ]
  }
 ],
 "metadata": {
  "kernelspec": {
   "display_name": "Python 3 (ipykernel)",
   "language": "python",
   "name": "python3"
  },
  "language_info": {
   "codemirror_mode": {
    "name": "ipython",
    "version": 3
   },
   "file_extension": ".py",
   "mimetype": "text/x-python",
   "name": "python",
   "nbconvert_exporter": "python",
   "pygments_lexer": "ipython3",
   "version": "3.11.5"
  }
 },
 "nbformat": 4,
 "nbformat_minor": 5
}
