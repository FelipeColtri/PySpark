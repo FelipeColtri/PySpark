{
 "cells": [
  {
   "cell_type": "code",
   "execution_count": 1,
   "id": "9d35a332-e77d-452b-b498-96ceb6a55c30",
   "metadata": {},
   "outputs": [],
   "source": [
    "# Importando as bibliotecas utilizadas\n",
    "from pyspark.sql import SparkSession\n",
    "import pyspark.sql.functions as F"
   ]
  },
  {
   "cell_type": "code",
   "execution_count": 7,
   "id": "625fa924-96c4-4e56-93e6-f01b745c9375",
   "metadata": {},
   "outputs": [],
   "source": [
    "# Criando a sessão, nomeando e configurando para mostrar tabela do tipo pandas \n",
    "spark = (\n",
    "    SparkSession.builder\n",
    "    .appName('PySpark - Alias')\n",
    "    .config('spark.sql.repl.eagerEval.enabled', True)\n",
    "    .getOrCreate()\n",
    ")"
   ]
  },
  {
   "cell_type": "code",
   "execution_count": 5,
   "id": "df489d01-0f7b-4d27-9f7d-cb7e4919555d",
   "metadata": {},
   "outputs": [],
   "source": [
    "# Carregando um arquivo PARQUET para dataframe\n",
    "df = spark.read.parquet('./DATASETS/LOGINS.parquet')"
   ]
  },
  {
   "cell_type": "code",
   "execution_count": 9,
   "id": "e7dc4c33-ee93-4237-80dc-8b2bd1ff8d24",
   "metadata": {},
   "outputs": [
    {
     "data": {
      "text/html": [
       "<table border='1'>\n",
       "<tr><th>estado</th><th>qtd_estado</th></tr>\n",
       "<tr><td>SC</td><td>44</td></tr>\n",
       "<tr><td>RO</td><td>39</td></tr>\n",
       "<tr><td>PI</td><td>35</td></tr>\n",
       "<tr><td>AM</td><td>34</td></tr>\n",
       "<tr><td>RR</td><td>33</td></tr>\n",
       "<tr><td>GO</td><td>45</td></tr>\n",
       "<tr><td>TO</td><td>34</td></tr>\n",
       "<tr><td>MT</td><td>29</td></tr>\n",
       "<tr><td>SP</td><td>49</td></tr>\n",
       "<tr><td>ES</td><td>38</td></tr>\n",
       "<tr><td>PB</td><td>34</td></tr>\n",
       "<tr><td>RS</td><td>39</td></tr>\n",
       "<tr><td>MS</td><td>42</td></tr>\n",
       "<tr><td>AL</td><td>36</td></tr>\n",
       "<tr><td>MG</td><td>46</td></tr>\n",
       "<tr><td>PA</td><td>28</td></tr>\n",
       "<tr><td>BA</td><td>42</td></tr>\n",
       "<tr><td>SE</td><td>44</td></tr>\n",
       "<tr><td>PE</td><td>34</td></tr>\n",
       "<tr><td>CE</td><td>45</td></tr>\n",
       "</table>\n",
       "only showing top 20 rows\n"
      ],
      "text/plain": [
       "+------+----------+\n",
       "|estado|qtd_estado|\n",
       "+------+----------+\n",
       "|    SC|        44|\n",
       "|    RO|        39|\n",
       "|    PI|        35|\n",
       "|    AM|        34|\n",
       "|    RR|        33|\n",
       "|    GO|        45|\n",
       "|    TO|        34|\n",
       "|    MT|        29|\n",
       "|    SP|        49|\n",
       "|    ES|        38|\n",
       "|    PB|        34|\n",
       "|    RS|        39|\n",
       "|    MS|        42|\n",
       "|    AL|        36|\n",
       "|    MG|        46|\n",
       "|    PA|        28|\n",
       "|    BA|        42|\n",
       "|    SE|        44|\n",
       "|    PE|        34|\n",
       "|    CE|        45|\n",
       "+------+----------+\n",
       "only showing top 20 rows"
      ]
     },
     "execution_count": 9,
     "metadata": {},
     "output_type": "execute_result"
    }
   ],
   "source": [
    "# Renomeando a coluna para identificação da consulta \n",
    "df.groupBy('estado').agg(F.count('*').alias('qtd_estado'))"
   ]
  },
  {
   "cell_type": "code",
   "execution_count": 19,
   "id": "fd5159bc-f982-42d2-b99a-7f36f1a6474a",
   "metadata": {},
   "outputs": [
    {
     "data": {
      "text/html": [
       "<table border='1'>\n",
       "<tr><th>cor_favorita</th><th>cor</th></tr>\n",
       "<tr><td>Roxo</td><td>Roxo</td></tr>\n",
       "<tr><td>Ciano</td><td>Ciano</td></tr>\n",
       "<tr><td>Azul</td><td>Azul</td></tr>\n",
       "<tr><td>Marrom</td><td>Marrom</td></tr>\n",
       "<tr><td>Laranja</td><td>Laranja</td></tr>\n",
       "<tr><td>Rosa</td><td>Rosa</td></tr>\n",
       "<tr><td>Branco</td><td>Branco</td></tr>\n",
       "<tr><td>Azul</td><td>Azul</td></tr>\n",
       "<tr><td>Marrom</td><td>Marrom</td></tr>\n",
       "<tr><td>Marrom</td><td>Marrom</td></tr>\n",
       "<tr><td>Rosa</td><td>Rosa</td></tr>\n",
       "<tr><td>Laranja</td><td>Laranja</td></tr>\n",
       "<tr><td>Verde Claro</td><td>Verde Claro</td></tr>\n",
       "<tr><td>Verde Escuro</td><td>Verde Escuro</td></tr>\n",
       "<tr><td>Violeta</td><td>Violeta</td></tr>\n",
       "<tr><td>Rosa</td><td>Rosa</td></tr>\n",
       "<tr><td>Amarelo</td><td>Amarelo</td></tr>\n",
       "<tr><td>Laranja</td><td>Laranja</td></tr>\n",
       "<tr><td>Branco</td><td>Branco</td></tr>\n",
       "<tr><td>Ciano</td><td>Ciano</td></tr>\n",
       "</table>\n",
       "only showing top 20 rows\n"
      ],
      "text/plain": [
       "+------------+------------+\n",
       "|cor_favorita|         cor|\n",
       "+------------+------------+\n",
       "|        Roxo|        Roxo|\n",
       "|       Ciano|       Ciano|\n",
       "|        Azul|        Azul|\n",
       "|      Marrom|      Marrom|\n",
       "|     Laranja|     Laranja|\n",
       "|        Rosa|        Rosa|\n",
       "|      Branco|      Branco|\n",
       "|        Azul|        Azul|\n",
       "|      Marrom|      Marrom|\n",
       "|      Marrom|      Marrom|\n",
       "|        Rosa|        Rosa|\n",
       "|     Laranja|     Laranja|\n",
       "| Verde Claro| Verde Claro|\n",
       "|Verde Escuro|Verde Escuro|\n",
       "|     Violeta|     Violeta|\n",
       "|        Rosa|        Rosa|\n",
       "|     Amarelo|     Amarelo|\n",
       "|     Laranja|     Laranja|\n",
       "|      Branco|      Branco|\n",
       "|       Ciano|       Ciano|\n",
       "+------------+------------+\n",
       "only showing top 20 rows"
      ]
     },
     "execution_count": 19,
     "metadata": {},
     "output_type": "execute_result"
    }
   ],
   "source": [
    "# É possível renomear datasets também \n",
    "cor = df.select('cor_favorita').alias('cor')\n",
    "cor.select('cor_favorita', cor.cor_favorita.alias('cor'))"
   ]
  }
 ],
 "metadata": {
  "kernelspec": {
   "display_name": "Python 3 (ipykernel)",
   "language": "python",
   "name": "python3"
  },
  "language_info": {
   "codemirror_mode": {
    "name": "ipython",
    "version": 3
   },
   "file_extension": ".py",
   "mimetype": "text/x-python",
   "name": "python",
   "nbconvert_exporter": "python",
   "pygments_lexer": "ipython3",
   "version": "3.11.5"
  }
 },
 "nbformat": 4,
 "nbformat_minor": 5
}
